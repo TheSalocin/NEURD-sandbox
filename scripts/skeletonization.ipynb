{
 "cells": [
  {
   "cell_type": "markdown",
   "metadata": {},
   "source": [
    "# Skeletonization\n",
    "\n",
    "This notebook aims to apply tools for segmentation and quality measure"
   ]
  },
  {
   "cell_type": "code",
   "execution_count": 2,
   "metadata": {},
   "outputs": [],
   "source": [
    "import numpy as np \n",
    "import kimimaro\n",
    "import matplotlib.pyplot as plt\n",
    "import h5py\n",
    "import neuroglancer\n",
    "from cloudvolume import CloudVolume\n",
    "import pandas as pd\n",
    "from io import StringIO\n",
    "#import funlib.evaluate\n",
    "import networkx as nx\n",
    "\n",
    "from glob import glob"
   ]
  },
  {
   "cell_type": "markdown",
   "metadata": {},
   "source": [
    "### Load results from ffn segmentation"
   ]
  },
  {
   "cell_type": "code",
   "execution_count": 39,
   "metadata": {},
   "outputs": [],
   "source": [
    "with np.load('data/fib25_results/fib25/training2/0/0/seg-0_0_0.npz') as data:\n",
    "    segmentation = data['segmentation']"
   ]
  },
  {
   "cell_type": "code",
   "execution_count": 40,
   "metadata": {},
   "outputs": [
    {
     "name": "stderr",
     "output_type": "stream",
     "text": [
      "Filling Holes: 100%|██████████| 3982/3982 [00:01<00:00, 3559.57it/s]\n",
      "Fixing Avocados: 100%|██████████| 3/3 [00:00<00:00, 10.99it/s]\n",
      "Avocado Pass:   0%|          | 0/20 [00:00<?, ?it/s]\n",
      "Skeletonizing Labels: 100%|██████████| 251/251 [00:30<00:00,  8.27it/s]\n"
     ]
    }
   ],
   "source": [
    "skels = kimimaro.skeletonize(\n",
    "  segmentation, \n",
    "  teasar_params={\n",
    "    \"scale\": 1.5, \n",
    "    \"const\": 300, # physical units\n",
    "    \"pdrf_scale\": 100000,\n",
    "    \"pdrf_exponent\": 4,\n",
    "    \"soma_acceptance_threshold\": 3500, # physical units\n",
    "    \"soma_detection_threshold\": 750, # physical units\n",
    "    \"soma_invalidation_const\": 300, # physical units\n",
    "    \"soma_invalidation_scale\": 2,\n",
    "    \"max_paths\": 300, # default None\n",
    "  },\n",
    "  # object_ids=[ ... ], # process only the specified labels\n",
    "  # extra_targets_before=[ (27,33,100), (44,45,46) ], # target points in voxels\n",
    "  # extra_targets_after=[ (27,33,100), (44,45,46) ], # target points in voxels\n",
    "  dust_threshold=1000, # skip connected components with fewer than this many voxels\n",
    "  anisotropy=(10,10,10), # default True\n",
    "  fix_branching=True, # default True\n",
    "  fix_borders=True, # default True\n",
    "  fill_holes=True, # default False\n",
    "  fix_avocados=True, # default False\n",
    "  progress=True, # default False, show progress bar\n",
    "  parallel=1, # <= 0 all cpu, 1 single process, 2+ multiprocess\n",
    "  parallel_chunk_size=100, # how many skeletons to process before updating progress bar\n",
    ")\n"
   ]
  },
  {
   "cell_type": "code",
   "execution_count": 41,
   "metadata": {},
   "outputs": [
    {
     "data": {
      "text/plain": [
       "cloudvolume.skeleton.Skeleton"
      ]
     },
     "execution_count": 41,
     "metadata": {},
     "output_type": "execute_result"
    }
   ],
   "source": [
    "type(skels[1])"
   ]
  },
  {
   "cell_type": "markdown",
   "metadata": {},
   "source": [
    "### Load ground truth segmentation"
   ]
  },
  {
   "cell_type": "code",
   "execution_count": 42,
   "metadata": {},
   "outputs": [],
   "source": [
    "with h5py.File('data/fib25_results/flyEM/groundtruth.h5', 'r') as f:\n",
    "    gt_seg = np.array(f['stack'])\n",
    "    transforms = np.array(f['transforms'])"
   ]
  },
  {
   "cell_type": "code",
   "execution_count": 43,
   "metadata": {},
   "outputs": [
    {
     "data": {
      "text/plain": [
       "array([[[    0,     4,     4, ...,     3,     3,     3],\n",
       "        [    4,     4,     4, ...,     3,     3,     3],\n",
       "        [    4,     4,     4, ...,     3,     3,     3],\n",
       "        ...,\n",
       "        [   22,    22,    22, ...,    14,    14,    14],\n",
       "        [   22,    22,    22, ...,    14,    14,    14],\n",
       "        [   22,    22,    22, ...,    14,    14,    14]],\n",
       "\n",
       "       [[    0,     4,     4, ...,     3,     3,     3],\n",
       "        [    4,     4,     4, ...,     3,     3,     3],\n",
       "        [    4,     4,     4, ...,     3,     3,     3],\n",
       "        ...,\n",
       "        [   22,    22,    22, ...,    14,    14,    14],\n",
       "        [   22,    22,    22, ...,    14,    14,    14],\n",
       "        [   22,    22,    22, ...,    14,    14,    14]],\n",
       "\n",
       "       [[    0,     4,     4, ...,     3,     3,     3],\n",
       "        [    4,     4,     4, ...,     3,     3,     3],\n",
       "        [    4,     4,     4, ...,     3,     3,     3],\n",
       "        ...,\n",
       "        [  165,   165,   165, ...,    14,    14,    14],\n",
       "        [  165,   165,   165, ...,    14,    14,    14],\n",
       "        [  165,   165,   165, ...,    14,    14,    14]],\n",
       "\n",
       "       ...,\n",
       "\n",
       "       [[    0, 21141, 21141, ..., 21114, 21114, 21114],\n",
       "        [21141, 21141, 21141, ..., 21114, 21114, 21114],\n",
       "        [21141, 21141, 21141, ..., 21114, 21114, 21114],\n",
       "        ...,\n",
       "        [21117, 21117, 21117, ..., 21120, 21120, 21120],\n",
       "        [21117, 21117, 21117, ..., 21120, 21120, 21120],\n",
       "        [21117, 21117, 21117, ..., 21120, 21120, 21120]],\n",
       "\n",
       "       [[    0, 21220, 21220, ..., 21194, 21194, 21194],\n",
       "        [21220, 21220, 21220, ..., 21194, 21194, 21194],\n",
       "        [21220, 21220, 21220, ..., 21194, 21194, 21194],\n",
       "        ...,\n",
       "        [21197, 21197, 21197, ..., 21200, 21200, 21200],\n",
       "        [21197, 21197, 21197, ..., 21200, 21200, 21200],\n",
       "        [21197, 21197, 21197, ..., 21200, 21200, 21200]],\n",
       "\n",
       "       [[    0, 21291, 21291, ..., 21267, 21267, 21267],\n",
       "        [21291, 21291, 21291, ..., 21267, 21267, 21267],\n",
       "        [21291, 21291, 21291, ..., 21267, 21267, 21267],\n",
       "        ...,\n",
       "        [21270, 21270, 21270, ..., 21273, 21273, 21273],\n",
       "        [21270, 21270, 21270, ..., 21273, 21273, 21273],\n",
       "        [21270, 21270, 21270, ..., 21273, 21273, 21273]]], dtype=int32)"
      ]
     },
     "execution_count": 43,
     "metadata": {},
     "output_type": "execute_result"
    }
   ],
   "source": [
    "gt_seg"
   ]
  },
  {
   "cell_type": "code",
   "execution_count": 44,
   "metadata": {},
   "outputs": [
    {
     "name": "stderr",
     "output_type": "stream",
     "text": [
      "Filling Holes: 100%|██████████| 36726/36726 [00:00<00:00, 87517.56it/s]\n",
      "Avocado Pass:   0%|          | 0/20 [00:00<?, ?it/s]\n",
      "Skeletonizing Labels: 100%|██████████| 2745/2745 [00:15<00:00, 175.82it/s]\n"
     ]
    }
   ],
   "source": [
    "gt_skels = kimimaro.skeletonize(\n",
    "  gt_seg, \n",
    "  teasar_params={\n",
    "    \"scale\": 1.5, \n",
    "    \"const\": 300, # physical units\n",
    "    \"pdrf_scale\": 100000,\n",
    "    \"pdrf_exponent\": 4,\n",
    "    \"soma_acceptance_threshold\": 3500, # physical units\n",
    "    \"soma_detection_threshold\": 750, # physical units\n",
    "    \"soma_invalidation_const\": 300, # physical units\n",
    "    \"soma_invalidation_scale\": 2,\n",
    "    \"max_paths\": 300, # default None\n",
    "  },\n",
    "  # object_ids=[ ... ], # process only the specified labels\n",
    "  # extra_targets_before=[ (27,33,100), (44,45,46) ], # target points in voxels\n",
    "  # extra_targets_after=[ (27,33,100), (44,45,46) ], # target points in voxels\n",
    "  dust_threshold=1000, # skip connected components with fewer than this many voxels\n",
    "  anisotropy=(10,10,10), # default True\n",
    "  fix_branching=True, # default True\n",
    "  fix_borders=True, # default True\n",
    "  fill_holes=True, # default False\n",
    "  fix_avocados=True, # default False\n",
    "  progress=True, # default False, show progress bar\n",
    "  parallel=1, # <= 0 all cpu, 1 single process, 2+ multiprocess\n",
    "  parallel_chunk_size=100, # how many skeletons to process before updating progress bar\n",
    ")"
   ]
  },
  {
   "cell_type": "markdown",
   "metadata": {},
   "source": [
    "### Load raw EM image"
   ]
  },
  {
   "cell_type": "code",
   "execution_count": 6,
   "metadata": {},
   "outputs": [],
   "source": [
    "with h5py.File('data/fib25_results/flyEM/grayscale_maps.h5', 'r') as f:\n",
    "    image = np.array(f['raw'])"
   ]
  },
  {
   "cell_type": "markdown",
   "metadata": {},
   "source": [
    "## Visualise results using neuroglancer (incomplete)"
   ]
  },
  {
   "cell_type": "code",
   "execution_count": 15,
   "metadata": {},
   "outputs": [],
   "source": [
    "# Initialize Neuroglancer\n",
    "neuroglancer.set_server_bind_address('127.0.0.1', 8080)\n",
    "viewer = neuroglancer.Viewer()"
   ]
  },
  {
   "cell_type": "code",
   "execution_count": 22,
   "metadata": {},
   "outputs": [],
   "source": [
    "info = CloudVolume.create_new_info(\n",
    "    num_channels=1,\n",
    "    layer_type='image',\n",
    "    data_type='uint8',\n",
    "    encoding='raw',\n",
    "    resolution=[10, 10, 10],\n",
    "    voxel_offset=[0, 0, 0],\n",
    "    chunk_size=[128, 128, 128],\n",
    "    volume_size=[250, 250, 250],\n",
    ")"
   ]
  },
  {
   "cell_type": "code",
   "execution_count": 23,
   "metadata": {},
   "outputs": [],
   "source": [
    "vol = CloudVolume(f'file://data/flyEM/cloudvolume_test', info=info)"
   ]
  },
  {
   "cell_type": "code",
   "execution_count": 29,
   "metadata": {},
   "outputs": [
    {
     "data": {
      "text/plain": [
       "<cloudvolume.frontends.precomputed.CloudVolumePrecomputed at 0x7f090d741a10>"
      ]
     },
     "execution_count": 29,
     "metadata": {},
     "output_type": "execute_result"
    }
   ],
   "source": [
    "CloudVolume.from_numpy(\n",
    "    segmentation,\n",
    "    vol_path=f'file://data/flyEM/cloudvolume_test/seg',\n",
    "    resolution=(10, 10, 10),\n",
    "    voxel_offset=(0, 0, 0),\n",
    "    chunk_size=(128, 128, 64),\n",
    "    layer_type='segmentation',\n",
    "    encoding='raw',\n",
    "    max_mip=0\n",
    ")"
   ]
  },
  {
   "cell_type": "code",
   "execution_count": 32,
   "metadata": {},
   "outputs": [
    {
     "data": {
      "text/plain": [
       "<cloudvolume.frontends.precomputed.CloudVolumePrecomputed at 0x7f08e5682790>"
      ]
     },
     "execution_count": 32,
     "metadata": {},
     "output_type": "execute_result"
    }
   ],
   "source": [
    "CloudVolume.from_numpy(\n",
    "    image,\n",
    "    vol_path=f'file://data/flyEM/cloudvolume_test/raw',\n",
    "    resolution=(10, 10, 10),\n",
    "    voxel_offset=(0, 0, 0),\n",
    "    chunk_size=(128, 128, 64),\n",
    "    layer_type='image',\n",
    "    encoding='raw',\n",
    "    max_mip=0,\n",
    "    compress='br'\n",
    ")"
   ]
  },
  {
   "cell_type": "code",
   "execution_count": 31,
   "metadata": {},
   "outputs": [
    {
     "data": {
      "text/plain": [
       "<cloudvolume.frontends.precomputed.CloudVolumePrecomputed at 0x7f08e55f36d0>"
      ]
     },
     "execution_count": 31,
     "metadata": {},
     "output_type": "execute_result"
    }
   ],
   "source": [
    "CloudVolume.from_numpy(\n",
    "    gt_seg,\n",
    "    vol_path=f'file://data/flyEM/cloudvolume_test/gt_seg',\n",
    "    resolution=(10, 10, 10),\n",
    "    voxel_offset=(0, 0, 0),\n",
    "    chunk_size=(128, 128, 64),\n",
    "    layer_type='segmentation',\n",
    "    encoding='raw',\n",
    "    max_mip=0\n",
    ")"
   ]
  },
  {
   "cell_type": "code",
   "execution_count": 24,
   "metadata": {},
   "outputs": [
    {
     "name": "stderr",
     "output_type": "stream",
     "text": [
      "Uploading: 100%|██████████| 8/8 [00:00<00:00, 26.35it/s]\n"
     ]
    }
   ],
   "source": [
    "vol[:, :, :] = image"
   ]
  },
  {
   "cell_type": "markdown",
   "metadata": {},
   "source": [
    "## Move skeletons to networkx for quality assessment with funkelab functions"
   ]
  },
  {
   "cell_type": "code",
   "execution_count": 40,
   "metadata": {},
   "outputs": [
    {
     "data": {
      "text/plain": [
       "cloudvolume.skeleton.Skeleton"
      ]
     },
     "execution_count": 40,
     "metadata": {},
     "output_type": "execute_result"
    }
   ],
   "source": [
    "type(skels[1])"
   ]
  },
  {
   "cell_type": "code",
   "execution_count": 7,
   "metadata": {},
   "outputs": [],
   "source": [
    "# Relevant functions stolen from brainlit\n",
    "\n",
    "def skel_to_df(skeleton):\n",
    "    # adapted from brainlit\n",
    "    swc_string = skeleton.to_swc()\n",
    "    string_io = StringIO(swc_string)\n",
    "    splitted_string = swc_string.split(\"\\n\")\n",
    "    in_h = True\n",
    "    h_len = -1\n",
    "    while in_h:\n",
    "        h_len += 1\n",
    "        line = splitted_string[h_len]\n",
    "        if len(line) == 0 or line[0] != \"#\":\n",
    "            in_h = False\n",
    "    df = pd.read_table(\n",
    "        string_io,\n",
    "        names=[\"sample\", \"structure\", \"x\", \"y\", \"z\", \"r\", \"parent\"],\n",
    "        skiprows=h_len,\n",
    "        sep=\" \"\n",
    "        # delim_whitespace=True,\n",
    "    )\n",
    "\n",
    "    return df\n",
    "\n",
    "\n",
    "def df_to_graph(df, round=False):\n",
    "        \"\"\"Converts dataframe form of neuron trace into a directed graph\n",
    "\n",
    "        Parameters\n",
    "        ----------\n",
    "        df_voxel : :class:`pandas.DataFrame`\n",
    "            Indices, coordinates, and parents of each node in the swc.\n",
    "        round : boolean\n",
    "            Whether coordinates/distances should be rounded to integers.\n",
    "\n",
    "        Returns\n",
    "        -------\n",
    "        G : :class:`networkx.classes.digraph.DiGraph`\n",
    "            Neuron from swc represented as directed graph. Coordinates x,y,z are\n",
    "            node attributes accessed by keys 'x','y','z' respectively.\n",
    "        \"\"\"\n",
    "        G = nx.DiGraph()\n",
    "\n",
    "        # add nodes\n",
    "        for index, row in df.iterrows():\n",
    "            id = int(row[\"sample\"])\n",
    "\n",
    "            coord = [row[\"x\"], row[\"y\"], row[\"z\"]]\n",
    "            if round:\n",
    "                coord = [int(c) for c in coord]\n",
    "\n",
    "            G.add_node(id)\n",
    "            G.nodes[id][\"x\"] = coord[0]\n",
    "            G.nodes[id][\"y\"] = coord[1]\n",
    "            G.nodes[id][\"z\"] = coord[2]\n",
    "\n",
    "        # add edges\n",
    "        for index, row in df.iterrows():\n",
    "            child = int(row[\"sample\"])\n",
    "            child_coord = [row[\"x\"], row[\"y\"], row[\"z\"]]\n",
    "            parent = int(row[\"parent\"])\n",
    "\n",
    "            if parent > min(df[\"parent\"]):\n",
    "                parent_row = df[df[\"sample\"] == parent]\n",
    "                parent_coord = [parent_row[\"x\"], parent_row[\"y\"], parent_row[\"z\"]]\n",
    "\n",
    "                dist = np.linalg.norm(np.subtract(child_coord, parent_coord))\n",
    "                if round:\n",
    "                    dist = int(dist)\n",
    "\n",
    "                G.add_edge(parent, child, distance=dist)\n",
    "\n",
    "        return G\n"
   ]
  },
  {
   "cell_type": "code",
   "execution_count": 8,
   "metadata": {},
   "outputs": [],
   "source": [
    "skelDF = skel_to_df(skels[1])"
   ]
  },
  {
   "cell_type": "code",
   "execution_count": 9,
   "metadata": {},
   "outputs": [
    {
     "data": {
      "text/html": [
       "<div>\n",
       "<style scoped>\n",
       "    .dataframe tbody tr th:only-of-type {\n",
       "        vertical-align: middle;\n",
       "    }\n",
       "\n",
       "    .dataframe tbody tr th {\n",
       "        vertical-align: top;\n",
       "    }\n",
       "\n",
       "    .dataframe thead th {\n",
       "        text-align: right;\n",
       "    }\n",
       "</style>\n",
       "<table border=\"1\" class=\"dataframe\">\n",
       "  <thead>\n",
       "    <tr style=\"text-align: right;\">\n",
       "      <th></th>\n",
       "      <th>sample</th>\n",
       "      <th>structure</th>\n",
       "      <th>x</th>\n",
       "      <th>y</th>\n",
       "      <th>z</th>\n",
       "      <th>r</th>\n",
       "      <th>parent</th>\n",
       "    </tr>\n",
       "  </thead>\n",
       "  <tbody>\n",
       "    <tr>\n",
       "      <th>0</th>\n",
       "      <td>1</td>\n",
       "      <td>0</td>\n",
       "      <td>0.0</td>\n",
       "      <td>130.0</td>\n",
       "      <td>1440.0</td>\n",
       "      <td>14.142136</td>\n",
       "      <td>-1</td>\n",
       "    </tr>\n",
       "    <tr>\n",
       "      <th>1</th>\n",
       "      <td>61</td>\n",
       "      <td>0</td>\n",
       "      <td>10.0</td>\n",
       "      <td>130.0</td>\n",
       "      <td>1440.0</td>\n",
       "      <td>17.320509</td>\n",
       "      <td>1</td>\n",
       "    </tr>\n",
       "    <tr>\n",
       "      <th>2</th>\n",
       "      <td>80</td>\n",
       "      <td>0</td>\n",
       "      <td>20.0</td>\n",
       "      <td>130.0</td>\n",
       "      <td>1440.0</td>\n",
       "      <td>24.494898</td>\n",
       "      <td>61</td>\n",
       "    </tr>\n",
       "    <tr>\n",
       "      <th>3</th>\n",
       "      <td>98</td>\n",
       "      <td>0</td>\n",
       "      <td>30.0</td>\n",
       "      <td>130.0</td>\n",
       "      <td>1440.0</td>\n",
       "      <td>33.166248</td>\n",
       "      <td>80</td>\n",
       "    </tr>\n",
       "    <tr>\n",
       "      <th>4</th>\n",
       "      <td>121</td>\n",
       "      <td>0</td>\n",
       "      <td>40.0</td>\n",
       "      <td>130.0</td>\n",
       "      <td>1440.0</td>\n",
       "      <td>42.426407</td>\n",
       "      <td>98</td>\n",
       "    </tr>\n",
       "    <tr>\n",
       "      <th>...</th>\n",
       "      <td>...</td>\n",
       "      <td>...</td>\n",
       "      <td>...</td>\n",
       "      <td>...</td>\n",
       "      <td>...</td>\n",
       "      <td>...</td>\n",
       "      <td>...</td>\n",
       "    </tr>\n",
       "    <tr>\n",
       "      <th>1542</th>\n",
       "      <td>1503</td>\n",
       "      <td>0</td>\n",
       "      <td>1130.0</td>\n",
       "      <td>1960.0</td>\n",
       "      <td>920.0</td>\n",
       "      <td>50.000000</td>\n",
       "      <td>1501</td>\n",
       "    </tr>\n",
       "    <tr>\n",
       "      <th>1543</th>\n",
       "      <td>1505</td>\n",
       "      <td>0</td>\n",
       "      <td>1140.0</td>\n",
       "      <td>1950.0</td>\n",
       "      <td>920.0</td>\n",
       "      <td>41.231056</td>\n",
       "      <td>1503</td>\n",
       "    </tr>\n",
       "    <tr>\n",
       "      <th>1544</th>\n",
       "      <td>1507</td>\n",
       "      <td>0</td>\n",
       "      <td>1150.0</td>\n",
       "      <td>1940.0</td>\n",
       "      <td>920.0</td>\n",
       "      <td>30.000000</td>\n",
       "      <td>1505</td>\n",
       "    </tr>\n",
       "    <tr>\n",
       "      <th>1545</th>\n",
       "      <td>1509</td>\n",
       "      <td>0</td>\n",
       "      <td>1160.0</td>\n",
       "      <td>1930.0</td>\n",
       "      <td>910.0</td>\n",
       "      <td>20.000000</td>\n",
       "      <td>1507</td>\n",
       "    </tr>\n",
       "    <tr>\n",
       "      <th>1546</th>\n",
       "      <td>1511</td>\n",
       "      <td>0</td>\n",
       "      <td>1170.0</td>\n",
       "      <td>1920.0</td>\n",
       "      <td>900.0</td>\n",
       "      <td>10.000000</td>\n",
       "      <td>1509</td>\n",
       "    </tr>\n",
       "  </tbody>\n",
       "</table>\n",
       "<p>1547 rows × 7 columns</p>\n",
       "</div>"
      ],
      "text/plain": [
       "      sample  structure       x       y       z          r  parent\n",
       "0          1          0     0.0   130.0  1440.0  14.142136      -1\n",
       "1         61          0    10.0   130.0  1440.0  17.320509       1\n",
       "2         80          0    20.0   130.0  1440.0  24.494898      61\n",
       "3         98          0    30.0   130.0  1440.0  33.166248      80\n",
       "4        121          0    40.0   130.0  1440.0  42.426407      98\n",
       "...      ...        ...     ...     ...     ...        ...     ...\n",
       "1542    1503          0  1130.0  1960.0   920.0  50.000000    1501\n",
       "1543    1505          0  1140.0  1950.0   920.0  41.231056    1503\n",
       "1544    1507          0  1150.0  1940.0   920.0  30.000000    1505\n",
       "1545    1509          0  1160.0  1930.0   910.0  20.000000    1507\n",
       "1546    1511          0  1170.0  1920.0   900.0  10.000000    1509\n",
       "\n",
       "[1547 rows x 7 columns]"
      ]
     },
     "execution_count": 9,
     "metadata": {},
     "output_type": "execute_result"
    }
   ],
   "source": [
    "skelDF"
   ]
  },
  {
   "cell_type": "code",
   "execution_count": 10,
   "metadata": {},
   "outputs": [],
   "source": [
    "nx_skel = df_to_graph(skelDF)"
   ]
  },
  {
   "cell_type": "code",
   "execution_count": 59,
   "metadata": {},
   "outputs": [
    {
     "data": {
      "text/plain": [
       "<networkx.classes.digraph.DiGraph at 0x7f08c78b6b10>"
      ]
     },
     "execution_count": 59,
     "metadata": {},
     "output_type": "execute_result"
    }
   ],
   "source": [
    "nx_skel"
   ]
  },
  {
   "cell_type": "code",
   "execution_count": 27,
   "metadata": {},
   "outputs": [
    {
     "data": {
      "text/plain": [
       "array([[ 850.,    0.,   90.],\n",
       "       [ 850.,   10.,   90.],\n",
       "       [ 850.,   20.,   90.],\n",
       "       [ 850.,   30.,   90.],\n",
       "       [ 850.,   40.,   90.],\n",
       "       [ 850.,   50.,   90.],\n",
       "       [ 850.,   60.,   90.],\n",
       "       [ 850.,   70.,   90.],\n",
       "       [ 850.,   80.,   90.],\n",
       "       [ 850.,   90.,   90.],\n",
       "       [ 850.,  100.,   90.],\n",
       "       [ 850.,  110.,   90.],\n",
       "       [ 850.,  120.,   90.],\n",
       "       [ 850.,  130.,   90.],\n",
       "       [ 850.,  140.,   90.],\n",
       "       [ 850.,  150.,   90.],\n",
       "       [ 850.,  160.,   90.],\n",
       "       [ 850.,  170.,   90.],\n",
       "       [ 850.,  180.,   90.],\n",
       "       [ 850.,  190.,   90.],\n",
       "       [ 850.,  200.,   90.],\n",
       "       [ 850.,  210.,   80.],\n",
       "       [ 850.,  220.,   70.],\n",
       "       [ 850.,  230.,   60.],\n",
       "       [ 850.,  240.,   50.],\n",
       "       [ 850.,  240.,   70.],\n",
       "       [ 850.,  250.,   40.],\n",
       "       [ 850.,  250.,   80.],\n",
       "       [ 850.,  260.,   30.],\n",
       "       [ 850.,  260.,   90.],\n",
       "       [ 850.,  270.,   20.],\n",
       "       [ 850.,  270.,   90.],\n",
       "       [ 850.,  280.,   10.],\n",
       "       [ 850.,  280.,  100.],\n",
       "       [ 850.,  290.,    0.],\n",
       "       [ 850.,  290.,  110.],\n",
       "       [ 850.,  300.,  120.],\n",
       "       [ 850.,  310.,  130.],\n",
       "       [ 850.,  320.,  140.],\n",
       "       [ 850.,  330.,  150.],\n",
       "       [ 850.,  340.,  160.],\n",
       "       [ 850.,  340.,  170.],\n",
       "       [ 850.,  340.,  180.],\n",
       "       [ 850.,  340.,  190.],\n",
       "       [ 850.,  340.,  200.],\n",
       "       [ 850.,  340.,  210.],\n",
       "       [ 850.,  340.,  220.],\n",
       "       [ 850.,  340.,  230.],\n",
       "       [ 850.,  340.,  240.],\n",
       "       [ 850.,  340.,  250.],\n",
       "       [ 850.,  340.,  260.],\n",
       "       [ 850.,  340.,  270.],\n",
       "       [ 850.,  340.,  280.],\n",
       "       [ 850.,  340.,  290.],\n",
       "       [ 850.,  340.,  300.],\n",
       "       [ 850.,  340.,  310.],\n",
       "       [ 850.,  340.,  320.],\n",
       "       [ 850.,  340.,  330.],\n",
       "       [ 850.,  340.,  340.],\n",
       "       [ 850.,  340.,  350.],\n",
       "       [ 850.,  340.,  360.],\n",
       "       [ 850.,  340.,  370.],\n",
       "       [ 850.,  350.,  380.],\n",
       "       [ 850., 2080.,  610.],\n",
       "       [ 850., 2090.,  600.],\n",
       "       [ 850., 2100.,  590.],\n",
       "       [ 850., 2110.,  580.],\n",
       "       [ 850., 2120.,  570.],\n",
       "       [ 850., 2130.,  560.],\n",
       "       [ 850., 2140.,  550.],\n",
       "       [ 850., 2150.,  540.],\n",
       "       [ 850., 2160.,  530.],\n",
       "       [ 850., 2170.,  520.],\n",
       "       [ 850., 2180.,  510.],\n",
       "       [ 850., 2190.,  500.],\n",
       "       [ 850., 2200.,  490.],\n",
       "       [ 850., 2210.,  480.],\n",
       "       [ 850., 2220.,  470.],\n",
       "       [ 850., 2230.,  460.],\n",
       "       [ 850., 2240.,  450.],\n",
       "       [ 850., 2250.,  440.],\n",
       "       [ 850., 2260.,  430.],\n",
       "       [ 850., 2270.,  420.],\n",
       "       [ 850., 2280.,  410.],\n",
       "       [ 850., 2290.,  400.],\n",
       "       [ 850., 2300.,  390.],\n",
       "       [ 850., 2310.,  380.],\n",
       "       [ 850., 2320.,  370.],\n",
       "       [ 850., 2330.,  360.],\n",
       "       [ 850., 2340.,  350.],\n",
       "       [ 850., 2340.,  880.],\n",
       "       [ 850., 2350.,  340.],\n",
       "       [ 850., 2350.,  870.],\n",
       "       [ 850., 2360.,  330.],\n",
       "       [ 850., 2360.,  860.],\n",
       "       [ 850., 2370.,  320.],\n",
       "       [ 850., 2370.,  850.],\n",
       "       [ 850., 2380.,  310.],\n",
       "       [ 850., 2380.,  840.],\n",
       "       [ 850., 2390.,  300.],\n",
       "       [ 850., 2390.,  830.],\n",
       "       [ 850., 2400.,  290.],\n",
       "       [ 850., 2400.,  820.],\n",
       "       [ 850., 2410.,  280.],\n",
       "       [ 850., 2410.,  810.],\n",
       "       [ 850., 2420.,  270.],\n",
       "       [ 850., 2420.,  800.],\n",
       "       [ 850., 2430.,  260.],\n",
       "       [ 850., 2430.,  790.],\n",
       "       [ 850., 2440.,  250.],\n",
       "       [ 850., 2440.,  780.],\n",
       "       [ 850., 2450.,  240.],\n",
       "       [ 850., 2450.,  770.],\n",
       "       [ 850., 2460.,  230.],\n",
       "       [ 850., 2460.,  760.],\n",
       "       [ 850., 2470.,    0.],\n",
       "       [ 850., 2470.,   10.],\n",
       "       [ 850., 2470.,   20.],\n",
       "       [ 850., 2470.,   30.],\n",
       "       [ 850., 2470.,   40.],\n",
       "       [ 850., 2470.,   50.],\n",
       "       [ 850., 2470.,   60.],\n",
       "       [ 850., 2470.,   70.],\n",
       "       [ 850., 2470.,   80.],\n",
       "       [ 850., 2470.,   90.],\n",
       "       [ 850., 2470.,  100.],\n",
       "       [ 850., 2470.,  110.],\n",
       "       [ 850., 2470.,  120.],\n",
       "       [ 850., 2470.,  130.],\n",
       "       [ 850., 2470.,  140.],\n",
       "       [ 850., 2470.,  150.],\n",
       "       [ 850., 2470.,  160.],\n",
       "       [ 850., 2470.,  170.],\n",
       "       [ 850., 2470.,  180.],\n",
       "       [ 850., 2470.,  190.],\n",
       "       [ 850., 2470.,  200.],\n",
       "       [ 850., 2470.,  210.],\n",
       "       [ 850., 2470.,  220.],\n",
       "       [ 850., 2470.,  230.],\n",
       "       [ 850., 2470.,  240.],\n",
       "       [ 850., 2470.,  250.],\n",
       "       [ 850., 2470.,  260.],\n",
       "       [ 850., 2470.,  270.],\n",
       "       [ 850., 2470.,  280.],\n",
       "       [ 850., 2470.,  290.],\n",
       "       [ 850., 2470.,  300.],\n",
       "       [ 850., 2470.,  310.],\n",
       "       [ 850., 2470.,  320.],\n",
       "       [ 850., 2470.,  330.],\n",
       "       [ 850., 2470.,  340.],\n",
       "       [ 850., 2470.,  350.],\n",
       "       [ 850., 2470.,  360.],\n",
       "       [ 850., 2470.,  370.],\n",
       "       [ 850., 2470.,  380.],\n",
       "       [ 850., 2470.,  420.],\n",
       "       [ 850., 2470.,  430.],\n",
       "       [ 850., 2470.,  440.],\n",
       "       [ 850., 2470.,  450.],\n",
       "       [ 850., 2470.,  460.],\n",
       "       [ 850., 2470.,  470.],\n",
       "       [ 850., 2470.,  480.],\n",
       "       [ 850., 2470.,  490.],\n",
       "       [ 850., 2470.,  500.],\n",
       "       [ 850., 2470.,  510.],\n",
       "       [ 850., 2470.,  520.],\n",
       "       [ 850., 2470.,  530.],\n",
       "       [ 850., 2470.,  540.],\n",
       "       [ 850., 2470.,  550.],\n",
       "       [ 850., 2470.,  560.],\n",
       "       [ 850., 2470.,  570.],\n",
       "       [ 850., 2470.,  580.],\n",
       "       [ 850., 2470.,  590.],\n",
       "       [ 850., 2470.,  600.],\n",
       "       [ 850., 2470.,  610.],\n",
       "       [ 850., 2470.,  620.],\n",
       "       [ 850., 2470.,  630.],\n",
       "       [ 850., 2470.,  640.],\n",
       "       [ 850., 2470.,  650.],\n",
       "       [ 850., 2470.,  660.],\n",
       "       [ 850., 2470.,  670.],\n",
       "       [ 850., 2470.,  680.],\n",
       "       [ 850., 2470.,  690.],\n",
       "       [ 850., 2470.,  700.],\n",
       "       [ 850., 2470.,  710.],\n",
       "       [ 850., 2470.,  720.],\n",
       "       [ 850., 2470.,  730.],\n",
       "       [ 850., 2470.,  740.],\n",
       "       [ 850., 2470.,  750.],\n",
       "       [ 850., 2480.,  390.],\n",
       "       [ 850., 2480.,  410.],\n",
       "       [ 850., 2490.,  400.]], dtype=float32)"
      ]
     },
     "execution_count": 27,
     "metadata": {},
     "output_type": "execute_result"
    }
   ],
   "source": [
    "gt_skels[6137].vertices"
   ]
  },
  {
   "cell_type": "code",
   "execution_count": 34,
   "metadata": {},
   "outputs": [
    {
     "data": {
      "text/plain": [
       "array([[   0.,  130., 1440.],\n",
       "       [   0.,  190., 1670.],\n",
       "       [   0.,  200., 1660.],\n",
       "       ...,\n",
       "       [1340., 1350., 1830.],\n",
       "       [1350., 1360., 1840.],\n",
       "       [1360., 1370., 1850.]], dtype=float32)"
      ]
     },
     "execution_count": 34,
     "metadata": {},
     "output_type": "execute_result"
    }
   ],
   "source": [
    "skels[1].vertices"
   ]
  },
  {
   "cell_type": "code",
   "execution_count": null,
   "metadata": {},
   "outputs": [],
   "source": [
    "gt_skleDF = skel_to_df(gt_skels[1])"
   ]
  },
  {
   "cell_type": "markdown",
   "metadata": {},
   "source": [
    "## Expected Run Length calculation"
   ]
  },
  {
   "cell_type": "markdown",
   "metadata": {},
   "source": [
    "Next steps: implement run length evaluation from https://github.com/funkelab/funlib.evaluate/blob/master/funlib/evaluate/run_length.py or https://github.com/PytorchConnectomics/em_erl. Open questions are matching segmented and ground truth skeletons, incorporating more skeletons\n",
    "\n",
    "Additional idea from phil: which fraction of neurons would need proofreading, potentially from splits and mergers"
   ]
  },
  {
   "cell_type": "code",
   "execution_count": 18,
   "metadata": {},
   "outputs": [],
   "source": [
    "# From PytorchConnectomics/em_util\n",
    "\n",
    "def read_vol_chunk(file_handler, chunk_id=0, chunk_num=1):\n",
    "    \"\"\"\n",
    "    Read a chunk of data from a file handler.\n",
    "\n",
    "    Args:\n",
    "        file_handler: The file handler object.\n",
    "        chunk_id: The ID of the chunk to read. Defaults to 0.\n",
    "        chunk_num: The total number of chunks. Defaults to 1.\n",
    "\n",
    "    Returns:\n",
    "        numpy.ndarray: The read chunk of data.\n",
    "    \"\"\"\n",
    "    if chunk_num == 1:\n",
    "        # read the whole chunk\n",
    "        return np.array(file_handler)\n",
    "    elif chunk_num == -1:\n",
    "        # read a specific slice\n",
    "        return np.array(file_handler[chunk_id])\n",
    "    else:\n",
    "        # read a chunk\n",
    "        num_z = int(np.ceil(file_handler.shape[0] / float(chunk_num)))\n",
    "        return np.array(file_handler[chunk_id * num_z : (chunk_id + 1) * num_z])\n",
    "\n",
    "with h5py.File('data/em_erl/test_50_skeletons.h5', 'r') as f:\n",
    "    foo = list(f)\n",
    "    out = [None] * len(foo)\n",
    "    for di, d in enumerate(foo):\n",
    "        out[di] = read_vol_chunk(f[d], 0, 1)\n"
   ]
  },
  {
   "cell_type": "markdown",
   "metadata": {},
   "source": [
    "### Create look up table comparing skeleton to segmentations"
   ]
  },
  {
   "cell_type": "code",
   "execution_count": null,
   "metadata": {},
   "outputs": [],
   "source": [
    "# Stolen from PytorchConnectomics/em_erl\n",
    "# https://github.com/PytorchConnectomics/em_erl/blob/main/em_erl/eval.py\n",
    "\n",
    "def compute_segment_lut(\n",
    "    segment, node_position, mask=None, chunk_num=1, data_type=np.uint32\n",
    "):\n",
    "    \"\"\"\n",
    "    The function `compute_segment_lut` is a low memory version of a lookup table\n",
    "    computation for node segments in a 3D volume.\n",
    "\n",
    "    :param node_position: A numpy array containing the coordinates of each node. The shape of the array\n",
    "    is (N, 3), where N is the number of nodes and each row represents the (z, y, x) coordinates of a\n",
    "    node\n",
    "    :param segment: either a 3D volume or a string representing the\n",
    "    name of a file containing segment data.\n",
    "    :param chunk_num: The parameter `chunk_num` is the number of chunks into which the volume is divided\n",
    "    for reading. It is used in the `read_vol` function to specify which chunk to read, defaults to 1\n",
    "    (optional)\n",
    "    :param data_type: The parameter `data_type` is the data type of the array used to store the node segment\n",
    "    lookup table. In this case, it is set to `np.uint32`, which means the array will store unsigned\n",
    "    32-bit integers\n",
    "    :return: a list of numpy arrays, where each array represents the node segment lookup table for a\n",
    "    specific segment.\n",
    "    \"\"\"\n",
    "    if not isinstance(segment, str):\n",
    "        # load the whole segment\n",
    "        node_lut = segment[\n",
    "            node_position[:, 0], node_position[:, 1], node_position[:, 2]\n",
    "        ]\n",
    "        mask_id = []\n",
    "        if mask is not None:\n",
    "            if isinstance(mask, str):\n",
    "                mask = read_vol(mask)\n",
    "            mask_id = segment[mask > 0]\n",
    "    else:\n",
    "        # read segment by chunk (when memory is limited)\n",
    "        assert \".h5\" in segment\n",
    "        node_lut = np.zeros(node_position.shape[0], data_type)\n",
    "        mask_id = [[]] * chunk_num\n",
    "        start_z = 0\n",
    "        for chunk_id in range(chunk_num):\n",
    "            seg = read_vol(segment, None, chunk_id, chunk_num)\n",
    "            last_z = start_z + seg.shape[0]\n",
    "            ind = (node_position[:, 0] >= start_z) * (node_position[:, 0] < last_z)\n",
    "            pts = node_position[ind]\n",
    "            node_lut[ind] = seg[pts[:, 0] - start_z, pts[:, 1], pts[:, 2]]\n",
    "            if mask is not None:\n",
    "                if isinstance(mask, str):\n",
    "                    mask_z = read_vol(mask, None, chunk_id, chunk_num)\n",
    "                else:\n",
    "                    mask_z = mask[start_z:last_z]\n",
    "                mask_id[chunk_id] = seg[mask_z > 0]\n",
    "            start_z = last_z\n",
    "        if mask is not None:\n",
    "            # remove irrelevant seg ids (not used by nodes)\n",
    "            node_lut_unique = np.unique(node_lut)\n",
    "            for chunk_id in range(chunk_num):\n",
    "                mask_id[chunk_id] = mask_id[chunk_id][\n",
    "                    np.in1d(mask_id[chunk_id], node_lut_unique)\n",
    "                ]\n",
    "        mask_id = np.concatenate(mask_id)\n",
    "    return node_lut, mask_id"
   ]
  },
  {
   "cell_type": "code",
   "execution_count": 46,
   "metadata": {},
   "outputs": [],
   "source": [
    "lut = compute_segment_lut(gt_seg, (skels[1].vertices/10).astype(int))"
   ]
  },
  {
   "cell_type": "code",
   "execution_count": 58,
   "metadata": {},
   "outputs": [
    {
     "data": {
      "text/plain": [
       "array([   38,    38,    38, ..., 11239, 11362, 11484], dtype=int32)"
      ]
     },
     "execution_count": 58,
     "metadata": {},
     "output_type": "execute_result"
    }
   ],
   "source": [
    "lut[0]"
   ]
  },
  {
   "cell_type": "code",
   "execution_count": 50,
   "metadata": {},
   "outputs": [],
   "source": [
    "gt_lut = compute_segment_lut(gt_seg, (gt_skels[6137].vertices/10).astype(int))"
   ]
  },
  {
   "cell_type": "code",
   "execution_count": 51,
   "metadata": {},
   "outputs": [
    {
     "data": {
      "text/plain": [
       "(array([6137, 6137, 6137, 6137, 6137, 6137, 6137, 6137, 6137, 6137, 6137,\n",
       "        6137, 6137, 6137, 6137, 6137, 6137, 6137, 6137, 6137, 6137, 6137,\n",
       "        6137, 6137, 6137, 6137, 6137, 6137, 6137, 6137, 6137, 6137, 6137,\n",
       "        6137, 6137, 6137, 6137, 6137, 6137, 6137, 6137, 6137, 6137, 6137,\n",
       "        6137, 6137, 6137, 6137, 6137, 6137, 6137, 6137, 6137, 6137, 6137,\n",
       "        6137, 6137, 6137, 6137, 6137, 6137, 6137, 6137, 6137, 6137, 6137,\n",
       "        6137, 6137, 6137, 6137, 6137, 6137, 6137, 6137, 6137, 6137, 6137,\n",
       "        6137, 6137, 6137, 6137, 6137, 6137, 6137, 6137, 6137, 6137, 6137,\n",
       "        6137, 6137, 6137, 6137, 6137, 6137, 6137, 6137, 6137, 6137, 6137,\n",
       "        6137, 6137, 6137, 6137, 6137, 6137, 6137, 6137, 6137, 6137, 6137,\n",
       "        6137, 6137, 6137, 6137, 6137, 6137, 6137, 6137, 6137, 6137, 6137,\n",
       "        6137, 6137, 6137, 6137, 6137, 6137, 6137, 6137, 6137, 6137, 6137,\n",
       "        6137, 6137, 6137, 6137, 6137, 6137, 6137, 6137, 6137, 6137, 6137,\n",
       "        6137, 6137, 6137, 6137, 6137, 6137, 6137, 6137, 6137, 6137, 6137,\n",
       "        6137, 6137, 6137, 6137, 6137, 6137, 6137, 6137, 6137, 6137, 6137,\n",
       "        6137, 6137, 6137, 6137, 6137, 6137, 6137, 6137, 6137, 6137, 6137,\n",
       "        6137, 6137, 6137, 6137, 6137, 6137, 6137, 6137, 6137, 6137, 6137,\n",
       "        6137, 6137, 6137, 6137], dtype=int32),\n",
       " [])"
      ]
     },
     "execution_count": 51,
     "metadata": {},
     "output_type": "execute_result"
    }
   ],
   "source": [
    "gt_lut"
   ]
  },
  {
   "cell_type": "markdown",
   "metadata": {},
   "source": [
    "code works, gt_lut is accurate, segmentation lut shows errors in segmentation"
   ]
  },
  {
   "cell_type": "code",
   "execution_count": 98,
   "metadata": {},
   "outputs": [
    {
     "data": {
      "text/plain": [
       "{1: Skeleton(segid=1, vertices=(shape=1547, float32), edges=(shape=1546, uint32), radius=(1547, float32), vertex_types=(1547, uint8), space='voxel' transform=[[1.0, 0.0, 0.0, 0.0], [0.0, 1.0, 0.0, 0.0], [0.0, 0.0, 1.0, 0.0]]),\n",
       " 91: Skeleton(segid=91, vertices=(shape=43, float32), edges=(shape=42, uint32), radius=(43, float32), vertex_types=(43, uint8), space='voxel' transform=[[1.0, 0.0, 0.0, 0.0], [0.0, 1.0, 0.0, 0.0], [0.0, 0.0, 1.0, 0.0]]),\n",
       " 145: Skeleton(segid=145, vertices=(shape=57, float32), edges=(shape=56, uint32), radius=(57, float32), vertex_types=(57, uint8), space='voxel' transform=[[1.0, 0.0, 0.0, 0.0], [0.0, 1.0, 0.0, 0.0], [0.0, 0.0, 1.0, 0.0]]),\n",
       " 117: Skeleton(segid=117, vertices=(shape=284, float32), edges=(shape=283, uint32), radius=(284, float32), vertex_types=(284, uint8), space='voxel' transform=[[1.0, 0.0, 0.0, 0.0], [0.0, 1.0, 0.0, 0.0], [0.0, 0.0, 1.0, 0.0]]),\n",
       " 4: Skeleton(segid=4, vertices=(shape=1071, float32), edges=(shape=1070, uint32), radius=(1071, float32), vertex_types=(1071, uint8), space='voxel' transform=[[1.0, 0.0, 0.0, 0.0], [0.0, 1.0, 0.0, 0.0], [0.0, 0.0, 1.0, 0.0]]),\n",
       " 126: Skeleton(segid=126, vertices=(shape=350, float32), edges=(shape=349, uint32), radius=(350, float32), vertex_types=(350, uint8), space='voxel' transform=[[1.0, 0.0, 0.0, 0.0], [0.0, 1.0, 0.0, 0.0], [0.0, 0.0, 1.0, 0.0]]),\n",
       " 14: Skeleton(segid=14, vertices=(shape=551, float32), edges=(shape=550, uint32), radius=(551, float32), vertex_types=(551, uint8), space='voxel' transform=[[1.0, 0.0, 0.0, 0.0], [0.0, 1.0, 0.0, 0.0], [0.0, 0.0, 1.0, 0.0]]),\n",
       " 7: Skeleton(segid=7, vertices=(shape=1144, float32), edges=(shape=1143, uint32), radius=(1144, float32), vertex_types=(1144, uint8), space='voxel' transform=[[1.0, 0.0, 0.0, 0.0], [0.0, 1.0, 0.0, 0.0], [0.0, 0.0, 1.0, 0.0]]),\n",
       " 224: Skeleton(segid=224, vertices=(shape=218, float32), edges=(shape=217, uint32), radius=(218, float32), vertex_types=(218, uint8), space='voxel' transform=[[1.0, 0.0, 0.0, 0.0], [0.0, 1.0, 0.0, 0.0], [0.0, 0.0, 1.0, 0.0]]),\n",
       " 69: Skeleton(segid=69, vertices=(shape=1698, float32), edges=(shape=1697, uint32), radius=(1698, float32), vertex_types=(1698, uint8), space='voxel' transform=[[1.0, 0.0, 0.0, 0.0], [0.0, 1.0, 0.0, 0.0], [0.0, 0.0, 1.0, 0.0]]),\n",
       " 8: Skeleton(segid=8, vertices=(shape=1048, float32), edges=(shape=1047, uint32), radius=(1048, float32), vertex_types=(1048, uint8), space='voxel' transform=[[1.0, 0.0, 0.0, 0.0], [0.0, 1.0, 0.0, 0.0], [0.0, 0.0, 1.0, 0.0]]),\n",
       " 9: Skeleton(segid=9, vertices=(shape=473, float32), edges=(shape=472, uint32), radius=(473, float32), vertex_types=(473, uint8), space='voxel' transform=[[1.0, 0.0, 0.0, 0.0], [0.0, 1.0, 0.0, 0.0], [0.0, 0.0, 1.0, 0.0]]),\n",
       " 227: Skeleton(segid=227, vertices=(shape=54, float32), edges=(shape=53, uint32), radius=(54, float32), vertex_types=(54, uint8), space='voxel' transform=[[1.0, 0.0, 0.0, 0.0], [0.0, 1.0, 0.0, 0.0], [0.0, 0.0, 1.0, 0.0]]),\n",
       " 205: Skeleton(segid=205, vertices=(shape=88, float32), edges=(shape=87, uint32), radius=(88, float32), vertex_types=(88, uint8), space='voxel' transform=[[1.0, 0.0, 0.0, 0.0], [0.0, 1.0, 0.0, 0.0], [0.0, 0.0, 1.0, 0.0]]),\n",
       " 123: Skeleton(segid=123, vertices=(shape=100, float32), edges=(shape=99, uint32), radius=(100, float32), vertex_types=(100, uint8), space='voxel' transform=[[1.0, 0.0, 0.0, 0.0], [0.0, 1.0, 0.0, 0.0], [0.0, 0.0, 1.0, 0.0]]),\n",
       " 24: Skeleton(segid=24, vertices=(shape=531, float32), edges=(shape=530, uint32), radius=(531, float32), vertex_types=(531, uint8), space='voxel' transform=[[1.0, 0.0, 0.0, 0.0], [0.0, 1.0, 0.0, 0.0], [0.0, 0.0, 1.0, 0.0]]),\n",
       " 85: Skeleton(segid=85, vertices=(shape=13, float32), edges=(shape=12, uint32), radius=(13, float32), vertex_types=(13, uint8), space='voxel' transform=[[1.0, 0.0, 0.0, 0.0], [0.0, 1.0, 0.0, 0.0], [0.0, 0.0, 1.0, 0.0]]),\n",
       " 152: Skeleton(segid=152, vertices=(shape=13, float32), edges=(shape=12, uint32), radius=(13, float32), vertex_types=(13, uint8), space='voxel' transform=[[1.0, 0.0, 0.0, 0.0], [0.0, 1.0, 0.0, 0.0], [0.0, 0.0, 1.0, 0.0]]),\n",
       " 96: Skeleton(segid=96, vertices=(shape=216, float32), edges=(shape=215, uint32), radius=(216, float32), vertex_types=(216, uint8), space='voxel' transform=[[1.0, 0.0, 0.0, 0.0], [0.0, 1.0, 0.0, 0.0], [0.0, 0.0, 1.0, 0.0]]),\n",
       " 197: Skeleton(segid=197, vertices=(shape=77, float32), edges=(shape=76, uint32), radius=(77, float32), vertex_types=(77, uint8), space='voxel' transform=[[1.0, 0.0, 0.0, 0.0], [0.0, 1.0, 0.0, 0.0], [0.0, 0.0, 1.0, 0.0]]),\n",
       " 175: Skeleton(segid=175, vertices=(shape=138, float32), edges=(shape=137, uint32), radius=(138, float32), vertex_types=(138, uint8), space='voxel' transform=[[1.0, 0.0, 0.0, 0.0], [0.0, 1.0, 0.0, 0.0], [0.0, 0.0, 1.0, 0.0]]),\n",
       " 103: Skeleton(segid=103, vertices=(shape=209, float32), edges=(shape=208, uint32), radius=(209, float32), vertex_types=(209, uint8), space='voxel' transform=[[1.0, 0.0, 0.0, 0.0], [0.0, 1.0, 0.0, 0.0], [0.0, 0.0, 1.0, 0.0]]),\n",
       " 156: Skeleton(segid=156, vertices=(shape=95, float32), edges=(shape=94, uint32), radius=(95, float32), vertex_types=(95, uint8), space='voxel' transform=[[1.0, 0.0, 0.0, 0.0], [0.0, 1.0, 0.0, 0.0], [0.0, 0.0, 1.0, 0.0]]),\n",
       " 206: Skeleton(segid=206, vertices=(shape=159, float32), edges=(shape=158, uint32), radius=(159, float32), vertex_types=(159, uint8), space='voxel' transform=[[1.0, 0.0, 0.0, 0.0], [0.0, 1.0, 0.0, 0.0], [0.0, 0.0, 1.0, 0.0]]),\n",
       " 186: Skeleton(segid=186, vertices=(shape=44, float32), edges=(shape=43, uint32), radius=(44, float32), vertex_types=(44, uint8), space='voxel' transform=[[1.0, 0.0, 0.0, 0.0], [0.0, 1.0, 0.0, 0.0], [0.0, 0.0, 1.0, 0.0]]),\n",
       " 148: Skeleton(segid=148, vertices=(shape=149, float32), edges=(shape=148, uint32), radius=(149, float32), vertex_types=(149, uint8), space='voxel' transform=[[1.0, 0.0, 0.0, 0.0], [0.0, 1.0, 0.0, 0.0], [0.0, 0.0, 1.0, 0.0]]),\n",
       " 182: Skeleton(segid=182, vertices=(shape=117, float32), edges=(shape=116, uint32), radius=(117, float32), vertex_types=(117, uint8), space='voxel' transform=[[1.0, 0.0, 0.0, 0.0], [0.0, 1.0, 0.0, 0.0], [0.0, 0.0, 1.0, 0.0]]),\n",
       " 213: Skeleton(segid=213, vertices=(shape=40, float32), edges=(shape=39, uint32), radius=(40, float32), vertex_types=(40, uint8), space='voxel' transform=[[1.0, 0.0, 0.0, 0.0], [0.0, 1.0, 0.0, 0.0], [0.0, 0.0, 1.0, 0.0]]),\n",
       " 11: Skeleton(segid=11, vertices=(shape=523, float32), edges=(shape=522, uint32), radius=(523, float32), vertex_types=(523, uint8), space='voxel' transform=[[1.0, 0.0, 0.0, 0.0], [0.0, 1.0, 0.0, 0.0], [0.0, 0.0, 1.0, 0.0]]),\n",
       " 167: Skeleton(segid=167, vertices=(shape=43, float32), edges=(shape=42, uint32), radius=(43, float32), vertex_types=(43, uint8), space='voxel' transform=[[1.0, 0.0, 0.0, 0.0], [0.0, 1.0, 0.0, 0.0], [0.0, 0.0, 1.0, 0.0]]),\n",
       " 178: Skeleton(segid=178, vertices=(shape=95, float32), edges=(shape=94, uint32), radius=(95, float32), vertex_types=(95, uint8), space='voxel' transform=[[1.0, 0.0, 0.0, 0.0], [0.0, 1.0, 0.0, 0.0], [0.0, 0.0, 1.0, 0.0]]),\n",
       " 207: Skeleton(segid=207, vertices=(shape=60, float32), edges=(shape=59, uint32), radius=(60, float32), vertex_types=(60, uint8), space='voxel' transform=[[1.0, 0.0, 0.0, 0.0], [0.0, 1.0, 0.0, 0.0], [0.0, 0.0, 1.0, 0.0]]),\n",
       " 253: Skeleton(segid=253, vertices=(shape=38, float32), edges=(shape=37, uint32), radius=(38, float32), vertex_types=(38, uint8), space='voxel' transform=[[1.0, 0.0, 0.0, 0.0], [0.0, 1.0, 0.0, 0.0], [0.0, 0.0, 1.0, 0.0]]),\n",
       " 173: Skeleton(segid=173, vertices=(shape=56, float32), edges=(shape=55, uint32), radius=(56, float32), vertex_types=(56, uint8), space='voxel' transform=[[1.0, 0.0, 0.0, 0.0], [0.0, 1.0, 0.0, 0.0], [0.0, 0.0, 1.0, 0.0]]),\n",
       " 129: Skeleton(segid=129, vertices=(shape=81, float32), edges=(shape=80, uint32), radius=(81, float32), vertex_types=(81, uint8), space='voxel' transform=[[1.0, 0.0, 0.0, 0.0], [0.0, 1.0, 0.0, 0.0], [0.0, 0.0, 1.0, 0.0]]),\n",
       " 139: Skeleton(segid=139, vertices=(shape=171, float32), edges=(shape=170, uint32), radius=(171, float32), vertex_types=(171, uint8), space='voxel' transform=[[1.0, 0.0, 0.0, 0.0], [0.0, 1.0, 0.0, 0.0], [0.0, 0.0, 1.0, 0.0]]),\n",
       " 116: Skeleton(segid=116, vertices=(shape=34, float32), edges=(shape=33, uint32), radius=(34, float32), vertex_types=(34, uint8), space='voxel' transform=[[1.0, 0.0, 0.0, 0.0], [0.0, 1.0, 0.0, 0.0], [0.0, 0.0, 1.0, 0.0]]),\n",
       " 232: Skeleton(segid=232, vertices=(shape=92, float32), edges=(shape=91, uint32), radius=(92, float32), vertex_types=(92, uint8), space='voxel' transform=[[1.0, 0.0, 0.0, 0.0], [0.0, 1.0, 0.0, 0.0], [0.0, 0.0, 1.0, 0.0]]),\n",
       " 185: Skeleton(segid=185, vertices=(shape=30, float32), edges=(shape=29, uint32), radius=(30, float32), vertex_types=(30, uint8), space='voxel' transform=[[1.0, 0.0, 0.0, 0.0], [0.0, 1.0, 0.0, 0.0], [0.0, 0.0, 1.0, 0.0]]),\n",
       " 150: Skeleton(segid=150, vertices=(shape=24, float32), edges=(shape=23, uint32), radius=(24, float32), vertex_types=(24, uint8), space='voxel' transform=[[1.0, 0.0, 0.0, 0.0], [0.0, 1.0, 0.0, 0.0], [0.0, 0.0, 1.0, 0.0]]),\n",
       " 79: Skeleton(segid=79, vertices=(shape=52, float32), edges=(shape=51, uint32), radius=(52, float32), vertex_types=(52, uint8), space='voxel' transform=[[1.0, 0.0, 0.0, 0.0], [0.0, 1.0, 0.0, 0.0], [0.0, 0.0, 1.0, 0.0]]),\n",
       " 41: Skeleton(segid=41, vertices=(shape=41, float32), edges=(shape=40, uint32), radius=(41, float32), vertex_types=(41, uint8), space='voxel' transform=[[1.0, 0.0, 0.0, 0.0], [0.0, 1.0, 0.0, 0.0], [0.0, 0.0, 1.0, 0.0]]),\n",
       " 93: Skeleton(segid=93, vertices=(shape=25, float32), edges=(shape=24, uint32), radius=(25, float32), vertex_types=(25, uint8), space='voxel' transform=[[1.0, 0.0, 0.0, 0.0], [0.0, 1.0, 0.0, 0.0], [0.0, 0.0, 1.0, 0.0]]),\n",
       " 217: Skeleton(segid=217, vertices=(shape=70, float32), edges=(shape=69, uint32), radius=(70, float32), vertex_types=(70, uint8), space='voxel' transform=[[1.0, 0.0, 0.0, 0.0], [0.0, 1.0, 0.0, 0.0], [0.0, 0.0, 1.0, 0.0]]),\n",
       " 143: Skeleton(segid=143, vertices=(shape=197, float32), edges=(shape=196, uint32), radius=(197, float32), vertex_types=(197, uint8), space='voxel' transform=[[1.0, 0.0, 0.0, 0.0], [0.0, 1.0, 0.0, 0.0], [0.0, 0.0, 1.0, 0.0]]),\n",
       " 25: Skeleton(segid=25, vertices=(shape=40, float32), edges=(shape=39, uint32), radius=(40, float32), vertex_types=(40, uint8), space='voxel' transform=[[1.0, 0.0, 0.0, 0.0], [0.0, 1.0, 0.0, 0.0], [0.0, 0.0, 1.0, 0.0]]),\n",
       " 115: Skeleton(segid=115, vertices=(shape=41, float32), edges=(shape=40, uint32), radius=(41, float32), vertex_types=(41, uint8), space='voxel' transform=[[1.0, 0.0, 0.0, 0.0], [0.0, 1.0, 0.0, 0.0], [0.0, 0.0, 1.0, 0.0]]),\n",
       " 142: Skeleton(segid=142, vertices=(shape=246, float32), edges=(shape=245, uint32), radius=(246, float32), vertex_types=(246, uint8), space='voxel' transform=[[1.0, 0.0, 0.0, 0.0], [0.0, 1.0, 0.0, 0.0], [0.0, 0.0, 1.0, 0.0]]),\n",
       " 162: Skeleton(segid=162, vertices=(shape=94, float32), edges=(shape=93, uint32), radius=(94, float32), vertex_types=(94, uint8), space='voxel' transform=[[1.0, 0.0, 0.0, 0.0], [0.0, 1.0, 0.0, 0.0], [0.0, 0.0, 1.0, 0.0]]),\n",
       " 92: Skeleton(segid=92, vertices=(shape=44, float32), edges=(shape=43, uint32), radius=(44, float32), vertex_types=(44, uint8), space='voxel' transform=[[1.0, 0.0, 0.0, 0.0], [0.0, 1.0, 0.0, 0.0], [0.0, 0.0, 1.0, 0.0]]),\n",
       " 159: Skeleton(segid=159, vertices=(shape=255, float32), edges=(shape=254, uint32), radius=(255, float32), vertex_types=(255, uint8), space='voxel' transform=[[1.0, 0.0, 0.0, 0.0], [0.0, 1.0, 0.0, 0.0], [0.0, 0.0, 1.0, 0.0]]),\n",
       " 33: Skeleton(segid=33, vertices=(shape=72, float32), edges=(shape=71, uint32), radius=(72, float32), vertex_types=(72, uint8), space='voxel' transform=[[1.0, 0.0, 0.0, 0.0], [0.0, 1.0, 0.0, 0.0], [0.0, 0.0, 1.0, 0.0]]),\n",
       " 239: Skeleton(segid=239, vertices=(shape=57, float32), edges=(shape=56, uint32), radius=(57, float32), vertex_types=(57, uint8), space='voxel' transform=[[1.0, 0.0, 0.0, 0.0], [0.0, 1.0, 0.0, 0.0], [0.0, 0.0, 1.0, 0.0]]),\n",
       " 22: Skeleton(segid=22, vertices=(shape=1126, float32), edges=(shape=1124, uint32), radius=(1126, float32), vertex_types=(1126, uint8), space='voxel' transform=[[1.0, 0.0, 0.0, 0.0], [0.0, 1.0, 0.0, 0.0], [0.0, 0.0, 1.0, 0.0]]),\n",
       " 170: Skeleton(segid=170, vertices=(shape=134, float32), edges=(shape=133, uint32), radius=(134, float32), vertex_types=(134, uint8), space='voxel' transform=[[1.0, 0.0, 0.0, 0.0], [0.0, 1.0, 0.0, 0.0], [0.0, 0.0, 1.0, 0.0]]),\n",
       " 125: Skeleton(segid=125, vertices=(shape=28, float32), edges=(shape=27, uint32), radius=(28, float32), vertex_types=(28, uint8), space='voxel' transform=[[1.0, 0.0, 0.0, 0.0], [0.0, 1.0, 0.0, 0.0], [0.0, 0.0, 1.0, 0.0]]),\n",
       " 157: Skeleton(segid=157, vertices=(shape=32, float32), edges=(shape=31, uint32), radius=(32, float32), vertex_types=(32, uint8), space='voxel' transform=[[1.0, 0.0, 0.0, 0.0], [0.0, 1.0, 0.0, 0.0], [0.0, 0.0, 1.0, 0.0]]),\n",
       " 240: Skeleton(segid=240, vertices=(shape=84, float32), edges=(shape=83, uint32), radius=(84, float32), vertex_types=(84, uint8), space='voxel' transform=[[1.0, 0.0, 0.0, 0.0], [0.0, 1.0, 0.0, 0.0], [0.0, 0.0, 1.0, 0.0]]),\n",
       " 81: Skeleton(segid=81, vertices=(shape=57, float32), edges=(shape=56, uint32), radius=(57, float32), vertex_types=(57, uint8), space='voxel' transform=[[1.0, 0.0, 0.0, 0.0], [0.0, 1.0, 0.0, 0.0], [0.0, 0.0, 1.0, 0.0]]),\n",
       " 46: Skeleton(segid=46, vertices=(shape=25, float32), edges=(shape=24, uint32), radius=(25, float32), vertex_types=(25, uint8), space='voxel' transform=[[1.0, 0.0, 0.0, 0.0], [0.0, 1.0, 0.0, 0.0], [0.0, 0.0, 1.0, 0.0]]),\n",
       " 176: Skeleton(segid=176, vertices=(shape=101, float32), edges=(shape=100, uint32), radius=(101, float32), vertex_types=(101, uint8), space='voxel' transform=[[1.0, 0.0, 0.0, 0.0], [0.0, 1.0, 0.0, 0.0], [0.0, 0.0, 1.0, 0.0]]),\n",
       " 110: Skeleton(segid=110, vertices=(shape=47, float32), edges=(shape=46, uint32), radius=(47, float32), vertex_types=(47, uint8), space='voxel' transform=[[1.0, 0.0, 0.0, 0.0], [0.0, 1.0, 0.0, 0.0], [0.0, 0.0, 1.0, 0.0]]),\n",
       " 31: Skeleton(segid=31, vertices=(shape=101, float32), edges=(shape=100, uint32), radius=(101, float32), vertex_types=(101, uint8), space='voxel' transform=[[1.0, 0.0, 0.0, 0.0], [0.0, 1.0, 0.0, 0.0], [0.0, 0.0, 1.0, 0.0]]),\n",
       " 27: Skeleton(segid=27, vertices=(shape=39, float32), edges=(shape=38, uint32), radius=(39, float32), vertex_types=(39, uint8), space='voxel' transform=[[1.0, 0.0, 0.0, 0.0], [0.0, 1.0, 0.0, 0.0], [0.0, 0.0, 1.0, 0.0]]),\n",
       " 75: Skeleton(segid=75, vertices=(shape=118, float32), edges=(shape=117, uint32), radius=(118, float32), vertex_types=(118, uint8), space='voxel' transform=[[1.0, 0.0, 0.0, 0.0], [0.0, 1.0, 0.0, 0.0], [0.0, 0.0, 1.0, 0.0]]),\n",
       " 121: Skeleton(segid=121, vertices=(shape=47, float32), edges=(shape=46, uint32), radius=(47, float32), vertex_types=(47, uint8), space='voxel' transform=[[1.0, 0.0, 0.0, 0.0], [0.0, 1.0, 0.0, 0.0], [0.0, 0.0, 1.0, 0.0]]),\n",
       " 106: Skeleton(segid=106, vertices=(shape=37, float32), edges=(shape=36, uint32), radius=(37, float32), vertex_types=(37, uint8), space='voxel' transform=[[1.0, 0.0, 0.0, 0.0], [0.0, 1.0, 0.0, 0.0], [0.0, 0.0, 1.0, 0.0]]),\n",
       " 202: Skeleton(segid=202, vertices=(shape=256, float32), edges=(shape=255, uint32), radius=(256, float32), vertex_types=(256, uint8), space='voxel' transform=[[1.0, 0.0, 0.0, 0.0], [0.0, 1.0, 0.0, 0.0], [0.0, 0.0, 1.0, 0.0]]),\n",
       " 76: Skeleton(segid=76, vertices=(shape=235, float32), edges=(shape=234, uint32), radius=(235, float32), vertex_types=(235, uint8), space='voxel' transform=[[1.0, 0.0, 0.0, 0.0], [0.0, 1.0, 0.0, 0.0], [0.0, 0.0, 1.0, 0.0]]),\n",
       " 112: Skeleton(segid=112, vertices=(shape=185, float32), edges=(shape=184, uint32), radius=(185, float32), vertex_types=(185, uint8), space='voxel' transform=[[1.0, 0.0, 0.0, 0.0], [0.0, 1.0, 0.0, 0.0], [0.0, 0.0, 1.0, 0.0]]),\n",
       " 16: Skeleton(segid=16, vertices=(shape=44, float32), edges=(shape=43, uint32), radius=(44, float32), vertex_types=(44, uint8), space='voxel' transform=[[1.0, 0.0, 0.0, 0.0], [0.0, 1.0, 0.0, 0.0], [0.0, 0.0, 1.0, 0.0]]),\n",
       " 19: Skeleton(segid=19, vertices=(shape=39, float32), edges=(shape=38, uint32), radius=(39, float32), vertex_types=(39, uint8), space='voxel' transform=[[1.0, 0.0, 0.0, 0.0], [0.0, 1.0, 0.0, 0.0], [0.0, 0.0, 1.0, 0.0]]),\n",
       " 35: Skeleton(segid=35, vertices=(shape=57, float32), edges=(shape=56, uint32), radius=(57, float32), vertex_types=(57, uint8), space='voxel' transform=[[1.0, 0.0, 0.0, 0.0], [0.0, 1.0, 0.0, 0.0], [0.0, 0.0, 1.0, 0.0]]),\n",
       " 172: Skeleton(segid=172, vertices=(shape=33, float32), edges=(shape=32, uint32), radius=(33, float32), vertex_types=(33, uint8), space='voxel' transform=[[1.0, 0.0, 0.0, 0.0], [0.0, 1.0, 0.0, 0.0], [0.0, 0.0, 1.0, 0.0]]),\n",
       " 235: Skeleton(segid=235, vertices=(shape=68, float32), edges=(shape=67, uint32), radius=(68, float32), vertex_types=(68, uint8), space='voxel' transform=[[1.0, 0.0, 0.0, 0.0], [0.0, 1.0, 0.0, 0.0], [0.0, 0.0, 1.0, 0.0]]),\n",
       " 149: Skeleton(segid=149, vertices=(shape=280, float32), edges=(shape=279, uint32), radius=(280, float32), vertex_types=(280, uint8), space='voxel' transform=[[1.0, 0.0, 0.0, 0.0], [0.0, 1.0, 0.0, 0.0], [0.0, 0.0, 1.0, 0.0]]),\n",
       " 21: Skeleton(segid=21, vertices=(shape=93, float32), edges=(shape=91, uint32), radius=(93, float32), vertex_types=(93, uint8), space='voxel' transform=[[1.0, 0.0, 0.0, 0.0], [0.0, 1.0, 0.0, 0.0], [0.0, 0.0, 1.0, 0.0]]),\n",
       " 71: Skeleton(segid=71, vertices=(shape=30, float32), edges=(shape=29, uint32), radius=(30, float32), vertex_types=(30, uint8), space='voxel' transform=[[1.0, 0.0, 0.0, 0.0], [0.0, 1.0, 0.0, 0.0], [0.0, 0.0, 1.0, 0.0]]),\n",
       " 204: Skeleton(segid=204, vertices=(shape=33, float32), edges=(shape=32, uint32), radius=(33, float32), vertex_types=(33, uint8), space='voxel' transform=[[1.0, 0.0, 0.0, 0.0], [0.0, 1.0, 0.0, 0.0], [0.0, 0.0, 1.0, 0.0]]),\n",
       " 95: Skeleton(segid=95, vertices=(shape=38, float32), edges=(shape=37, uint32), radius=(38, float32), vertex_types=(38, uint8), space='voxel' transform=[[1.0, 0.0, 0.0, 0.0], [0.0, 1.0, 0.0, 0.0], [0.0, 0.0, 1.0, 0.0]]),\n",
       " 122: Skeleton(segid=122, vertices=(shape=25, float32), edges=(shape=24, uint32), radius=(25, float32), vertex_types=(25, uint8), space='voxel' transform=[[1.0, 0.0, 0.0, 0.0], [0.0, 1.0, 0.0, 0.0], [0.0, 0.0, 1.0, 0.0]]),\n",
       " 32: Skeleton(segid=32, vertices=(shape=48, float32), edges=(shape=47, uint32), radius=(48, float32), vertex_types=(48, uint8), space='voxel' transform=[[1.0, 0.0, 0.0, 0.0], [0.0, 1.0, 0.0, 0.0], [0.0, 0.0, 1.0, 0.0]]),\n",
       " 153: Skeleton(segid=153, vertices=(shape=28, float32), edges=(shape=27, uint32), radius=(28, float32), vertex_types=(28, uint8), space='voxel' transform=[[1.0, 0.0, 0.0, 0.0], [0.0, 1.0, 0.0, 0.0], [0.0, 0.0, 1.0, 0.0]]),\n",
       " 54: Skeleton(segid=54, vertices=(shape=29, float32), edges=(shape=28, uint32), radius=(29, float32), vertex_types=(29, uint8), space='voxel' transform=[[1.0, 0.0, 0.0, 0.0], [0.0, 1.0, 0.0, 0.0], [0.0, 0.0, 1.0, 0.0]]),\n",
       " 63: Skeleton(segid=63, vertices=(shape=28, float32), edges=(shape=27, uint32), radius=(28, float32), vertex_types=(28, uint8), space='voxel' transform=[[1.0, 0.0, 0.0, 0.0], [0.0, 1.0, 0.0, 0.0], [0.0, 0.0, 1.0, 0.0]]),\n",
       " 252: Skeleton(segid=252, vertices=(shape=31, float32), edges=(shape=30, uint32), radius=(31, float32), vertex_types=(31, uint8), space='voxel' transform=[[1.0, 0.0, 0.0, 0.0], [0.0, 1.0, 0.0, 0.0], [0.0, 0.0, 1.0, 0.0]]),\n",
       " 111: Skeleton(segid=111, vertices=(shape=20, float32), edges=(shape=19, uint32), radius=(20, float32), vertex_types=(20, uint8), space='voxel' transform=[[1.0, 0.0, 0.0, 0.0], [0.0, 1.0, 0.0, 0.0], [0.0, 0.0, 1.0, 0.0]]),\n",
       " 80: Skeleton(segid=80, vertices=(shape=33, float32), edges=(shape=32, uint32), radius=(33, float32), vertex_types=(33, uint8), space='voxel' transform=[[1.0, 0.0, 0.0, 0.0], [0.0, 1.0, 0.0, 0.0], [0.0, 0.0, 1.0, 0.0]]),\n",
       " 216: Skeleton(segid=216, vertices=(shape=85, float32), edges=(shape=84, uint32), radius=(85, float32), vertex_types=(85, uint8), space='voxel' transform=[[1.0, 0.0, 0.0, 0.0], [0.0, 1.0, 0.0, 0.0], [0.0, 0.0, 1.0, 0.0]]),\n",
       " 50: Skeleton(segid=50, vertices=(shape=70, float32), edges=(shape=69, uint32), radius=(70, float32), vertex_types=(70, uint8), space='voxel' transform=[[1.0, 0.0, 0.0, 0.0], [0.0, 1.0, 0.0, 0.0], [0.0, 0.0, 1.0, 0.0]]),\n",
       " 13: Skeleton(segid=13, vertices=(shape=521, float32), edges=(shape=520, uint32), radius=(521, float32), vertex_types=(521, uint8), space='voxel' transform=[[1.0, 0.0, 0.0, 0.0], [0.0, 1.0, 0.0, 0.0], [0.0, 0.0, 1.0, 0.0]]),\n",
       " 99: Skeleton(segid=99, vertices=(shape=34, float32), edges=(shape=33, uint32), radius=(34, float32), vertex_types=(34, uint8), space='voxel' transform=[[1.0, 0.0, 0.0, 0.0], [0.0, 1.0, 0.0, 0.0], [0.0, 0.0, 1.0, 0.0]]),\n",
       " 60: Skeleton(segid=60, vertices=(shape=19, float32), edges=(shape=18, uint32), radius=(19, float32), vertex_types=(19, uint8), space='voxel' transform=[[1.0, 0.0, 0.0, 0.0], [0.0, 1.0, 0.0, 0.0], [0.0, 0.0, 1.0, 0.0]]),\n",
       " 124: Skeleton(segid=124, vertices=(shape=34, float32), edges=(shape=33, uint32), radius=(34, float32), vertex_types=(34, uint8), space='voxel' transform=[[1.0, 0.0, 0.0, 0.0], [0.0, 1.0, 0.0, 0.0], [0.0, 0.0, 1.0, 0.0]]),\n",
       " 57: Skeleton(segid=57, vertices=(shape=98, float32), edges=(shape=97, uint32), radius=(98, float32), vertex_types=(98, uint8), space='voxel' transform=[[1.0, 0.0, 0.0, 0.0], [0.0, 1.0, 0.0, 0.0], [0.0, 0.0, 1.0, 0.0]]),\n",
       " 223: Skeleton(segid=223, vertices=(shape=54, float32), edges=(shape=53, uint32), radius=(54, float32), vertex_types=(54, uint8), space='voxel' transform=[[1.0, 0.0, 0.0, 0.0], [0.0, 1.0, 0.0, 0.0], [0.0, 0.0, 1.0, 0.0]]),\n",
       " 47: Skeleton(segid=47, vertices=(shape=150, float32), edges=(shape=149, uint32), radius=(150, float32), vertex_types=(150, uint8), space='voxel' transform=[[1.0, 0.0, 0.0, 0.0], [0.0, 1.0, 0.0, 0.0], [0.0, 0.0, 1.0, 0.0]]),\n",
       " 74: Skeleton(segid=74, vertices=(shape=31, float32), edges=(shape=30, uint32), radius=(31, float32), vertex_types=(31, uint8), space='voxel' transform=[[1.0, 0.0, 0.0, 0.0], [0.0, 1.0, 0.0, 0.0], [0.0, 0.0, 1.0, 0.0]]),\n",
       " 219: Skeleton(segid=219, vertices=(shape=46, float32), edges=(shape=45, uint32), radius=(46, float32), vertex_types=(46, uint8), space='voxel' transform=[[1.0, 0.0, 0.0, 0.0], [0.0, 1.0, 0.0, 0.0], [0.0, 0.0, 1.0, 0.0]]),\n",
       " 138: Skeleton(segid=138, vertices=(shape=63, float32), edges=(shape=62, uint32), radius=(63, float32), vertex_types=(63, uint8), space='voxel' transform=[[1.0, 0.0, 0.0, 0.0], [0.0, 1.0, 0.0, 0.0], [0.0, 0.0, 1.0, 0.0]]),\n",
       " 177: Skeleton(segid=177, vertices=(shape=34, float32), edges=(shape=33, uint32), radius=(34, float32), vertex_types=(34, uint8), space='voxel' transform=[[1.0, 0.0, 0.0, 0.0], [0.0, 1.0, 0.0, 0.0], [0.0, 0.0, 1.0, 0.0]]),\n",
       " 42: Skeleton(segid=42, vertices=(shape=42, float32), edges=(shape=41, uint32), radius=(42, float32), vertex_types=(42, uint8), space='voxel' transform=[[1.0, 0.0, 0.0, 0.0], [0.0, 1.0, 0.0, 0.0], [0.0, 0.0, 1.0, 0.0]]),\n",
       " 134: Skeleton(segid=134, vertices=(shape=29, float32), edges=(shape=28, uint32), radius=(29, float32), vertex_types=(29, uint8), space='voxel' transform=[[1.0, 0.0, 0.0, 0.0], [0.0, 1.0, 0.0, 0.0], [0.0, 0.0, 1.0, 0.0]]),\n",
       " 48: Skeleton(segid=48, vertices=(shape=29, float32), edges=(shape=28, uint32), radius=(29, float32), vertex_types=(29, uint8), space='voxel' transform=[[1.0, 0.0, 0.0, 0.0], [0.0, 1.0, 0.0, 0.0], [0.0, 0.0, 1.0, 0.0]]),\n",
       " 147: Skeleton(segid=147, vertices=(shape=22, float32), edges=(shape=21, uint32), radius=(22, float32), vertex_types=(22, uint8), space='voxel' transform=[[1.0, 0.0, 0.0, 0.0], [0.0, 1.0, 0.0, 0.0], [0.0, 0.0, 1.0, 0.0]]),\n",
       " 58: Skeleton(segid=58, vertices=(shape=34, float32), edges=(shape=33, uint32), radius=(34, float32), vertex_types=(34, uint8), space='voxel' transform=[[1.0, 0.0, 0.0, 0.0], [0.0, 1.0, 0.0, 0.0], [0.0, 0.0, 1.0, 0.0]]),\n",
       " 161: Skeleton(segid=161, vertices=(shape=167, float32), edges=(shape=166, uint32), radius=(167, float32), vertex_types=(167, uint8), space='voxel' transform=[[1.0, 0.0, 0.0, 0.0], [0.0, 1.0, 0.0, 0.0], [0.0, 0.0, 1.0, 0.0]]),\n",
       " 118: Skeleton(segid=118, vertices=(shape=41, float32), edges=(shape=40, uint32), radius=(41, float32), vertex_types=(41, uint8), space='voxel' transform=[[1.0, 0.0, 0.0, 0.0], [0.0, 1.0, 0.0, 0.0], [0.0, 0.0, 1.0, 0.0]]),\n",
       " 39: Skeleton(segid=39, vertices=(shape=14, float32), edges=(shape=13, uint32), radius=(14, float32), vertex_types=(14, uint8), space='voxel' transform=[[1.0, 0.0, 0.0, 0.0], [0.0, 1.0, 0.0, 0.0], [0.0, 0.0, 1.0, 0.0]]),\n",
       " 230: Skeleton(segid=230, vertices=(shape=29, float32), edges=(shape=28, uint32), radius=(29, float32), vertex_types=(29, uint8), space='voxel' transform=[[1.0, 0.0, 0.0, 0.0], [0.0, 1.0, 0.0, 0.0], [0.0, 0.0, 1.0, 0.0]]),\n",
       " 83: Skeleton(segid=83, vertices=(shape=45, float32), edges=(shape=44, uint32), radius=(45, float32), vertex_types=(45, uint8), space='voxel' transform=[[1.0, 0.0, 0.0, 0.0], [0.0, 1.0, 0.0, 0.0], [0.0, 0.0, 1.0, 0.0]]),\n",
       " 100: Skeleton(segid=100, vertices=(shape=25, float32), edges=(shape=24, uint32), radius=(25, float32), vertex_types=(25, uint8), space='voxel' transform=[[1.0, 0.0, 0.0, 0.0], [0.0, 1.0, 0.0, 0.0], [0.0, 0.0, 1.0, 0.0]]),\n",
       " 34: Skeleton(segid=34, vertices=(shape=87, float32), edges=(shape=86, uint32), radius=(87, float32), vertex_types=(87, uint8), space='voxel' transform=[[1.0, 0.0, 0.0, 0.0], [0.0, 1.0, 0.0, 0.0], [0.0, 0.0, 1.0, 0.0]]),\n",
       " 43: Skeleton(segid=43, vertices=(shape=60, float32), edges=(shape=59, uint32), radius=(60, float32), vertex_types=(60, uint8), space='voxel' transform=[[1.0, 0.0, 0.0, 0.0], [0.0, 1.0, 0.0, 0.0], [0.0, 0.0, 1.0, 0.0]]),\n",
       " 56: Skeleton(segid=56, vertices=(shape=33, float32), edges=(shape=32, uint32), radius=(33, float32), vertex_types=(33, uint8), space='voxel' transform=[[1.0, 0.0, 0.0, 0.0], [0.0, 1.0, 0.0, 0.0], [0.0, 0.0, 1.0, 0.0]]),\n",
       " 87: Skeleton(segid=87, vertices=(shape=32, float32), edges=(shape=31, uint32), radius=(32, float32), vertex_types=(32, uint8), space='voxel' transform=[[1.0, 0.0, 0.0, 0.0], [0.0, 1.0, 0.0, 0.0], [0.0, 0.0, 1.0, 0.0]]),\n",
       " 23: Skeleton(segid=23, vertices=(shape=41, float32), edges=(shape=40, uint32), radius=(41, float32), vertex_types=(41, uint8), space='voxel' transform=[[1.0, 0.0, 0.0, 0.0], [0.0, 1.0, 0.0, 0.0], [0.0, 0.0, 1.0, 0.0]]),\n",
       " 238: Skeleton(segid=238, vertices=(shape=59, float32), edges=(shape=58, uint32), radius=(59, float32), vertex_types=(59, uint8), space='voxel' transform=[[1.0, 0.0, 0.0, 0.0], [0.0, 1.0, 0.0, 0.0], [0.0, 0.0, 1.0, 0.0]]),\n",
       " 211: Skeleton(segid=211, vertices=(shape=46, float32), edges=(shape=45, uint32), radius=(46, float32), vertex_types=(46, uint8), space='voxel' transform=[[1.0, 0.0, 0.0, 0.0], [0.0, 1.0, 0.0, 0.0], [0.0, 0.0, 1.0, 0.0]]),\n",
       " 131: Skeleton(segid=131, vertices=(shape=96, float32), edges=(shape=95, uint32), radius=(96, float32), vertex_types=(96, uint8), space='voxel' transform=[[1.0, 0.0, 0.0, 0.0], [0.0, 1.0, 0.0, 0.0], [0.0, 0.0, 1.0, 0.0]]),\n",
       " 228: Skeleton(segid=228, vertices=(shape=61, float32), edges=(shape=60, uint32), radius=(61, float32), vertex_types=(61, uint8), space='voxel' transform=[[1.0, 0.0, 0.0, 0.0], [0.0, 1.0, 0.0, 0.0], [0.0, 0.0, 1.0, 0.0]]),\n",
       " 154: Skeleton(segid=154, vertices=(shape=29, float32), edges=(shape=28, uint32), radius=(29, float32), vertex_types=(29, uint8), space='voxel' transform=[[1.0, 0.0, 0.0, 0.0], [0.0, 1.0, 0.0, 0.0], [0.0, 0.0, 1.0, 0.0]]),\n",
       " 198: Skeleton(segid=198, vertices=(shape=96, float32), edges=(shape=95, uint32), radius=(96, float32), vertex_types=(96, uint8), space='voxel' transform=[[1.0, 0.0, 0.0, 0.0], [0.0, 1.0, 0.0, 0.0], [0.0, 0.0, 1.0, 0.0]]),\n",
       " 163: Skeleton(segid=163, vertices=(shape=37, float32), edges=(shape=36, uint32), radius=(37, float32), vertex_types=(37, uint8), space='voxel' transform=[[1.0, 0.0, 0.0, 0.0], [0.0, 1.0, 0.0, 0.0], [0.0, 0.0, 1.0, 0.0]]),\n",
       " 140: Skeleton(segid=140, vertices=(shape=47, float32), edges=(shape=46, uint32), radius=(47, float32), vertex_types=(47, uint8), space='voxel' transform=[[1.0, 0.0, 0.0, 0.0], [0.0, 1.0, 0.0, 0.0], [0.0, 0.0, 1.0, 0.0]]),\n",
       " 171: Skeleton(segid=171, vertices=(shape=113, float32), edges=(shape=112, uint32), radius=(113, float32), vertex_types=(113, uint8), space='voxel' transform=[[1.0, 0.0, 0.0, 0.0], [0.0, 1.0, 0.0, 0.0], [0.0, 0.0, 1.0, 0.0]]),\n",
       " 59: Skeleton(segid=59, vertices=(shape=35, float32), edges=(shape=34, uint32), radius=(35, float32), vertex_types=(35, uint8), space='voxel' transform=[[1.0, 0.0, 0.0, 0.0], [0.0, 1.0, 0.0, 0.0], [0.0, 0.0, 1.0, 0.0]]),\n",
       " 237: Skeleton(segid=237, vertices=(shape=73, float32), edges=(shape=72, uint32), radius=(73, float32), vertex_types=(73, uint8), space='voxel' transform=[[1.0, 0.0, 0.0, 0.0], [0.0, 1.0, 0.0, 0.0], [0.0, 0.0, 1.0, 0.0]]),\n",
       " 109: Skeleton(segid=109, vertices=(shape=21, float32), edges=(shape=20, uint32), radius=(21, float32), vertex_types=(21, uint8), space='voxel' transform=[[1.0, 0.0, 0.0, 0.0], [0.0, 1.0, 0.0, 0.0], [0.0, 0.0, 1.0, 0.0]]),\n",
       " 89: Skeleton(segid=89, vertices=(shape=62, float32), edges=(shape=61, uint32), radius=(62, float32), vertex_types=(62, uint8), space='voxel' transform=[[1.0, 0.0, 0.0, 0.0], [0.0, 1.0, 0.0, 0.0], [0.0, 0.0, 1.0, 0.0]]),\n",
       " 10: Skeleton(segid=10, vertices=(shape=20, float32), edges=(shape=19, uint32), radius=(20, float32), vertex_types=(20, uint8), space='voxel' transform=[[1.0, 0.0, 0.0, 0.0], [0.0, 1.0, 0.0, 0.0], [0.0, 0.0, 1.0, 0.0]]),\n",
       " 38: Skeleton(segid=38, vertices=(shape=72, float32), edges=(shape=71, uint32), radius=(72, float32), vertex_types=(72, uint8), space='voxel' transform=[[1.0, 0.0, 0.0, 0.0], [0.0, 1.0, 0.0, 0.0], [0.0, 0.0, 1.0, 0.0]]),\n",
       " 221: Skeleton(segid=221, vertices=(shape=90, float32), edges=(shape=89, uint32), radius=(90, float32), vertex_types=(90, uint8), space='voxel' transform=[[1.0, 0.0, 0.0, 0.0], [0.0, 1.0, 0.0, 0.0], [0.0, 0.0, 1.0, 0.0]]),\n",
       " 66: Skeleton(segid=66, vertices=(shape=43, float32), edges=(shape=42, uint32), radius=(43, float32), vertex_types=(43, uint8), space='voxel' transform=[[1.0, 0.0, 0.0, 0.0], [0.0, 1.0, 0.0, 0.0], [0.0, 0.0, 1.0, 0.0]]),\n",
       " 65: Skeleton(segid=65, vertices=(shape=36, float32), edges=(shape=35, uint32), radius=(36, float32), vertex_types=(36, uint8), space='voxel' transform=[[1.0, 0.0, 0.0, 0.0], [0.0, 1.0, 0.0, 0.0], [0.0, 0.0, 1.0, 0.0]]),\n",
       " 113: Skeleton(segid=113, vertices=(shape=34, float32), edges=(shape=33, uint32), radius=(34, float32), vertex_types=(34, uint8), space='voxel' transform=[[1.0, 0.0, 0.0, 0.0], [0.0, 1.0, 0.0, 0.0], [0.0, 0.0, 1.0, 0.0]]),\n",
       " 218: Skeleton(segid=218, vertices=(shape=43, float32), edges=(shape=42, uint32), radius=(43, float32), vertex_types=(43, uint8), space='voxel' transform=[[1.0, 0.0, 0.0, 0.0], [0.0, 1.0, 0.0, 0.0], [0.0, 0.0, 1.0, 0.0]]),\n",
       " 233: Skeleton(segid=233, vertices=(shape=22, float32), edges=(shape=21, uint32), radius=(22, float32), vertex_types=(22, uint8), space='voxel' transform=[[1.0, 0.0, 0.0, 0.0], [0.0, 1.0, 0.0, 0.0], [0.0, 0.0, 1.0, 0.0]]),\n",
       " 77: Skeleton(segid=77, vertices=(shape=40, float32), edges=(shape=39, uint32), radius=(40, float32), vertex_types=(40, uint8), space='voxel' transform=[[1.0, 0.0, 0.0, 0.0], [0.0, 1.0, 0.0, 0.0], [0.0, 0.0, 1.0, 0.0]]),\n",
       " 26: Skeleton(segid=26, vertices=(shape=21, float32), edges=(shape=20, uint32), radius=(21, float32), vertex_types=(21, uint8), space='voxel' transform=[[1.0, 0.0, 0.0, 0.0], [0.0, 1.0, 0.0, 0.0], [0.0, 0.0, 1.0, 0.0]]),\n",
       " 146: Skeleton(segid=146, vertices=(shape=22, float32), edges=(shape=21, uint32), radius=(22, float32), vertex_types=(22, uint8), space='voxel' transform=[[1.0, 0.0, 0.0, 0.0], [0.0, 1.0, 0.0, 0.0], [0.0, 0.0, 1.0, 0.0]]),\n",
       " 127: Skeleton(segid=127, vertices=(shape=35, float32), edges=(shape=34, uint32), radius=(35, float32), vertex_types=(35, uint8), space='voxel' transform=[[1.0, 0.0, 0.0, 0.0], [0.0, 1.0, 0.0, 0.0], [0.0, 0.0, 1.0, 0.0]]),\n",
       " 241: Skeleton(segid=241, vertices=(shape=71, float32), edges=(shape=70, uint32), radius=(71, float32), vertex_types=(71, uint8), space='voxel' transform=[[1.0, 0.0, 0.0, 0.0], [0.0, 1.0, 0.0, 0.0], [0.0, 0.0, 1.0, 0.0]]),\n",
       " 231: Skeleton(segid=231, vertices=(shape=28, float32), edges=(shape=27, uint32), radius=(28, float32), vertex_types=(28, uint8), space='voxel' transform=[[1.0, 0.0, 0.0, 0.0], [0.0, 1.0, 0.0, 0.0], [0.0, 0.0, 1.0, 0.0]]),\n",
       " 132: Skeleton(segid=132, vertices=(shape=27, float32), edges=(shape=26, uint32), radius=(27, float32), vertex_types=(27, uint8), space='voxel' transform=[[1.0, 0.0, 0.0, 0.0], [0.0, 1.0, 0.0, 0.0], [0.0, 0.0, 1.0, 0.0]]),\n",
       " 180: Skeleton(segid=180, vertices=(shape=83, float32), edges=(shape=82, uint32), radius=(83, float32), vertex_types=(83, uint8), space='voxel' transform=[[1.0, 0.0, 0.0, 0.0], [0.0, 1.0, 0.0, 0.0], [0.0, 0.0, 1.0, 0.0]]),\n",
       " 12: Skeleton(segid=12, vertices=(shape=51, float32), edges=(shape=50, uint32), radius=(51, float32), vertex_types=(51, uint8), space='voxel' transform=[[1.0, 0.0, 0.0, 0.0], [0.0, 1.0, 0.0, 0.0], [0.0, 0.0, 1.0, 0.0]]),\n",
       " 160: Skeleton(segid=160, vertices=(shape=69, float32), edges=(shape=68, uint32), radius=(69, float32), vertex_types=(69, uint8), space='voxel' transform=[[1.0, 0.0, 0.0, 0.0], [0.0, 1.0, 0.0, 0.0], [0.0, 0.0, 1.0, 0.0]]),\n",
       " 6: Skeleton(segid=6, vertices=(shape=23, float32), edges=(shape=22, uint32), radius=(23, float32), vertex_types=(23, uint8), space='voxel' transform=[[1.0, 0.0, 0.0, 0.0], [0.0, 1.0, 0.0, 0.0], [0.0, 0.0, 1.0, 0.0]]),\n",
       " 44: Skeleton(segid=44, vertices=(shape=38, float32), edges=(shape=37, uint32), radius=(38, float32), vertex_types=(38, uint8), space='voxel' transform=[[1.0, 0.0, 0.0, 0.0], [0.0, 1.0, 0.0, 0.0], [0.0, 0.0, 1.0, 0.0]]),\n",
       " 90: Skeleton(segid=90, vertices=(shape=31, float32), edges=(shape=30, uint32), radius=(31, float32), vertex_types=(31, uint8), space='voxel' transform=[[1.0, 0.0, 0.0, 0.0], [0.0, 1.0, 0.0, 0.0], [0.0, 0.0, 1.0, 0.0]]),\n",
       " 247: Skeleton(segid=247, vertices=(shape=37, float32), edges=(shape=36, uint32), radius=(37, float32), vertex_types=(37, uint8), space='voxel' transform=[[1.0, 0.0, 0.0, 0.0], [0.0, 1.0, 0.0, 0.0], [0.0, 0.0, 1.0, 0.0]]),\n",
       " 45: Skeleton(segid=45, vertices=(shape=46, float32), edges=(shape=45, uint32), radius=(46, float32), vertex_types=(46, uint8), space='voxel' transform=[[1.0, 0.0, 0.0, 0.0], [0.0, 1.0, 0.0, 0.0], [0.0, 0.0, 1.0, 0.0]]),\n",
       " 256: Skeleton(segid=256, vertices=(shape=47, float32), edges=(shape=46, uint32), radius=(47, float32), vertex_types=(47, uint8), space='voxel' transform=[[1.0, 0.0, 0.0, 0.0], [0.0, 1.0, 0.0, 0.0], [0.0, 0.0, 1.0, 0.0]]),\n",
       " 209: Skeleton(segid=209, vertices=(shape=129, float32), edges=(shape=128, uint32), radius=(129, float32), vertex_types=(129, uint8), space='voxel' transform=[[1.0, 0.0, 0.0, 0.0], [0.0, 1.0, 0.0, 0.0], [0.0, 0.0, 1.0, 0.0]]),\n",
       " 20: Skeleton(segid=20, vertices=(shape=50, float32), edges=(shape=49, uint32), radius=(50, float32), vertex_types=(50, uint8), space='voxel' transform=[[1.0, 0.0, 0.0, 0.0], [0.0, 1.0, 0.0, 0.0], [0.0, 0.0, 1.0, 0.0]]),\n",
       " 108: Skeleton(segid=108, vertices=(shape=40, float32), edges=(shape=39, uint32), radius=(40, float32), vertex_types=(40, uint8), space='voxel' transform=[[1.0, 0.0, 0.0, 0.0], [0.0, 1.0, 0.0, 0.0], [0.0, 0.0, 1.0, 0.0]]),\n",
       " 52: Skeleton(segid=52, vertices=(shape=30, float32), edges=(shape=29, uint32), radius=(30, float32), vertex_types=(30, uint8), space='voxel' transform=[[1.0, 0.0, 0.0, 0.0], [0.0, 1.0, 0.0, 0.0], [0.0, 0.0, 1.0, 0.0]]),\n",
       " 101: Skeleton(segid=101, vertices=(shape=41, float32), edges=(shape=40, uint32), radius=(41, float32), vertex_types=(41, uint8), space='voxel' transform=[[1.0, 0.0, 0.0, 0.0], [0.0, 1.0, 0.0, 0.0], [0.0, 0.0, 1.0, 0.0]]),\n",
       " 40: Skeleton(segid=40, vertices=(shape=151, float32), edges=(shape=150, uint32), radius=(151, float32), vertex_types=(151, uint8), space='voxel' transform=[[1.0, 0.0, 0.0, 0.0], [0.0, 1.0, 0.0, 0.0], [0.0, 0.0, 1.0, 0.0]]),\n",
       " 86: Skeleton(segid=86, vertices=(shape=44, float32), edges=(shape=43, uint32), radius=(44, float32), vertex_types=(44, uint8), space='voxel' transform=[[1.0, 0.0, 0.0, 0.0], [0.0, 1.0, 0.0, 0.0], [0.0, 0.0, 1.0, 0.0]]),\n",
       " 201: Skeleton(segid=201, vertices=(shape=163, float32), edges=(shape=162, uint32), radius=(163, float32), vertex_types=(163, uint8), space='voxel' transform=[[1.0, 0.0, 0.0, 0.0], [0.0, 1.0, 0.0, 0.0], [0.0, 0.0, 1.0, 0.0]]),\n",
       " 36: Skeleton(segid=36, vertices=(shape=139, float32), edges=(shape=138, uint32), radius=(139, float32), vertex_types=(139, uint8), space='voxel' transform=[[1.0, 0.0, 0.0, 0.0], [0.0, 1.0, 0.0, 0.0], [0.0, 0.0, 1.0, 0.0]]),\n",
       " 155: Skeleton(segid=155, vertices=(shape=25, float32), edges=(shape=24, uint32), radius=(25, float32), vertex_types=(25, uint8), space='voxel' transform=[[1.0, 0.0, 0.0, 0.0], [0.0, 1.0, 0.0, 0.0], [0.0, 0.0, 1.0, 0.0]]),\n",
       " 193: Skeleton(segid=193, vertices=(shape=34, float32), edges=(shape=33, uint32), radius=(34, float32), vertex_types=(34, uint8), space='voxel' transform=[[1.0, 0.0, 0.0, 0.0], [0.0, 1.0, 0.0, 0.0], [0.0, 0.0, 1.0, 0.0]]),\n",
       " 248: Skeleton(segid=248, vertices=(shape=40, float32), edges=(shape=39, uint32), radius=(40, float32), vertex_types=(40, uint8), space='voxel' transform=[[1.0, 0.0, 0.0, 0.0], [0.0, 1.0, 0.0, 0.0], [0.0, 0.0, 1.0, 0.0]]),\n",
       " 105: Skeleton(segid=105, vertices=(shape=91, float32), edges=(shape=90, uint32), radius=(91, float32), vertex_types=(91, uint8), space='voxel' transform=[[1.0, 0.0, 0.0, 0.0], [0.0, 1.0, 0.0, 0.0], [0.0, 0.0, 1.0, 0.0]]),\n",
       " 203: Skeleton(segid=203, vertices=(shape=37, float32), edges=(shape=36, uint32), radius=(37, float32), vertex_types=(37, uint8), space='voxel' transform=[[1.0, 0.0, 0.0, 0.0], [0.0, 1.0, 0.0, 0.0], [0.0, 0.0, 1.0, 0.0]]),\n",
       " 244: Skeleton(segid=244, vertices=(shape=22, float32), edges=(shape=21, uint32), radius=(22, float32), vertex_types=(22, uint8), space='voxel' transform=[[1.0, 0.0, 0.0, 0.0], [0.0, 1.0, 0.0, 0.0], [0.0, 0.0, 1.0, 0.0]]),\n",
       " 212: Skeleton(segid=212, vertices=(shape=38, float32), edges=(shape=37, uint32), radius=(38, float32), vertex_types=(38, uint8), space='voxel' transform=[[1.0, 0.0, 0.0, 0.0], [0.0, 1.0, 0.0, 0.0], [0.0, 0.0, 1.0, 0.0]]),\n",
       " 168: Skeleton(segid=168, vertices=(shape=37, float32), edges=(shape=36, uint32), radius=(37, float32), vertex_types=(37, uint8), space='voxel' transform=[[1.0, 0.0, 0.0, 0.0], [0.0, 1.0, 0.0, 0.0], [0.0, 0.0, 1.0, 0.0]]),\n",
       " 174: Skeleton(segid=174, vertices=(shape=33, float32), edges=(shape=32, uint32), radius=(33, float32), vertex_types=(33, uint8), space='voxel' transform=[[1.0, 0.0, 0.0, 0.0], [0.0, 1.0, 0.0, 0.0], [0.0, 0.0, 1.0, 0.0]]),\n",
       " 158: Skeleton(segid=158, vertices=(shape=23, float32), edges=(shape=22, uint32), radius=(23, float32), vertex_types=(23, uint8), space='voxel' transform=[[1.0, 0.0, 0.0, 0.0], [0.0, 1.0, 0.0, 0.0], [0.0, 0.0, 1.0, 0.0]]),\n",
       " 29: Skeleton(segid=29, vertices=(shape=129, float32), edges=(shape=128, uint32), radius=(129, float32), vertex_types=(129, uint8), space='voxel' transform=[[1.0, 0.0, 0.0, 0.0], [0.0, 1.0, 0.0, 0.0], [0.0, 0.0, 1.0, 0.0]]),\n",
       " 70: Skeleton(segid=70, vertices=(shape=120, float32), edges=(shape=119, uint32), radius=(120, float32), vertex_types=(120, uint8), space='voxel' transform=[[1.0, 0.0, 0.0, 0.0], [0.0, 1.0, 0.0, 0.0], [0.0, 0.0, 1.0, 0.0]]),\n",
       " 245: Skeleton(segid=245, vertices=(shape=54, float32), edges=(shape=53, uint32), radius=(54, float32), vertex_types=(54, uint8), space='voxel' transform=[[1.0, 0.0, 0.0, 0.0], [0.0, 1.0, 0.0, 0.0], [0.0, 0.0, 1.0, 0.0]]),\n",
       " 107: Skeleton(segid=107, vertices=(shape=270, float32), edges=(shape=269, uint32), radius=(270, float32), vertex_types=(270, uint8), space='voxel' transform=[[1.0, 0.0, 0.0, 0.0], [0.0, 1.0, 0.0, 0.0], [0.0, 0.0, 1.0, 0.0]]),\n",
       " 49: Skeleton(segid=49, vertices=(shape=43, float32), edges=(shape=42, uint32), radius=(43, float32), vertex_types=(43, uint8), space='voxel' transform=[[1.0, 0.0, 0.0, 0.0], [0.0, 1.0, 0.0, 0.0], [0.0, 0.0, 1.0, 0.0]]),\n",
       " 82: Skeleton(segid=82, vertices=(shape=49, float32), edges=(shape=48, uint32), radius=(49, float32), vertex_types=(49, uint8), space='voxel' transform=[[1.0, 0.0, 0.0, 0.0], [0.0, 1.0, 0.0, 0.0], [0.0, 0.0, 1.0, 0.0]]),\n",
       " 192: Skeleton(segid=192, vertices=(shape=64, float32), edges=(shape=63, uint32), radius=(64, float32), vertex_types=(64, uint8), space='voxel' transform=[[1.0, 0.0, 0.0, 0.0], [0.0, 1.0, 0.0, 0.0], [0.0, 0.0, 1.0, 0.0]]),\n",
       " 78: Skeleton(segid=78, vertices=(shape=37, float32), edges=(shape=36, uint32), radius=(37, float32), vertex_types=(37, uint8), space='voxel' transform=[[1.0, 0.0, 0.0, 0.0], [0.0, 1.0, 0.0, 0.0], [0.0, 0.0, 1.0, 0.0]]),\n",
       " 189: Skeleton(segid=189, vertices=(shape=150, float32), edges=(shape=149, uint32), radius=(150, float32), vertex_types=(150, uint8), space='voxel' transform=[[1.0, 0.0, 0.0, 0.0], [0.0, 1.0, 0.0, 0.0], [0.0, 0.0, 1.0, 0.0]]),\n",
       " 226: Skeleton(segid=226, vertices=(shape=101, float32), edges=(shape=100, uint32), radius=(101, float32), vertex_types=(101, uint8), space='voxel' transform=[[1.0, 0.0, 0.0, 0.0], [0.0, 1.0, 0.0, 0.0], [0.0, 0.0, 1.0, 0.0]]),\n",
       " 72: Skeleton(segid=72, vertices=(shape=22, float32), edges=(shape=21, uint32), radius=(22, float32), vertex_types=(22, uint8), space='voxel' transform=[[1.0, 0.0, 0.0, 0.0], [0.0, 1.0, 0.0, 0.0], [0.0, 0.0, 1.0, 0.0]]),\n",
       " 254: Skeleton(segid=254, vertices=(shape=49, float32), edges=(shape=48, uint32), radius=(49, float32), vertex_types=(49, uint8), space='voxel' transform=[[1.0, 0.0, 0.0, 0.0], [0.0, 1.0, 0.0, 0.0], [0.0, 0.0, 1.0, 0.0]]),\n",
       " 30: Skeleton(segid=30, vertices=(shape=19, float32), edges=(shape=18, uint32), radius=(19, float32), vertex_types=(19, uint8), space='voxel' transform=[[1.0, 0.0, 0.0, 0.0], [0.0, 1.0, 0.0, 0.0], [0.0, 0.0, 1.0, 0.0]]),\n",
       " 51: Skeleton(segid=51, vertices=(shape=54, float32), edges=(shape=53, uint32), radius=(54, float32), vertex_types=(54, uint8), space='voxel' transform=[[1.0, 0.0, 0.0, 0.0], [0.0, 1.0, 0.0, 0.0], [0.0, 0.0, 1.0, 0.0]]),\n",
       " 98: Skeleton(segid=98, vertices=(shape=39, float32), edges=(shape=38, uint32), radius=(39, float32), vertex_types=(39, uint8), space='voxel' transform=[[1.0, 0.0, 0.0, 0.0], [0.0, 1.0, 0.0, 0.0], [0.0, 0.0, 1.0, 0.0]]),\n",
       " 64: Skeleton(segid=64, vertices=(shape=33, float32), edges=(shape=32, uint32), radius=(33, float32), vertex_types=(33, uint8), space='voxel' transform=[[1.0, 0.0, 0.0, 0.0], [0.0, 1.0, 0.0, 0.0], [0.0, 0.0, 1.0, 0.0]]),\n",
       " 208: Skeleton(segid=208, vertices=(shape=38, float32), edges=(shape=37, uint32), radius=(38, float32), vertex_types=(38, uint8), space='voxel' transform=[[1.0, 0.0, 0.0, 0.0], [0.0, 1.0, 0.0, 0.0], [0.0, 0.0, 1.0, 0.0]]),\n",
       " 214: Skeleton(segid=214, vertices=(shape=48, float32), edges=(shape=47, uint32), radius=(48, float32), vertex_types=(48, uint8), space='voxel' transform=[[1.0, 0.0, 0.0, 0.0], [0.0, 1.0, 0.0, 0.0], [0.0, 0.0, 1.0, 0.0]]),\n",
       " 61: Skeleton(segid=61, vertices=(shape=94, float32), edges=(shape=93, uint32), radius=(94, float32), vertex_types=(94, uint8), space='voxel' transform=[[1.0, 0.0, 0.0, 0.0], [0.0, 1.0, 0.0, 0.0], [0.0, 0.0, 1.0, 0.0]]),\n",
       " 199: Skeleton(segid=199, vertices=(shape=211, float32), edges=(shape=210, uint32), radius=(211, float32), vertex_types=(211, uint8), space='voxel' transform=[[1.0, 0.0, 0.0, 0.0], [0.0, 1.0, 0.0, 0.0], [0.0, 0.0, 1.0, 0.0]]),\n",
       " 15: Skeleton(segid=15, vertices=(shape=30, float32), edges=(shape=29, uint32), radius=(30, float32), vertex_types=(30, uint8), space='voxel' transform=[[1.0, 0.0, 0.0, 0.0], [0.0, 1.0, 0.0, 0.0], [0.0, 0.0, 1.0, 0.0]]),\n",
       " 55: Skeleton(segid=55, vertices=(shape=30, float32), edges=(shape=29, uint32), radius=(30, float32), vertex_types=(30, uint8), space='voxel' transform=[[1.0, 0.0, 0.0, 0.0], [0.0, 1.0, 0.0, 0.0], [0.0, 0.0, 1.0, 0.0]]),\n",
       " 234: Skeleton(segid=234, vertices=(shape=41, float32), edges=(shape=40, uint32), radius=(41, float32), vertex_types=(41, uint8), space='voxel' transform=[[1.0, 0.0, 0.0, 0.0], [0.0, 1.0, 0.0, 0.0], [0.0, 0.0, 1.0, 0.0]]),\n",
       " 165: Skeleton(segid=165, vertices=(shape=54, float32), edges=(shape=53, uint32), radius=(54, float32), vertex_types=(54, uint8), space='voxel' transform=[[1.0, 0.0, 0.0, 0.0], [0.0, 1.0, 0.0, 0.0], [0.0, 0.0, 1.0, 0.0]]),\n",
       " 190: Skeleton(segid=190, vertices=(shape=57, float32), edges=(shape=56, uint32), radius=(57, float32), vertex_types=(57, uint8), space='voxel' transform=[[1.0, 0.0, 0.0, 0.0], [0.0, 1.0, 0.0, 0.0], [0.0, 0.0, 1.0, 0.0]]),\n",
       " 236: Skeleton(segid=236, vertices=(shape=63, float32), edges=(shape=62, uint32), radius=(63, float32), vertex_types=(63, uint8), space='voxel' transform=[[1.0, 0.0, 0.0, 0.0], [0.0, 1.0, 0.0, 0.0], [0.0, 0.0, 1.0, 0.0]]),\n",
       " 195: Skeleton(segid=195, vertices=(shape=45, float32), edges=(shape=44, uint32), radius=(45, float32), vertex_types=(45, uint8), space='voxel' transform=[[1.0, 0.0, 0.0, 0.0], [0.0, 1.0, 0.0, 0.0], [0.0, 0.0, 1.0, 0.0]]),\n",
       " 179: Skeleton(segid=179, vertices=(shape=18, float32), edges=(shape=17, uint32), radius=(18, float32), vertex_types=(18, uint8), space='voxel' transform=[[1.0, 0.0, 0.0, 0.0], [0.0, 1.0, 0.0, 0.0], [0.0, 0.0, 1.0, 0.0]]),\n",
       " 68: Skeleton(segid=68, vertices=(shape=60, float32), edges=(shape=59, uint32), radius=(60, float32), vertex_types=(60, uint8), space='voxel' transform=[[1.0, 0.0, 0.0, 0.0], [0.0, 1.0, 0.0, 0.0], [0.0, 0.0, 1.0, 0.0]]),\n",
       " 5: Skeleton(segid=5, vertices=(shape=96, float32), edges=(shape=95, uint32), radius=(96, float32), vertex_types=(96, uint8), space='voxel' transform=[[1.0, 0.0, 0.0, 0.0], [0.0, 1.0, 0.0, 0.0], [0.0, 0.0, 1.0, 0.0]]),\n",
       " 215: Skeleton(segid=215, vertices=(shape=260, float32), edges=(shape=259, uint32), radius=(260, float32), vertex_types=(260, uint8), space='voxel' transform=[[1.0, 0.0, 0.0, 0.0], [0.0, 1.0, 0.0, 0.0], [0.0, 0.0, 1.0, 0.0]]),\n",
       " 144: Skeleton(segid=144, vertices=(shape=78, float32), edges=(shape=77, uint32), radius=(78, float32), vertex_types=(78, uint8), space='voxel' transform=[[1.0, 0.0, 0.0, 0.0], [0.0, 1.0, 0.0, 0.0], [0.0, 0.0, 1.0, 0.0]]),\n",
       " 255: Skeleton(segid=255, vertices=(shape=51, float32), edges=(shape=50, uint32), radius=(51, float32), vertex_types=(51, uint8), space='voxel' transform=[[1.0, 0.0, 0.0, 0.0], [0.0, 1.0, 0.0, 0.0], [0.0, 0.0, 1.0, 0.0]]),\n",
       " 251: Skeleton(segid=251, vertices=(shape=61, float32), edges=(shape=60, uint32), radius=(61, float32), vertex_types=(61, uint8), space='voxel' transform=[[1.0, 0.0, 0.0, 0.0], [0.0, 1.0, 0.0, 0.0], [0.0, 0.0, 1.0, 0.0]]),\n",
       " 17: Skeleton(segid=17, vertices=(shape=42, float32), edges=(shape=41, uint32), radius=(42, float32), vertex_types=(42, uint8), space='voxel' transform=[[1.0, 0.0, 0.0, 0.0], [0.0, 1.0, 0.0, 0.0], [0.0, 0.0, 1.0, 0.0]]),\n",
       " 3: Skeleton(segid=3, vertices=(shape=62, float32), edges=(shape=61, uint32), radius=(62, float32), vertex_types=(62, uint8), space='voxel' transform=[[1.0, 0.0, 0.0, 0.0], [0.0, 1.0, 0.0, 0.0], [0.0, 0.0, 1.0, 0.0]]),\n",
       " 210: Skeleton(segid=210, vertices=(shape=25, float32), edges=(shape=24, uint32), radius=(25, float32), vertex_types=(25, uint8), space='voxel' transform=[[1.0, 0.0, 0.0, 0.0], [0.0, 1.0, 0.0, 0.0], [0.0, 0.0, 1.0, 0.0]]),\n",
       " 250: Skeleton(segid=250, vertices=(shape=26, float32), edges=(shape=25, uint32), radius=(26, float32), vertex_types=(26, uint8), space='voxel' transform=[[1.0, 0.0, 0.0, 0.0], [0.0, 1.0, 0.0, 0.0], [0.0, 0.0, 1.0, 0.0]]),\n",
       " 225: Skeleton(segid=225, vertices=(shape=118, float32), edges=(shape=117, uint32), radius=(118, float32), vertex_types=(118, uint8), space='voxel' transform=[[1.0, 0.0, 0.0, 0.0], [0.0, 1.0, 0.0, 0.0], [0.0, 0.0, 1.0, 0.0]]),\n",
       " 2: Skeleton(segid=2, vertices=(shape=35, float32), edges=(shape=34, uint32), radius=(35, float32), vertex_types=(35, uint8), space='voxel' transform=[[1.0, 0.0, 0.0, 0.0], [0.0, 1.0, 0.0, 0.0], [0.0, 0.0, 1.0, 0.0]]),\n",
       " 222: Skeleton(segid=222, vertices=(shape=65, float32), edges=(shape=64, uint32), radius=(65, float32), vertex_types=(65, uint8), space='voxel' transform=[[1.0, 0.0, 0.0, 0.0], [0.0, 1.0, 0.0, 0.0], [0.0, 0.0, 1.0, 0.0]]),\n",
       " 141: Skeleton(segid=141, vertices=(shape=31, float32), edges=(shape=30, uint32), radius=(31, float32), vertex_types=(31, uint8), space='voxel' transform=[[1.0, 0.0, 0.0, 0.0], [0.0, 1.0, 0.0, 0.0], [0.0, 0.0, 1.0, 0.0]]),\n",
       " 200: Skeleton(segid=200, vertices=(shape=41, float32), edges=(shape=40, uint32), radius=(41, float32), vertex_types=(41, uint8), space='voxel' transform=[[1.0, 0.0, 0.0, 0.0], [0.0, 1.0, 0.0, 0.0], [0.0, 0.0, 1.0, 0.0]]),\n",
       " 191: Skeleton(segid=191, vertices=(shape=91, float32), edges=(shape=90, uint32), radius=(91, float32), vertex_types=(91, uint8), space='voxel' transform=[[1.0, 0.0, 0.0, 0.0], [0.0, 1.0, 0.0, 0.0], [0.0, 0.0, 1.0, 0.0]]),\n",
       " 242: Skeleton(segid=242, vertices=(shape=35, float32), edges=(shape=34, uint32), radius=(35, float32), vertex_types=(35, uint8), space='voxel' transform=[[1.0, 0.0, 0.0, 0.0], [0.0, 1.0, 0.0, 0.0], [0.0, 0.0, 1.0, 0.0]]),\n",
       " 88: Skeleton(segid=88, vertices=(shape=55, float32), edges=(shape=54, uint32), radius=(55, float32), vertex_types=(55, uint8), space='voxel' transform=[[1.0, 0.0, 0.0, 0.0], [0.0, 1.0, 0.0, 0.0], [0.0, 0.0, 1.0, 0.0]]),\n",
       " 220: Skeleton(segid=220, vertices=(shape=50, float32), edges=(shape=49, uint32), radius=(50, float32), vertex_types=(50, uint8), space='voxel' transform=[[1.0, 0.0, 0.0, 0.0], [0.0, 1.0, 0.0, 0.0], [0.0, 0.0, 1.0, 0.0]]),\n",
       " 28: Skeleton(segid=28, vertices=(shape=61, float32), edges=(shape=60, uint32), radius=(61, float32), vertex_types=(61, uint8), space='voxel' transform=[[1.0, 0.0, 0.0, 0.0], [0.0, 1.0, 0.0, 0.0], [0.0, 0.0, 1.0, 0.0]]),\n",
       " 62: Skeleton(segid=62, vertices=(shape=49, float32), edges=(shape=48, uint32), radius=(49, float32), vertex_types=(49, uint8), space='voxel' transform=[[1.0, 0.0, 0.0, 0.0], [0.0, 1.0, 0.0, 0.0], [0.0, 0.0, 1.0, 0.0]]),\n",
       " 187: Skeleton(segid=187, vertices=(shape=44, float32), edges=(shape=43, uint32), radius=(44, float32), vertex_types=(44, uint8), space='voxel' transform=[[1.0, 0.0, 0.0, 0.0], [0.0, 1.0, 0.0, 0.0], [0.0, 0.0, 1.0, 0.0]]),\n",
       " 243: Skeleton(segid=243, vertices=(shape=85, float32), edges=(shape=84, uint32), radius=(85, float32), vertex_types=(85, uint8), space='voxel' transform=[[1.0, 0.0, 0.0, 0.0], [0.0, 1.0, 0.0, 0.0], [0.0, 0.0, 1.0, 0.0]]),\n",
       " 229: Skeleton(segid=229, vertices=(shape=111, float32), edges=(shape=110, uint32), radius=(111, float32), vertex_types=(111, uint8), space='voxel' transform=[[1.0, 0.0, 0.0, 0.0], [0.0, 1.0, 0.0, 0.0], [0.0, 0.0, 1.0, 0.0]]),\n",
       " 249: Skeleton(segid=249, vertices=(shape=55, float32), edges=(shape=54, uint32), radius=(55, float32), vertex_types=(55, uint8), space='voxel' transform=[[1.0, 0.0, 0.0, 0.0], [0.0, 1.0, 0.0, 0.0], [0.0, 0.0, 1.0, 0.0]]),\n",
       " 104: Skeleton(segid=104, vertices=(shape=133, float32), edges=(shape=132, uint32), radius=(133, float32), vertex_types=(133, uint8), space='voxel' transform=[[1.0, 0.0, 0.0, 0.0], [0.0, 1.0, 0.0, 0.0], [0.0, 0.0, 1.0, 0.0]]),\n",
       " 97: Skeleton(segid=97, vertices=(shape=79, float32), edges=(shape=78, uint32), radius=(79, float32), vertex_types=(79, uint8), space='voxel' transform=[[1.0, 0.0, 0.0, 0.0], [0.0, 1.0, 0.0, 0.0], [0.0, 0.0, 1.0, 0.0]]),\n",
       " 133: Skeleton(segid=133, vertices=(shape=40, float32), edges=(shape=39, uint32), radius=(40, float32), vertex_types=(40, uint8), space='voxel' transform=[[1.0, 0.0, 0.0, 0.0], [0.0, 1.0, 0.0, 0.0], [0.0, 0.0, 1.0, 0.0]]),\n",
       " 114: Skeleton(segid=114, vertices=(shape=27, float32), edges=(shape=26, uint32), radius=(27, float32), vertex_types=(27, uint8), space='voxel' transform=[[1.0, 0.0, 0.0, 0.0], [0.0, 1.0, 0.0, 0.0], [0.0, 0.0, 1.0, 0.0]]),\n",
       " 246: Skeleton(segid=246, vertices=(shape=25, float32), edges=(shape=24, uint32), radius=(25, float32), vertex_types=(25, uint8), space='voxel' transform=[[1.0, 0.0, 0.0, 0.0], [0.0, 1.0, 0.0, 0.0], [0.0, 0.0, 1.0, 0.0]]),\n",
       " 67: Skeleton(segid=67, vertices=(shape=45, float32), edges=(shape=44, uint32), radius=(45, float32), vertex_types=(45, uint8), space='voxel' transform=[[1.0, 0.0, 0.0, 0.0], [0.0, 1.0, 0.0, 0.0], [0.0, 0.0, 1.0, 0.0]]),\n",
       " 136: Skeleton(segid=136, vertices=(shape=66, float32), edges=(shape=65, uint32), radius=(66, float32), vertex_types=(66, uint8), space='voxel' transform=[[1.0, 0.0, 0.0, 0.0], [0.0, 1.0, 0.0, 0.0], [0.0, 0.0, 1.0, 0.0]]),\n",
       " 94: Skeleton(segid=94, vertices=(shape=103, float32), edges=(shape=102, uint32), radius=(103, float32), vertex_types=(103, uint8), space='voxel' transform=[[1.0, 0.0, 0.0, 0.0], [0.0, 1.0, 0.0, 0.0], [0.0, 0.0, 1.0, 0.0]]),\n",
       " 196: Skeleton(segid=196, vertices=(shape=44, float32), edges=(shape=43, uint32), radius=(44, float32), vertex_types=(44, uint8), space='voxel' transform=[[1.0, 0.0, 0.0, 0.0], [0.0, 1.0, 0.0, 0.0], [0.0, 0.0, 1.0, 0.0]]),\n",
       " 181: Skeleton(segid=181, vertices=(shape=103, float32), edges=(shape=102, uint32), radius=(103, float32), vertex_types=(103, uint8), space='voxel' transform=[[1.0, 0.0, 0.0, 0.0], [0.0, 1.0, 0.0, 0.0], [0.0, 0.0, 1.0, 0.0]]),\n",
       " 183: Skeleton(segid=183, vertices=(shape=60, float32), edges=(shape=59, uint32), radius=(60, float32), vertex_types=(60, uint8), space='voxel' transform=[[1.0, 0.0, 0.0, 0.0], [0.0, 1.0, 0.0, 0.0], [0.0, 0.0, 1.0, 0.0]]),\n",
       " 18: Skeleton(segid=18, vertices=(shape=41, float32), edges=(shape=40, uint32), radius=(41, float32), vertex_types=(41, uint8), space='voxel' transform=[[1.0, 0.0, 0.0, 0.0], [0.0, 1.0, 0.0, 0.0], [0.0, 0.0, 1.0, 0.0]]),\n",
       " 184: Skeleton(segid=184, vertices=(shape=42, float32), edges=(shape=41, uint32), radius=(42, float32), vertex_types=(42, uint8), space='voxel' transform=[[1.0, 0.0, 0.0, 0.0], [0.0, 1.0, 0.0, 0.0], [0.0, 0.0, 1.0, 0.0]]),\n",
       " 188: Skeleton(segid=188, vertices=(shape=68, float32), edges=(shape=67, uint32), radius=(68, float32), vertex_types=(68, uint8), space='voxel' transform=[[1.0, 0.0, 0.0, 0.0], [0.0, 1.0, 0.0, 0.0], [0.0, 0.0, 1.0, 0.0]]),\n",
       " 257: Skeleton(segid=257, vertices=(shape=53, float32), edges=(shape=52, uint32), radius=(53, float32), vertex_types=(53, uint8), space='voxel' transform=[[1.0, 0.0, 0.0, 0.0], [0.0, 1.0, 0.0, 0.0], [0.0, 0.0, 1.0, 0.0]]),\n",
       " 164: Skeleton(segid=164, vertices=(shape=58, float32), edges=(shape=57, uint32), radius=(58, float32), vertex_types=(58, uint8), space='voxel' transform=[[1.0, 0.0, 0.0, 0.0], [0.0, 1.0, 0.0, 0.0], [0.0, 0.0, 1.0, 0.0]]),\n",
       " 130: Skeleton(segid=130, vertices=(shape=10, float32), edges=(shape=9, uint32), radius=(10, float32), vertex_types=(10, uint8), space='voxel' transform=[[1.0, 0.0, 0.0, 0.0], [0.0, 1.0, 0.0, 0.0], [0.0, 0.0, 1.0, 0.0]]),\n",
       " 151: Skeleton(segid=151, vertices=(shape=43, float32), edges=(shape=42, uint32), radius=(43, float32), vertex_types=(43, uint8), space='voxel' transform=[[1.0, 0.0, 0.0, 0.0], [0.0, 1.0, 0.0, 0.0], [0.0, 0.0, 1.0, 0.0]]),\n",
       " 53: Skeleton(segid=53, vertices=(shape=35, float32), edges=(shape=34, uint32), radius=(35, float32), vertex_types=(35, uint8), space='voxel' transform=[[1.0, 0.0, 0.0, 0.0], [0.0, 1.0, 0.0, 0.0], [0.0, 0.0, 1.0, 0.0]]),\n",
       " 166: Skeleton(segid=166, vertices=(shape=24, float32), edges=(shape=23, uint32), radius=(24, float32), vertex_types=(24, uint8), space='voxel' transform=[[1.0, 0.0, 0.0, 0.0], [0.0, 1.0, 0.0, 0.0], [0.0, 0.0, 1.0, 0.0]]),\n",
       " 135: Skeleton(segid=135, vertices=(shape=32, float32), edges=(shape=31, uint32), radius=(32, float32), vertex_types=(32, uint8), space='voxel' transform=[[1.0, 0.0, 0.0, 0.0], [0.0, 1.0, 0.0, 0.0], [0.0, 0.0, 1.0, 0.0]]),\n",
       " 169: Skeleton(segid=169, vertices=(shape=24, float32), edges=(shape=23, uint32), radius=(24, float32), vertex_types=(24, uint8), space='voxel' transform=[[1.0, 0.0, 0.0, 0.0], [0.0, 1.0, 0.0, 0.0], [0.0, 0.0, 1.0, 0.0]]),\n",
       " 128: Skeleton(segid=128, vertices=(shape=19, float32), edges=(shape=18, uint32), radius=(19, float32), vertex_types=(19, uint8), space='voxel' transform=[[1.0, 0.0, 0.0, 0.0], [0.0, 1.0, 0.0, 0.0], [0.0, 0.0, 1.0, 0.0]])}"
      ]
     },
     "execution_count": 98,
     "metadata": {},
     "output_type": "execute_result"
    }
   ],
   "source": [
    "skels"
   ]
  },
  {
   "cell_type": "code",
   "execution_count": 104,
   "metadata": {},
   "outputs": [
    {
     "data": {
      "text/plain": [
       "dict_keys([1, 91, 145, 117, 4, 126, 14, 7, 224, 69, 8, 9, 227, 205, 123, 24, 85, 152, 96, 197, 175, 103, 156, 206, 186, 148, 182, 213, 11, 167, 178, 207, 253, 173, 129, 139, 116, 232, 185, 150, 79, 41, 93, 217, 143, 25, 115, 142, 162, 92, 159, 33, 239, 22, 170, 125, 157, 240, 81, 46, 176, 110, 31, 27, 75, 121, 106, 202, 76, 112, 16, 19, 35, 172, 235, 149, 21, 71, 204, 95, 122, 32, 153, 54, 63, 252, 111, 80, 216, 50, 13, 99, 60, 124, 57, 223, 47, 74, 219, 138, 177, 42, 134, 48, 147, 58, 161, 118, 39, 230, 83, 100, 34, 43, 56, 87, 23, 238, 211, 131, 228, 154, 198, 163, 140, 171, 59, 237, 109, 89, 10, 38, 221, 66, 65, 113, 218, 233, 77, 26, 146, 127, 241, 231, 132, 180, 12, 160, 6, 44, 90, 247, 45, 256, 209, 20, 108, 52, 101, 40, 86, 201, 36, 155, 193, 248, 105, 203, 244, 212, 168, 174, 158, 29, 70, 245, 107, 49, 82, 192, 78, 189, 226, 72, 254, 30, 51, 98, 64, 208, 214, 61, 199, 15, 55, 234, 165, 190, 236, 195, 179, 68, 5, 215, 144, 255, 251, 17, 3, 210, 250, 225, 2, 222, 141, 200, 191, 242, 88, 220, 28, 62, 187, 243, 229, 249, 104, 97, 133, 114, 246, 67, 136, 94, 196, 181, 183, 18, 184, 188, 257, 164, 130, 151, 53, 166, 135, 169, 128])"
      ]
     },
     "execution_count": 104,
     "metadata": {},
     "output_type": "execute_result"
    }
   ],
   "source": [
    "skels.keys()"
   ]
  },
  {
   "cell_type": "code",
   "execution_count": 127,
   "metadata": {},
   "outputs": [],
   "source": [
    "# for all graphs\n",
    "seg_luts = []\n",
    "seg_preds = np.zeros((len(skels), 2))\n",
    "for i, key in enumerate(skels.keys()):\n",
    "    skel = skels[key]\n",
    "    node_lut, mask_id = compute_segment_lut(gt_seg, (skel.vertices/10).astype(int))\n",
    "    seg_luts.append(node_lut)\n",
    "\n",
    "    values, counts = np.unique(node_lut, return_counts=True)\n",
    "    ind = np.argmax(counts)\n",
    "    seg_preds[i, 0] = key\n",
    "    seg_preds[i, 1] = values[ind]\n",
    "\n",
    "seg_preds = seg_preds.astype(int)\n"
   ]
  },
  {
   "cell_type": "code",
   "execution_count": 130,
   "metadata": {},
   "outputs": [
    {
     "data": {
      "text/plain": [
       "array([3469, 3469, 3534, 3534, 3534, 3534, 3534, 3534, 3600, 3600, 3600,\n",
       "       3600, 3600, 3600, 3600, 3600, 3600, 3600, 3600, 3600, 3613, 3613,\n",
       "       3669, 3669, 3669, 3669, 3669, 3669, 3742], dtype=int32)"
      ]
     },
     "execution_count": 130,
     "metadata": {},
     "output_type": "execute_result"
    }
   ],
   "source": [
    "seg_luts[83]"
   ]
  },
  {
   "cell_type": "markdown",
   "metadata": {},
   "source": [
    "### Get erl score from em_erl"
   ]
  },
  {
   "cell_type": "code",
   "execution_count": 47,
   "metadata": {},
   "outputs": [],
   "source": [
    "# Works due to changes in .py files directly (from em_util.io import seg_relabel -> from em_util.em_util.io import seg_relabel)\n",
    "# and because em_util in same folder\n",
    "from em_erl.eval import compute_erl_score\n",
    "from em_erl.erl import skel_to_erlgraph"
   ]
  },
  {
   "cell_type": "code",
   "execution_count": 48,
   "metadata": {},
   "outputs": [],
   "source": [
    "# get prediction for which gt segmentation belongs to some skeleton\n",
    "#skel_num, pred_seg_num = seg_preds[83, :]\n",
    "\n",
    "# get gt graph from gt skeleton\n",
    "gt_graph = skel_to_erlgraph(gt_skels)\n",
    "\n",
    "# compute erl score\n",
    "#compute_erl_score(gt_graph, seg_luts[83], [], 0, verbose=True)"
   ]
  },
  {
   "cell_type": "code",
   "execution_count": 49,
   "metadata": {},
   "outputs": [],
   "source": [
    "pred_graph = skel_to_erlgraph(skels)"
   ]
  },
  {
   "cell_type": "code",
   "execution_count": 22,
   "metadata": {},
   "outputs": [],
   "source": [
    "node_position = pred_graph.get_nodes_position((10,10,10))"
   ]
  },
  {
   "cell_type": "code",
   "execution_count": 25,
   "metadata": {},
   "outputs": [
    {
     "data": {
      "text/plain": [
       "(26380, 3)"
      ]
     },
     "execution_count": 25,
     "metadata": {},
     "output_type": "execute_result"
    }
   ],
   "source": [
    "pred_graph.get_nodes_position().shape"
   ]
  },
  {
   "cell_type": "code",
   "execution_count": 27,
   "metadata": {},
   "outputs": [
    {
     "data": {
      "text/plain": [
       "array([[  0,  13, 144],\n",
       "       [  0,  19, 167],\n",
       "       [  0,  20, 166],\n",
       "       ...,\n",
       "       [117, 131, 233],\n",
       "       [117, 134, 235],\n",
       "       [117, 135, 235]])"
      ]
     },
     "execution_count": 27,
     "metadata": {},
     "output_type": "execute_result"
    }
   ],
   "source": [
    "node_position"
   ]
  },
  {
   "cell_type": "code",
   "execution_count": 155,
   "metadata": {},
   "outputs": [],
   "source": [
    "node_segment_lut, mask_segment_id = compute_segment_lut(gt_seg, node_position, None)"
   ]
  },
  {
   "cell_type": "code",
   "execution_count": 156,
   "metadata": {},
   "outputs": [],
   "source": [
    "score = compute_erl_score(erl_graph=pred_graph,\n",
    "    node_segment_lut=node_segment_lut,\n",
    "    mask_segment_id=mask_segment_id,\n",
    "    merge_threshold=0,\n",
    "    verbose=True)"
   ]
  },
  {
   "cell_type": "code",
   "execution_count": 157,
   "metadata": {},
   "outputs": [],
   "source": [
    "score.compute_erl(None)"
   ]
  },
  {
   "cell_type": "code",
   "execution_count": 158,
   "metadata": {},
   "outputs": [
    {
     "name": "stdout",
     "output_type": "stream",
     "text": [
      "all skel\n",
      "ERL\t: 1.63\n",
      "gt ERL\t: 7539.24\n",
      "#skel\t: 249\n",
      "-----------------\n"
     ]
    }
   ],
   "source": [
    "score.print_erl()"
   ]
  },
  {
   "cell_type": "code",
   "execution_count": 151,
   "metadata": {},
   "outputs": [
    {
     "name": "stdout",
     "output_type": "stream",
     "text": [
      "all skel\n",
      "ERL\t: 5709.76\n",
      "gt ERL\t: 5709.76\n",
      "#skel\t: 2327\n",
      "-----------------\n"
     ]
    }
   ],
   "source": [
    "gt_node_segment_lut, gt_mask_segment_id = compute_segment_lut(gt_seg, node_position, None)\n",
    "gt_score = compute_erl_score(erl_graph=gt_graph,\n",
    "    node_segment_lut=gt_node_segment_lut,\n",
    "    mask_segment_id=gt_mask_segment_id,\n",
    "    merge_threshold=0,\n",
    "    verbose=True)\n",
    "\n",
    "gt_score.compute_erl(None)\n",
    "gt_score.print_erl()"
   ]
  },
  {
   "cell_type": "markdown",
   "metadata": {},
   "source": [
    "as we can see, erl is computed but shows that segmentation is trash. This doesn't fit expectations as visually, segmentation seemed ok. My guess is that there is an issue in the data format for ground truth segmentation: When examining data in playground.ipynb, slicing across z gives good results for both prediction and gt, but slicing through y or x gives only good results for prediction. In some way, ground truth segmentation is not aligned with raw image."
   ]
  },
  {
   "cell_type": "code",
   "execution_count": 43,
   "metadata": {},
   "outputs": [],
   "source": [
    "fnames = glob('data/microns/em/' + '*.npy')"
   ]
  },
  {
   "cell_type": "code",
   "execution_count": 1,
   "metadata": {},
   "outputs": [],
   "source": [
    "def load_data(path):\n",
    "    \"\"\"\n",
    "    Helper function to load all npy and npz files in a directory into a single numpy array.\n",
    "    Requires all files to have the same shape.\n",
    "\n",
    "    Parameters\n",
    "    ----------\n",
    "    path : str\n",
    "        The path to the directory containing the npy and npz files.\n",
    "\n",
    "    Returns\n",
    "    -------\n",
    "    np.ndarray\n",
    "        A numpy array containing the loaded data.\n",
    "    \"\"\"\n",
    "    files = sorted(glob(path + \"*.npy\"))\n",
    "\n",
    "    data_shape = np.load(files[0]).shape\n",
    "\n",
    "    out = np.zeros((data_shape[0], data_shape[1], len(files)))\n",
    "\n",
    "    for i, f in enumerate(files):\n",
    "        out[:, :, i] = np.load(f)\n",
    "\n",
    "    return out.astype(int)"
   ]
  },
  {
   "cell_type": "code",
   "execution_count": 3,
   "metadata": {},
   "outputs": [],
   "source": [
    "gt_seg = load_data(\"data/microns/seg_v1078/\")"
   ]
  },
  {
   "cell_type": "code",
   "execution_count": 4,
   "metadata": {},
   "outputs": [],
   "source": [
    "gt_seg = gt_seg - (np.min(gt_seg[np.nonzero(gt_seg)]) - 1)"
   ]
  },
  {
   "cell_type": "code",
   "execution_count": 5,
   "metadata": {},
   "outputs": [],
   "source": [
    "gt_seg = gt_seg.astype(np.uint32)"
   ]
  },
  {
   "cell_type": "code",
   "execution_count": null,
   "metadata": {},
   "outputs": [],
   "source": [
    "gt_skels = kimimaro.skeletonize(\n",
    "        gt_seg, \n",
    "        teasar_params={\n",
    "            \"scale\": 1.5, \n",
    "            \"const\": 300, # physical units\n",
    "            \"pdrf_scale\": 100000,\n",
    "            \"pdrf_exponent\": 4,\n",
    "            \"soma_acceptance_threshold\": 3500, # physical units\n",
    "            \"soma_detection_threshold\": 750, # physical units\n",
    "            \"soma_invalidation_const\": 300, # physical units\n",
    "            \"soma_invalidation_scale\": 2,\n",
    "            \"max_paths\": 300, # default None\n",
    "        },\n",
    "        dust_threshold=1000, # skip connected components with fewer than this many voxels\n",
    "        anisotropy=(4,4,40), # default True\n",
    "        fix_branching=True, # default True\n",
    "        fix_borders=True, # default True\n",
    "        fill_holes=True, # default False\n",
    "        fix_avocados=True, # default False\n",
    "        progress=True, # default False, show progress bar\n",
    "        parallel=1, # <= 0 all cpu, 1 single process, 2+ multiprocess\n",
    "        parallel_chunk_size=100, # how many skeletons to process before updating progress bar\n",
    "        )"
   ]
  },
  {
   "cell_type": "code",
   "execution_count": 6,
   "metadata": {},
   "outputs": [],
   "source": [
    "proof_seg = load_data('data/microns/seg_v117/')"
   ]
  },
  {
   "cell_type": "code",
   "execution_count": 7,
   "metadata": {},
   "outputs": [],
   "source": [
    "proof_seg = proof_seg - (np.min(proof_seg[np.nonzero(proof_seg)]) - 1)\n",
    "proof_seg = proof_seg.astype(np.uint32)"
   ]
  },
  {
   "cell_type": "code",
   "execution_count": 8,
   "metadata": {},
   "outputs": [
    {
     "name": "stderr",
     "output_type": "stream",
     "text": [
      "Filling Holes: 100%|██████████| 1061/1061 [00:01<00:00, 690.05it/s]\n",
      "Fixing Avocados: 100%|██████████| 1/1 [00:00<00:00,  6.12it/s]\n",
      "Avocado Pass:   0%|          | 0/20 [00:00<?, ?it/s]\n",
      "Skeletonizing Labels: 100%|██████████| 602/602 [00:58<00:00, 10.30it/s]\n"
     ]
    }
   ],
   "source": [
    "proof_skels = kimimaro.skeletonize(\n",
    "        proof_seg, \n",
    "        teasar_params={\n",
    "            \"scale\": 1.5, \n",
    "            \"const\": 300, # physical units\n",
    "            \"pdrf_scale\": 100000,\n",
    "            \"pdrf_exponent\": 4,\n",
    "            \"soma_acceptance_threshold\": 3500, # physical units\n",
    "            \"soma_detection_threshold\": 750, # physical units\n",
    "            \"soma_invalidation_const\": 300, # physical units\n",
    "            \"soma_invalidation_scale\": 2,\n",
    "            \"max_paths\": 300, # default None\n",
    "        },\n",
    "        dust_threshold=1000, # skip connected components with fewer than this many voxels\n",
    "        anisotropy=(4, 4, 40), # default True\n",
    "        fix_branching=True, # default True\n",
    "        fix_borders=True, # default True\n",
    "        fill_holes=True, # default False\n",
    "        fix_avocados=True, # default False\n",
    "        progress=True, # default False, show progress bar\n",
    "        parallel=1, # <= 0 all cpu, 1 single process, 2+ multiprocess\n",
    "        parallel_chunk_size=100, # how many skeletons to process before updating progress bar\n",
    "        )"
   ]
  },
  {
   "cell_type": "code",
   "execution_count": 9,
   "metadata": {},
   "outputs": [],
   "source": [
    "from zmesh import Mesher\n",
    "\n",
    "\n",
    "mesher = Mesher((4,4,40))\n",
    "\n",
    "#mesher.mesh(gt_seg, close=True)"
   ]
  },
  {
   "cell_type": "code",
   "execution_count": 10,
   "metadata": {},
   "outputs": [
    {
     "ename": "NameError",
     "evalue": "name 'trimesh' is not defined",
     "output_type": "error",
     "traceback": [
      "\u001b[0;31m---------------------------------------------------------------------------\u001b[0m",
      "\u001b[0;31mNameError\u001b[0m                                 Traceback (most recent call last)",
      "Cell \u001b[0;32mIn[10], line 25\u001b[0m\n\u001b[1;32m      7\u001b[0m \u001b[38;5;28;01mfor\u001b[39;00m obj_id \u001b[38;5;129;01min\u001b[39;00m proof_mesher\u001b[38;5;241m.\u001b[39mids():\n\u001b[1;32m      8\u001b[0m   mesh \u001b[38;5;241m=\u001b[39m proof_mesher\u001b[38;5;241m.\u001b[39mget(\n\u001b[1;32m      9\u001b[0m       obj_id, \n\u001b[1;32m     10\u001b[0m       normals\u001b[38;5;241m=\u001b[39m\u001b[38;5;28;01mFalse\u001b[39;00m, \u001b[38;5;66;03m# whether to calculate normals or not\u001b[39;00m\n\u001b[0;32m   (...)\u001b[0m\n\u001b[1;32m     23\u001b[0m       voxel_centered\u001b[38;5;241m=\u001b[39m\u001b[38;5;28;01mFalse\u001b[39;00m, \n\u001b[1;32m     24\u001b[0m     )\n\u001b[0;32m---> 25\u001b[0m   proof_meshes[obj_id] \u001b[38;5;241m=\u001b[39m \u001b[43mtrimesh\u001b[49m\u001b[38;5;241m.\u001b[39mTrimesh(vertices\u001b[38;5;241m=\u001b[39mmesh\u001b[38;5;241m.\u001b[39mvertices, faces\u001b[38;5;241m=\u001b[39mmesh\u001b[38;5;241m.\u001b[39mfaces)\n\u001b[1;32m     26\u001b[0m   mesher\u001b[38;5;241m.\u001b[39merase(obj_id) \u001b[38;5;66;03m# delete high res mesh\u001b[39;00m\n\u001b[1;32m     27\u001b[0m   \u001b[38;5;28;01mdel\u001b[39;00m mesh\n",
      "\u001b[0;31mNameError\u001b[0m: name 'trimesh' is not defined"
     ]
    }
   ],
   "source": [
    "proof_mesher = Mesher((4,4,40))\n",
    "\n",
    "proof_mesher.mesh(proof_seg, close=True)\n",
    "\n",
    "proof_meshes = dict()\n",
    "\n",
    "for obj_id in proof_mesher.ids():\n",
    "  mesh = proof_mesher.get(\n",
    "      obj_id, \n",
    "      normals=False, # whether to calculate normals or not\n",
    "\n",
    "      # tries to reduce triangles by this factor\n",
    "      # 0 disables simplification\n",
    "      reduction_factor=0, \n",
    "\n",
    "      # Max tolerable error in physical distance\n",
    "      # note: if max_error is not set, the max error\n",
    "      # will be set equivalent to one voxel along the \n",
    "      # smallest dimension.\n",
    "      max_error=8,\n",
    "      # whether meshes should be centered in the voxel\n",
    "      # on (0,0,0) [False] or (0.5,0.5,0.5) [True]\n",
    "      voxel_centered=False, \n",
    "    )\n",
    "  proof_meshes[obj_id] = trimesh.Trimesh(vertices=mesh.vertices, faces=mesh.faces)\n",
    "  mesher.erase(obj_id) # delete high res mesh\n",
    "  del mesh"
   ]
  },
  {
   "cell_type": "code",
   "execution_count": 42,
   "metadata": {},
   "outputs": [
    {
     "data": {
      "text/plain": [
       "{2740831361: <trimesh.Trimesh(vertices.shape=(144, 3), faces.shape=(284, 3))>,\n",
       " 2826723201: <trimesh.Trimesh(vertices.shape=(238, 3), faces.shape=(472, 3))>,\n",
       " 3070268161: <trimesh.Trimesh(vertices.shape=(34, 3), faces.shape=(64, 3))>,\n",
       " 2740798081: <trimesh.Trimesh(vertices.shape=(164, 3), faces.shape=(324, 3))>,\n",
       " 3741563137: <trimesh.Trimesh(vertices.shape=(246, 3), faces.shape=(488, 3))>,\n",
       " 2740834433: <trimesh.Trimesh(vertices.shape=(1348, 3), faces.shape=(2692, 3))>,\n",
       " 995844737: <trimesh.Trimesh(vertices.shape=(182, 3), faces.shape=(360, 3))>,\n",
       " 2695847553: <trimesh.Trimesh(vertices.shape=(488, 3), faces.shape=(960, 3))>,\n",
       " 1614159617: <trimesh.Trimesh(vertices.shape=(438, 3), faces.shape=(872, 3))>,\n",
       " 3108927361: <trimesh.Trimesh(vertices.shape=(3150, 3), faces.shape=(6296, 3))>,\n",
       " 227864577: <trimesh.Trimesh(vertices.shape=(410, 3), faces.shape=(816, 3))>,\n",
       " 671942913: <trimesh.Trimesh(vertices.shape=(1548, 3), faces.shape=(3092, 3))>,\n",
       " 3226380929: <trimesh.Trimesh(vertices.shape=(752, 3), faces.shape=(1500, 3))>,\n",
       " 22909057: <trimesh.Trimesh(vertices.shape=(1628, 3), faces.shape=(3252, 3))>,\n",
       " 536177537: <trimesh.Trimesh(vertices.shape=(536, 3), faces.shape=(1068, 3))>,\n",
       " 3264393345: <trimesh.Trimesh(vertices.shape=(2474, 3), faces.shape=(4916, 3))>,\n",
       " 216910721: <trimesh.Trimesh(vertices.shape=(388, 3), faces.shape=(772, 3))>,\n",
       " 230506241: <trimesh.Trimesh(vertices.shape=(1268, 3), faces.shape=(2532, 3))>,\n",
       " 3257717121: <trimesh.Trimesh(vertices.shape=(2532, 3), faces.shape=(5060, 3))>,\n",
       " 428049025: <trimesh.Trimesh(vertices.shape=(2036, 3), faces.shape=(4068, 3))>,\n",
       " 22918529: <trimesh.Trimesh(vertices.shape=(910, 3), faces.shape=(1816, 3))>,\n",
       " 3225796993: <trimesh.Trimesh(vertices.shape=(5422, 3), faces.shape=(10840, 3))>,\n",
       " 3131400065: <trimesh.Trimesh(vertices.shape=(4556, 3), faces.shape=(9108, 3))>,\n",
       " 230584321: <trimesh.Trimesh(vertices.shape=(1422, 3), faces.shape=(2840, 3))>,\n",
       " 216918401: <trimesh.Trimesh(vertices.shape=(576, 3), faces.shape=(1148, 3))>,\n",
       " 245096193: <trimesh.Trimesh(vertices.shape=(536, 3), faces.shape=(1068, 3))>,\n",
       " 216905857: <trimesh.Trimesh(vertices.shape=(952, 3), faces.shape=(1900, 3))>,\n",
       " 295004417: <trimesh.Trimesh(vertices.shape=(2544, 3), faces.shape=(5084, 3))>,\n",
       " 428048513: <trimesh.Trimesh(vertices.shape=(1220, 3), faces.shape=(2436, 3))>,\n",
       " 22917505: <trimesh.Trimesh(vertices.shape=(54, 3), faces.shape=(100, 3))>,\n",
       " 245100801: <trimesh.Trimesh(vertices.shape=(742, 3), faces.shape=(1480, 3))>,\n",
       " 241282305: <trimesh.Trimesh(vertices.shape=(3958, 3), faces.shape=(7912, 3))>,\n",
       " 428047233: <trimesh.Trimesh(vertices.shape=(386, 3), faces.shape=(768, 3))>,\n",
       " 1618142721: <trimesh.Trimesh(vertices.shape=(2400, 3), faces.shape=(4796, 3))>,\n",
       " 2976548225: <trimesh.Trimesh(vertices.shape=(2210, 3), faces.shape=(4416, 3))>,\n",
       " 22908289: <trimesh.Trimesh(vertices.shape=(1168, 3), faces.shape=(2332, 3))>,\n",
       " 245036545: <trimesh.Trimesh(vertices.shape=(3948, 3), faces.shape=(7892, 3))>,\n",
       " 3148539009: <trimesh.Trimesh(vertices.shape=(9666, 3), faces.shape=(19328, 3))>,\n",
       " 216913025: <trimesh.Trimesh(vertices.shape=(762, 3), faces.shape=(1524, 3))>,\n",
       " 1173769217: <trimesh.Trimesh(vertices.shape=(9534, 3), faces.shape=(19060, 3))>,\n",
       " 216912001: <trimesh.Trimesh(vertices.shape=(710, 3), faces.shape=(1416, 3))>,\n",
       " 428048257: <trimesh.Trimesh(vertices.shape=(18, 3), faces.shape=(32, 3))>,\n",
       " 3621494401: <trimesh.Trimesh(vertices.shape=(7750, 3), faces.shape=(15496, 3))>,\n",
       " 245105153: <trimesh.Trimesh(vertices.shape=(858, 3), faces.shape=(1712, 3))>,\n",
       " 1978282497: <trimesh.Trimesh(vertices.shape=(1450, 3), faces.shape=(2896, 3))>,\n",
       " 216917121: <trimesh.Trimesh(vertices.shape=(306, 3), faces.shape=(608, 3))>,\n",
       " 1978283009: <trimesh.Trimesh(vertices.shape=(5166, 3), faces.shape=(10328, 3))>,\n",
       " 174113537: <trimesh.Trimesh(vertices.shape=(502, 3), faces.shape=(1000, 3))>,\n",
       " 216907137: <trimesh.Trimesh(vertices.shape=(1144, 3), faces.shape=(2284, 3))>,\n",
       " 3376752769: <trimesh.Trimesh(vertices.shape=(11216, 3), faces.shape=(22428, 3))>,\n",
       " 1614161153: <trimesh.Trimesh(vertices.shape=(8484, 3), faces.shape=(16960, 3))>,\n",
       " 2695847297: <trimesh.Trimesh(vertices.shape=(4750, 3), faces.shape=(9496, 3))>,\n",
       " 1978279937: <trimesh.Trimesh(vertices.shape=(3830, 3), faces.shape=(7656, 3))>,\n",
       " 3261520257: <trimesh.Trimesh(vertices.shape=(3558, 3), faces.shape=(7112, 3))>,\n",
       " 22919809: <trimesh.Trimesh(vertices.shape=(504, 3), faces.shape=(1008, 3))>,\n",
       " 1978280449: <trimesh.Trimesh(vertices.shape=(7262, 3), faces.shape=(14516, 3))>,\n",
       " 2740805761: <trimesh.Trimesh(vertices.shape=(6134, 3), faces.shape=(12268, 3))>,\n",
       " 1173768705: <trimesh.Trimesh(vertices.shape=(1318, 3), faces.shape=(2632, 3))>,\n",
       " 3226191489: <trimesh.Trimesh(vertices.shape=(14706, 3), faces.shape=(29412, 3))>,\n",
       " 671943169: <trimesh.Trimesh(vertices.shape=(546, 3), faces.shape=(1088, 3))>,\n",
       " 3257735041: <trimesh.Trimesh(vertices.shape=(5294, 3), faces.shape=(10584, 3))>,\n",
       " 174111745: <trimesh.Trimesh(vertices.shape=(922, 3), faces.shape=(1840, 3))>,\n",
       " 428044417: <trimesh.Trimesh(vertices.shape=(1584, 3), faces.shape=(3164, 3))>,\n",
       " 3732612609: <trimesh.Trimesh(vertices.shape=(21682, 3), faces.shape=(43360, 3))>,\n",
       " 3306553729: <trimesh.Trimesh(vertices.shape=(41432, 3), faces.shape=(82864, 3))>,\n",
       " 2740805249: <trimesh.Trimesh(vertices.shape=(2420, 3), faces.shape=(4832, 3))>,\n",
       " 3186534529: <trimesh.Trimesh(vertices.shape=(33920, 3), faces.shape=(67836, 3))>,\n",
       " 3257721217: <trimesh.Trimesh(vertices.shape=(7604, 3), faces.shape=(15204, 3))>,\n",
       " 2695843713: <trimesh.Trimesh(vertices.shape=(8840, 3), faces.shape=(17676, 3))>,\n",
       " 22910081: <trimesh.Trimesh(vertices.shape=(10784, 3), faces.shape=(21564, 3))>,\n",
       " 219733505: <trimesh.Trimesh(vertices.shape=(32378, 3), faces.shape=(64752, 3))>,\n",
       " 4087815041: <trimesh.Trimesh(vertices.shape=(128, 3), faces.shape=(252, 3))>,\n",
       " 536176001: <trimesh.Trimesh(vertices.shape=(1256, 3), faces.shape=(2508, 3))>,\n",
       " 245106689: <trimesh.Trimesh(vertices.shape=(342, 3), faces.shape=(680, 3))>,\n",
       " 3403394177: <trimesh.Trimesh(vertices.shape=(18938, 3), faces.shape=(37872, 3))>,\n",
       " 22912129: <trimesh.Trimesh(vertices.shape=(4556, 3), faces.shape=(9108, 3))>,\n",
       " 236696577: <trimesh.Trimesh(vertices.shape=(31824, 3), faces.shape=(63640, 3))>,\n",
       " 1978284033: <trimesh.Trimesh(vertices.shape=(610, 3), faces.shape=(1216, 3))>,\n",
       " 1978283265: <trimesh.Trimesh(vertices.shape=(9006, 3), faces.shape=(18008, 3))>,\n",
       " 337015297: <trimesh.Trimesh(vertices.shape=(23034, 3), faces.shape=(46064, 3))>,\n",
       " 2740799105: <trimesh.Trimesh(vertices.shape=(8260, 3), faces.shape=(16516, 3))>,\n",
       " 174114305: <trimesh.Trimesh(vertices.shape=(692, 3), faces.shape=(1380, 3))>,\n",
       " 3131483009: <trimesh.Trimesh(vertices.shape=(14478, 3), faces.shape=(28952, 3))>,\n",
       " 1614160641: <trimesh.Trimesh(vertices.shape=(2966, 3), faces.shape=(5928, 3))>,\n",
       " 174115073: <trimesh.Trimesh(vertices.shape=(1452, 3), faces.shape=(2900, 3))>,\n",
       " 536175233: <trimesh.Trimesh(vertices.shape=(168, 3), faces.shape=(332, 3))>,\n",
       " 22907521: <trimesh.Trimesh(vertices.shape=(730, 3), faces.shape=(1456, 3))>,\n",
       " 3166046337: <trimesh.Trimesh(vertices.shape=(20846, 3), faces.shape=(41688, 3))>,\n",
       " 1614160129: <trimesh.Trimesh(vertices.shape=(904, 3), faces.shape=(1804, 3))>,\n",
       " 241282817: <trimesh.Trimesh(vertices.shape=(15826, 3), faces.shape=(31648, 3))>,\n",
       " 3257620865: <trimesh.Trimesh(vertices.shape=(874, 3), faces.shape=(1736, 3))>,\n",
       " 245110785: <trimesh.Trimesh(vertices.shape=(638, 3), faces.shape=(1272, 3))>,\n",
       " 245097217: <trimesh.Trimesh(vertices.shape=(866, 3), faces.shape=(1728, 3))>,\n",
       " 536175489: <trimesh.Trimesh(vertices.shape=(1266, 3), faces.shape=(2532, 3))>,\n",
       " 230575873: <trimesh.Trimesh(vertices.shape=(11162, 3), faces.shape=(22320, 3))>,\n",
       " 2529038593: <trimesh.Trimesh(vertices.shape=(12074, 3), faces.shape=(24144, 3))>,\n",
       " 230489345: <trimesh.Trimesh(vertices.shape=(20368, 3), faces.shape=(40732, 3))>,\n",
       " 1614155265: <trimesh.Trimesh(vertices.shape=(686, 3), faces.shape=(1368, 3))>,\n",
       " 3257590657: <trimesh.Trimesh(vertices.shape=(14810, 3), faces.shape=(29616, 3))>,\n",
       " 3302472321: <trimesh.Trimesh(vertices.shape=(10920, 3), faces.shape=(21844, 3))>,\n",
       " 3759841665: <trimesh.Trimesh(vertices.shape=(16740, 3), faces.shape=(33476, 3))>,\n",
       " 1978349057: <trimesh.Trimesh(vertices.shape=(444, 3), faces.shape=(884, 3))>,\n",
       " 1614184705: <trimesh.Trimesh(vertices.shape=(630, 3), faces.shape=(1256, 3))>,\n",
       " 1978348801: <trimesh.Trimesh(vertices.shape=(744, 3), faces.shape=(1484, 3))>,\n",
       " 3226187905: <trimesh.Trimesh(vertices.shape=(16356, 3), faces.shape=(32708, 3))>,\n",
       " 3186486657: <trimesh.Trimesh(vertices.shape=(6252, 3), faces.shape=(12500, 3))>,\n",
       " 3324500097: <trimesh.Trimesh(vertices.shape=(30696, 3), faces.shape=(61384, 3))>,\n",
       " 3163770241: <trimesh.Trimesh(vertices.shape=(17236, 3), faces.shape=(34468, 3))>,\n",
       " 3226835841: <trimesh.Trimesh(vertices.shape=(13772, 3), faces.shape=(27540, 3))>,\n",
       " 2114227585: <trimesh.Trimesh(vertices.shape=(894, 3), faces.shape=(1792, 3))>,\n",
       " 3257744257: <trimesh.Trimesh(vertices.shape=(10898, 3), faces.shape=(21792, 3))>,\n",
       " 2695855489: <trimesh.Trimesh(vertices.shape=(1984, 3), faces.shape=(3964, 3))>,\n",
       " 1444150657: <trimesh.Trimesh(vertices.shape=(1954, 3), faces.shape=(3904, 3))>,\n",
       " 3176398465: <trimesh.Trimesh(vertices.shape=(44384, 3), faces.shape=(88772, 3))>,\n",
       " 1978349569: <trimesh.Trimesh(vertices.shape=(458, 3), faces.shape=(912, 3))>,\n",
       " 2114226817: <trimesh.Trimesh(vertices.shape=(6460, 3), faces.shape=(12916, 3))>,\n",
       " 281050625: <trimesh.Trimesh(vertices.shape=(648, 3), faces.shape=(1292, 3))>,\n",
       " 339276417: <trimesh.Trimesh(vertices.shape=(1288, 3), faces.shape=(2572, 3))>,\n",
       " 96663937: <trimesh.Trimesh(vertices.shape=(28692, 3), faces.shape=(57380, 3))>,\n",
       " 221178369: <trimesh.Trimesh(vertices.shape=(63216, 3), faces.shape=(126428, 3))>,\n",
       " 232632065: <trimesh.Trimesh(vertices.shape=(4520, 3), faces.shape=(9036, 3))>,\n",
       " 234335489: <trimesh.Trimesh(vertices.shape=(26398, 3), faces.shape=(52792, 3))>,\n",
       " 22920321: <trimesh.Trimesh(vertices.shape=(924, 3), faces.shape=(1844, 3))>,\n",
       " 230596097: <trimesh.Trimesh(vertices.shape=(36140, 3), faces.shape=(72276, 3))>,\n",
       " 3281589761: <trimesh.Trimesh(vertices.shape=(15310, 3), faces.shape=(30612, 3))>,\n",
       " 3262615937: <trimesh.Trimesh(vertices.shape=(38178, 3), faces.shape=(76352, 3))>,\n",
       " 3389623681: <trimesh.Trimesh(vertices.shape=(46370, 3), faces.shape=(92736, 3))>,\n",
       " 3329: <trimesh.Trimesh(vertices.shape=(158, 3), faces.shape=(312, 3))>,\n",
       " 671937281: <trimesh.Trimesh(vertices.shape=(1966, 3), faces.shape=(3924, 3))>,\n",
       " 848383617: <trimesh.Trimesh(vertices.shape=(466, 3), faces.shape=(928, 3))>,\n",
       " 3458617729: <trimesh.Trimesh(vertices.shape=(70780, 3), faces.shape=(141552, 3))>,\n",
       " 329231361: <trimesh.Trimesh(vertices.shape=(1098, 3), faces.shape=(2192, 3))>,\n",
       " 13313: <trimesh.Trimesh(vertices.shape=(760, 3), faces.shape=(1516, 3))>,\n",
       " 1614184193: <trimesh.Trimesh(vertices.shape=(2952, 3), faces.shape=(5900, 3))>,\n",
       " 848382593: <trimesh.Trimesh(vertices.shape=(650, 3), faces.shape=(1296, 3))>,\n",
       " 245100289: <trimesh.Trimesh(vertices.shape=(1946, 3), faces.shape=(3888, 3))>,\n",
       " 3376703361: <trimesh.Trimesh(vertices.shape=(33300, 3), faces.shape=(66588, 3))>,\n",
       " 3264383105: <trimesh.Trimesh(vertices.shape=(18858, 3), faces.shape=(37712, 3))>,\n",
       " 3257458305: <trimesh.Trimesh(vertices.shape=(28206, 3), faces.shape=(56408, 3))>,\n",
       " 1978348289: <trimesh.Trimesh(vertices.shape=(9534, 3), faces.shape=(19064, 3))>,\n",
       " 7681: <trimesh.Trimesh(vertices.shape=(252, 3), faces.shape=(500, 3))>,\n",
       " 995843713: <trimesh.Trimesh(vertices.shape=(524, 3), faces.shape=(1044, 3))>,\n",
       " 3226193537: <trimesh.Trimesh(vertices.shape=(34956, 3), faces.shape=(69908, 3))>,\n",
       " 232610049: <trimesh.Trimesh(vertices.shape=(16870, 3), faces.shape=(33736, 3))>,\n",
       " 245105921: <trimesh.Trimesh(vertices.shape=(1808, 3), faces.shape=(3612, 3))>,\n",
       " 1978339841: <trimesh.Trimesh(vertices.shape=(100408, 3), faces.shape=(200828, 3))>,\n",
       " 3106006529: <trimesh.Trimesh(vertices.shape=(31538, 3), faces.shape=(63072, 3))>,\n",
       " 174105601: <trimesh.Trimesh(vertices.shape=(492, 3), faces.shape=(980, 3))>,\n",
       " 3257728897: <trimesh.Trimesh(vertices.shape=(7728, 3), faces.shape=(15452, 3))>,\n",
       " 848386945: <trimesh.Trimesh(vertices.shape=(126, 3), faces.shape=(248, 3))>,\n",
       " 3258686593: <trimesh.Trimesh(vertices.shape=(29440, 3), faces.shape=(58876, 3))>,\n",
       " 535689089: <trimesh.Trimesh(vertices.shape=(242, 3), faces.shape=(480, 3))>,\n",
       " 1978357249: <trimesh.Trimesh(vertices.shape=(11782, 3), faces.shape=(23560, 3))>,\n",
       " 232631553: <trimesh.Trimesh(vertices.shape=(6062, 3), faces.shape=(12112, 3))>,\n",
       " 3257730433: <trimesh.Trimesh(vertices.shape=(25568, 3), faces.shape=(51132, 3))>,\n",
       " 3753687809: <trimesh.Trimesh(vertices.shape=(22290, 3), faces.shape=(44576, 3))>,\n",
       " 848387969: <trimesh.Trimesh(vertices.shape=(1062, 3), faces.shape=(2120, 3))>,\n",
       " 2528802049: <trimesh.Trimesh(vertices.shape=(38, 3), faces.shape=(72, 3))>,\n",
       " 3070459905: <trimesh.Trimesh(vertices.shape=(7664, 3), faces.shape=(15324, 3))>,\n",
       " 848375681: <trimesh.Trimesh(vertices.shape=(432, 3), faces.shape=(860, 3))>,\n",
       " 3257521281: <trimesh.Trimesh(vertices.shape=(3332, 3), faces.shape=(6656, 3))>,\n",
       " 339272065: <trimesh.Trimesh(vertices.shape=(1104, 3), faces.shape=(2204, 3))>,\n",
       " 535688065: <trimesh.Trimesh(vertices.shape=(272, 3), faces.shape=(536, 3))>,\n",
       " 3257528705: <trimesh.Trimesh(vertices.shape=(18542, 3), faces.shape=(37080, 3))>,\n",
       " 848390785: <trimesh.Trimesh(vertices.shape=(7120, 3), faces.shape=(14236, 3))>,\n",
       " 281041921: <trimesh.Trimesh(vertices.shape=(1696, 3), faces.shape=(3388, 3))>,\n",
       " 3651250689: <trimesh.Trimesh(vertices.shape=(85234, 3), faces.shape=(170464, 3))>,\n",
       " 1978357505: <trimesh.Trimesh(vertices.shape=(85224, 3), faces.shape=(170436, 3))>,\n",
       " 209882881: <trimesh.Trimesh(vertices.shape=(22862, 3), faces.shape=(45716, 3))>,\n",
       " 3163794817: <trimesh.Trimesh(vertices.shape=(25722, 3), faces.shape=(51428, 3))>,\n",
       " 3081112705: <trimesh.Trimesh(vertices.shape=(17674, 3), faces.shape=(35344, 3))>,\n",
       " 2695866497: <trimesh.Trimesh(vertices.shape=(15150, 3), faces.shape=(30296, 3))>,\n",
       " 3303541633: <trimesh.Trimesh(vertices.shape=(67976, 3), faces.shape=(135920, 3))>,\n",
       " 22909569: <trimesh.Trimesh(vertices.shape=(586, 3), faces.shape=(1168, 3))>,\n",
       " 3376667521: <trimesh.Trimesh(vertices.shape=(24318, 3), faces.shape=(48628, 3))>,\n",
       " 3304891777: <trimesh.Trimesh(vertices.shape=(4488, 3), faces.shape=(8972, 3))>,\n",
       " 3257526145: <trimesh.Trimesh(vertices.shape=(22784, 3), faces.shape=(45560, 3))>,\n",
       " 339276929: <trimesh.Trimesh(vertices.shape=(430, 3), faces.shape=(856, 3))>,\n",
       " 3389871489: <trimesh.Trimesh(vertices.shape=(46748, 3), faces.shape=(93488, 3))>,\n",
       " 3376651393: <trimesh.Trimesh(vertices.shape=(24808, 3), faces.shape=(49612, 3))>,\n",
       " 241336065: <trimesh.Trimesh(vertices.shape=(12434, 3), faces.shape=(24864, 3))>,\n",
       " 400398721: <trimesh.Trimesh(vertices.shape=(384, 3), faces.shape=(764, 3))>,\n",
       " 3360171649: <trimesh.Trimesh(vertices.shape=(17498, 3), faces.shape=(34992, 3))>,\n",
       " 3260852737: <trimesh.Trimesh(vertices.shape=(19306, 3), faces.shape=(38612, 3))>,\n",
       " 535685249: <trimesh.Trimesh(vertices.shape=(4864, 3), faces.shape=(9724, 3))>,\n",
       " 100353: <trimesh.Trimesh(vertices.shape=(310, 3), faces.shape=(616, 3))>,\n",
       " 3163771521: <trimesh.Trimesh(vertices.shape=(80186, 3), faces.shape=(160360, 3))>,\n",
       " 1614149377: <trimesh.Trimesh(vertices.shape=(19764, 3), faces.shape=(39524, 3))>,\n",
       " 241333505: <trimesh.Trimesh(vertices.shape=(5898, 3), faces.shape=(11788, 3))>,\n",
       " 245108481: <trimesh.Trimesh(vertices.shape=(658, 3), faces.shape=(1312, 3))>,\n",
       " 3401127297: <trimesh.Trimesh(vertices.shape=(27610, 3), faces.shape=(55216, 3))>,\n",
       " 535684225: <trimesh.Trimesh(vertices.shape=(964, 3), faces.shape=(1924, 3))>,\n",
       " 3261446529: <trimesh.Trimesh(vertices.shape=(762, 3), faces.shape=(1520, 3))>,\n",
       " 339152001: <trimesh.Trimesh(vertices.shape=(6124, 3), faces.shape=(12244, 3))>,\n",
       " 3655300225: <trimesh.Trimesh(vertices.shape=(13374, 3), faces.shape=(26740, 3))>,\n",
       " 281052929: <trimesh.Trimesh(vertices.shape=(700, 3), faces.shape=(1396, 3))>,\n",
       " 3380805761: <trimesh.Trimesh(vertices.shape=(27114, 3), faces.shape=(54220, 3))>,\n",
       " 848382081: <trimesh.Trimesh(vertices.shape=(224, 3), faces.shape=(444, 3))>,\n",
       " 339270785: <trimesh.Trimesh(vertices.shape=(3320, 3), faces.shape=(6636, 3))>,\n",
       " 3385490305: <trimesh.Trimesh(vertices.shape=(75848, 3), faces.shape=(151692, 3))>,\n",
       " 334057473: <trimesh.Trimesh(vertices.shape=(1684, 3), faces.shape=(3368, 3))>,\n",
       " 274531073: <trimesh.Trimesh(vertices.shape=(43738, 3), faces.shape=(87472, 3))>,\n",
       " 3229876993: <trimesh.Trimesh(vertices.shape=(74156, 3), faces.shape=(148304, 3))>,\n",
       " 3395676929: <trimesh.Trimesh(vertices.shape=(43388, 3), faces.shape=(86748, 3))>,\n",
       " 3403442049: <trimesh.Trimesh(vertices.shape=(10264, 3), faces.shape=(20524, 3))>,\n",
       " 3303507841: <trimesh.Trimesh(vertices.shape=(30980, 3), faces.shape=(61956, 3))>,\n",
       " 3376663937: <trimesh.Trimesh(vertices.shape=(17326, 3), faces.shape=(34648, 3))>,\n",
       " 3163795585: <trimesh.Trimesh(vertices.shape=(14398, 3), faces.shape=(28792, 3))>,\n",
       " 339271041: <trimesh.Trimesh(vertices.shape=(4024, 3), faces.shape=(8044, 3))>,\n",
       " 848382337: <trimesh.Trimesh(vertices.shape=(620, 3), faces.shape=(1236, 3))>,\n",
       " 331527937: <trimesh.Trimesh(vertices.shape=(23192, 3), faces.shape=(46372, 3))>,\n",
       " 3225434497: <trimesh.Trimesh(vertices.shape=(1116, 3), faces.shape=(2228, 3))>,\n",
       " 4008351233: <trimesh.Trimesh(vertices.shape=(20122, 3), faces.shape=(40244, 3))>,\n",
       " 3431792385: <trimesh.Trimesh(vertices.shape=(24614, 3), faces.shape=(49224, 3))>,\n",
       " 1620749441: <trimesh.Trimesh(vertices.shape=(13016, 3), faces.shape=(26028, 3))>,\n",
       " 1: <trimesh.Trimesh(vertices.shape=(280, 3), faces.shape=(556, 3))>,\n",
       " 535682177: <trimesh.Trimesh(vertices.shape=(422, 3), faces.shape=(840, 3))>,\n",
       " 3166047361: <trimesh.Trimesh(vertices.shape=(6372, 3), faces.shape=(12740, 3))>,\n",
       " 222672641: <trimesh.Trimesh(vertices.shape=(35226, 3), faces.shape=(70448, 3))>,\n",
       " 281394945: <trimesh.Trimesh(vertices.shape=(106, 3), faces.shape=(208, 3))>,\n",
       " 4609: <trimesh.Trimesh(vertices.shape=(210, 3), faces.shape=(416, 3))>,\n",
       " 339272833: <trimesh.Trimesh(vertices.shape=(380, 3), faces.shape=(756, 3))>,\n",
       " 848384129: <trimesh.Trimesh(vertices.shape=(6108, 3), faces.shape=(12212, 3))>,\n",
       " 281052417: <trimesh.Trimesh(vertices.shape=(834, 3), faces.shape=(1664, 3))>,\n",
       " 3376716161: <trimesh.Trimesh(vertices.shape=(29928, 3), faces.shape=(59852, 3))>,\n",
       " 535688833: <trimesh.Trimesh(vertices.shape=(280, 3), faces.shape=(556, 3))>,\n",
       " 1978358273: <trimesh.Trimesh(vertices.shape=(2834, 3), faces.shape=(5664, 3))>,\n",
       " 3651251457: <trimesh.Trimesh(vertices.shape=(50674, 3), faces.shape=(101340, 3))>,\n",
       " 3372112769: <trimesh.Trimesh(vertices.shape=(44434, 3), faces.shape=(88864, 3))>,\n",
       " 3162079617: <trimesh.Trimesh(vertices.shape=(47772, 3), faces.shape=(95540, 3))>,\n",
       " 4087191809: <trimesh.Trimesh(vertices.shape=(57884, 3), faces.shape=(115764, 3))>,\n",
       " 4250478593: <trimesh.Trimesh(vertices.shape=(38460, 3), faces.shape=(76916, 3))>,\n",
       " 281044737: <trimesh.Trimesh(vertices.shape=(530, 3), faces.shape=(1056, 3))>,\n",
       " 241330689: <trimesh.Trimesh(vertices.shape=(16, 3), faces.shape=(24, 3))>,\n",
       " 3403442561: <trimesh.Trimesh(vertices.shape=(22756, 3), faces.shape=(45504, 3))>,\n",
       " 3225434753: <trimesh.Trimesh(vertices.shape=(17770, 3), faces.shape=(35536, 3))>,\n",
       " 3257590401: <trimesh.Trimesh(vertices.shape=(20328, 3), faces.shape=(40652, 3))>,\n",
       " 848381057: <trimesh.Trimesh(vertices.shape=(680, 3), faces.shape=(1356, 3))>,\n",
       " 174107649: <trimesh.Trimesh(vertices.shape=(560, 3), faces.shape=(1116, 3))>,\n",
       " 3347444609: <trimesh.Trimesh(vertices.shape=(61978, 3), faces.shape=(123964, 3))>,\n",
       " 3257730945: <trimesh.Trimesh(vertices.shape=(19384, 3), faces.shape=(38760, 3))>,\n",
       " 3163818625: <trimesh.Trimesh(vertices.shape=(5352, 3), faces.shape=(10700, 3))>,\n",
       " 205760513: <trimesh.Trimesh(vertices.shape=(20624, 3), faces.shape=(41244, 3))>,\n",
       " 4008228737: <trimesh.Trimesh(vertices.shape=(30834, 3), faces.shape=(61664, 3))>,\n",
       " 337624577: <trimesh.Trimesh(vertices.shape=(28922, 3), faces.shape=(57836, 3))>,\n",
       " 4175556481: <trimesh.Trimesh(vertices.shape=(42072, 3), faces.shape=(84136, 3))>,\n",
       " 3376658561: <trimesh.Trimesh(vertices.shape=(598, 3), faces.shape=(1188, 3))>,\n",
       " 281395201: <trimesh.Trimesh(vertices.shape=(490, 3), faces.shape=(976, 3))>,\n",
       " 12801: <trimesh.Trimesh(vertices.shape=(426, 3), faces.shape=(848, 3))>,\n",
       " 2114226561: <trimesh.Trimesh(vertices.shape=(690, 3), faces.shape=(1376, 3))>,\n",
       " 339258753: <trimesh.Trimesh(vertices.shape=(990, 3), faces.shape=(1976, 3))>,\n",
       " 339269505: <trimesh.Trimesh(vertices.shape=(232, 3), faces.shape=(460, 3))>,\n",
       " 3257715329: <trimesh.Trimesh(vertices.shape=(51078, 3), faces.shape=(102152, 3))>,\n",
       " 3304803969: <trimesh.Trimesh(vertices.shape=(25482, 3), faces.shape=(50960, 3))>,\n",
       " 3562593665: <trimesh.Trimesh(vertices.shape=(118360, 3), faces.shape=(236712, 3))>,\n",
       " 3257736577: <trimesh.Trimesh(vertices.shape=(63388, 3), faces.shape=(126768, 3))>,\n",
       " 136212097: <trimesh.Trimesh(vertices.shape=(79738, 3), faces.shape=(159464, 3))>,\n",
       " 3163806593: <trimesh.Trimesh(vertices.shape=(9502, 3), faces.shape=(19000, 3))>,\n",
       " 213050881: <trimesh.Trimesh(vertices.shape=(25072, 3), faces.shape=(50144, 3))>,\n",
       " 333993985: <trimesh.Trimesh(vertices.shape=(1350, 3), faces.shape=(2696, 3))>,\n",
       " 3226835329: <trimesh.Trimesh(vertices.shape=(33680, 3), faces.shape=(67356, 3))>,\n",
       " 230489857: <trimesh.Trimesh(vertices.shape=(2096, 3), faces.shape=(4188, 3))>,\n",
       " 3171025537: <trimesh.Trimesh(vertices.shape=(64850, 3), faces.shape=(129676, 3))>,\n",
       " 995845505: <trimesh.Trimesh(vertices.shape=(336, 3), faces.shape=(668, 3))>,\n",
       " 331652097: <trimesh.Trimesh(vertices.shape=(68016, 3), faces.shape=(136028, 3))>,\n",
       " 15873: <trimesh.Trimesh(vertices.shape=(8996, 3), faces.shape=(17988, 3))>,\n",
       " 241334273: <trimesh.Trimesh(vertices.shape=(12786, 3), faces.shape=(25568, 3))>,\n",
       " 3163807617: <trimesh.Trimesh(vertices.shape=(45378, 3), faces.shape=(90748, 3))>,\n",
       " 3378716545: <trimesh.Trimesh(vertices.shape=(49320, 3), faces.shape=(98616, 3))>,\n",
       " 3355355521: <trimesh.Trimesh(vertices.shape=(14, 3), faces.shape=(24, 3))>,\n",
       " 3225954433: <trimesh.Trimesh(vertices.shape=(10178, 3), faces.shape=(20348, 3))>,\n",
       " 3163779457: <trimesh.Trimesh(vertices.shape=(16762, 3), faces.shape=(33520, 3))>,\n",
       " 281054465: <trimesh.Trimesh(vertices.shape=(1536, 3), faces.shape=(3068, 3))>,\n",
       " 3148546689: <trimesh.Trimesh(vertices.shape=(4950, 3), faces.shape=(9888, 3))>,\n",
       " 3163778945: <trimesh.Trimesh(vertices.shape=(25744, 3), faces.shape=(51480, 3))>,\n",
       " 281053953: <trimesh.Trimesh(vertices.shape=(1102, 3), faces.shape=(2200, 3))>,\n",
       " 3340125697: <trimesh.Trimesh(vertices.shape=(102048, 3), faces.shape=(204088, 3))>,\n",
       " 339263617: <trimesh.Trimesh(vertices.shape=(576, 3), faces.shape=(1148, 3))>,\n",
       " 8193: <trimesh.Trimesh(vertices.shape=(94, 3), faces.shape=(184, 3))>,\n",
       " 3162556801: <trimesh.Trimesh(vertices.shape=(120, 3), faces.shape=(236, 3))>,\n",
       " 230488833: <trimesh.Trimesh(vertices.shape=(13022, 3), faces.shape=(26036, 3))>,\n",
       " 1978355713: <trimesh.Trimesh(vertices.shape=(9910, 3), faces.shape=(19812, 3))>,\n",
       " 3262141569: <trimesh.Trimesh(vertices.shape=(114, 3), faces.shape=(220, 3))>,\n",
       " 848389761: <trimesh.Trimesh(vertices.shape=(758, 3), faces.shape=(1512, 3))>,\n",
       " 329237505: <trimesh.Trimesh(vertices.shape=(564, 3), faces.shape=(1124, 3))>,\n",
       " 230504193: <trimesh.Trimesh(vertices.shape=(89222, 3), faces.shape=(178440, 3))>,\n",
       " 339154305: <trimesh.Trimesh(vertices.shape=(542, 3), faces.shape=(1080, 3))>,\n",
       " 136315521: <trimesh.Trimesh(vertices.shape=(84908, 3), faces.shape=(169800, 3))>,\n",
       " 22909313: <trimesh.Trimesh(vertices.shape=(1678, 3), faces.shape=(3352, 3))>,\n",
       " 3024058497: <trimesh.Trimesh(vertices.shape=(40236, 3), faces.shape=(80464, 3))>,\n",
       " 3567632001: <trimesh.Trimesh(vertices.shape=(17194, 3), faces.shape=(34376, 3))>,\n",
       " 339151745: <trimesh.Trimesh(vertices.shape=(5186, 3), faces.shape=(10368, 3))>,\n",
       " 339270017: <trimesh.Trimesh(vertices.shape=(616, 3), faces.shape=(1228, 3))>,\n",
       " 281040385: <trimesh.Trimesh(vertices.shape=(380, 3), faces.shape=(756, 3))>,\n",
       " 3538270977: <trimesh.Trimesh(vertices.shape=(4026, 3), faces.shape=(8048, 3))>,\n",
       " 848193921: <trimesh.Trimesh(vertices.shape=(454, 3), faces.shape=(904, 3))>,\n",
       " 230565121: <trimesh.Trimesh(vertices.shape=(15962, 3), faces.shape=(31920, 3))>,\n",
       " 107777: <trimesh.Trimesh(vertices.shape=(408, 3), faces.shape=(812, 3))>,\n",
       " 22906753: <trimesh.Trimesh(vertices.shape=(428, 3), faces.shape=(852, 3))>,\n",
       " 221213697: <trimesh.Trimesh(vertices.shape=(37206, 3), faces.shape=(74408, 3))>,\n",
       " 2695843201: <trimesh.Trimesh(vertices.shape=(2206, 3), faces.shape=(4396, 3))>,\n",
       " 3026758145: <trimesh.Trimesh(vertices.shape=(38736, 3), faces.shape=(77468, 3))>,\n",
       " 3311673473: <trimesh.Trimesh(vertices.shape=(9782, 3), faces.shape=(19552, 3))>,\n",
       " 2528808193: <trimesh.Trimesh(vertices.shape=(274, 3), faces.shape=(544, 3))>,\n",
       " 1978358529: <trimesh.Trimesh(vertices.shape=(1130, 3), faces.shape=(2256, 3))>,\n",
       " 337677313: <trimesh.Trimesh(vertices.shape=(31326, 3), faces.shape=(62628, 3))>,\n",
       " 3163799681: <trimesh.Trimesh(vertices.shape=(4402, 3), faces.shape=(8776, 3))>,\n",
       " 3261795969: <trimesh.Trimesh(vertices.shape=(6522, 3), faces.shape=(13040, 3))>,\n",
       " 3623784577: <trimesh.Trimesh(vertices.shape=(106, 3), faces.shape=(208, 3))>,\n",
       " 295088385: <trimesh.Trimesh(vertices.shape=(26710, 3), faces.shape=(53420, 3))>,\n",
       " 3614006529: <trimesh.Trimesh(vertices.shape=(4858, 3), faces.shape=(9712, 3))>,\n",
       " 174103553: <trimesh.Trimesh(vertices.shape=(1376, 3), faces.shape=(2748, 3))>,\n",
       " 1620736385: <trimesh.Trimesh(vertices.shape=(3162, 3), faces.shape=(6312, 3))>,\n",
       " 3429840385: <trimesh.Trimesh(vertices.shape=(34808, 3), faces.shape=(69612, 3))>,\n",
       " 1444147329: <trimesh.Trimesh(vertices.shape=(592, 3), faces.shape=(1180, 3))>,\n",
       " 3304892033: <trimesh.Trimesh(vertices.shape=(19150, 3), faces.shape=(38280, 3))>,\n",
       " 3760699905: <trimesh.Trimesh(vertices.shape=(1234, 3), faces.shape=(2460, 3))>,\n",
       " 3225557889: <trimesh.Trimesh(vertices.shape=(44954, 3), faces.shape=(89896, 3))>,\n",
       " 281047553: <trimesh.Trimesh(vertices.shape=(776, 3), faces.shape=(1548, 3))>,\n",
       " 2049: <trimesh.Trimesh(vertices.shape=(6332, 3), faces.shape=(12660, 3))>,\n",
       " 2206081: <trimesh.Trimesh(vertices.shape=(284, 3), faces.shape=(560, 3))>,\n",
       " 3257461633: <trimesh.Trimesh(vertices.shape=(236, 3), faces.shape=(468, 3))>,\n",
       " 281390337: <trimesh.Trimesh(vertices.shape=(936, 3), faces.shape=(1868, 3))>,\n",
       " 22919553: <trimesh.Trimesh(vertices.shape=(5886, 3), faces.shape=(11768, 3))>,\n",
       " 3382071681: <trimesh.Trimesh(vertices.shape=(73400, 3), faces.shape=(146792, 3))>,\n",
       " 174109697: <trimesh.Trimesh(vertices.shape=(722, 3), faces.shape=(1440, 3))>,\n",
       " 3083699841: <trimesh.Trimesh(vertices.shape=(2846, 3), faces.shape=(5688, 3))>,\n",
       " 848235905: <trimesh.Trimesh(vertices.shape=(292, 3), faces.shape=(580, 3))>,\n",
       " 3331457537: <trimesh.Trimesh(vertices.shape=(56672, 3), faces.shape=(113336, 3))>,\n",
       " 100609: <trimesh.Trimesh(vertices.shape=(628, 3), faces.shape=(1252, 3))>,\n",
       " 3568631937: <trimesh.Trimesh(vertices.shape=(24910, 3), faces.shape=(49816, 3))>,\n",
       " 400397441: <trimesh.Trimesh(vertices.shape=(764, 3), faces.shape=(1524, 3))>,\n",
       " 3429839617: <trimesh.Trimesh(vertices.shape=(7172, 3), faces.shape=(14336, 3))>,\n",
       " 55326721: <trimesh.Trimesh(vertices.shape=(39910, 3), faces.shape=(79824, 3))>,\n",
       " 3389655425: <trimesh.Trimesh(vertices.shape=(28910, 3), faces.shape=(57816, 3))>,\n",
       " 400132737: <trimesh.Trimesh(vertices.shape=(26, 3), faces.shape=(48, 3))>,\n",
       " 2695842433: <trimesh.Trimesh(vertices.shape=(20070, 3), faces.shape=(40132, 3))>,\n",
       " 275622145: <trimesh.Trimesh(vertices.shape=(13816, 3), faces.shape=(27628, 3))>,\n",
       " 1978282753: <trimesh.Trimesh(vertices.shape=(6388, 3), faces.shape=(12772, 3))>,\n",
       " 3376651905: <trimesh.Trimesh(vertices.shape=(13102, 3), faces.shape=(26200, 3))>,\n",
       " 3372112257: <trimesh.Trimesh(vertices.shape=(8860, 3), faces.shape=(17712, 3))>,\n",
       " 3575549313: <trimesh.Trimesh(vertices.shape=(232766, 3), faces.shape=(465520, 3))>,\n",
       " 115969: <trimesh.Trimesh(vertices.shape=(9316, 3), faces.shape=(18628, 3))>,\n",
       " 331528961: <trimesh.Trimesh(vertices.shape=(41460, 3), faces.shape=(82916, 3))>,\n",
       " 1620727169: <trimesh.Trimesh(vertices.shape=(9292, 3), faces.shape=(18580, 3))>,\n",
       " 1614148609: <trimesh.Trimesh(vertices.shape=(15224, 3), faces.shape=(30444, 3))>,\n",
       " 3182230401: <trimesh.Trimesh(vertices.shape=(2584, 3), faces.shape=(5164, 3))>,\n",
       " 3186488961: <trimesh.Trimesh(vertices.shape=(4588, 3), faces.shape=(9172, 3))>,\n",
       " 3678286593: <trimesh.Trimesh(vertices.shape=(31030, 3), faces.shape=(62044, 3))>,\n",
       " 339149697: <trimesh.Trimesh(vertices.shape=(3638, 3), faces.shape=(7268, 3))>,\n",
       " 3197757057: <trimesh.Trimesh(vertices.shape=(15662, 3), faces.shape=(31320, 3))>,\n",
       " 3163808385: <trimesh.Trimesh(vertices.shape=(1178, 3), faces.shape=(2352, 3))>,\n",
       " 3229530113: <trimesh.Trimesh(vertices.shape=(7066, 3), faces.shape=(14128, 3))>,\n",
       " 3401433985: <trimesh.Trimesh(vertices.shape=(146, 3), faces.shape=(288, 3))>,\n",
       " 281049857: <trimesh.Trimesh(vertices.shape=(1046, 3), faces.shape=(2088, 3))>,\n",
       " 4202881921: <trimesh.Trimesh(vertices.shape=(17000, 3), faces.shape=(33988, 3))>,\n",
       " 3163793281: <trimesh.Trimesh(vertices.shape=(3914, 3), faces.shape=(7816, 3))>,\n",
       " 400394369: <trimesh.Trimesh(vertices.shape=(2628, 3), faces.shape=(5252, 3))>,\n",
       " 1978348545: <trimesh.Trimesh(vertices.shape=(1210, 3), faces.shape=(2416, 3))>,\n",
       " 3257740417: <trimesh.Trimesh(vertices.shape=(30632, 3), faces.shape=(61256, 3))>,\n",
       " 3182240129: <trimesh.Trimesh(vertices.shape=(22438, 3), faces.shape=(44872, 3))>,\n",
       " 1444115329: <trimesh.Trimesh(vertices.shape=(864, 3), faces.shape=(1724, 3))>,\n",
       " 3163818369: <trimesh.Trimesh(vertices.shape=(27216, 3), faces.shape=(54432, 3))>,\n",
       " 3163817601: <trimesh.Trimesh(vertices.shape=(942, 3), faces.shape=(1880, 3))>,\n",
       " 3131420545: <trimesh.Trimesh(vertices.shape=(25998, 3), faces.shape=(51992, 3))>,\n",
       " 535686273: <trimesh.Trimesh(vertices.shape=(892, 3), faces.shape=(1780, 3))>,\n",
       " 3182239361: <trimesh.Trimesh(vertices.shape=(6094, 3), faces.shape=(12184, 3))>,\n",
       " 241323521: <trimesh.Trimesh(vertices.shape=(102298, 3), faces.shape=(204588, 3))>,\n",
       " 3219809153: <trimesh.Trimesh(vertices.shape=(32102, 3), faces.shape=(64200, 3))>,\n",
       " 3163792513: <trimesh.Trimesh(vertices.shape=(2918, 3), faces.shape=(5832, 3))>,\n",
       " 3192166785: <trimesh.Trimesh(vertices.shape=(21222, 3), faces.shape=(42436, 3))>,\n",
       " 281050113: <trimesh.Trimesh(vertices.shape=(728, 3), faces.shape=(1452, 3))>,\n",
       " 2740835201: <trimesh.Trimesh(vertices.shape=(12846, 3), faces.shape=(25688, 3))>,\n",
       " 3304952449: <trimesh.Trimesh(vertices.shape=(65348, 3), faces.shape=(130684, 3))>,\n",
       " 3163770497: <trimesh.Trimesh(vertices.shape=(13370, 3), faces.shape=(26728, 3))>,\n",
       " 3021793793: <trimesh.Trimesh(vertices.shape=(74408, 3), faces.shape=(148808, 3))>,\n",
       " 3344441217: <trimesh.Trimesh(vertices.shape=(21090, 3), faces.shape=(42176, 3))>,\n",
       " 3322999937: <trimesh.Trimesh(vertices.shape=(12934, 3), faces.shape=(25860, 3))>,\n",
       " 281394433: <trimesh.Trimesh(vertices.shape=(364, 3), faces.shape=(724, 3))>,\n",
       " 329233409: <trimesh.Trimesh(vertices.shape=(6018, 3), faces.shape=(12032, 3))>,\n",
       " 281036801: <trimesh.Trimesh(vertices.shape=(11362, 3), faces.shape=(22724, 3))>,\n",
       " 3403397505: <trimesh.Trimesh(vertices.shape=(2284, 3), faces.shape=(4560, 3))>,\n",
       " 281046529: <trimesh.Trimesh(vertices.shape=(832, 3), faces.shape=(1660, 3))>,\n",
       " 3225556865: <trimesh.Trimesh(vertices.shape=(19526, 3), faces.shape=(39048, 3))>,\n",
       " 3423797377: <trimesh.Trimesh(vertices.shape=(9828, 3), faces.shape=(19652, 3))>,\n",
       " 4236898433: <trimesh.Trimesh(vertices.shape=(20654, 3), faces.shape=(41304, 3))>,\n",
       " 232615425: <trimesh.Trimesh(vertices.shape=(13322, 3), faces.shape=(26640, 3))>,\n",
       " 3403397249: <trimesh.Trimesh(vertices.shape=(2980, 3), faces.shape=(5948, 3))>,\n",
       " 535682945: <trimesh.Trimesh(vertices.shape=(1080, 3), faces.shape=(2156, 3))>,\n",
       " 98049: <trimesh.Trimesh(vertices.shape=(960, 3), faces.shape=(1916, 3))>,\n",
       " 3277713665: <trimesh.Trimesh(vertices.shape=(23854, 3), faces.shape=(47704, 3))>,\n",
       " 2695852417: <trimesh.Trimesh(vertices.shape=(7972, 3), faces.shape=(15928, 3))>,\n",
       " 2879138817: <trimesh.Trimesh(vertices.shape=(18828, 3), faces.shape=(37652, 3))>,\n",
       " 3360152193: <trimesh.Trimesh(vertices.shape=(7570, 3), faces.shape=(15132, 3))>,\n",
       " 3395782145: <trimesh.Trimesh(vertices.shape=(56024, 3), faces.shape=(112032, 3))>,\n",
       " 1620748161: <trimesh.Trimesh(vertices.shape=(2994, 3), faces.shape=(5984, 3))>,\n",
       " 3307999745: <trimesh.Trimesh(vertices.shape=(28162, 3), faces.shape=(56320, 3))>,\n",
       " 1614153985: <trimesh.Trimesh(vertices.shape=(2200, 3), faces.shape=(4396, 3))>,\n",
       " 3176903553: <trimesh.Trimesh(vertices.shape=(21546, 3), faces.shape=(43088, 3))>,\n",
       " 3336764033: <trimesh.Trimesh(vertices.shape=(28622, 3), faces.shape=(57240, 3))>,\n",
       " 3133204865: <trimesh.Trimesh(vertices.shape=(22868, 3), faces.shape=(45732, 3))>,\n",
       " 400401793: <trimesh.Trimesh(vertices.shape=(578, 3), faces.shape=(1152, 3))>,\n",
       " 281038849: <trimesh.Trimesh(vertices.shape=(1402, 3), faces.shape=(2800, 3))>,\n",
       " 3218735489: <trimesh.Trimesh(vertices.shape=(30602, 3), faces.shape=(61196, 3))>,\n",
       " 2528807681: <trimesh.Trimesh(vertices.shape=(4252, 3), faces.shape=(8496, 3))>,\n",
       " 3313595265: <trimesh.Trimesh(vertices.shape=(27556, 3), faces.shape=(55108, 3))>,\n",
       " 3155213313: <trimesh.Trimesh(vertices.shape=(26962, 3), faces.shape=(53920, 3))>,\n",
       " 275554561: <trimesh.Trimesh(vertices.shape=(13368, 3), faces.shape=(26728, 3))>,\n",
       " 2740834945: <trimesh.Trimesh(vertices.shape=(21088, 3), faces.shape=(42172, 3))>,\n",
       " 337683457: <trimesh.Trimesh(vertices.shape=(10286, 3), faces.shape=(20568, 3))>,\n",
       " 1444115585: <trimesh.Trimesh(vertices.shape=(8352, 3), faces.shape=(16700, 3))>,\n",
       " 3401065857: <trimesh.Trimesh(vertices.shape=(29868, 3), faces.shape=(59732, 3))>,\n",
       " 3395813633: <trimesh.Trimesh(vertices.shape=(227836, 3), faces.shape=(455668, 3))>,\n",
       " 339276161: <trimesh.Trimesh(vertices.shape=(486, 3), faces.shape=(968, 3))>,\n",
       " 1444153217: <trimesh.Trimesh(vertices.shape=(122, 3), faces.shape=(236, 3))>,\n",
       " 2528808449: <trimesh.Trimesh(vertices.shape=(5260, 3), faces.shape=(10512, 3))>,\n",
       " 3250634369: <trimesh.Trimesh(vertices.shape=(5314, 3), faces.shape=(10616, 3))>,\n",
       " 241332225: <trimesh.Trimesh(vertices.shape=(14830, 3), faces.shape=(29624, 3))>,\n",
       " 339153537: <trimesh.Trimesh(vertices.shape=(4796, 3), faces.shape=(9588, 3))>,\n",
       " 3262796929: <trimesh.Trimesh(vertices.shape=(74070, 3), faces.shape=(148136, 3))>,\n",
       " 3586021889: <trimesh.Trimesh(vertices.shape=(36568, 3), faces.shape=(73132, 3))>,\n",
       " 3245195137: <trimesh.Trimesh(vertices.shape=(29436, 3), faces.shape=(58864, 3))>,\n",
       " 339153793: <trimesh.Trimesh(vertices.shape=(1074, 3), faces.shape=(2144, 3))>,\n",
       " 3760906753: <trimesh.Trimesh(vertices.shape=(90388, 3), faces.shape=(180764, 3))>,\n",
       " 3262797185: <trimesh.Trimesh(vertices.shape=(18296, 3), faces.shape=(36588, 3))>,\n",
       " 848193665: <trimesh.Trimesh(vertices.shape=(660, 3), faces.shape=(1316, 3))>,\n",
       " 174104577: <trimesh.Trimesh(vertices.shape=(1848, 3), faces.shape=(3692, 3))>,\n",
       " 3304855937: <trimesh.Trimesh(vertices.shape=(14532, 3), faces.shape=(29060, 3))>,\n",
       " 1444149121: <trimesh.Trimesh(vertices.shape=(128, 3), faces.shape=(252, 3))>,\n",
       " 1614152961: <trimesh.Trimesh(vertices.shape=(6636, 3), faces.shape=(13268, 3))>,\n",
       " 274475521: <trimesh.Trimesh(vertices.shape=(52858, 3), faces.shape=(105712, 3))>,\n",
       " 1978356737: <trimesh.Trimesh(vertices.shape=(2200, 3), faces.shape=(4396, 3))>,\n",
       " 848380801: <trimesh.Trimesh(vertices.shape=(3100, 3), faces.shape=(6196, 3))>,\n",
       " 3262984321: <trimesh.Trimesh(vertices.shape=(49136, 3), faces.shape=(98272, 3))>,\n",
       " 3257590145: <trimesh.Trimesh(vertices.shape=(10638, 3), faces.shape=(21268, 3))>,\n",
       " 3257728641: <trimesh.Trimesh(vertices.shape=(8090, 3), faces.shape=(16176, 3))>,\n",
       " 3257566337: <trimesh.Trimesh(vertices.shape=(18666, 3), faces.shape=(37328, 3))>,\n",
       " 848194433: <trimesh.Trimesh(vertices.shape=(4450, 3), faces.shape=(8896, 3))>,\n",
       " 3225419649: <trimesh.Trimesh(vertices.shape=(9976, 3), faces.shape=(19932, 3))>,\n",
       " 3403427457: <trimesh.Trimesh(vertices.shape=(80588, 3), faces.shape=(161168, 3))>,\n",
       " 400399233: <trimesh.Trimesh(vertices.shape=(972, 3), faces.shape=(1940, 3))>,\n",
       " 3021826817: <trimesh.Trimesh(vertices.shape=(67240, 3), faces.shape=(134472, 3))>,\n",
       " 174105089: <trimesh.Trimesh(vertices.shape=(866, 3), faces.shape=(1728, 3))>,\n",
       " 1444149633: <trimesh.Trimesh(vertices.shape=(1424, 3), faces.shape=(2844, 3))>,\n",
       " 1614153473: <trimesh.Trimesh(vertices.shape=(3536, 3), faces.shape=(7068, 3))>,\n",
       " 3352297985: <trimesh.Trimesh(vertices.shape=(84956, 3), faces.shape=(169908, 3))>,\n",
       " 2305: <trimesh.Trimesh(vertices.shape=(728, 3), faces.shape=(1452, 3))>,\n",
       " 232758273: <trimesh.Trimesh(vertices.shape=(20238, 3), faces.shape=(40472, 3))>,\n",
       " 3172868097: <trimesh.Trimesh(vertices.shape=(9470, 3), faces.shape=(18928, 3))>,\n",
       " 3950726913: <trimesh.Trimesh(vertices.shape=(10196, 3), faces.shape=(20388, 3))>,\n",
       " 3117257985: <trimesh.Trimesh(vertices.shape=(30848, 3), faces.shape=(61692, 3))>,\n",
       " 564163201: <trimesh.Trimesh(vertices.shape=(402054, 3), faces.shape=(804372, 3))>,\n",
       " 14081: <trimesh.Trimesh(vertices.shape=(31172, 3), faces.shape=(62340, 3))>,\n",
       " 329235457: <trimesh.Trimesh(vertices.shape=(396, 3), faces.shape=(788, 3))>,\n",
       " 1614184961: <trimesh.Trimesh(vertices.shape=(1800, 3), faces.shape=(3596, 3))>,\n",
       " 400404865: <trimesh.Trimesh(vertices.shape=(862, 3), faces.shape=(1720, 3))>,\n",
       " 3165629825: <trimesh.Trimesh(vertices.shape=(34468, 3), faces.shape=(68932, 3))>,\n",
       " 3805549441: <trimesh.Trimesh(vertices.shape=(17618, 3), faces.shape=(35224, 3))>,\n",
       " 339271553: <trimesh.Trimesh(vertices.shape=(798, 3), faces.shape=(1592, 3))>,\n",
       " 3092462849: <trimesh.Trimesh(vertices.shape=(50510, 3), faces.shape=(101016, 3))>,\n",
       " 3302907521: <trimesh.Trimesh(vertices.shape=(23250, 3), faces.shape=(46492, 3))>,\n",
       " 230565633: <trimesh.Trimesh(vertices.shape=(12764, 3), faces.shape=(25524, 3))>,\n",
       " 3381782913: <trimesh.Trimesh(vertices.shape=(18952, 3), faces.shape=(37896, 3))>,\n",
       " 3166015873: <trimesh.Trimesh(vertices.shape=(27144, 3), faces.shape=(54284, 3))>,\n",
       " 3121300993: <trimesh.Trimesh(vertices.shape=(26094, 3), faces.shape=(52184, 3))>,\n",
       " 174109185: <trimesh.Trimesh(vertices.shape=(558, 3), faces.shape=(1112, 3))>,\n",
       " 3083699329: <trimesh.Trimesh(vertices.shape=(41174, 3), faces.shape=(82336, 3))>,\n",
       " 4050799745: <trimesh.Trimesh(vertices.shape=(12590, 3), faces.shape=(25172, 3))>,\n",
       " 3395873537: <trimesh.Trimesh(vertices.shape=(3082, 3), faces.shape=(6160, 3))>,\n",
       " 97793: <trimesh.Trimesh(vertices.shape=(3850, 3), faces.shape=(7696, 3))>,\n",
       " 3163814273: <trimesh.Trimesh(vertices.shape=(9190, 3), faces.shape=(18372, 3))>,\n",
       " 3403429249: <trimesh.Trimesh(vertices.shape=(15224, 3), faces.shape=(30444, 3))>,\n",
       " 281042689: <trimesh.Trimesh(vertices.shape=(830, 3), faces.shape=(1656, 3))>,\n",
       " 295192833: <trimesh.Trimesh(vertices.shape=(40598, 3), faces.shape=(81192, 3))>,\n",
       " 492902785: <trimesh.Trimesh(vertices.shape=(11804, 3), faces.shape=(23604, 3))>,\n",
       " 329232129: <trimesh.Trimesh(vertices.shape=(7544, 3), faces.shape=(15084, 3))>,\n",
       " 3957700993: <trimesh.Trimesh(vertices.shape=(15220, 3), faces.shape=(30436, 3))>,\n",
       " 3225512577: <trimesh.Trimesh(vertices.shape=(498, 3), faces.shape=(984, 3))>,\n",
       " 848384385: <trimesh.Trimesh(vertices.shape=(838, 3), faces.shape=(1672, 3))>,\n",
       " 3393171841: <trimesh.Trimesh(vertices.shape=(34040, 3), faces.shape=(68076, 3))>,\n",
       " 99841: <trimesh.Trimesh(vertices.shape=(644, 3), faces.shape=(1284, 3))>,\n",
       " 671942145: <trimesh.Trimesh(vertices.shape=(720, 3), faces.shape=(1436, 3))>,\n",
       " 848388481: <trimesh.Trimesh(vertices.shape=(604, 3), faces.shape=(1204, 3))>,\n",
       " 281039617: <trimesh.Trimesh(vertices.shape=(638, 3), faces.shape=(1272, 3))>,\n",
       " 3376709249: <trimesh.Trimesh(vertices.shape=(15322, 3), faces.shape=(30640, 3))>,\n",
       " 3403396225: <trimesh.Trimesh(vertices.shape=(27944, 3), faces.shape=(55884, 3))>,\n",
       " 535681921: <trimesh.Trimesh(vertices.shape=(1398, 3), faces.shape=(2792, 3))>,\n",
       " 245110017: <trimesh.Trimesh(vertices.shape=(524, 3), faces.shape=(1044, 3))>,\n",
       " 535685761: <trimesh.Trimesh(vertices.shape=(646, 3), faces.shape=(1288, 3))>,\n",
       " 3870387585: <trimesh.Trimesh(vertices.shape=(2628, 3), faces.shape=(5252, 3))>,\n",
       " 3248092033: <trimesh.Trimesh(vertices.shape=(111166, 3), faces.shape=(222328, 3))>,\n",
       " 3264661377: <trimesh.Trimesh(vertices.shape=(67626, 3), faces.shape=(135264, 3))>,\n",
       " 1614185473: <trimesh.Trimesh(vertices.shape=(2886, 3), faces.shape=(5768, 3))>,\n",
       " 3395281793: <trimesh.Trimesh(vertices.shape=(34, 3), faces.shape=(64, 3))>,\n",
       " 848379009: <trimesh.Trimesh(vertices.shape=(860, 3), faces.shape=(1716, 3))>,\n",
       " 2995757441: <trimesh.Trimesh(vertices.shape=(7442, 3), faces.shape=(14880, 3))>,\n",
       " 339267713: <trimesh.Trimesh(vertices.shape=(350, 3), faces.shape=(696, 3))>,\n",
       " 230501121: <trimesh.Trimesh(vertices.shape=(20178, 3), faces.shape=(40352, 3))>,\n",
       " 281052161: <trimesh.Trimesh(vertices.shape=(612, 3), faces.shape=(1220, 3))>,\n",
       " 111617: <trimesh.Trimesh(vertices.shape=(1914, 3), faces.shape=(3824, 3))>,\n",
       " 281396993: <trimesh.Trimesh(vertices.shape=(1060, 3), faces.shape=(2116, 3))>,\n",
       " 3181240449: <trimesh.Trimesh(vertices.shape=(35912, 3), faces.shape=(71816, 3))>,\n",
       " 241316609: <trimesh.Trimesh(vertices.shape=(21602, 3), faces.shape=(43200, 3))>,\n",
       " 230456321: <trimesh.Trimesh(vertices.shape=(30412, 3), faces.shape=(60816, 3))>,\n",
       " 320890881: <trimesh.Trimesh(vertices.shape=(14692, 3), faces.shape=(29372, 3))>,\n",
       " 241317377: <trimesh.Trimesh(vertices.shape=(45766, 3), faces.shape=(91528, 3))>,\n",
       " 240624897: <trimesh.Trimesh(vertices.shape=(36450, 3), faces.shape=(72896, 3))>,\n",
       " 4250688001: <trimesh.Trimesh(vertices.shape=(21218, 3), faces.shape=(42424, 3))>,\n",
       " 3345959041: <trimesh.Trimesh(vertices.shape=(23010, 3), faces.shape=(46008, 3))>,\n",
       " 329233921: <trimesh.Trimesh(vertices.shape=(1120, 3), faces.shape=(2236, 3))>,\n",
       " 216912257: <trimesh.Trimesh(vertices.shape=(736, 3), faces.shape=(1468, 3))>,\n",
       " 4023355137: <trimesh.Trimesh(vertices.shape=(988, 3), faces.shape=(1972, 3))>,\n",
       " 339274881: <trimesh.Trimesh(vertices.shape=(1514, 3), faces.shape=(3024, 3))>,\n",
       " 3753711745: <trimesh.Trimesh(vertices.shape=(29706, 3), faces.shape=(59408, 3))>,\n",
       " 251771137: <trimesh.Trimesh(vertices.shape=(43398, 3), faces.shape=(86792, 3))>,\n",
       " 1537: <trimesh.Trimesh(vertices.shape=(2428, 3), faces.shape=(4852, 3))>,\n",
       " 2695851649: <trimesh.Trimesh(vertices.shape=(105692, 3), faces.shape=(211400, 3))>,\n",
       " 572959489: <trimesh.Trimesh(vertices.shape=(20032, 3), faces.shape=(40060, 3))>,\n",
       " 2826978049: <trimesh.Trimesh(vertices.shape=(20532, 3), faces.shape=(41060, 3))>,\n",
       " 339269249: <trimesh.Trimesh(vertices.shape=(528, 3), faces.shape=(1052, 3))>,\n",
       " 3751406209: <trimesh.Trimesh(vertices.shape=(7510, 3), faces.shape=(15016, 3))>,\n",
       " 3226183809: <trimesh.Trimesh(vertices.shape=(6260, 3), faces.shape=(12504, 3))>,\n",
       " 339155073: <trimesh.Trimesh(vertices.shape=(660, 3), faces.shape=(1316, 3))>,\n",
       " 848194945: <trimesh.Trimesh(vertices.shape=(1814, 3), faces.shape=(3624, 3))>,\n",
       " 3837963649: <trimesh.Trimesh(vertices.shape=(19926, 3), faces.shape=(39840, 3))>,\n",
       " 1444149377: <trimesh.Trimesh(vertices.shape=(66226, 3), faces.shape=(132460, 3))>,\n",
       " 216919681: <trimesh.Trimesh(vertices.shape=(806, 3), faces.shape=(1608, 3))>,\n",
       " 1614153217: <trimesh.Trimesh(vertices.shape=(324, 3), faces.shape=(644, 3))>,\n",
       " 400402049: <trimesh.Trimesh(vertices.shape=(2006, 3), faces.shape=(4008, 3))>,\n",
       " 3391777153: <trimesh.Trimesh(vertices.shape=(19464, 3), faces.shape=(38924, 3))>,\n",
       " 1978356225: <trimesh.Trimesh(vertices.shape=(788, 3), faces.shape=(1572, 3))>,\n",
       " 3083699073: <trimesh.Trimesh(vertices.shape=(7056, 3), faces.shape=(14112, 3))>,\n",
       " 3340206337: <trimesh.Trimesh(vertices.shape=(25416, 3), faces.shape=(50828, 3))>,\n",
       " 1444153473: <trimesh.Trimesh(vertices.shape=(27430, 3), faces.shape=(54856, 3))>,\n",
       " 2695844737: <trimesh.Trimesh(vertices.shape=(71872, 3), faces.shape=(143748, 3))>,\n",
       " 22903937: <trimesh.Trimesh(vertices.shape=(786, 3), faces.shape=(1560, 3))>,\n",
       " 3458710145: <trimesh.Trimesh(vertices.shape=(24294, 3), faces.shape=(48580, 3))>,\n",
       " 281398529: <trimesh.Trimesh(vertices.shape=(650, 3), faces.shape=(1296, 3))>,\n",
       " 1614148353: <trimesh.Trimesh(vertices.shape=(17618, 3), faces.shape=(35232, 3))>,\n",
       " 3225445505: <trimesh.Trimesh(vertices.shape=(49012, 3), faces.shape=(98020, 3))>,\n",
       " 3403453313: <trimesh.Trimesh(vertices.shape=(57876, 3), faces.shape=(115748, 3))>,\n",
       " 3251286657: <trimesh.Trimesh(vertices.shape=(12240, 3), faces.shape=(24476, 3))>,\n",
       " 3176336001: <trimesh.Trimesh(vertices.shape=(25722, 3), faces.shape=(51436, 3))>,\n",
       " 1614154241: <trimesh.Trimesh(vertices.shape=(11998, 3), faces.shape=(23992, 3))>,\n",
       " 101889: <trimesh.Trimesh(vertices.shape=(5030, 3), faces.shape=(10056, 3))>,\n",
       " 535689601: <trimesh.Trimesh(vertices.shape=(94, 3), faces.shape=(184, 3))>,\n",
       " 1978347777: <trimesh.Trimesh(vertices.shape=(21346, 3), faces.shape=(42688, 3))>,\n",
       " 222661377: <trimesh.Trimesh(vertices.shape=(16958, 3), faces.shape=(33916, 3))>,\n",
       " 3303729537: <trimesh.Trimesh(vertices.shape=(62548, 3), faces.shape=(125084, 3))>,\n",
       " 3403401601: <trimesh.Trimesh(vertices.shape=(7194, 3), faces.shape=(14384, 3))>,\n",
       " 535687297: <trimesh.Trimesh(vertices.shape=(510, 3), faces.shape=(1016, 3))>,\n",
       " 230505217: <trimesh.Trimesh(vertices.shape=(58746, 3), faces.shape=(117488, 3))>,\n",
       " 3389646977: <trimesh.Trimesh(vertices.shape=(18016, 3), faces.shape=(36032, 3))>,\n",
       " 3260873601: <trimesh.Trimesh(vertices.shape=(3250, 3), faces.shape=(6496, 3))>,\n",
       " 232611585: <trimesh.Trimesh(vertices.shape=(5854, 3), faces.shape=(11704, 3))>,\n",
       " 120895361: <trimesh.Trimesh(vertices.shape=(39678, 3), faces.shape=(79352, 3))>,\n",
       " 339270529: <trimesh.Trimesh(vertices.shape=(1934, 3), faces.shape=(3856, 3))>,\n",
       " 3264617345: <trimesh.Trimesh(vertices.shape=(55200, 3), faces.shape=(110400, 3))>,\n",
       " 1620744833: <trimesh.Trimesh(vertices.shape=(19906, 3), faces.shape=(39800, 3))>,\n",
       " 1978283521: <trimesh.Trimesh(vertices.shape=(640, 3), faces.shape=(1276, 3))>,\n",
       " 281389313: <trimesh.Trimesh(vertices.shape=(758, 3), faces.shape=(1512, 3))>,\n",
       " 2114227329: <trimesh.Trimesh(vertices.shape=(2760, 3), faces.shape=(5516, 3))>,\n",
       " 3403435393: <trimesh.Trimesh(vertices.shape=(19664, 3), faces.shape=(39324, 3))>,\n",
       " 2695859329: <trimesh.Trimesh(vertices.shape=(7454, 3), faces.shape=(14904, 3))>,\n",
       " 3746923009: <trimesh.Trimesh(vertices.shape=(71720, 3), faces.shape=(143436, 3))>,\n",
       " 3095461761: <trimesh.Trimesh(vertices.shape=(41756, 3), faces.shape=(83500, 3))>,\n",
       " 3264384641: <trimesh.Trimesh(vertices.shape=(10918, 3), faces.shape=(21816, 3))>,\n",
       " 1620727681: <trimesh.Trimesh(vertices.shape=(11470, 3), faces.shape=(22936, 3))>,\n",
       " 1614149121: <trimesh.Trimesh(vertices.shape=(23516, 3), faces.shape=(47028, 3))>,\n",
       " 1444145281: <trimesh.Trimesh(vertices.shape=(22310, 3), faces.shape=(44616, 3))>,\n",
       " 5889: <trimesh.Trimesh(vertices.shape=(602, 3), faces.shape=(1200, 3))>,\n",
       " 339271809: <trimesh.Trimesh(vertices.shape=(6382, 3), faces.shape=(12760, 3))>,\n",
       " 241285889: <trimesh.Trimesh(vertices.shape=(46792, 3), faces.shape=(93572, 3))>,\n",
       " 848383105: <trimesh.Trimesh(vertices.shape=(1210, 3), faces.shape=(2416, 3))>,\n",
       " 671941377: <trimesh.Trimesh(vertices.shape=(806, 3), faces.shape=(1608, 3))>,\n",
       " 3225799809: <trimesh.Trimesh(vertices.shape=(17130, 3), faces.shape=(34256, 3))>,\n",
       " 3376745089: <trimesh.Trimesh(vertices.shape=(8490, 3), faces.shape=(16976, 3))>,\n",
       " 848391809: <trimesh.Trimesh(vertices.shape=(3356, 3), faces.shape=(6708, 3))>,\n",
       " 235350529: <trimesh.Trimesh(vertices.shape=(29884, 3), faces.shape=(59764, 3))>,\n",
       " 3166046849: <trimesh.Trimesh(vertices.shape=(24276, 3), faces.shape=(48548, 3))>,\n",
       " 6145: <trimesh.Trimesh(vertices.shape=(712, 3), faces.shape=(1420, 3))>,\n",
       " 339262081: <trimesh.Trimesh(vertices.shape=(918, 3), faces.shape=(1832, 3))>,\n",
       " 339150465: <trimesh.Trimesh(vertices.shape=(1748, 3), faces.shape=(3492, 3))>,\n",
       " 281051393: <trimesh.Trimesh(vertices.shape=(200, 3), faces.shape=(396, 3))>,\n",
       " 1444148353: <trimesh.Trimesh(vertices.shape=(136, 3), faces.shape=(268, 3))>,\n",
       " 3697920257: <trimesh.Trimesh(vertices.shape=(867266, 3), faces.shape=(1734452, 3))>,\n",
       " 3381793153: <trimesh.Trimesh(vertices.shape=(15356, 3), faces.shape=(30708, 3))>,\n",
       " 3257700737: <trimesh.Trimesh(vertices.shape=(37578, 3), faces.shape=(75148, 3))>,\n",
       " 232611329: <trimesh.Trimesh(vertices.shape=(48664, 3), faces.shape=(97320, 3))>,\n",
       " 3181948033: <trimesh.Trimesh(vertices.shape=(12878, 3), faces.shape=(25752, 3))>,\n",
       " 3163778177: <trimesh.Trimesh(vertices.shape=(18510, 3), faces.shape=(37016, 3))>,\n",
       " 3312438145: <trimesh.Trimesh(vertices.shape=(13220, 3), faces.shape=(26432, 3))>,\n",
       " 281053185: <trimesh.Trimesh(vertices.shape=(1028, 3), faces.shape=(2052, 3))>,\n",
       " 1614184449: <trimesh.Trimesh(vertices.shape=(11504, 3), faces.shape=(23008, 3))>,\n",
       " 848379521: <trimesh.Trimesh(vertices.shape=(2066, 3), faces.shape=(4128, 3))>,\n",
       " 2529036545: <trimesh.Trimesh(vertices.shape=(18410, 3), faces.shape=(36816, 3))>,\n",
       " 339260289: <trimesh.Trimesh(vertices.shape=(638, 3), faces.shape=(1272, 3))>,\n",
       " 1614185217: <trimesh.Trimesh(vertices.shape=(86720, 3), faces.shape=(173440, 3))>,\n",
       " 400400257: <trimesh.Trimesh(vertices.shape=(450, 3), faces.shape=(896, 3))>,\n",
       " 339261569: <trimesh.Trimesh(vertices.shape=(1134, 3), faces.shape=(2264, 3))>,\n",
       " 3216219521: <trimesh.Trimesh(vertices.shape=(3438, 3), faces.shape=(6872, 3))>,\n",
       " 3350006657: <trimesh.Trimesh(vertices.shape=(46536, 3), faces.shape=(93064, 3))>,\n",
       " 3132404865: <trimesh.Trimesh(vertices.shape=(12496, 3), faces.shape=(24988, 3))>,\n",
       " 3551766529: <trimesh.Trimesh(vertices.shape=(26388, 3), faces.shape=(52772, 3))>,\n",
       " 281044993: <trimesh.Trimesh(vertices.shape=(678, 3), faces.shape=(1352, 3))>,\n",
       " 228244737: <trimesh.Trimesh(vertices.shape=(16886, 3), faces.shape=(33772, 3))>,\n",
       " 3171903361: <trimesh.Trimesh(vertices.shape=(34238, 3), faces.shape=(68472, 3))>,\n",
       " 3225561217: <trimesh.Trimesh(vertices.shape=(20482, 3), faces.shape=(40960, 3))>,\n",
       " 3226830209: <trimesh.Trimesh(vertices.shape=(25766, 3), faces.shape=(51528, 3))>,\n",
       " 4051578497: <trimesh.Trimesh(vertices.shape=(22108, 3), faces.shape=(44212, 3))>,\n",
       " 848391041: <trimesh.Trimesh(vertices.shape=(1626, 3), faces.shape=(3252, 3))>,\n",
       " 281042177: <trimesh.Trimesh(vertices.shape=(708, 3), faces.shape=(1404, 3))>,\n",
       " 1614148865: <trimesh.Trimesh(vertices.shape=(14448, 3), faces.shape=(28892, 3))>,\n",
       " 281047041: <trimesh.Trimesh(vertices.shape=(658, 3), faces.shape=(1312, 3))>,\n",
       " 848375425: <trimesh.Trimesh(vertices.shape=(778, 3), faces.shape=(1552, 3))>,\n",
       " 671938817: <trimesh.Trimesh(vertices.shape=(638, 3), faces.shape=(1276, 3))>,\n",
       " 3225797249: <trimesh.Trimesh(vertices.shape=(16454, 3), faces.shape=(32904, 3))>,\n",
       " 848385153: <trimesh.Trimesh(vertices.shape=(2356, 3), faces.shape=(4708, 3))>,\n",
       " 274388481: <trimesh.Trimesh(vertices.shape=(35588, 3), faces.shape=(71172, 3))>,\n",
       " 245096705: <trimesh.Trimesh(vertices.shape=(468, 3), faces.shape=(932, 3))>,\n",
       " 3389475457: <trimesh.Trimesh(vertices.shape=(42968, 3), faces.shape=(85932, 3))>,\n",
       " 1614154497: <trimesh.Trimesh(vertices.shape=(6794, 3), faces.shape=(13584, 3))>,\n",
       " 535687809: <trimesh.Trimesh(vertices.shape=(744, 3), faces.shape=(1484, 3))>,\n",
       " 281051137: <trimesh.Trimesh(vertices.shape=(562, 3), faces.shape=(1120, 3))>,\n",
       " 400405121: <trimesh.Trimesh(vertices.shape=(868, 3), faces.shape=(1732, 3))>,\n",
       " 3182233473: <trimesh.Trimesh(vertices.shape=(36566, 3), faces.shape=(73128, 3))>,\n",
       " 3131414657: <trimesh.Trimesh(vertices.shape=(11100, 3), faces.shape=(22192, 3))>,\n",
       " 1978338561: <trimesh.Trimesh(vertices.shape=(3576, 3), faces.shape=(7148, 3))>,\n",
       " 428053889: <trimesh.Trimesh(vertices.shape=(1066, 3), faces.shape=(2128, 3))>,\n",
       " 1444146305: <trimesh.Trimesh(vertices.shape=(79062, 3), faces.shape=(158124, 3))>,\n",
       " 3822467329: <trimesh.Trimesh(vertices.shape=(6112, 3), faces.shape=(12220, 3))>,\n",
       " 281048833: <trimesh.Trimesh(vertices.shape=(642, 3), faces.shape=(1280, 3))>,\n",
       " 216904577: <trimesh.Trimesh(vertices.shape=(1142, 3), faces.shape=(2280, 3))>,\n",
       " 339267201: <trimesh.Trimesh(vertices.shape=(716, 3), faces.shape=(1428, 3))>,\n",
       " 1978355457: <trimesh.Trimesh(vertices.shape=(35090, 3), faces.shape=(70172, 3))>,\n",
       " 281049601: <trimesh.Trimesh(vertices.shape=(916, 3), faces.shape=(1828, 3))>,\n",
       " 3092283393: <trimesh.Trimesh(vertices.shape=(23424, 3), faces.shape=(46840, 3))>,\n",
       " 281037825: <trimesh.Trimesh(vertices.shape=(332, 3), faces.shape=(660, 3))>,\n",
       " 339275393: <trimesh.Trimesh(vertices.shape=(824, 3), faces.shape=(1644, 3))>,\n",
       " 3210434177: <trimesh.Trimesh(vertices.shape=(976, 3), faces.shape=(1944, 3))>,\n",
       " 329234433: <trimesh.Trimesh(vertices.shape=(488, 3), faces.shape=(972, 3))>,\n",
       " 281049345: <trimesh.Trimesh(vertices.shape=(970, 3), faces.shape=(1936, 3))>,\n",
       " 281053697: <trimesh.Trimesh(vertices.shape=(2118, 3), faces.shape=(4232, 3))>,\n",
       " 281043713: <trimesh.Trimesh(vertices.shape=(474, 3), faces.shape=(944, 3))>,\n",
       " 1620747649: <trimesh.Trimesh(vertices.shape=(23504, 3), faces.shape=(47004, 3))>,\n",
       " 213009665: <trimesh.Trimesh(vertices.shape=(15850, 3), faces.shape=(31696, 3))>,\n",
       " 22911105: <trimesh.Trimesh(vertices.shape=(336, 3), faces.shape=(668, 3))>,\n",
       " 331656705: <trimesh.Trimesh(vertices.shape=(37322, 3), faces.shape=(74640, 3))>,\n",
       " 1620722817: <trimesh.Trimesh(vertices.shape=(24438, 3), faces.shape=(48868, 3))>,\n",
       " 228158209: <trimesh.Trimesh(vertices.shape=(50780, 3), faces.shape=(101556, 3))>,\n",
       " 245112833: <trimesh.Trimesh(vertices.shape=(6466, 3), faces.shape=(12928, 3))>,\n",
       " 3376715905: <trimesh.Trimesh(vertices.shape=(26612, 3), faces.shape=(53220, 3))>,\n",
       " 535688577: <trimesh.Trimesh(vertices.shape=(728, 3), faces.shape=(1452, 3))>,\n",
       " 3755167745: <trimesh.Trimesh(vertices.shape=(72302, 3), faces.shape=(144596, 3))>,\n",
       " 174112769: <trimesh.Trimesh(vertices.shape=(592, 3), faces.shape=(1180, 3))>,\n",
       " 3276615681: <trimesh.Trimesh(vertices.shape=(27882, 3), faces.shape=(55756, 3))>,\n",
       " 339262337: <trimesh.Trimesh(vertices.shape=(2020, 3), faces.shape=(4040, 3))>,\n",
       " 3389807745: <trimesh.Trimesh(vertices.shape=(47710, 3), faces.shape=(95416, 3))>,\n",
       " 2114227073: <trimesh.Trimesh(vertices.shape=(428, 3), faces.shape=(852, 3))>,\n",
       " 281053441: <trimesh.Trimesh(vertices.shape=(2966, 3), faces.shape=(5928, 3))>,\n",
       " 3361461377: <trimesh.Trimesh(vertices.shape=(24136, 3), faces.shape=(48268, 3))>,\n",
       " 1444145537: <trimesh.Trimesh(vertices.shape=(1062, 3), faces.shape=(2120, 3))>,\n",
       " 1620733825: <trimesh.Trimesh(vertices.shape=(56434, 3), faces.shape=(112860, 3))>,\n",
       " 1444151425: <trimesh.Trimesh(vertices.shape=(672, 3), faces.shape=(1340, 3))>,\n",
       " 22916737: <trimesh.Trimesh(vertices.shape=(1166, 3), faces.shape=(2328, 3))>,\n",
       " 428047745: <trimesh.Trimesh(vertices.shape=(412, 3), faces.shape=(820, 3))>,\n",
       " 3553688833: <trimesh.Trimesh(vertices.shape=(36772, 3), faces.shape=(73528, 3))>,\n",
       " 4008309633: <trimesh.Trimesh(vertices.shape=(64946, 3), faces.shape=(129888, 3))>,\n",
       " 1444147841: <trimesh.Trimesh(vertices.shape=(8070, 3), faces.shape=(16136, 3))>,\n",
       " 281042433: <trimesh.Trimesh(vertices.shape=(544, 3), faces.shape=(1084, 3))>,\n",
       " 848391297: <trimesh.Trimesh(vertices.shape=(1034, 3), faces.shape=(2064, 3))>,\n",
       " 400395649: <trimesh.Trimesh(vertices.shape=(734, 3), faces.shape=(1464, 3))>,\n",
       " 3304891265: <trimesh.Trimesh(vertices.shape=(24358, 3), faces.shape=(48712, 3))>,\n",
       " 1978349825: <trimesh.Trimesh(vertices.shape=(5026, 3), faces.shape=(10048, 3))>,\n",
       " 848379265: <trimesh.Trimesh(vertices.shape=(2268, 3), faces.shape=(4532, 3))>,\n",
       " 2528829185: <trimesh.Trimesh(vertices.shape=(6242, 3), faces.shape=(12480, 3))>,\n",
       " 1978339329: <trimesh.Trimesh(vertices.shape=(4696, 3), faces.shape=(9388, 3))>,\n",
       " 848374657: <trimesh.Trimesh(vertices.shape=(1678, 3), faces.shape=(3352, 3))>,\n",
       " 995854721: <trimesh.Trimesh(vertices.shape=(852, 3), faces.shape=(1700, 3))>,\n",
       " 333080833: <trimesh.Trimesh(vertices.shape=(32774, 3), faces.shape=(65544, 3))>,\n",
       " 281046017: <trimesh.Trimesh(vertices.shape=(1448, 3), faces.shape=(2892, 3))>,\n",
       " 1444145793: <trimesh.Trimesh(vertices.shape=(2226, 3), faces.shape=(4448, 3))>,\n",
       " 3372156545: <trimesh.Trimesh(vertices.shape=(22078, 3), faces.shape=(44152, 3))>,\n",
       " 1444147585: <trimesh.Trimesh(vertices.shape=(56, 3), faces.shape=(108, 3))>,\n",
       " 2528828673: <trimesh.Trimesh(vertices.shape=(2768, 3), faces.shape=(5532, 3))>,\n",
       " 245104897: <trimesh.Trimesh(vertices.shape=(1446, 3), faces.shape=(2888, 3))>,\n",
       " 1978338817: <trimesh.Trimesh(vertices.shape=(3154, 3), faces.shape=(6304, 3))>,\n",
       " 95745: <trimesh.Trimesh(vertices.shape=(436, 3), faces.shape=(868, 3))>,\n",
       " 174106625: <trimesh.Trimesh(vertices.shape=(558, 3), faces.shape=(1112, 3))>,\n",
       " 428058753: <trimesh.Trimesh(vertices.shape=(1032, 3), faces.shape=(2060, 3))>,\n",
       " 848236673: <trimesh.Trimesh(vertices.shape=(426, 3), faces.shape=(848, 3))>,\n",
       " 1444151169: <trimesh.Trimesh(vertices.shape=(2444, 3), faces.shape=(4884, 3))>,\n",
       " 400397185: <trimesh.Trimesh(vertices.shape=(266, 3), faces.shape=(528, 3))>,\n",
       " 281051905: <trimesh.Trimesh(vertices.shape=(804, 3), faces.shape=(1604, 3))>,\n",
       " 535686017: <trimesh.Trimesh(vertices.shape=(816, 3), faces.shape=(1628, 3))>,\n",
       " 245108225: <trimesh.Trimesh(vertices.shape=(406, 3), faces.shape=(808, 3))>,\n",
       " 99073: <trimesh.Trimesh(vertices.shape=(346, 3), faces.shape=(688, 3))>,\n",
       " 3599520129: <trimesh.Trimesh(vertices.shape=(14732, 3), faces.shape=(29456, 3))>,\n",
       " 339260801: <trimesh.Trimesh(vertices.shape=(976, 3), faces.shape=(1952, 3))>,\n",
       " 400133505: <trimesh.Trimesh(vertices.shape=(428, 3), faces.shape=(852, 3))>,\n",
       " 281035777: <trimesh.Trimesh(vertices.shape=(918, 3), faces.shape=(1832, 3))>,\n",
       " 137673729: <trimesh.Trimesh(vertices.shape=(56076, 3), faces.shape=(112140, 3))>,\n",
       " 281045249: <trimesh.Trimesh(vertices.shape=(566, 3), faces.shape=(1128, 3))>,\n",
       " 3553849089: <trimesh.Trimesh(vertices.shape=(27110, 3), faces.shape=(54216, 3))>,\n",
       " 848385921: <trimesh.Trimesh(vertices.shape=(572, 3), faces.shape=(1140, 3))>,\n",
       " 3393149569: <trimesh.Trimesh(vertices.shape=(318, 3), faces.shape=(632, 3))>,\n",
       " 1444148609: <trimesh.Trimesh(vertices.shape=(1982, 3), faces.shape=(3960, 3))>,\n",
       " 281040641: <trimesh.Trimesh(vertices.shape=(1058, 3), faces.shape=(2112, 3))>,\n",
       " 227849473: <trimesh.Trimesh(vertices.shape=(34664, 3), faces.shape=(69324, 3))>,\n",
       " 1614152705: <trimesh.Trimesh(vertices.shape=(6514, 3), faces.shape=(13024, 3))>,\n",
       " 281049089: <trimesh.Trimesh(vertices.shape=(644, 3), faces.shape=(1284, 3))>,\n",
       " 113409: <trimesh.Trimesh(vertices.shape=(1964, 3), faces.shape=(3924, 3))>,\n",
       " 1978356481: <trimesh.Trimesh(vertices.shape=(1280, 3), faces.shape=(2556, 3))>,\n",
       " 3403449985: <trimesh.Trimesh(vertices.shape=(19248, 3), faces.shape=(38492, 3))>,\n",
       " 339274113: <trimesh.Trimesh(vertices.shape=(446, 3), faces.shape=(888, 3))>,\n",
       " 281044481: <trimesh.Trimesh(vertices.shape=(578, 3), faces.shape=(1152, 3))>,\n",
       " 96513: <trimesh.Trimesh(vertices.shape=(742, 3), faces.shape=(1480, 3))>,\n",
       " 1978339585: <trimesh.Trimesh(vertices.shape=(876, 3), faces.shape=(1748, 3))>,\n",
       " 339155585: <trimesh.Trimesh(vertices.shape=(968, 3), faces.shape=(1932, 3))>,\n",
       " 2695842689: <trimesh.Trimesh(vertices.shape=(11578, 3), faces.shape=(23148, 3))>,\n",
       " 1978358785: <trimesh.Trimesh(vertices.shape=(1360, 3), faces.shape=(2716, 3))>,\n",
       " 3389808513: <trimesh.Trimesh(vertices.shape=(7456, 3), faces.shape=(14908, 3))>,\n",
       " 2802553089: <trimesh.Trimesh(vertices.shape=(9770, 3), faces.shape=(19536, 3))>,\n",
       " 1978349313: <trimesh.Trimesh(vertices.shape=(624, 3), faces.shape=(1244, 3))>,\n",
       " 4265304961: <trimesh.Trimesh(vertices.shape=(2060, 3), faces.shape=(4116, 3))>,\n",
       " 1444150913: <trimesh.Trimesh(vertices.shape=(3720, 3), faces.shape=(7436, 3))>,\n",
       " 216921985: <trimesh.Trimesh(vertices.shape=(428, 3), faces.shape=(852, 3))>,\n",
       " 1614155521: <trimesh.Trimesh(vertices.shape=(554, 3), faces.shape=(1104, 3))>,\n",
       " 3529472129: <trimesh.Trimesh(vertices.shape=(18482, 3), faces.shape=(36956, 3))>}"
      ]
     },
     "execution_count": 42,
     "metadata": {},
     "output_type": "execute_result"
    }
   ],
   "source": [
    "proof_meshes"
   ]
  },
  {
   "cell_type": "code",
   "execution_count": 43,
   "metadata": {},
   "outputs": [
    {
     "data": {
      "text/plain": [
       "{3403396225: Skeleton(segid=3403396225, vertices=(shape=380, float32), edges=(shape=379, uint32), radius=(380, float32), vertex_types=(380, uint8), space='voxel' transform=[[1.0, 0.0, 0.0, 0.0], [0.0, 1.0, 0.0, 0.0], [0.0, 0.0, 1.0, 0.0]]),\n",
       " 3083699841: Skeleton(segid=3083699841, vertices=(shape=52, float32), edges=(shape=51, uint32), radius=(52, float32), vertex_types=(52, uint8), space='voxel' transform=[[1.0, 0.0, 0.0, 0.0], [0.0, 1.0, 0.0, 0.0], [0.0, 0.0, 1.0, 0.0]]),\n",
       " 1620744833: Skeleton(segid=1620744833, vertices=(shape=173, float32), edges=(shape=172, uint32), radius=(173, float32), vertex_types=(173, uint8), space='voxel' transform=[[1.0, 0.0, 0.0, 0.0], [0.0, 1.0, 0.0, 0.0], [0.0, 0.0, 1.0, 0.0]]),\n",
       " 3395813633: Skeleton(segid=3395813633, vertices=(shape=642, float32), edges=(shape=641, uint32), radius=(642, float32), vertex_types=(642, uint8), space='voxel' transform=[[1.0, 0.0, 0.0, 0.0], [0.0, 1.0, 0.0, 0.0], [0.0, 0.0, 1.0, 0.0]]),\n",
       " 251771137: Skeleton(segid=251771137, vertices=(shape=257, float32), edges=(shape=256, uint32), radius=(257, float32), vertex_types=(257, uint8), space='voxel' transform=[[1.0, 0.0, 0.0, 0.0], [0.0, 1.0, 0.0, 0.0], [0.0, 0.0, 1.0, 0.0]]),\n",
       " 3163770241: Skeleton(segid=3163770241, vertices=(shape=114, float32), edges=(shape=113, uint32), radius=(114, float32), vertex_types=(114, uint8), space='voxel' transform=[[1.0, 0.0, 0.0, 0.0], [0.0, 1.0, 0.0, 0.0], [0.0, 0.0, 1.0, 0.0]]),\n",
       " 3697920257: Skeleton(segid=3697920257, vertices=(shape=6833, float32), edges=(shape=6811, uint32), radius=(6833, float32), vertex_types=(6833, uint8), space='voxel' transform=[[1.0, 0.0, 0.0, 0.0], [0.0, 1.0, 0.0, 0.0], [0.0, 0.0, 1.0, 0.0]]),\n",
       " 3382071681: Skeleton(segid=3382071681, vertices=(shape=482, float32), edges=(shape=480, uint32), radius=(482, float32), vertex_types=(482, uint8), space='voxel' transform=[[1.0, 0.0, 0.0, 0.0], [0.0, 1.0, 0.0, 0.0], [0.0, 0.0, 1.0, 0.0]]),\n",
       " 3345959041: Skeleton(segid=3345959041, vertices=(shape=253, float32), edges=(shape=250, uint32), radius=(253, float32), vertex_types=(253, uint8), space='voxel' transform=[[1.0, 0.0, 0.0, 0.0], [0.0, 1.0, 0.0, 0.0], [0.0, 0.0, 1.0, 0.0]]),\n",
       " 120895361: Skeleton(segid=120895361, vertices=(shape=70, float32), edges=(shape=69, uint32), radius=(70, float32), vertex_types=(70, uint8), space='voxel' transform=[[1.0, 0.0, 0.0, 0.0], [0.0, 1.0, 0.0, 0.0], [0.0, 0.0, 1.0, 0.0]]),\n",
       " 216904577: Skeleton(segid=216904577, vertices=(shape=23, float32), edges=(shape=22, uint32), radius=(23, float32), vertex_types=(23, uint8), space='voxel' transform=[[1.0, 0.0, 0.0, 0.0], [0.0, 1.0, 0.0, 0.0], [0.0, 0.0, 1.0, 0.0]]),\n",
       " 3225954433: Skeleton(segid=3225954433, vertices=(shape=88, float32), edges=(shape=87, uint32), radius=(88, float32), vertex_types=(88, uint8), space='voxel' transform=[[1.0, 0.0, 0.0, 0.0], [0.0, 1.0, 0.0, 0.0], [0.0, 0.0, 1.0, 0.0]]),\n",
       " 4250478593: Skeleton(segid=4250478593, vertices=(shape=302, float32), edges=(shape=301, uint32), radius=(302, float32), vertex_types=(302, uint8), space='voxel' transform=[[1.0, 0.0, 0.0, 0.0], [0.0, 1.0, 0.0, 0.0], [0.0, 0.0, 1.0, 0.0]]),\n",
       " 2695847297: Skeleton(segid=2695847297, vertices=(shape=71, float32), edges=(shape=70, uint32), radius=(71, float32), vertex_types=(71, uint8), space='voxel' transform=[[1.0, 0.0, 0.0, 0.0], [0.0, 1.0, 0.0, 0.0], [0.0, 0.0, 1.0, 0.0]]),\n",
       " 3225419649: Skeleton(segid=3225419649, vertices=(shape=94, float32), edges=(shape=92, uint32), radius=(94, float32), vertex_types=(94, uint8), space='voxel' transform=[[1.0, 0.0, 0.0, 0.0], [0.0, 1.0, 0.0, 0.0], [0.0, 0.0, 1.0, 0.0]]),\n",
       " 3225557889: Skeleton(segid=3225557889, vertices=(shape=352, float32), edges=(shape=349, uint32), radius=(352, float32), vertex_types=(352, uint8), space='voxel' transform=[[1.0, 0.0, 0.0, 0.0], [0.0, 1.0, 0.0, 0.0], [0.0, 0.0, 1.0, 0.0]]),\n",
       " 3403442049: Skeleton(segid=3403442049, vertices=(shape=117, float32), edges=(shape=116, uint32), radius=(117, float32), vertex_types=(117, uint8), space='voxel' transform=[[1.0, 0.0, 0.0, 0.0], [0.0, 1.0, 0.0, 0.0], [0.0, 0.0, 1.0, 0.0]]),\n",
       " 4050799745: Skeleton(segid=4050799745, vertices=(shape=125, float32), edges=(shape=124, uint32), radius=(125, float32), vertex_types=(125, uint8), space='voxel' transform=[[1.0, 0.0, 0.0, 0.0], [0.0, 1.0, 0.0, 0.0], [0.0, 0.0, 1.0, 0.0]]),\n",
       " 3163771521: Skeleton(segid=3163771521, vertices=(shape=733, float32), edges=(shape=731, uint32), radius=(733, float32), vertex_types=(733, uint8), space='voxel' transform=[[1.0, 0.0, 0.0, 0.0], [0.0, 1.0, 0.0, 0.0], [0.0, 0.0, 1.0, 0.0]]),\n",
       " 3257721217: Skeleton(segid=3257721217, vertices=(shape=105, float32), edges=(shape=104, uint32), radius=(105, float32), vertex_types=(105, uint8), space='voxel' transform=[[1.0, 0.0, 0.0, 0.0], [0.0, 1.0, 0.0, 0.0], [0.0, 0.0, 1.0, 0.0]]),\n",
       " 3403429249: Skeleton(segid=3403429249, vertices=(shape=114, float32), edges=(shape=113, uint32), radius=(114, float32), vertex_types=(114, uint8), space='voxel' transform=[[1.0, 0.0, 0.0, 0.0], [0.0, 1.0, 0.0, 0.0], [0.0, 0.0, 1.0, 0.0]]),\n",
       " 241285889: Skeleton(segid=241285889, vertices=(shape=305, float32), edges=(shape=303, uint32), radius=(305, float32), vertex_types=(305, uint8), space='voxel' transform=[[1.0, 0.0, 0.0, 0.0], [0.0, 1.0, 0.0, 0.0], [0.0, 0.0, 1.0, 0.0]]),\n",
       " 1978355713: Skeleton(segid=1978355713, vertices=(shape=125, float32), edges=(shape=123, uint32), radius=(125, float32), vertex_types=(125, uint8), space='voxel' transform=[[1.0, 0.0, 0.0, 0.0], [0.0, 1.0, 0.0, 0.0], [0.0, 0.0, 1.0, 0.0]]),\n",
       " 3165629825: Skeleton(segid=3165629825, vertices=(shape=279, float32), edges=(shape=278, uint32), radius=(279, float32), vertex_types=(279, uint8), space='voxel' transform=[[1.0, 0.0, 0.0, 0.0], [0.0, 1.0, 0.0, 0.0], [0.0, 0.0, 1.0, 0.0]]),\n",
       " 3376667521: Skeleton(segid=3376667521, vertices=(shape=139, float32), edges=(shape=137, uint32), radius=(139, float32), vertex_types=(139, uint8), space='voxel' transform=[[1.0, 0.0, 0.0, 0.0], [0.0, 1.0, 0.0, 0.0], [0.0, 0.0, 1.0, 0.0]]),\n",
       " 3458710145: Skeleton(segid=3458710145, vertices=(shape=294, float32), edges=(shape=293, uint32), radius=(294, float32), vertex_types=(294, uint8), space='voxel' transform=[[1.0, 0.0, 0.0, 0.0], [0.0, 1.0, 0.0, 0.0], [0.0, 0.0, 1.0, 0.0]]),\n",
       " 3216219521: Skeleton(segid=3216219521, vertices=(shape=40, float32), edges=(shape=39, uint32), radius=(40, float32), vertex_types=(40, uint8), space='voxel' transform=[[1.0, 0.0, 0.0, 0.0], [0.0, 1.0, 0.0, 0.0], [0.0, 0.0, 1.0, 0.0]]),\n",
       " 3026758145: Skeleton(segid=3026758145, vertices=(shape=395, float32), edges=(shape=394, uint32), radius=(395, float32), vertex_types=(395, uint8), space='voxel' transform=[[1.0, 0.0, 0.0, 0.0], [0.0, 1.0, 0.0, 0.0], [0.0, 0.0, 1.0, 0.0]]),\n",
       " 3163807617: Skeleton(segid=3163807617, vertices=(shape=419, float32), edges=(shape=417, uint32), radius=(419, float32), vertex_types=(419, uint8), space='voxel' transform=[[1.0, 0.0, 0.0, 0.0], [0.0, 1.0, 0.0, 0.0], [0.0, 0.0, 1.0, 0.0]]),\n",
       " 334057473: Skeleton(segid=334057473, vertices=(shape=13, float32), edges=(shape=12, uint32), radius=(13, float32), vertex_types=(13, uint8), space='voxel' transform=[[1.0, 0.0, 0.0, 0.0], [0.0, 1.0, 0.0, 0.0], [0.0, 0.0, 1.0, 0.0]]),\n",
       " 3746923009: Skeleton(segid=3746923009, vertices=(shape=365, float32), edges=(shape=364, uint32), radius=(365, float32), vertex_types=(365, uint8), space='voxel' transform=[[1.0, 0.0, 0.0, 0.0], [0.0, 1.0, 0.0, 0.0], [0.0, 0.0, 1.0, 0.0]]),\n",
       " 3131414657: Skeleton(segid=3131414657, vertices=(shape=115, float32), edges=(shape=113, uint32), radius=(115, float32), vertex_types=(115, uint8), space='voxel' transform=[[1.0, 0.0, 0.0, 0.0], [0.0, 1.0, 0.0, 0.0], [0.0, 0.0, 1.0, 0.0]]),\n",
       " 3092462849: Skeleton(segid=3092462849, vertices=(shape=271, float32), edges=(shape=270, uint32), radius=(271, float32), vertex_types=(271, uint8), space='voxel' transform=[[1.0, 0.0, 0.0, 0.0], [0.0, 1.0, 0.0, 0.0], [0.0, 0.0, 1.0, 0.0]]),\n",
       " 3251286657: Skeleton(segid=3251286657, vertices=(shape=89, float32), edges=(shape=88, uint32), radius=(89, float32), vertex_types=(89, uint8), space='voxel' transform=[[1.0, 0.0, 0.0, 0.0], [0.0, 1.0, 0.0, 0.0], [0.0, 0.0, 1.0, 0.0]]),\n",
       " 1620749441: Skeleton(segid=1620749441, vertices=(shape=47, float32), edges=(shape=46, uint32), radius=(47, float32), vertex_types=(47, uint8), space='voxel' transform=[[1.0, 0.0, 0.0, 0.0], [0.0, 1.0, 0.0, 0.0], [0.0, 0.0, 1.0, 0.0]]),\n",
       " 241332225: Skeleton(segid=241332225, vertices=(shape=111, float32), edges=(shape=109, uint32), radius=(111, float32), vertex_types=(111, uint8), space='voxel' transform=[[1.0, 0.0, 0.0, 0.0], [0.0, 1.0, 0.0, 0.0], [0.0, 0.0, 1.0, 0.0]]),\n",
       " 3218735489: Skeleton(segid=3218735489, vertices=(shape=167, float32), edges=(shape=166, uint32), radius=(167, float32), vertex_types=(167, uint8), space='voxel' transform=[[1.0, 0.0, 0.0, 0.0], [0.0, 1.0, 0.0, 0.0], [0.0, 0.0, 1.0, 0.0]]),\n",
       " 3389871489: Skeleton(segid=3389871489, vertices=(shape=335, float32), edges=(shape=334, uint32), radius=(335, float32), vertex_types=(335, uint8), space='voxel' transform=[[1.0, 0.0, 0.0, 0.0], [0.0, 1.0, 0.0, 0.0], [0.0, 0.0, 1.0, 0.0]]),\n",
       " 245036545: Skeleton(segid=245036545, vertices=(shape=65, float32), edges=(shape=64, uint32), radius=(65, float32), vertex_types=(65, uint8), space='voxel' transform=[[1.0, 0.0, 0.0, 0.0], [0.0, 1.0, 0.0, 0.0], [0.0, 0.0, 1.0, 0.0]]),\n",
       " 2695842689: Skeleton(segid=2695842689, vertices=(shape=115, float32), edges=(shape=114, uint32), radius=(115, float32), vertex_types=(115, uint8), space='voxel' transform=[[1.0, 0.0, 0.0, 0.0], [0.0, 1.0, 0.0, 0.0], [0.0, 0.0, 1.0, 0.0]]),\n",
       " 3172868097: Skeleton(segid=3172868097, vertices=(shape=114, float32), edges=(shape=113, uint32), radius=(114, float32), vertex_types=(114, uint8), space='voxel' transform=[[1.0, 0.0, 0.0, 0.0], [0.0, 1.0, 0.0, 0.0], [0.0, 0.0, 1.0, 0.0]]),\n",
       " 3226835841: Skeleton(segid=3226835841, vertices=(shape=158, float32), edges=(shape=157, uint32), radius=(158, float32), vertex_types=(158, uint8), space='voxel' transform=[[1.0, 0.0, 0.0, 0.0], [0.0, 1.0, 0.0, 0.0], [0.0, 0.0, 1.0, 0.0]]),\n",
       " 2695852417: Skeleton(segid=2695852417, vertices=(shape=169, float32), edges=(shape=167, uint32), radius=(169, float32), vertex_types=(169, uint8), space='voxel' transform=[[1.0, 0.0, 0.0, 0.0], [0.0, 1.0, 0.0, 0.0], [0.0, 0.0, 1.0, 0.0]]),\n",
       " 3304855937: Skeleton(segid=3304855937, vertices=(shape=208, float32), edges=(shape=207, uint32), radius=(208, float32), vertex_types=(208, uint8), space='voxel' transform=[[1.0, 0.0, 0.0, 0.0], [0.0, 1.0, 0.0, 0.0], [0.0, 0.0, 1.0, 0.0]]),\n",
       " 3163799681: Skeleton(segid=3163799681, vertices=(shape=69, float32), edges=(shape=67, uint32), radius=(69, float32), vertex_types=(69, uint8), space='voxel' transform=[[1.0, 0.0, 0.0, 0.0], [0.0, 1.0, 0.0, 0.0], [0.0, 0.0, 1.0, 0.0]]),\n",
       " 295088385: Skeleton(segid=295088385, vertices=(shape=275, float32), edges=(shape=274, uint32), radius=(275, float32), vertex_types=(275, uint8), space='voxel' transform=[[1.0, 0.0, 0.0, 0.0], [0.0, 1.0, 0.0, 0.0], [0.0, 0.0, 1.0, 0.0]]),\n",
       " 1978355457: Skeleton(segid=1978355457, vertices=(shape=233, float32), edges=(shape=232, uint32), radius=(233, float32), vertex_types=(233, uint8), space='voxel' transform=[[1.0, 0.0, 0.0, 0.0], [0.0, 1.0, 0.0, 0.0], [0.0, 0.0, 1.0, 0.0]]),\n",
       " 3257526145: Skeleton(segid=3257526145, vertices=(shape=234, float32), edges=(shape=233, uint32), radius=(234, float32), vertex_types=(234, uint8), space='voxel' transform=[[1.0, 0.0, 0.0, 0.0], [0.0, 1.0, 0.0, 0.0], [0.0, 0.0, 1.0, 0.0]]),\n",
       " 3182233473: Skeleton(segid=3182233473, vertices=(shape=307, float32), edges=(shape=306, uint32), radius=(307, float32), vertex_types=(307, uint8), space='voxel' transform=[[1.0, 0.0, 0.0, 0.0], [0.0, 1.0, 0.0, 0.0], [0.0, 0.0, 1.0, 0.0]]),\n",
       " 3225556865: Skeleton(segid=3225556865, vertices=(shape=256, float32), edges=(shape=255, uint32), radius=(256, float32), vertex_types=(256, uint8), space='voxel' transform=[[1.0, 0.0, 0.0, 0.0], [0.0, 1.0, 0.0, 0.0], [0.0, 0.0, 1.0, 0.0]]),\n",
       " 3403442561: Skeleton(segid=3403442561, vertices=(shape=357, float32), edges=(shape=356, uint32), radius=(357, float32), vertex_types=(357, uint8), space='voxel' transform=[[1.0, 0.0, 0.0, 0.0], [0.0, 1.0, 0.0, 0.0], [0.0, 0.0, 1.0, 0.0]]),\n",
       " 219733505: Skeleton(segid=219733505, vertices=(shape=294, float32), edges=(shape=293, uint32), radius=(294, float32), vertex_types=(294, uint8), space='voxel' transform=[[1.0, 0.0, 0.0, 0.0], [0.0, 1.0, 0.0, 0.0], [0.0, 0.0, 1.0, 0.0]]),\n",
       " 241282305: Skeleton(segid=241282305, vertices=(shape=53, float32), edges=(shape=52, uint32), radius=(53, float32), vertex_types=(53, uint8), space='voxel' transform=[[1.0, 0.0, 0.0, 0.0], [0.0, 1.0, 0.0, 0.0], [0.0, 0.0, 1.0, 0.0]]),\n",
       " 3753687809: Skeleton(segid=3753687809, vertices=(shape=264, float32), edges=(shape=263, uint32), radius=(264, float32), vertex_types=(264, uint8), space='voxel' transform=[[1.0, 0.0, 0.0, 0.0], [0.0, 1.0, 0.0, 0.0], [0.0, 0.0, 1.0, 0.0]]),\n",
       " 3553849089: Skeleton(segid=3553849089, vertices=(shape=302, float32), edges=(shape=301, uint32), radius=(302, float32), vertex_types=(302, uint8), space='voxel' transform=[[1.0, 0.0, 0.0, 0.0], [0.0, 1.0, 0.0, 0.0], [0.0, 0.0, 1.0, 0.0]]),\n",
       " 1978282497: Skeleton(segid=1978282497, vertices=(shape=27, float32), edges=(shape=26, uint32), radius=(27, float32), vertex_types=(27, uint8), space='voxel' transform=[[1.0, 0.0, 0.0, 0.0], [0.0, 1.0, 0.0, 0.0], [0.0, 0.0, 1.0, 0.0]]),\n",
       " 3553688833: Skeleton(segid=3553688833, vertices=(shape=466, float32), edges=(shape=463, uint32), radius=(466, float32), vertex_types=(466, uint8), space='voxel' transform=[[1.0, 0.0, 0.0, 0.0], [0.0, 1.0, 0.0, 0.0], [0.0, 0.0, 1.0, 0.0]]),\n",
       " 3403397249: Skeleton(segid=3403397249, vertices=(shape=43, float32), edges=(shape=42, uint32), radius=(43, float32), vertex_types=(43, uint8), space='voxel' transform=[[1.0, 0.0, 0.0, 0.0], [0.0, 1.0, 0.0, 0.0], [0.0, 0.0, 1.0, 0.0]]),\n",
       " 2529036545: Skeleton(segid=2529036545, vertices=(shape=206, float32), edges=(shape=205, uint32), radius=(206, float32), vertex_types=(206, uint8), space='voxel' transform=[[1.0, 0.0, 0.0, 0.0], [0.0, 1.0, 0.0, 0.0], [0.0, 0.0, 1.0, 0.0]]),\n",
       " 3303507841: Skeleton(segid=3303507841, vertices=(shape=258, float32), edges=(shape=257, uint32), radius=(258, float32), vertex_types=(258, uint8), space='voxel' transform=[[1.0, 0.0, 0.0, 0.0], [0.0, 1.0, 0.0, 0.0], [0.0, 0.0, 1.0, 0.0]]),\n",
       " 3229530113: Skeleton(segid=3229530113, vertices=(shape=74, float32), edges=(shape=73, uint32), radius=(74, float32), vertex_types=(74, uint8), space='voxel' transform=[[1.0, 0.0, 0.0, 0.0], [0.0, 1.0, 0.0, 0.0], [0.0, 0.0, 1.0, 0.0]]),\n",
       " 230506241: Skeleton(segid=230506241, vertices=(shape=17, float32), edges=(shape=16, uint32), radius=(17, float32), vertex_types=(17, uint8), space='voxel' transform=[[1.0, 0.0, 0.0, 0.0], [0.0, 1.0, 0.0, 0.0], [0.0, 0.0, 1.0, 0.0]]),\n",
       " 1444150657: Skeleton(segid=1444150657, vertices=(shape=34, float32), edges=(shape=33, uint32), radius=(34, float32), vertex_types=(34, uint8), space='voxel' transform=[[1.0, 0.0, 0.0, 0.0], [0.0, 1.0, 0.0, 0.0], [0.0, 0.0, 1.0, 0.0]]),\n",
       " 3225445505: Skeleton(segid=3225445505, vertices=(shape=314, float32), edges=(shape=313, uint32), radius=(314, float32), vertex_types=(314, uint8), space='voxel' transform=[[1.0, 0.0, 0.0, 0.0], [0.0, 1.0, 0.0, 0.0], [0.0, 0.0, 1.0, 0.0]]),\n",
       " 3651251457: Skeleton(segid=3651251457, vertices=(shape=380, float32), edges=(shape=379, uint32), radius=(380, float32), vertex_types=(380, uint8), space='voxel' transform=[[1.0, 0.0, 0.0, 0.0], [0.0, 1.0, 0.0, 0.0], [0.0, 0.0, 1.0, 0.0]]),\n",
       " 3324500097: Skeleton(segid=3324500097, vertices=(shape=247, float32), edges=(shape=245, uint32), radius=(247, float32), vertex_types=(247, uint8), space='voxel' transform=[[1.0, 0.0, 0.0, 0.0], [0.0, 1.0, 0.0, 0.0], [0.0, 0.0, 1.0, 0.0]]),\n",
       " 295192833: Skeleton(segid=295192833, vertices=(shape=258, float32), edges=(shape=257, uint32), radius=(258, float32), vertex_types=(258, uint8), space='voxel' transform=[[1.0, 0.0, 0.0, 0.0], [0.0, 1.0, 0.0, 0.0], [0.0, 0.0, 1.0, 0.0]]),\n",
       " 3257458305: Skeleton(segid=3257458305, vertices=(shape=289, float32), edges=(shape=288, uint32), radius=(289, float32), vertex_types=(289, uint8), space='voxel' transform=[[1.0, 0.0, 0.0, 0.0], [0.0, 1.0, 0.0, 0.0], [0.0, 0.0, 1.0, 0.0]]),\n",
       " 3352297985: Skeleton(segid=3352297985, vertices=(shape=364, float32), edges=(shape=363, uint32), radius=(364, float32), vertex_types=(364, uint8), space='voxel' transform=[[1.0, 0.0, 0.0, 0.0], [0.0, 1.0, 0.0, 0.0], [0.0, 0.0, 1.0, 0.0]]),\n",
       " 3403394177: Skeleton(segid=3403394177, vertices=(shape=260, float32), edges=(shape=259, uint32), radius=(260, float32), vertex_types=(260, uint8), space='voxel' transform=[[1.0, 0.0, 0.0, 0.0], [0.0, 1.0, 0.0, 0.0], [0.0, 0.0, 1.0, 0.0]]),\n",
       " 1978357249: Skeleton(segid=1978357249, vertices=(shape=81, float32), edges=(shape=80, uint32), radius=(81, float32), vertex_types=(81, uint8), space='voxel' transform=[[1.0, 0.0, 0.0, 0.0], [0.0, 1.0, 0.0, 0.0], [0.0, 0.0, 1.0, 0.0]]),\n",
       " 1620727169: Skeleton(segid=1620727169, vertices=(shape=105, float32), edges=(shape=104, uint32), radius=(105, float32), vertex_types=(105, uint8), space='voxel' transform=[[1.0, 0.0, 0.0, 0.0], [0.0, 1.0, 0.0, 0.0], [0.0, 0.0, 1.0, 0.0]]),\n",
       " 1978357505: Skeleton(segid=1978357505, vertices=(shape=751, float32), edges=(shape=750, uint32), radius=(751, float32), vertex_types=(751, uint8), space='voxel' transform=[[1.0, 0.0, 0.0, 0.0], [0.0, 1.0, 0.0, 0.0], [0.0, 0.0, 1.0, 0.0]]),\n",
       " 1614148609: Skeleton(segid=1614148609, vertices=(shape=206, float32), edges=(shape=205, uint32), radius=(206, float32), vertex_types=(206, uint8), space='voxel' transform=[[1.0, 0.0, 0.0, 0.0], [0.0, 1.0, 0.0, 0.0], [0.0, 0.0, 1.0, 0.0]]),\n",
       " 1614149121: Skeleton(segid=1614149121, vertices=(shape=135, float32), edges=(shape=134, uint32), radius=(135, float32), vertex_types=(135, uint8), space='voxel' transform=[[1.0, 0.0, 0.0, 0.0], [0.0, 1.0, 0.0, 0.0], [0.0, 0.0, 1.0, 0.0]]),\n",
       " 3751406209: Skeleton(segid=3751406209, vertices=(shape=93, float32), edges=(shape=92, uint32), radius=(93, float32), vertex_types=(93, uint8), space='voxel' transform=[[1.0, 0.0, 0.0, 0.0], [0.0, 1.0, 0.0, 0.0], [0.0, 0.0, 1.0, 0.0]]),\n",
       " 1444145281: Skeleton(segid=1444145281, vertices=(shape=222, float32), edges=(shape=221, uint32), radius=(222, float32), vertex_types=(222, uint8), space='voxel' transform=[[1.0, 0.0, 0.0, 0.0], [0.0, 1.0, 0.0, 0.0], [0.0, 0.0, 1.0, 0.0]]),\n",
       " 3219809153: Skeleton(segid=3219809153, vertices=(shape=205, float32), edges=(shape=204, uint32), radius=(205, float32), vertex_types=(205, uint8), space='voxel' transform=[[1.0, 0.0, 0.0, 0.0], [0.0, 1.0, 0.0, 0.0], [0.0, 0.0, 1.0, 0.0]]),\n",
       " 1620727681: Skeleton(segid=1620727681, vertices=(shape=183, float32), edges=(shape=182, uint32), radius=(183, float32), vertex_types=(183, uint8), space='voxel' transform=[[1.0, 0.0, 0.0, 0.0], [0.0, 1.0, 0.0, 0.0], [0.0, 0.0, 1.0, 0.0]]),\n",
       " 3304803969: Skeleton(segid=3304803969, vertices=(shape=280, float32), edges=(shape=279, uint32), radius=(280, float32), vertex_types=(280, uint8), space='voxel' transform=[[1.0, 0.0, 0.0, 0.0], [0.0, 1.0, 0.0, 0.0], [0.0, 0.0, 1.0, 0.0]]),\n",
       " 1978356481: Skeleton(segid=1978356481, vertices=(shape=21, float32), edges=(shape=20, uint32), radius=(21, float32), vertex_types=(21, uint8), space='voxel' transform=[[1.0, 0.0, 0.0, 0.0], [0.0, 1.0, 0.0, 0.0], [0.0, 0.0, 1.0, 0.0]]),\n",
       " 1614148865: Skeleton(segid=1614148865, vertices=(shape=128, float32), edges=(shape=127, uint32), radius=(128, float32), vertex_types=(128, uint8), space='voxel' transform=[[1.0, 0.0, 0.0, 0.0], [0.0, 1.0, 0.0, 0.0], [0.0, 0.0, 1.0, 0.0]]),\n",
       " 3163778177: Skeleton(segid=3163778177, vertices=(shape=233, float32), edges=(shape=232, uint32), radius=(233, float32), vertex_types=(233, uint8), space='voxel' transform=[[1.0, 0.0, 0.0, 0.0], [0.0, 1.0, 0.0, 0.0], [0.0, 0.0, 1.0, 0.0]]),\n",
       " 3562593665: Skeleton(segid=3562593665, vertices=(shape=688, float32), edges=(shape=686, uint32), radius=(688, float32), vertex_types=(688, uint8), space='voxel' transform=[[1.0, 0.0, 0.0, 0.0], [0.0, 1.0, 0.0, 0.0], [0.0, 0.0, 1.0, 0.0]]),\n",
       " 3429839617: Skeleton(segid=3429839617, vertices=(shape=203, float32), edges=(shape=202, uint32), radius=(203, float32), vertex_types=(203, uint8), space='voxel' transform=[[1.0, 0.0, 0.0, 0.0], [0.0, 1.0, 0.0, 0.0], [0.0, 0.0, 1.0, 0.0]]),\n",
       " 3651250689: Skeleton(segid=3651250689, vertices=(shape=783, float32), edges=(shape=781, uint32), radius=(783, float32), vertex_types=(783, uint8), space='voxel' transform=[[1.0, 0.0, 0.0, 0.0], [0.0, 1.0, 0.0, 0.0], [0.0, 0.0, 1.0, 0.0]]),\n",
       " 3106006529: Skeleton(segid=3106006529, vertices=(shape=276, float32), edges=(shape=275, uint32), radius=(276, float32), vertex_types=(276, uint8), space='voxel' transform=[[1.0, 0.0, 0.0, 0.0], [0.0, 1.0, 0.0, 0.0], [0.0, 0.0, 1.0, 0.0]]),\n",
       " 3303541633: Skeleton(segid=3303541633, vertices=(shape=456, float32), edges=(shape=454, uint32), radius=(456, float32), vertex_types=(456, uint8), space='voxel' transform=[[1.0, 0.0, 0.0, 0.0], [0.0, 1.0, 0.0, 0.0], [0.0, 0.0, 1.0, 0.0]]),\n",
       " 2695842433: Skeleton(segid=2695842433, vertices=(shape=246, float32), edges=(shape=244, uint32), radius=(246, float32), vertex_types=(246, uint8), space='voxel' transform=[[1.0, 0.0, 0.0, 0.0], [0.0, 1.0, 0.0, 0.0], [0.0, 0.0, 1.0, 0.0]]),\n",
       " 96663937: Skeleton(segid=96663937, vertices=(shape=256, float32), edges=(shape=255, uint32), radius=(256, float32), vertex_types=(256, uint8), space='voxel' transform=[[1.0, 0.0, 0.0, 0.0], [0.0, 1.0, 0.0, 0.0], [0.0, 0.0, 1.0, 0.0]]),\n",
       " 3529472129: Skeleton(segid=3529472129, vertices=(shape=135, float32), edges=(shape=134, uint32), radius=(135, float32), vertex_types=(135, uint8), space='voxel' transform=[[1.0, 0.0, 0.0, 0.0], [0.0, 1.0, 0.0, 0.0], [0.0, 0.0, 1.0, 0.0]]),\n",
       " 3117257985: Skeleton(segid=3117257985, vertices=(shape=282, float32), edges=(shape=281, uint32), radius=(282, float32), vertex_types=(282, uint8), space='voxel' transform=[[1.0, 0.0, 0.0, 0.0], [0.0, 1.0, 0.0, 0.0], [0.0, 0.0, 1.0, 0.0]]),\n",
       " 3163808385: Skeleton(segid=3163808385, vertices=(shape=25, float32), edges=(shape=24, uint32), radius=(25, float32), vertex_types=(25, uint8), space='voxel' transform=[[1.0, 0.0, 0.0, 0.0], [0.0, 1.0, 0.0, 0.0], [0.0, 0.0, 1.0, 0.0]]),\n",
       " 97793: Skeleton(segid=97793, vertices=(shape=71, float32), edges=(shape=70, uint32), radius=(71, float32), vertex_types=(71, uint8), space='voxel' transform=[[1.0, 0.0, 0.0, 0.0], [0.0, 1.0, 0.0, 0.0], [0.0, 0.0, 1.0, 0.0]]),\n",
       " 3732612609: Skeleton(segid=3732612609, vertices=(shape=243, float32), edges=(shape=242, uint32), radius=(243, float32), vertex_types=(243, uint8), space='voxel' transform=[[1.0, 0.0, 0.0, 0.0], [0.0, 1.0, 0.0, 0.0], [0.0, 0.0, 1.0, 0.0]]),\n",
       " 3401127297: Skeleton(segid=3401127297, vertices=(shape=315, float32), edges=(shape=314, uint32), radius=(315, float32), vertex_types=(315, uint8), space='voxel' transform=[[1.0, 0.0, 0.0, 0.0], [0.0, 1.0, 0.0, 0.0], [0.0, 0.0, 1.0, 0.0]]),\n",
       " 3403453313: Skeleton(segid=3403453313, vertices=(shape=355, float32), edges=(shape=354, uint32), radius=(355, float32), vertex_types=(355, uint8), space='voxel' transform=[[1.0, 0.0, 0.0, 0.0], [0.0, 1.0, 0.0, 0.0], [0.0, 0.0, 1.0, 0.0]]),\n",
       " 3264393345: Skeleton(segid=3264393345, vertices=(shape=29, float32), edges=(shape=28, uint32), radius=(29, float32), vertex_types=(29, uint8), space='voxel' transform=[[1.0, 0.0, 0.0, 0.0], [0.0, 1.0, 0.0, 0.0], [0.0, 0.0, 1.0, 0.0]]),\n",
       " 240624897: Skeleton(segid=240624897, vertices=(shape=390, float32), edges=(shape=389, uint32), radius=(390, float32), vertex_types=(390, uint8), space='voxel' transform=[[1.0, 0.0, 0.0, 0.0], [0.0, 1.0, 0.0, 0.0], [0.0, 0.0, 1.0, 0.0]]),\n",
       " 3021826817: Skeleton(segid=3021826817, vertices=(shape=508, float32), edges=(shape=507, uint32), radius=(508, float32), vertex_types=(508, uint8), space='voxel' transform=[[1.0, 0.0, 0.0, 0.0], [0.0, 1.0, 0.0, 0.0], [0.0, 0.0, 1.0, 0.0]]),\n",
       " 230501121: Skeleton(segid=230501121, vertices=(shape=272, float32), edges=(shape=271, uint32), radius=(272, float32), vertex_types=(272, uint8), space='voxel' transform=[[1.0, 0.0, 0.0, 0.0], [0.0, 1.0, 0.0, 0.0], [0.0, 0.0, 1.0, 0.0]]),\n",
       " 3257740417: Skeleton(segid=3257740417, vertices=(shape=324, float32), edges=(shape=322, uint32), radius=(324, float32), vertex_types=(324, uint8), space='voxel' transform=[[1.0, 0.0, 0.0, 0.0], [0.0, 1.0, 0.0, 0.0], [0.0, 0.0, 1.0, 0.0]]),\n",
       " 3403427457: Skeleton(segid=3403427457, vertices=(shape=704, float32), edges=(shape=701, uint32), radius=(704, float32), vertex_types=(704, uint8), space='voxel' transform=[[1.0, 0.0, 0.0, 0.0], [0.0, 1.0, 0.0, 0.0], [0.0, 0.0, 1.0, 0.0]]),\n",
       " 1978282753: Skeleton(segid=1978282753, vertices=(shape=42, float32), edges=(shape=41, uint32), radius=(42, float32), vertex_types=(42, uint8), space='voxel' transform=[[1.0, 0.0, 0.0, 0.0], [0.0, 1.0, 0.0, 0.0], [0.0, 0.0, 1.0, 0.0]]),\n",
       " 3257736577: Skeleton(segid=3257736577, vertices=(shape=336, float32), edges=(shape=335, uint32), radius=(336, float32), vertex_types=(336, uint8), space='voxel' transform=[[1.0, 0.0, 0.0, 0.0], [0.0, 1.0, 0.0, 0.0], [0.0, 0.0, 1.0, 0.0]]),\n",
       " 3092283393: Skeleton(segid=3092283393, vertices=(shape=298, float32), edges=(shape=296, uint32), radius=(298, float32), vertex_types=(298, uint8), space='voxel' transform=[[1.0, 0.0, 0.0, 0.0], [0.0, 1.0, 0.0, 0.0], [0.0, 0.0, 1.0, 0.0]]),\n",
       " 1978283009: Skeleton(segid=1978283009, vertices=(shape=82, float32), edges=(shape=81, uint32), radius=(82, float32), vertex_types=(82, uint8), space='voxel' transform=[[1.0, 0.0, 0.0, 0.0], [0.0, 1.0, 0.0, 0.0], [0.0, 0.0, 1.0, 0.0]]),\n",
       " 3302472321: Skeleton(segid=3302472321, vertices=(shape=176, float32), edges=(shape=175, uint32), radius=(176, float32), vertex_types=(176, uint8), space='voxel' transform=[[1.0, 0.0, 0.0, 0.0], [0.0, 1.0, 0.0, 0.0], [0.0, 0.0, 1.0, 0.0]]),\n",
       " 400394369: Skeleton(segid=400394369, vertices=(shape=46, float32), edges=(shape=45, uint32), radius=(46, float32), vertex_types=(46, uint8), space='voxel' transform=[[1.0, 0.0, 0.0, 0.0], [0.0, 1.0, 0.0, 0.0], [0.0, 0.0, 1.0, 0.0]]),\n",
       " 3257728897: Skeleton(segid=3257728897, vertices=(shape=135, float32), edges=(shape=134, uint32), radius=(135, float32), vertex_types=(135, uint8), space='voxel' transform=[[1.0, 0.0, 0.0, 0.0], [0.0, 1.0, 0.0, 0.0], [0.0, 0.0, 1.0, 0.0]]),\n",
       " 3264617345: Skeleton(segid=3264617345, vertices=(shape=282, float32), edges=(shape=281, uint32), radius=(282, float32), vertex_types=(282, uint8), space='voxel' transform=[[1.0, 0.0, 0.0, 0.0], [0.0, 1.0, 0.0, 0.0], [0.0, 0.0, 1.0, 0.0]]),\n",
       " 232758273: Skeleton(segid=232758273, vertices=(shape=256, float32), edges=(shape=255, uint32), radius=(256, float32), vertex_types=(256, uint8), space='voxel' transform=[[1.0, 0.0, 0.0, 0.0], [0.0, 1.0, 0.0, 0.0], [0.0, 0.0, 1.0, 0.0]]),\n",
       " 3186534529: Skeleton(segid=3186534529, vertices=(shape=339, float32), edges=(shape=338, uint32), radius=(339, float32), vertex_types=(339, uint8), space='voxel' transform=[[1.0, 0.0, 0.0, 0.0], [0.0, 1.0, 0.0, 0.0], [0.0, 0.0, 1.0, 0.0]]),\n",
       " 174104577: Skeleton(segid=174104577, vertices=(shape=35, float32), edges=(shape=34, uint32), radius=(35, float32), vertex_types=(35, uint8), space='voxel' transform=[[1.0, 0.0, 0.0, 0.0], [0.0, 1.0, 0.0, 0.0], [0.0, 0.0, 1.0, 0.0]]),\n",
       " 4175556481: Skeleton(segid=4175556481, vertices=(shape=330, float32), edges=(shape=329, uint32), radius=(330, float32), vertex_types=(330, uint8), space='voxel' transform=[[1.0, 0.0, 0.0, 0.0], [0.0, 1.0, 0.0, 0.0], [0.0, 0.0, 1.0, 0.0]]),\n",
       " 3226191489: Skeleton(segid=3226191489, vertices=(shape=260, float32), edges=(shape=259, uint32), radius=(260, float32), vertex_types=(260, uint8), space='voxel' transform=[[1.0, 0.0, 0.0, 0.0], [0.0, 1.0, 0.0, 0.0], [0.0, 0.0, 1.0, 0.0]]),\n",
       " 3822467329: Skeleton(segid=3822467329, vertices=(shape=112, float32), edges=(shape=111, uint32), radius=(112, float32), vertex_types=(112, uint8), space='voxel' transform=[[1.0, 0.0, 0.0, 0.0], [0.0, 1.0, 0.0, 0.0], [0.0, 0.0, 1.0, 0.0]]),\n",
       " 3621494401: Skeleton(segid=3621494401, vertices=(shape=82, float32), edges=(shape=81, uint32), radius=(82, float32), vertex_types=(82, uint8), space='voxel' transform=[[1.0, 0.0, 0.0, 0.0], [0.0, 1.0, 0.0, 0.0], [0.0, 0.0, 1.0, 0.0]]),\n",
       " 3257744257: Skeleton(segid=3257744257, vertices=(shape=180, float32), edges=(shape=179, uint32), radius=(180, float32), vertex_types=(180, uint8), space='voxel' transform=[[1.0, 0.0, 0.0, 0.0], [0.0, 1.0, 0.0, 0.0], [0.0, 0.0, 1.0, 0.0]]),\n",
       " 1978283265: Skeleton(segid=1978283265, vertices=(shape=60, float32), edges=(shape=59, uint32), radius=(60, float32), vertex_types=(60, uint8), space='voxel' transform=[[1.0, 0.0, 0.0, 0.0], [0.0, 1.0, 0.0, 0.0], [0.0, 0.0, 1.0, 0.0]]),\n",
       " 101889: Skeleton(segid=101889, vertices=(shape=62, float32), edges=(shape=61, uint32), radius=(62, float32), vertex_types=(62, uint8), space='voxel' transform=[[1.0, 0.0, 0.0, 0.0], [0.0, 1.0, 0.0, 0.0], [0.0, 0.0, 1.0, 0.0]]),\n",
       " 3163806593: Skeleton(segid=3163806593, vertices=(shape=38, float32), edges=(shape=37, uint32), radius=(38, float32), vertex_types=(38, uint8), space='voxel' transform=[[1.0, 0.0, 0.0, 0.0], [0.0, 1.0, 0.0, 0.0], [0.0, 0.0, 1.0, 0.0]]),\n",
       " 111617: Skeleton(segid=111617, vertices=(shape=37, float32), edges=(shape=36, uint32), radius=(37, float32), vertex_types=(37, uint8), space='voxel' transform=[[1.0, 0.0, 0.0, 0.0], [0.0, 1.0, 0.0, 0.0], [0.0, 0.0, 1.0, 0.0]]),\n",
       " 3225797249: Skeleton(segid=3225797249, vertices=(shape=90, float32), edges=(shape=89, uint32), radius=(90, float32), vertex_types=(90, uint8), space='voxel' transform=[[1.0, 0.0, 0.0, 0.0], [0.0, 1.0, 0.0, 0.0], [0.0, 0.0, 1.0, 0.0]]),\n",
       " 3162079617: Skeleton(segid=3162079617, vertices=(shape=223, float32), edges=(shape=222, uint32), radius=(223, float32), vertex_types=(223, uint8), space='voxel' transform=[[1.0, 0.0, 0.0, 0.0], [0.0, 1.0, 0.0, 0.0], [0.0, 0.0, 1.0, 0.0]]),\n",
       " 113409: Skeleton(segid=113409, vertices=(shape=34, float32), edges=(shape=33, uint32), radius=(34, float32), vertex_types=(34, uint8), space='voxel' transform=[[1.0, 0.0, 0.0, 0.0], [0.0, 1.0, 0.0, 0.0], [0.0, 0.0, 1.0, 0.0]]),\n",
       " 3403435393: Skeleton(segid=3403435393, vertices=(shape=269, float32), edges=(shape=268, uint32), radius=(269, float32), vertex_types=(269, uint8), space='voxel' transform=[[1.0, 0.0, 0.0, 0.0], [0.0, 1.0, 0.0, 0.0], [0.0, 0.0, 1.0, 0.0]]),\n",
       " 400399233: Skeleton(segid=400399233, vertices=(shape=13, float32), edges=(shape=12, uint32), radius=(13, float32), vertex_types=(13, uint8), space='voxel' transform=[[1.0, 0.0, 0.0, 0.0], [0.0, 1.0, 0.0, 0.0], [0.0, 0.0, 1.0, 0.0]]),\n",
       " 3376745089: Skeleton(segid=3376745089, vertices=(shape=51, float32), edges=(shape=50, uint32), radius=(51, float32), vertex_types=(51, uint8), space='voxel' transform=[[1.0, 0.0, 0.0, 0.0], [0.0, 1.0, 0.0, 0.0], [0.0, 0.0, 1.0, 0.0]]),\n",
       " 275622145: Skeleton(segid=275622145, vertices=(shape=150, float32), edges=(shape=149, uint32), radius=(150, float32), vertex_types=(150, uint8), space='voxel' transform=[[1.0, 0.0, 0.0, 0.0], [0.0, 1.0, 0.0, 0.0], [0.0, 0.0, 1.0, 0.0]]),\n",
       " 3331457537: Skeleton(segid=3331457537, vertices=(shape=372, float32), edges=(shape=371, uint32), radius=(372, float32), vertex_types=(372, uint8), space='voxel' transform=[[1.0, 0.0, 0.0, 0.0], [0.0, 1.0, 0.0, 0.0], [0.0, 0.0, 1.0, 0.0]]),\n",
       " 115969: Skeleton(segid=115969, vertices=(shape=36, float32), edges=(shape=35, uint32), radius=(36, float32), vertex_types=(36, uint8), space='voxel' transform=[[1.0, 0.0, 0.0, 0.0], [0.0, 1.0, 0.0, 0.0], [0.0, 0.0, 1.0, 0.0]]),\n",
       " 1614149377: Skeleton(segid=1614149377, vertices=(shape=195, float32), edges=(shape=194, uint32), radius=(195, float32), vertex_types=(195, uint8), space='voxel' transform=[[1.0, 0.0, 0.0, 0.0], [0.0, 1.0, 0.0, 0.0], [0.0, 0.0, 1.0, 0.0]]),\n",
       " 3264661377: Skeleton(segid=3264661377, vertices=(shape=498, float32), edges=(shape=497, uint32), radius=(498, float32), vertex_types=(498, uint8), space='voxel' transform=[[1.0, 0.0, 0.0, 0.0], [0.0, 1.0, 0.0, 0.0], [0.0, 0.0, 1.0, 0.0]]),\n",
       " 564163201: Skeleton(segid=564163201, vertices=(shape=3591, float32), edges=(shape=3585, uint32), radius=(3591, float32), vertex_types=(3591, uint8), space='voxel' transform=[[1.0, 0.0, 0.0, 0.0], [0.0, 1.0, 0.0, 0.0], [0.0, 0.0, 1.0, 0.0]]),\n",
       " 3260852737: Skeleton(segid=3260852737, vertices=(shape=117, float32), edges=(shape=116, uint32), radius=(117, float32), vertex_types=(117, uint8), space='voxel' transform=[[1.0, 0.0, 0.0, 0.0], [0.0, 1.0, 0.0, 0.0], [0.0, 0.0, 1.0, 0.0]]),\n",
       " 1444146305: Skeleton(segid=1444146305, vertices=(shape=554, float32), edges=(shape=553, uint32), radius=(554, float32), vertex_types=(554, uint8), space='voxel' transform=[[1.0, 0.0, 0.0, 0.0], [0.0, 1.0, 0.0, 0.0], [0.0, 0.0, 1.0, 0.0]]),\n",
       " 3389623681: Skeleton(segid=3389623681, vertices=(shape=446, float32), edges=(shape=445, uint32), radius=(446, float32), vertex_types=(446, uint8), space='voxel' transform=[[1.0, 0.0, 0.0, 0.0], [0.0, 1.0, 0.0, 0.0], [0.0, 0.0, 1.0, 0.0]]),\n",
       " 3163792513: Skeleton(segid=3163792513, vertices=(shape=15, float32), edges=(shape=14, uint32), radius=(15, float32), vertex_types=(15, uint8), space='voxel' transform=[[1.0, 0.0, 0.0, 0.0], [0.0, 1.0, 0.0, 0.0], [0.0, 0.0, 1.0, 0.0]]),\n",
       " 3257521281: Skeleton(segid=3257521281, vertices=(shape=22, float32), edges=(shape=21, uint32), radius=(22, float32), vertex_types=(22, uint8), space='voxel' transform=[[1.0, 0.0, 0.0, 0.0], [0.0, 1.0, 0.0, 0.0], [0.0, 0.0, 1.0, 0.0]]),\n",
       " 1614153473: Skeleton(segid=1614153473, vertices=(shape=44, float32), edges=(shape=43, uint32), radius=(44, float32), vertex_types=(44, uint8), space='voxel' transform=[[1.0, 0.0, 0.0, 0.0], [0.0, 1.0, 0.0, 0.0], [0.0, 0.0, 1.0, 0.0]]),\n",
       " 3261795969: Skeleton(segid=3261795969, vertices=(shape=48, float32), edges=(shape=47, uint32), radius=(48, float32), vertex_types=(48, uint8), space='voxel' transform=[[1.0, 0.0, 0.0, 0.0], [0.0, 1.0, 0.0, 0.0], [0.0, 0.0, 1.0, 0.0]]),\n",
       " 3163793281: Skeleton(segid=3163793281, vertices=(shape=34, float32), edges=(shape=33, uint32), radius=(34, float32), vertex_types=(34, uint8), space='voxel' transform=[[1.0, 0.0, 0.0, 0.0], [0.0, 1.0, 0.0, 0.0], [0.0, 0.0, 1.0, 0.0]]),\n",
       " 55326721: Skeleton(segid=55326721, vertices=(shape=506, float32), edges=(shape=505, uint32), radius=(506, float32), vertex_types=(506, uint8), space='voxel' transform=[[1.0, 0.0, 0.0, 0.0], [0.0, 1.0, 0.0, 0.0], [0.0, 0.0, 1.0, 0.0]]),\n",
       " 339262337: Skeleton(segid=339262337, vertices=(shape=31, float32), edges=(shape=30, uint32), radius=(31, float32), vertex_types=(31, uint8), space='voxel' transform=[[1.0, 0.0, 0.0, 0.0], [0.0, 1.0, 0.0, 0.0], [0.0, 0.0, 1.0, 0.0]]),\n",
       " 274531073: Skeleton(segid=274531073, vertices=(shape=270, float32), edges=(shape=269, uint32), radius=(270, float32), vertex_types=(270, uint8), space='voxel' transform=[[1.0, 0.0, 0.0, 0.0], [0.0, 1.0, 0.0, 0.0], [0.0, 0.0, 1.0, 0.0]]),\n",
       " 400402049: Skeleton(segid=400402049, vertices=(shape=43, float32), edges=(shape=42, uint32), radius=(43, float32), vertex_types=(43, uint8), space='voxel' transform=[[1.0, 0.0, 0.0, 0.0], [0.0, 1.0, 0.0, 0.0], [0.0, 0.0, 1.0, 0.0]]),\n",
       " 235350529: Skeleton(segid=235350529, vertices=(shape=272, float32), edges=(shape=271, uint32), radius=(272, float32), vertex_types=(272, uint8), space='voxel' transform=[[1.0, 0.0, 0.0, 0.0], [0.0, 1.0, 0.0, 0.0], [0.0, 0.0, 1.0, 0.0]]),\n",
       " 3575549313: Skeleton(segid=3575549313, vertices=(shape=1483, float32), edges=(shape=1482, uint32), radius=(1483, float32), vertex_types=(1483, uint8), space='voxel' transform=[[1.0, 0.0, 0.0, 0.0], [0.0, 1.0, 0.0, 0.0], [0.0, 0.0, 1.0, 0.0]]),\n",
       " 1614153985: Skeleton(segid=1614153985, vertices=(shape=40, float32), edges=(shape=39, uint32), radius=(40, float32), vertex_types=(40, uint8), space='voxel' transform=[[1.0, 0.0, 0.0, 0.0], [0.0, 1.0, 0.0, 0.0], [0.0, 0.0, 1.0, 0.0]]),\n",
       " 339270785: Skeleton(segid=339270785, vertices=(shape=64, float32), edges=(shape=63, uint32), radius=(64, float32), vertex_types=(64, uint8), space='voxel' transform=[[1.0, 0.0, 0.0, 0.0], [0.0, 1.0, 0.0, 0.0], [0.0, 0.0, 1.0, 0.0]]),\n",
       " 2695843201: Skeleton(segid=2695843201, vertices=(shape=22, float32), edges=(shape=21, uint32), radius=(22, float32), vertex_types=(22, uint8), space='voxel' transform=[[1.0, 0.0, 0.0, 0.0], [0.0, 1.0, 0.0, 0.0], [0.0, 0.0, 1.0, 0.0]]),\n",
       " 339271041: Skeleton(segid=339271041, vertices=(shape=57, float32), edges=(shape=56, uint32), radius=(57, float32), vertex_types=(57, uint8), space='voxel' transform=[[1.0, 0.0, 0.0, 0.0], [0.0, 1.0, 0.0, 0.0], [0.0, 0.0, 1.0, 0.0]]),\n",
       " 3182230401: Skeleton(segid=3182230401, vertices=(shape=32, float32), edges=(shape=31, uint32), radius=(32, float32), vertex_types=(32, uint8), space='voxel' transform=[[1.0, 0.0, 0.0, 0.0], [0.0, 1.0, 0.0, 0.0], [0.0, 0.0, 1.0, 0.0]]),\n",
       " 3182239361: Skeleton(segid=3182239361, vertices=(shape=58, float32), edges=(shape=57, uint32), radius=(58, float32), vertex_types=(58, uint8), space='voxel' transform=[[1.0, 0.0, 0.0, 0.0], [0.0, 1.0, 0.0, 0.0], [0.0, 0.0, 1.0, 0.0]]),\n",
       " 2695844737: Skeleton(segid=2695844737, vertices=(shape=528, float32), edges=(shape=526, uint32), radius=(528, float32), vertex_types=(528, uint8), space='voxel' transform=[[1.0, 0.0, 0.0, 0.0], [0.0, 1.0, 0.0, 0.0], [0.0, 0.0, 1.0, 0.0]]),\n",
       " 4202881921: Skeleton(segid=4202881921, vertices=(shape=203, float32), edges=(shape=202, uint32), radius=(203, float32), vertex_types=(203, uint8), space='voxel' transform=[[1.0, 0.0, 0.0, 0.0], [0.0, 1.0, 0.0, 0.0], [0.0, 0.0, 1.0, 0.0]]),\n",
       " 222661377: Skeleton(segid=222661377, vertices=(shape=169, float32), edges=(shape=168, uint32), radius=(169, float32), vertex_types=(169, uint8), space='voxel' transform=[[1.0, 0.0, 0.0, 0.0], [0.0, 1.0, 0.0, 0.0], [0.0, 0.0, 1.0, 0.0]]),\n",
       " 1614154497: Skeleton(segid=1614154497, vertices=(shape=111, float32), edges=(shape=110, uint32), radius=(111, float32), vertex_types=(111, uint8), space='voxel' transform=[[1.0, 0.0, 0.0, 0.0], [0.0, 1.0, 0.0, 0.0], [0.0, 0.0, 1.0, 0.0]]),\n",
       " 232611329: Skeleton(segid=232611329, vertices=(shape=293, float32), edges=(shape=292, uint32), radius=(293, float32), vertex_types=(293, uint8), space='voxel' transform=[[1.0, 0.0, 0.0, 0.0], [0.0, 1.0, 0.0, 0.0], [0.0, 0.0, 1.0, 0.0]]),\n",
       " 339271809: Skeleton(segid=339271809, vertices=(shape=41, float32), edges=(shape=40, uint32), radius=(41, float32), vertex_types=(41, uint8), space='voxel' transform=[[1.0, 0.0, 0.0, 0.0], [0.0, 1.0, 0.0, 0.0], [0.0, 0.0, 1.0, 0.0]]),\n",
       " 1614154241: Skeleton(segid=1614154241, vertices=(shape=42, float32), edges=(shape=41, uint32), radius=(42, float32), vertex_types=(42, uint8), space='voxel' transform=[[1.0, 0.0, 0.0, 0.0], [0.0, 1.0, 0.0, 0.0], [0.0, 0.0, 1.0, 0.0]]),\n",
       " 3095461761: Skeleton(segid=3095461761, vertices=(shape=426, float32), edges=(shape=424, uint32), radius=(426, float32), vertex_types=(426, uint8), space='voxel' transform=[[1.0, 0.0, 0.0, 0.0], [0.0, 1.0, 0.0, 0.0], [0.0, 0.0, 1.0, 0.0]]),\n",
       " 3171903361: Skeleton(segid=3171903361, vertices=(shape=245, float32), edges=(shape=244, uint32), radius=(245, float32), vertex_types=(245, uint8), space='voxel' transform=[[1.0, 0.0, 0.0, 0.0], [0.0, 1.0, 0.0, 0.0], [0.0, 0.0, 1.0, 0.0]]),\n",
       " 3260873601: Skeleton(segid=3260873601, vertices=(shape=62, float32), edges=(shape=61, uint32), radius=(62, float32), vertex_types=(62, uint8), space='voxel' transform=[[1.0, 0.0, 0.0, 0.0], [0.0, 1.0, 0.0, 0.0], [0.0, 0.0, 1.0, 0.0]]),\n",
       " 3312438145: Skeleton(segid=3312438145, vertices=(shape=160, float32), edges=(shape=159, uint32), radius=(160, float32), vertex_types=(160, uint8), space='voxel' transform=[[1.0, 0.0, 0.0, 0.0], [0.0, 1.0, 0.0, 0.0], [0.0, 0.0, 1.0, 0.0]]),\n",
       " 174115073: Skeleton(segid=174115073, vertices=(shape=25, float32), edges=(shape=24, uint32), radius=(25, float32), vertex_types=(25, uint8), space='voxel' transform=[[1.0, 0.0, 0.0, 0.0], [0.0, 1.0, 0.0, 0.0], [0.0, 0.0, 1.0, 0.0]]),\n",
       " 3163818625: Skeleton(segid=3163818625, vertices=(shape=45, float32), edges=(shape=44, uint32), radius=(45, float32), vertex_types=(45, uint8), space='voxel' transform=[[1.0, 0.0, 0.0, 0.0], [0.0, 1.0, 0.0, 0.0], [0.0, 0.0, 1.0, 0.0]]),\n",
       " 337015297: Skeleton(segid=337015297, vertices=(shape=267, float32), edges=(shape=266, uint32), radius=(267, float32), vertex_types=(267, uint8), space='voxel' transform=[[1.0, 0.0, 0.0, 0.0], [0.0, 1.0, 0.0, 0.0], [0.0, 0.0, 1.0, 0.0]]),\n",
       " 2528808449: Skeleton(segid=2528808449, vertices=(shape=77, float32), edges=(shape=76, uint32), radius=(77, float32), vertex_types=(77, uint8), space='voxel' transform=[[1.0, 0.0, 0.0, 0.0], [0.0, 1.0, 0.0, 0.0], [0.0, 0.0, 1.0, 0.0]]),\n",
       " 3678286593: Skeleton(segid=3678286593, vertices=(shape=151, float32), edges=(shape=149, uint32), radius=(151, float32), vertex_types=(151, uint8), space='voxel' transform=[[1.0, 0.0, 0.0, 0.0], [0.0, 1.0, 0.0, 0.0], [0.0, 0.0, 1.0, 0.0]]),\n",
       " 1614184193: Skeleton(segid=1614184193, vertices=(shape=43, float32), edges=(shape=42, uint32), radius=(43, float32), vertex_types=(43, uint8), space='voxel' transform=[[1.0, 0.0, 0.0, 0.0], [0.0, 1.0, 0.0, 0.0], [0.0, 0.0, 1.0, 0.0]]),\n",
       " 3257730433: Skeleton(segid=3257730433, vertices=(shape=289, float32), edges=(shape=288, uint32), radius=(289, float32), vertex_types=(289, uint8), space='voxel' transform=[[1.0, 0.0, 0.0, 0.0], [0.0, 1.0, 0.0, 0.0], [0.0, 0.0, 1.0, 0.0]]),\n",
       " 1614184449: Skeleton(segid=1614184449, vertices=(shape=138, float32), edges=(shape=137, uint32), radius=(138, float32), vertex_types=(138, uint8), space='voxel' transform=[[1.0, 0.0, 0.0, 0.0], [0.0, 1.0, 0.0, 0.0], [0.0, 0.0, 1.0, 0.0]]),\n",
       " 3304892033: Skeleton(segid=3304892033, vertices=(shape=264, float32), edges=(shape=263, uint32), radius=(264, float32), vertex_types=(264, uint8), space='voxel' transform=[[1.0, 0.0, 0.0, 0.0], [0.0, 1.0, 0.0, 0.0], [0.0, 0.0, 1.0, 0.0]]),\n",
       " 3257590401: Skeleton(segid=3257590401, vertices=(shape=317, float32), edges=(shape=316, uint32), radius=(317, float32), vertex_types=(317, uint8), space='voxel' transform=[[1.0, 0.0, 0.0, 0.0], [0.0, 1.0, 0.0, 0.0], [0.0, 0.0, 1.0, 0.0]]),\n",
       " 1620736385: Skeleton(segid=1620736385, vertices=(shape=61, float32), edges=(shape=59, uint32), radius=(61, float32), vertex_types=(61, uint8), space='voxel' transform=[[1.0, 0.0, 0.0, 0.0], [0.0, 1.0, 0.0, 0.0], [0.0, 0.0, 1.0, 0.0]]),\n",
       " 1614185217: Skeleton(segid=1614185217, vertices=(shape=770, float32), edges=(shape=769, uint32), radius=(770, float32), vertex_types=(770, uint8), space='voxel' transform=[[1.0, 0.0, 0.0, 0.0], [0.0, 1.0, 0.0, 0.0], [0.0, 0.0, 1.0, 0.0]]),\n",
       " 3586021889: Skeleton(segid=3586021889, vertices=(shape=257, float32), edges=(shape=256, uint32), radius=(257, float32), vertex_types=(257, uint8), space='voxel' transform=[[1.0, 0.0, 0.0, 0.0], [0.0, 1.0, 0.0, 0.0], [0.0, 0.0, 1.0, 0.0]]),\n",
       " 339270529: Skeleton(segid=339270529, vertices=(shape=24, float32), edges=(shape=23, uint32), radius=(24, float32), vertex_types=(24, uint8), space='voxel' transform=[[1.0, 0.0, 0.0, 0.0], [0.0, 1.0, 0.0, 0.0], [0.0, 0.0, 1.0, 0.0]]),\n",
       " 3837963649: Skeleton(segid=3837963649, vertices=(shape=199, float32), edges=(shape=196, uint32), radius=(199, float32), vertex_types=(199, uint8), space='voxel' transform=[[1.0, 0.0, 0.0, 0.0], [0.0, 1.0, 0.0, 0.0], [0.0, 0.0, 1.0, 0.0]]),\n",
       " 230488833: Skeleton(segid=230488833, vertices=(shape=195, float32), edges=(shape=193, uint32), radius=(195, float32), vertex_types=(195, uint8), space='voxel' transform=[[1.0, 0.0, 0.0, 0.0], [0.0, 1.0, 0.0, 0.0], [0.0, 0.0, 1.0, 0.0]]),\n",
       " 329232129: Skeleton(segid=329232129, vertices=(shape=32, float32), edges=(shape=31, uint32), radius=(32, float32), vertex_types=(32, uint8), space='voxel' transform=[[1.0, 0.0, 0.0, 0.0], [0.0, 1.0, 0.0, 0.0], [0.0, 0.0, 1.0, 0.0]]),\n",
       " 3257590657: Skeleton(segid=3257590657, vertices=(shape=208, float32), edges=(shape=207, uint32), radius=(208, float32), vertex_types=(208, uint8), space='voxel' transform=[[1.0, 0.0, 0.0, 0.0], [0.0, 1.0, 0.0, 0.0], [0.0, 0.0, 1.0, 0.0]]),\n",
       " 241317377: Skeleton(segid=241317377, vertices=(shape=313, float32), edges=(shape=312, uint32), radius=(313, float32), vertex_types=(313, uint8), space='voxel' transform=[[1.0, 0.0, 0.0, 0.0], [0.0, 1.0, 0.0, 0.0], [0.0, 0.0, 1.0, 0.0]]),\n",
       " 3378716545: Skeleton(segid=3378716545, vertices=(shape=314, float32), edges=(shape=311, uint32), radius=(314, float32), vertex_types=(314, uint8), space='voxel' transform=[[1.0, 0.0, 0.0, 0.0], [0.0, 1.0, 0.0, 0.0], [0.0, 0.0, 1.0, 0.0]]),\n",
       " 3108927361: Skeleton(segid=3108927361, vertices=(shape=115, float32), edges=(shape=114, uint32), radius=(115, float32), vertex_types=(115, uint8), space='voxel' transform=[[1.0, 0.0, 0.0, 0.0], [0.0, 1.0, 0.0, 0.0], [0.0, 0.0, 1.0, 0.0]]),\n",
       " 3395676929: Skeleton(segid=3395676929, vertices=(shape=599, float32), edges=(shape=594, uint32), radius=(599, float32), vertex_types=(599, uint8), space='voxel' transform=[[1.0, 0.0, 0.0, 0.0], [0.0, 1.0, 0.0, 0.0], [0.0, 0.0, 1.0, 0.0]]),\n",
       " 274475521: Skeleton(segid=274475521, vertices=(shape=293, float32), edges=(shape=292, uint32), radius=(293, float32), vertex_types=(293, uint8), space='voxel' transform=[[1.0, 0.0, 0.0, 0.0], [0.0, 1.0, 0.0, 0.0], [0.0, 0.0, 1.0, 0.0]]),\n",
       " 339276417: Skeleton(segid=339276417, vertices=(shape=18, float32), edges=(shape=17, uint32), radius=(18, float32), vertex_types=(18, uint8), space='voxel' transform=[[1.0, 0.0, 0.0, 0.0], [0.0, 1.0, 0.0, 0.0], [0.0, 0.0, 1.0, 0.0]]),\n",
       " 848374657: Skeleton(segid=848374657, vertices=(shape=36, float32), edges=(shape=35, uint32), radius=(36, float32), vertex_types=(36, uint8), space='voxel' transform=[[1.0, 0.0, 0.0, 0.0], [0.0, 1.0, 0.0, 0.0], [0.0, 0.0, 1.0, 0.0]]),\n",
       " 4008228737: Skeleton(segid=4008228737, vertices=(shape=284, float32), edges=(shape=283, uint32), radius=(284, float32), vertex_types=(284, uint8), space='voxel' transform=[[1.0, 0.0, 0.0, 0.0], [0.0, 1.0, 0.0, 0.0], [0.0, 0.0, 1.0, 0.0]]),\n",
       " 428044417: Skeleton(segid=428044417, vertices=(shape=22, float32), edges=(shape=21, uint32), radius=(22, float32), vertex_types=(22, uint8), space='voxel' transform=[[1.0, 0.0, 0.0, 0.0], [0.0, 1.0, 0.0, 0.0], [0.0, 0.0, 1.0, 0.0]]),\n",
       " 275554561: Skeleton(segid=275554561, vertices=(shape=132, float32), edges=(shape=130, uint32), radius=(132, float32), vertex_types=(132, uint8), space='voxel' transform=[[1.0, 0.0, 0.0, 0.0], [0.0, 1.0, 0.0, 0.0], [0.0, 0.0, 1.0, 0.0]]),\n",
       " 329233409: Skeleton(segid=329233409, vertices=(shape=14, float32), edges=(shape=13, uint32), radius=(14, float32), vertex_types=(14, uint8), space='voxel' transform=[[1.0, 0.0, 0.0, 0.0], [0.0, 1.0, 0.0, 0.0], [0.0, 0.0, 1.0, 0.0]]),\n",
       " 3805549441: Skeleton(segid=3805549441, vertices=(shape=120, float32), edges=(shape=118, uint32), radius=(120, float32), vertex_types=(120, uint8), space='voxel' transform=[[1.0, 0.0, 0.0, 0.0], [0.0, 1.0, 0.0, 0.0], [0.0, 0.0, 1.0, 0.0]]),\n",
       " 221178369: Skeleton(segid=221178369, vertices=(shape=350, float32), edges=(shape=349, uint32), radius=(350, float32), vertex_types=(350, uint8), space='voxel' transform=[[1.0, 0.0, 0.0, 0.0], [0.0, 1.0, 0.0, 0.0], [0.0, 0.0, 1.0, 0.0]]),\n",
       " 3163818369: Skeleton(segid=3163818369, vertices=(shape=257, float32), edges=(shape=256, uint32), radius=(257, float32), vertex_types=(257, uint8), space='voxel' transform=[[1.0, 0.0, 0.0, 0.0], [0.0, 1.0, 0.0, 0.0], [0.0, 0.0, 1.0, 0.0]]),\n",
       " 4265304961: Skeleton(segid=4265304961, vertices=(shape=24, float32), edges=(shape=23, uint32), radius=(24, float32), vertex_types=(24, uint8), space='voxel' transform=[[1.0, 0.0, 0.0, 0.0], [0.0, 1.0, 0.0, 0.0], [0.0, 0.0, 1.0, 0.0]]),\n",
       " 3429840385: Skeleton(segid=3429840385, vertices=(shape=258, float32), edges=(shape=257, uint32), radius=(258, float32), vertex_types=(258, uint8), space='voxel' transform=[[1.0, 0.0, 0.0, 0.0], [0.0, 1.0, 0.0, 0.0], [0.0, 0.0, 1.0, 0.0]]),\n",
       " 848379521: Skeleton(segid=848379521, vertices=(shape=26, float32), edges=(shape=25, uint32), radius=(26, float32), vertex_types=(26, uint8), space='voxel' transform=[[1.0, 0.0, 0.0, 0.0], [0.0, 1.0, 0.0, 0.0], [0.0, 0.0, 1.0, 0.0]]),\n",
       " 3257728641: Skeleton(segid=3257728641, vertices=(shape=112, float32), edges=(shape=111, uint32), radius=(112, float32), vertex_types=(112, uint8), space='voxel' transform=[[1.0, 0.0, 0.0, 0.0], [0.0, 1.0, 0.0, 0.0], [0.0, 0.0, 1.0, 0.0]]),\n",
       " 3163770497: Skeleton(segid=3163770497, vertices=(shape=113, float32), edges=(shape=111, uint32), radius=(113, float32), vertex_types=(113, uint8), space='voxel' transform=[[1.0, 0.0, 0.0, 0.0], [0.0, 1.0, 0.0, 0.0], [0.0, 0.0, 1.0, 0.0]]),\n",
       " 1614184961: Skeleton(segid=1614184961, vertices=(shape=46, float32), edges=(shape=45, uint32), radius=(46, float32), vertex_types=(46, uint8), space='voxel' transform=[[1.0, 0.0, 0.0, 0.0], [0.0, 1.0, 0.0, 0.0], [0.0, 0.0, 1.0, 0.0]]),\n",
       " 3163817601: Skeleton(segid=3163817601, vertices=(shape=21, float32), edges=(shape=20, uint32), radius=(21, float32), vertex_types=(21, uint8), space='voxel' transform=[[1.0, 0.0, 0.0, 0.0], [0.0, 1.0, 0.0, 0.0], [0.0, 0.0, 1.0, 0.0]]),\n",
       " 1978338561: Skeleton(segid=1978338561, vertices=(shape=65, float32), edges=(shape=64, uint32), radius=(65, float32), vertex_types=(65, uint8), space='voxel' transform=[[1.0, 0.0, 0.0, 0.0], [0.0, 1.0, 0.0, 0.0], [0.0, 0.0, 1.0, 0.0]]),\n",
       " 3376715905: Skeleton(segid=3376715905, vertices=(shape=300, float32), edges=(shape=299, uint32), radius=(300, float32), vertex_types=(300, uint8), space='voxel' transform=[[1.0, 0.0, 0.0, 0.0], [0.0, 1.0, 0.0, 0.0], [0.0, 0.0, 1.0, 0.0]]),\n",
       " 1614185473: Skeleton(segid=1614185473, vertices=(shape=45, float32), edges=(shape=44, uint32), radius=(45, float32), vertex_types=(45, uint8), space='voxel' transform=[[1.0, 0.0, 0.0, 0.0], [0.0, 1.0, 0.0, 0.0], [0.0, 0.0, 1.0, 0.0]]),\n",
       " 1978338817: Skeleton(segid=1978338817, vertices=(shape=30, float32), edges=(shape=29, uint32), radius=(30, float32), vertex_types=(30, uint8), space='voxel' transform=[[1.0, 0.0, 0.0, 0.0], [0.0, 1.0, 0.0, 0.0], [0.0, 0.0, 1.0, 0.0]]),\n",
       " 848379265: Skeleton(segid=848379265, vertices=(shape=38, float32), edges=(shape=37, uint32), radius=(38, float32), vertex_types=(38, uint8), space='voxel' transform=[[1.0, 0.0, 0.0, 0.0], [0.0, 1.0, 0.0, 0.0], [0.0, 0.0, 1.0, 0.0]]),\n",
       " 3181948033: Skeleton(segid=3181948033, vertices=(shape=155, float32), edges=(shape=154, uint32), radius=(155, float32), vertex_types=(155, uint8), space='voxel' transform=[[1.0, 0.0, 0.0, 0.0], [0.0, 1.0, 0.0, 0.0], [0.0, 0.0, 1.0, 0.0]]),\n",
       " 337677313: Skeleton(segid=337677313, vertices=(shape=209, float32), edges=(shape=208, uint32), radius=(209, float32), vertex_types=(209, uint8), space='voxel' transform=[[1.0, 0.0, 0.0, 0.0], [0.0, 1.0, 0.0, 0.0], [0.0, 0.0, 1.0, 0.0]]),\n",
       " 1620722817: Skeleton(segid=1620722817, vertices=(shape=262, float32), edges=(shape=261, uint32), radius=(262, float32), vertex_types=(262, uint8), space='voxel' transform=[[1.0, 0.0, 0.0, 0.0], [0.0, 1.0, 0.0, 0.0], [0.0, 0.0, 1.0, 0.0]]),\n",
       " 241316609: Skeleton(segid=241316609, vertices=(shape=260, float32), edges=(shape=259, uint32), radius=(260, float32), vertex_types=(260, uint8), space='voxel' transform=[[1.0, 0.0, 0.0, 0.0], [0.0, 1.0, 0.0, 0.0], [0.0, 0.0, 1.0, 0.0]]),\n",
       " 848380801: Skeleton(segid=848380801, vertices=(shape=41, float32), edges=(shape=40, uint32), radius=(41, float32), vertex_types=(41, uint8), space='voxel' transform=[[1.0, 0.0, 0.0, 0.0], [0.0, 1.0, 0.0, 0.0], [0.0, 0.0, 1.0, 0.0]]),\n",
       " 221213697: Skeleton(segid=221213697, vertices=(shape=119, float32), edges=(shape=118, uint32), radius=(119, float32), vertex_types=(119, uint8), space='voxel' transform=[[1.0, 0.0, 0.0, 0.0], [0.0, 1.0, 0.0, 0.0], [0.0, 0.0, 1.0, 0.0]]),\n",
       " 3225561217: Skeleton(segid=3225561217, vertices=(shape=84, float32), edges=(shape=83, uint32), radius=(84, float32), vertex_types=(84, uint8), space='voxel' transform=[[1.0, 0.0, 0.0, 0.0], [0.0, 1.0, 0.0, 0.0], [0.0, 0.0, 1.0, 0.0]]),\n",
       " 3313595265: Skeleton(segid=3313595265, vertices=(shape=147, float32), edges=(shape=146, uint32), radius=(147, float32), vertex_types=(147, uint8), space='voxel' transform=[[1.0, 0.0, 0.0, 0.0], [0.0, 1.0, 0.0, 0.0], [0.0, 0.0, 1.0, 0.0]]),\n",
       " 3458617729: Skeleton(segid=3458617729, vertices=(shape=686, float32), edges=(shape=685, uint32), radius=(686, float32), vertex_types=(686, uint8), space='voxel' transform=[[1.0, 0.0, 0.0, 0.0], [0.0, 1.0, 0.0, 0.0], [0.0, 0.0, 1.0, 0.0]]),\n",
       " 3759841665: Skeleton(segid=3759841665, vertices=(shape=67, float32), edges=(shape=66, uint32), radius=(67, float32), vertex_types=(67, uint8), space='voxel' transform=[[1.0, 0.0, 0.0, 0.0], [0.0, 1.0, 0.0, 0.0], [0.0, 0.0, 1.0, 0.0]]),\n",
       " 1444150913: Skeleton(segid=1444150913, vertices=(shape=53, float32), edges=(shape=52, uint32), radius=(53, float32), vertex_types=(53, uint8), space='voxel' transform=[[1.0, 0.0, 0.0, 0.0], [0.0, 1.0, 0.0, 0.0], [0.0, 0.0, 1.0, 0.0]]),\n",
       " 848383105: Skeleton(segid=848383105, vertices=(shape=15, float32), edges=(shape=14, uint32), radius=(15, float32), vertex_types=(15, uint8), space='voxel' transform=[[1.0, 0.0, 0.0, 0.0], [0.0, 1.0, 0.0, 0.0], [0.0, 0.0, 1.0, 0.0]]),\n",
       " 848384129: Skeleton(segid=848384129, vertices=(shape=89, float32), edges=(shape=88, uint32), radius=(89, float32), vertex_types=(89, uint8), space='voxel' transform=[[1.0, 0.0, 0.0, 0.0], [0.0, 1.0, 0.0, 0.0], [0.0, 0.0, 1.0, 0.0]]),\n",
       " 3257730945: Skeleton(segid=3257730945, vertices=(shape=206, float32), edges=(shape=205, uint32), radius=(206, float32), vertex_types=(206, uint8), space='voxel' transform=[[1.0, 0.0, 0.0, 0.0], [0.0, 1.0, 0.0, 0.0], [0.0, 0.0, 1.0, 0.0]]),\n",
       " 3250634369: Skeleton(segid=3250634369, vertices=(shape=59, float32), edges=(shape=58, uint32), radius=(59, float32), vertex_types=(59, uint8), space='voxel' transform=[[1.0, 0.0, 0.0, 0.0], [0.0, 1.0, 0.0, 0.0], [0.0, 0.0, 1.0, 0.0]]),\n",
       " 3372112769: Skeleton(segid=3372112769, vertices=(shape=256, float32), edges=(shape=255, uint32), radius=(256, float32), vertex_types=(256, uint8), space='voxel' transform=[[1.0, 0.0, 0.0, 0.0], [0.0, 1.0, 0.0, 0.0], [0.0, 0.0, 1.0, 0.0]]),\n",
       " 2995757441: Skeleton(segid=2995757441, vertices=(shape=124, float32), edges=(shape=123, uint32), radius=(124, float32), vertex_types=(124, uint8), space='voxel' transform=[[1.0, 0.0, 0.0, 0.0], [0.0, 1.0, 0.0, 0.0], [0.0, 0.0, 1.0, 0.0]]),\n",
       " 848385153: Skeleton(segid=848385153, vertices=(shape=39, float32), edges=(shape=38, uint32), radius=(39, float32), vertex_types=(39, uint8), space='voxel' transform=[[1.0, 0.0, 0.0, 0.0], [0.0, 1.0, 0.0, 0.0], [0.0, 0.0, 1.0, 0.0]]),\n",
       " 3322999937: Skeleton(segid=3322999937, vertices=(shape=98, float32), edges=(shape=96, uint32), radius=(98, float32), vertex_types=(98, uint8), space='voxel' transform=[[1.0, 0.0, 0.0, 0.0], [0.0, 1.0, 0.0, 0.0], [0.0, 0.0, 1.0, 0.0]]),\n",
       " 3226193537: Skeleton(segid=3226193537, vertices=(shape=292, float32), edges=(shape=291, uint32), radius=(292, float32), vertex_types=(292, uint8), space='voxel' transform=[[1.0, 0.0, 0.0, 0.0], [0.0, 1.0, 0.0, 0.0], [0.0, 0.0, 1.0, 0.0]]),\n",
       " 2695851649: Skeleton(segid=2695851649, vertices=(shape=932, float32), edges=(shape=929, uint32), radius=(932, float32), vertex_types=(932, uint8), space='voxel' transform=[[1.0, 0.0, 0.0, 0.0], [0.0, 1.0, 0.0, 0.0], [0.0, 0.0, 1.0, 0.0]]),\n",
       " 230504193: Skeleton(segid=230504193, vertices=(shape=651, float32), edges=(shape=649, uint32), radius=(651, float32), vertex_types=(651, uint8), space='voxel' transform=[[1.0, 0.0, 0.0, 0.0], [0.0, 1.0, 0.0, 0.0], [0.0, 0.0, 1.0, 0.0]]),\n",
       " 428049025: Skeleton(segid=428049025, vertices=(shape=18, float32), edges=(shape=17, uint32), radius=(18, float32), vertex_types=(18, uint8), space='voxel' transform=[[1.0, 0.0, 0.0, 0.0], [0.0, 1.0, 0.0, 0.0], [0.0, 0.0, 1.0, 0.0]]),\n",
       " 3376716161: Skeleton(segid=3376716161, vertices=(shape=340, float32), edges=(shape=339, uint32), radius=(340, float32), vertex_types=(340, uint8), space='voxel' transform=[[1.0, 0.0, 0.0, 0.0], [0.0, 1.0, 0.0, 0.0], [0.0, 0.0, 1.0, 0.0]]),\n",
       " 227849473: Skeleton(segid=227849473, vertices=(shape=217, float32), edges=(shape=216, uint32), radius=(217, float32), vertex_types=(217, uint8), space='voxel' transform=[[1.0, 0.0, 0.0, 0.0], [0.0, 1.0, 0.0, 0.0], [0.0, 0.0, 1.0, 0.0]]),\n",
       " 3225796993: Skeleton(segid=3225796993, vertices=(shape=25, float32), edges=(shape=24, uint32), radius=(25, float32), vertex_types=(25, uint8), space='voxel' transform=[[1.0, 0.0, 0.0, 0.0], [0.0, 1.0, 0.0, 0.0], [0.0, 0.0, 1.0, 0.0]]),\n",
       " 3171025537: Skeleton(segid=3171025537, vertices=(shape=597, float32), edges=(shape=595, uint32), radius=(597, float32), vertex_types=(597, uint8), space='voxel' transform=[[1.0, 0.0, 0.0, 0.0], [0.0, 1.0, 0.0, 0.0], [0.0, 0.0, 1.0, 0.0]]),\n",
       " 3568631937: Skeleton(segid=3568631937, vertices=(shape=246, float32), edges=(shape=245, uint32), radius=(246, float32), vertex_types=(246, uint8), space='voxel' transform=[[1.0, 0.0, 0.0, 0.0], [0.0, 1.0, 0.0, 0.0], [0.0, 0.0, 1.0, 0.0]]),\n",
       " 2695859329: Skeleton(segid=2695859329, vertices=(shape=29, float32), edges=(shape=28, uint32), radius=(29, float32), vertex_types=(29, uint8), space='voxel' transform=[[1.0, 0.0, 0.0, 0.0], [0.0, 1.0, 0.0, 0.0], [0.0, 0.0, 1.0, 0.0]]),\n",
       " 1978339329: Skeleton(segid=1978339329, vertices=(shape=64, float32), edges=(shape=63, uint32), radius=(64, float32), vertex_types=(64, uint8), space='voxel' transform=[[1.0, 0.0, 0.0, 0.0], [0.0, 1.0, 0.0, 0.0], [0.0, 0.0, 1.0, 0.0]]),\n",
       " 1978339841: Skeleton(segid=1978339841, vertices=(shape=792, float32), edges=(shape=791, uint32), radius=(792, float32), vertex_types=(792, uint8), space='voxel' transform=[[1.0, 0.0, 0.0, 0.0], [0.0, 1.0, 0.0, 0.0], [0.0, 0.0, 1.0, 0.0]]),\n",
       " 3376709249: Skeleton(segid=3376709249, vertices=(shape=256, float32), edges=(shape=255, uint32), radius=(256, float32), vertex_types=(256, uint8), space='voxel' transform=[[1.0, 0.0, 0.0, 0.0], [0.0, 1.0, 0.0, 0.0], [0.0, 0.0, 1.0, 0.0]]),\n",
       " 3350006657: Skeleton(segid=3350006657, vertices=(shape=294, float32), edges=(shape=293, uint32), radius=(294, float32), vertex_types=(294, uint8), space='voxel' transform=[[1.0, 0.0, 0.0, 0.0], [0.0, 1.0, 0.0, 0.0], [0.0, 0.0, 1.0, 0.0]]),\n",
       " 3225434753: Skeleton(segid=3225434753, vertices=(shape=141, float32), edges=(shape=140, uint32), radius=(141, float32), vertex_types=(141, uint8), space='voxel' transform=[[1.0, 0.0, 0.0, 0.0], [0.0, 1.0, 0.0, 0.0], [0.0, 0.0, 1.0, 0.0]]),\n",
       " 2695843713: Skeleton(segid=2695843713, vertices=(shape=93, float32), edges=(shape=92, uint32), radius=(93, float32), vertex_types=(93, uint8), space='voxel' transform=[[1.0, 0.0, 0.0, 0.0], [0.0, 1.0, 0.0, 0.0], [0.0, 0.0, 1.0, 0.0]]),\n",
       " 228244737: Skeleton(segid=228244737, vertices=(shape=277, float32), edges=(shape=276, uint32), radius=(277, float32), vertex_types=(277, uint8), space='voxel' transform=[[1.0, 0.0, 0.0, 0.0], [0.0, 1.0, 0.0, 0.0], [0.0, 0.0, 1.0, 0.0]]),\n",
       " 3311673473: Skeleton(segid=3311673473, vertices=(shape=51, float32), edges=(shape=49, uint32), radius=(51, float32), vertex_types=(51, uint8), space='voxel' transform=[[1.0, 0.0, 0.0, 0.0], [0.0, 1.0, 0.0, 0.0], [0.0, 0.0, 1.0, 0.0]]),\n",
       " 1614160641: Skeleton(segid=1614160641, vertices=(shape=28, float32), edges=(shape=27, uint32), radius=(28, float32), vertex_types=(28, uint8), space='voxel' transform=[[1.0, 0.0, 0.0, 0.0], [0.0, 1.0, 0.0, 0.0], [0.0, 0.0, 1.0, 0.0]]),\n",
       " 1614161153: Skeleton(segid=1614161153, vertices=(shape=139, float32), edges=(shape=138, uint32), radius=(139, float32), vertex_types=(139, uint8), space='voxel' transform=[[1.0, 0.0, 0.0, 0.0], [0.0, 1.0, 0.0, 0.0], [0.0, 0.0, 1.0, 0.0]]),\n",
       " 3182240129: Skeleton(segid=3182240129, vertices=(shape=334, float32), edges=(shape=333, uint32), radius=(334, float32), vertex_types=(334, uint8), space='voxel' transform=[[1.0, 0.0, 0.0, 0.0], [0.0, 1.0, 0.0, 0.0], [0.0, 0.0, 1.0, 0.0]]),\n",
       " 22909057: Skeleton(segid=22909057, vertices=(shape=16, float32), edges=(shape=15, uint32), radius=(16, float32), vertex_types=(16, uint8), space='voxel' transform=[[1.0, 0.0, 0.0, 0.0], [0.0, 1.0, 0.0, 0.0], [0.0, 0.0, 1.0, 0.0]]),\n",
       " 3655300225: Skeleton(segid=3655300225, vertices=(shape=89, float32), edges=(shape=88, uint32), radius=(89, float32), vertex_types=(89, uint8), space='voxel' transform=[[1.0, 0.0, 0.0, 0.0], [0.0, 1.0, 0.0, 0.0], [0.0, 0.0, 1.0, 0.0]]),\n",
       " 22909313: Skeleton(segid=22909313, vertices=(shape=29, float32), edges=(shape=28, uint32), radius=(29, float32), vertex_types=(29, uint8), space='voxel' transform=[[1.0, 0.0, 0.0, 0.0], [0.0, 1.0, 0.0, 0.0], [0.0, 0.0, 1.0, 0.0]]),\n",
       " 1444151169: Skeleton(segid=1444151169, vertices=(shape=72, float32), edges=(shape=71, uint32), radius=(72, float32), vertex_types=(72, uint8), space='voxel' transform=[[1.0, 0.0, 0.0, 0.0], [0.0, 1.0, 0.0, 0.0], [0.0, 0.0, 1.0, 0.0]]),\n",
       " 3281589761: Skeleton(segid=3281589761, vertices=(shape=160, float32), edges=(shape=158, uint32), radius=(160, float32), vertex_types=(160, uint8), space='voxel' transform=[[1.0, 0.0, 0.0, 0.0], [0.0, 1.0, 0.0, 0.0], [0.0, 0.0, 1.0, 0.0]]),\n",
       " 3021793793: Skeleton(segid=3021793793, vertices=(shape=430, float32), edges=(shape=429, uint32), radius=(430, float32), vertex_types=(430, uint8), space='voxel' transform=[[1.0, 0.0, 0.0, 0.0], [0.0, 1.0, 0.0, 0.0], [0.0, 0.0, 1.0, 0.0]]),\n",
       " 3225799809: Skeleton(segid=3225799809, vertices=(shape=261, float32), edges=(shape=260, uint32), radius=(261, float32), vertex_types=(261, uint8), space='voxel' transform=[[1.0, 0.0, 0.0, 0.0], [0.0, 1.0, 0.0, 0.0], [0.0, 0.0, 1.0, 0.0]]),\n",
       " 3372112257: Skeleton(segid=3372112257, vertices=(shape=102, float32), edges=(shape=100, uint32), radius=(102, float32), vertex_types=(102, uint8), space='voxel' transform=[[1.0, 0.0, 0.0, 0.0], [0.0, 1.0, 0.0, 0.0], [0.0, 0.0, 1.0, 0.0]]),\n",
       " 241282817: Skeleton(segid=241282817, vertices=(shape=138, float32), edges=(shape=137, uint32), radius=(138, float32), vertex_types=(138, uint8), space='voxel' transform=[[1.0, 0.0, 0.0, 0.0], [0.0, 1.0, 0.0, 0.0], [0.0, 0.0, 1.0, 0.0]]),\n",
       " 1978347777: Skeleton(segid=1978347777, vertices=(shape=119, float32), edges=(shape=118, uint32), radius=(119, float32), vertex_types=(119, uint8), space='voxel' transform=[[1.0, 0.0, 0.0, 0.0], [0.0, 1.0, 0.0, 0.0], [0.0, 0.0, 1.0, 0.0]]),\n",
       " 228158209: Skeleton(segid=228158209, vertices=(shape=377, float32), edges=(shape=376, uint32), radius=(377, float32), vertex_types=(377, uint8), space='voxel' transform=[[1.0, 0.0, 0.0, 0.0], [0.0, 1.0, 0.0, 0.0], [0.0, 0.0, 1.0, 0.0]]),\n",
       " 3423797377: Skeleton(segid=3423797377, vertices=(shape=103, float32), edges=(shape=102, uint32), radius=(103, float32), vertex_types=(103, uint8), space='voxel' transform=[[1.0, 0.0, 0.0, 0.0], [0.0, 1.0, 0.0, 0.0], [0.0, 0.0, 1.0, 0.0]]),\n",
       " 234335489: Skeleton(segid=234335489, vertices=(shape=293, float32), edges=(shape=292, uint32), radius=(293, float32), vertex_types=(293, uint8), space='voxel' transform=[[1.0, 0.0, 0.0, 0.0], [0.0, 1.0, 0.0, 0.0], [0.0, 0.0, 1.0, 0.0]]),\n",
       " 3347444609: Skeleton(segid=3347444609, vertices=(shape=353, float32), edges=(shape=352, uint32), radius=(353, float32), vertex_types=(353, uint8), space='voxel' transform=[[1.0, 0.0, 0.0, 0.0], [0.0, 1.0, 0.0, 0.0], [0.0, 0.0, 1.0, 0.0]]),\n",
       " 2976548225: Skeleton(segid=2976548225, vertices=(shape=21, float32), edges=(shape=20, uint32), radius=(21, float32), vertex_types=(21, uint8), space='voxel' transform=[[1.0, 0.0, 0.0, 0.0], [0.0, 1.0, 0.0, 0.0], [0.0, 0.0, 1.0, 0.0]]),\n",
       " 22910081: Skeleton(segid=22910081, vertices=(shape=133, float32), edges=(shape=132, uint32), radius=(133, float32), vertex_types=(133, uint8), space='voxel' transform=[[1.0, 0.0, 0.0, 0.0], [0.0, 1.0, 0.0, 0.0], [0.0, 0.0, 1.0, 0.0]]),\n",
       " 3380805761: Skeleton(segid=3380805761, vertices=(shape=168, float32), edges=(shape=166, uint32), radius=(168, float32), vertex_types=(168, uint8), space='voxel' transform=[[1.0, 0.0, 0.0, 0.0], [0.0, 1.0, 0.0, 0.0], [0.0, 0.0, 1.0, 0.0]]),\n",
       " 3024058497: Skeleton(segid=3024058497, vertices=(shape=326, float32), edges=(shape=324, uint32), radius=(326, float32), vertex_types=(326, uint8), space='voxel' transform=[[1.0, 0.0, 0.0, 0.0], [0.0, 1.0, 0.0, 0.0], [0.0, 0.0, 1.0, 0.0]]),\n",
       " 281036801: Skeleton(segid=281036801, vertices=(shape=153, float32), edges=(shape=152, uint32), radius=(153, float32), vertex_types=(153, uint8), space='voxel' transform=[[1.0, 0.0, 0.0, 0.0], [0.0, 1.0, 0.0, 0.0], [0.0, 0.0, 1.0, 0.0]]),\n",
       " 281038849: Skeleton(segid=281038849, vertices=(shape=37, float32), edges=(shape=36, uint32), radius=(37, float32), vertex_types=(37, uint8), space='voxel' transform=[[1.0, 0.0, 0.0, 0.0], [0.0, 1.0, 0.0, 0.0], [0.0, 0.0, 1.0, 0.0]]),\n",
       " 3344441217: Skeleton(segid=3344441217, vertices=(shape=256, float32), edges=(shape=255, uint32), radius=(256, float32), vertex_types=(256, uint8), space='voxel' transform=[[1.0, 0.0, 0.0, 0.0], [0.0, 1.0, 0.0, 0.0], [0.0, 0.0, 1.0, 0.0]]),\n",
       " 136212097: Skeleton(segid=136212097, vertices=(shape=679, float32), edges=(shape=677, uint32), radius=(679, float32), vertex_types=(679, uint8), space='voxel' transform=[[1.0, 0.0, 0.0, 0.0], [0.0, 1.0, 0.0, 0.0], [0.0, 0.0, 1.0, 0.0]]),\n",
       " 3340125697: Skeleton(segid=3340125697, vertices=(shape=656, float32), edges=(shape=654, uint32), radius=(656, float32), vertex_types=(656, uint8), space='voxel' transform=[[1.0, 0.0, 0.0, 0.0], [0.0, 1.0, 0.0, 0.0], [0.0, 0.0, 1.0, 0.0]]),\n",
       " 1978348289: Skeleton(segid=1978348289, vertices=(shape=72, float32), edges=(shape=71, uint32), radius=(72, float32), vertex_types=(72, uint8), space='voxel' transform=[[1.0, 0.0, 0.0, 0.0], [0.0, 1.0, 0.0, 0.0], [0.0, 0.0, 1.0, 0.0]]),\n",
       " 3403449985: Skeleton(segid=3403449985, vertices=(shape=258, float32), edges=(shape=257, uint32), radius=(258, float32), vertex_types=(258, uint8), space='voxel' transform=[[1.0, 0.0, 0.0, 0.0], [0.0, 1.0, 0.0, 0.0], [0.0, 0.0, 1.0, 0.0]]),\n",
       " 3381782913: Skeleton(segid=3381782913, vertices=(shape=119, float32), edges=(shape=118, uint32), radius=(119, float32), vertex_types=(119, uint8), space='voxel' transform=[[1.0, 0.0, 0.0, 0.0], [0.0, 1.0, 0.0, 0.0], [0.0, 0.0, 1.0, 0.0]]),\n",
       " 281041921: Skeleton(segid=281041921, vertices=(shape=22, float32), edges=(shape=21, uint32), radius=(22, float32), vertex_types=(22, uint8), space='voxel' transform=[[1.0, 0.0, 0.0, 0.0], [0.0, 1.0, 0.0, 0.0], [0.0, 0.0, 1.0, 0.0]]),\n",
       " 1978348545: Skeleton(segid=1978348545, vertices=(shape=19, float32), edges=(shape=18, uint32), radius=(19, float32), vertex_types=(19, uint8), space='voxel' transform=[[1.0, 0.0, 0.0, 0.0], [0.0, 1.0, 0.0, 0.0], [0.0, 0.0, 1.0, 0.0]]),\n",
       " 281046017: Skeleton(segid=281046017, vertices=(shape=31, float32), edges=(shape=30, uint32), radius=(31, float32), vertex_types=(31, uint8), space='voxel' transform=[[1.0, 0.0, 0.0, 0.0], [0.0, 1.0, 0.0, 0.0], [0.0, 0.0, 1.0, 0.0]]),\n",
       " 3257566337: Skeleton(segid=3257566337, vertices=(shape=266, float32), edges=(shape=265, uint32), radius=(266, float32), vertex_types=(266, uint8), space='voxel' transform=[[1.0, 0.0, 0.0, 0.0], [0.0, 1.0, 0.0, 0.0], [0.0, 0.0, 1.0, 0.0]]),\n",
       " 1978349825: Skeleton(segid=1978349825, vertices=(shape=44, float32), edges=(shape=43, uint32), radius=(44, float32), vertex_types=(44, uint8), space='voxel' transform=[[1.0, 0.0, 0.0, 0.0], [0.0, 1.0, 0.0, 0.0], [0.0, 0.0, 1.0, 0.0]]),\n",
       " 281053441: Skeleton(segid=281053441, vertices=(shape=40, float32), edges=(shape=39, uint32), radius=(40, float32), vertex_types=(40, uint8), space='voxel' transform=[[1.0, 0.0, 0.0, 0.0], [0.0, 1.0, 0.0, 0.0], [0.0, 0.0, 1.0, 0.0]]),\n",
       " 3372156545: Skeleton(segid=3372156545, vertices=(shape=183, float32), edges=(shape=182, uint32), radius=(183, float32), vertex_types=(183, uint8), space='voxel' transform=[[1.0, 0.0, 0.0, 0.0], [0.0, 1.0, 0.0, 0.0], [0.0, 0.0, 1.0, 0.0]]),\n",
       " 3262796929: Skeleton(segid=3262796929, vertices=(shape=772, float32), edges=(shape=771, uint32), radius=(772, float32), vertex_types=(772, uint8), space='voxel' transform=[[1.0, 0.0, 0.0, 0.0], [0.0, 1.0, 0.0, 0.0], [0.0, 0.0, 1.0, 0.0]]),\n",
       " 281053697: Skeleton(segid=281053697, vertices=(shape=47, float32), edges=(shape=46, uint32), radius=(47, float32), vertex_types=(47, uint8), space='voxel' transform=[[1.0, 0.0, 0.0, 0.0], [0.0, 1.0, 0.0, 0.0], [0.0, 0.0, 1.0, 0.0]]),\n",
       " 428058753: Skeleton(segid=428058753, vertices=(shape=15, float32), edges=(shape=14, uint32), radius=(15, float32), vertex_types=(15, uint8), space='voxel' transform=[[1.0, 0.0, 0.0, 0.0], [0.0, 1.0, 0.0, 0.0], [0.0, 0.0, 1.0, 0.0]]),\n",
       " 274388481: Skeleton(segid=274388481, vertices=(shape=367, float32), edges=(shape=366, uint32), radius=(367, float32), vertex_types=(367, uint8), space='voxel' transform=[[1.0, 0.0, 0.0, 0.0], [0.0, 1.0, 0.0, 0.0], [0.0, 0.0, 1.0, 0.0]]),\n",
       " 3303729537: Skeleton(segid=3303729537, vertices=(shape=498, float32), edges=(shape=496, uint32), radius=(498, float32), vertex_types=(498, uint8), space='voxel' transform=[[1.0, 0.0, 0.0, 0.0], [0.0, 1.0, 0.0, 0.0], [0.0, 0.0, 1.0, 0.0]]),\n",
       " 3340206337: Skeleton(segid=3340206337, vertices=(shape=275, float32), edges=(shape=274, uint32), radius=(275, float32), vertex_types=(275, uint8), space='voxel' transform=[[1.0, 0.0, 0.0, 0.0], [0.0, 1.0, 0.0, 0.0], [0.0, 0.0, 1.0, 0.0]]),\n",
       " 281054465: Skeleton(segid=281054465, vertices=(shape=17, float32), edges=(shape=16, uint32), radius=(17, float32), vertex_types=(17, uint8), space='voxel' transform=[[1.0, 0.0, 0.0, 0.0], [0.0, 1.0, 0.0, 0.0], [0.0, 0.0, 1.0, 0.0]]),\n",
       " 22912129: Skeleton(segid=22912129, vertices=(shape=74, float32), edges=(shape=73, uint32), radius=(74, float32), vertex_types=(74, uint8), space='voxel' transform=[[1.0, 0.0, 0.0, 0.0], [0.0, 1.0, 0.0, 0.0], [0.0, 0.0, 1.0, 0.0]]),\n",
       " 241333505: Skeleton(segid=241333505, vertices=(shape=91, float32), edges=(shape=90, uint32), radius=(91, float32), vertex_types=(91, uint8), space='voxel' transform=[[1.0, 0.0, 0.0, 0.0], [0.0, 1.0, 0.0, 0.0], [0.0, 0.0, 1.0, 0.0]]),\n",
       " 848390785: Skeleton(segid=848390785, vertices=(shape=57, float32), edges=(shape=56, uint32), radius=(57, float32), vertex_types=(57, uint8), space='voxel' transform=[[1.0, 0.0, 0.0, 0.0], [0.0, 1.0, 0.0, 0.0], [0.0, 0.0, 1.0, 0.0]]),\n",
       " 3304952449: Skeleton(segid=3304952449, vertices=(shape=615, float32), edges=(shape=613, uint32), radius=(615, float32), vertex_types=(615, uint8), space='voxel' transform=[[1.0, 0.0, 0.0, 0.0], [0.0, 1.0, 0.0, 0.0], [0.0, 0.0, 1.0, 0.0]]),\n",
       " 3257735041: Skeleton(segid=3257735041, vertices=(shape=38, float32), edges=(shape=37, uint32), radius=(38, float32), vertex_types=(38, uint8), space='voxel' transform=[[1.0, 0.0, 0.0, 0.0], [0.0, 1.0, 0.0, 0.0], [0.0, 0.0, 1.0, 0.0]]),\n",
       " 848391041: Skeleton(segid=848391041, vertices=(shape=29, float32), edges=(shape=28, uint32), radius=(29, float32), vertex_types=(29, uint8), space='voxel' transform=[[1.0, 0.0, 0.0, 0.0], [0.0, 1.0, 0.0, 0.0], [0.0, 0.0, 1.0, 0.0]]),\n",
       " 3376663937: Skeleton(segid=3376663937, vertices=(shape=143, float32), edges=(shape=142, uint32), radius=(143, float32), vertex_types=(143, uint8), space='voxel' transform=[[1.0, 0.0, 0.0, 0.0], [0.0, 1.0, 0.0, 0.0], [0.0, 0.0, 1.0, 0.0]]),\n",
       " 3336764033: Skeleton(segid=3336764033, vertices=(shape=286, float32), edges=(shape=285, uint32), radius=(286, float32), vertex_types=(286, uint8), space='voxel' transform=[[1.0, 0.0, 0.0, 0.0], [0.0, 1.0, 0.0, 0.0], [0.0, 0.0, 1.0, 0.0]]),\n",
       " 2529038593: Skeleton(segid=2529038593, vertices=(shape=279, float32), edges=(shape=278, uint32), radius=(279, float32), vertex_types=(279, uint8), space='voxel' transform=[[1.0, 0.0, 0.0, 0.0], [0.0, 1.0, 0.0, 0.0], [0.0, 0.0, 1.0, 0.0]]),\n",
       " 848391809: Skeleton(segid=848391809, vertices=(shape=50, float32), edges=(shape=49, uint32), radius=(50, float32), vertex_types=(50, uint8), space='voxel' transform=[[1.0, 0.0, 0.0, 0.0], [0.0, 1.0, 0.0, 0.0], [0.0, 0.0, 1.0, 0.0]]),\n",
       " 3197757057: Skeleton(segid=3197757057, vertices=(shape=112, float32), edges=(shape=111, uint32), radius=(112, float32), vertex_types=(112, uint8), space='voxel' transform=[[1.0, 0.0, 0.0, 0.0], [0.0, 1.0, 0.0, 0.0], [0.0, 0.0, 1.0, 0.0]]),\n",
       " 3389475457: Skeleton(segid=3389475457, vertices=(shape=342, float32), edges=(shape=341, uint32), radius=(342, float32), vertex_types=(342, uint8), space='voxel' transform=[[1.0, 0.0, 0.0, 0.0], [0.0, 1.0, 0.0, 0.0], [0.0, 0.0, 1.0, 0.0]]),\n",
       " 3258686593: Skeleton(segid=3258686593, vertices=(shape=303, float32), edges=(shape=302, uint32), radius=(303, float32), vertex_types=(303, uint8), space='voxel' transform=[[1.0, 0.0, 0.0, 0.0], [0.0, 1.0, 0.0, 0.0], [0.0, 0.0, 1.0, 0.0]]),\n",
       " 3181240449: Skeleton(segid=3181240449, vertices=(shape=334, float32), edges=(shape=332, uint32), radius=(334, float32), vertex_types=(334, uint8), space='voxel' transform=[[1.0, 0.0, 0.0, 0.0], [0.0, 1.0, 0.0, 0.0], [0.0, 0.0, 1.0, 0.0]]),\n",
       " 4051578497: Skeleton(segid=4051578497, vertices=(shape=256, float32), edges=(shape=255, uint32), radius=(256, float32), vertex_types=(256, uint8), space='voxel' transform=[[1.0, 0.0, 0.0, 0.0], [0.0, 1.0, 0.0, 0.0], [0.0, 0.0, 1.0, 0.0]]),\n",
       " 3226835329: Skeleton(segid=3226835329, vertices=(shape=317, float32), edges=(shape=316, uint32), radius=(317, float32), vertex_types=(317, uint8), space='voxel' transform=[[1.0, 0.0, 0.0, 0.0], [0.0, 1.0, 0.0, 0.0], [0.0, 0.0, 1.0, 0.0]]),\n",
       " 3163778945: Skeleton(segid=3163778945, vertices=(shape=171, float32), edges=(shape=169, uint32), radius=(171, float32), vertex_types=(171, uint8), space='voxel' transform=[[1.0, 0.0, 0.0, 0.0], [0.0, 1.0, 0.0, 0.0], [0.0, 0.0, 1.0, 0.0]]),\n",
       " 333080833: Skeleton(segid=333080833, vertices=(shape=286, float32), edges=(shape=285, uint32), radius=(286, float32), vertex_types=(286, uint8), space='voxel' transform=[[1.0, 0.0, 0.0, 0.0], [0.0, 1.0, 0.0, 0.0], [0.0, 0.0, 1.0, 0.0]]),\n",
       " 230584321: Skeleton(segid=230584321, vertices=(shape=34, float32), edges=(shape=33, uint32), radius=(34, float32), vertex_types=(34, uint8), space='voxel' transform=[[1.0, 0.0, 0.0, 0.0], [0.0, 1.0, 0.0, 0.0], [0.0, 0.0, 1.0, 0.0]]),\n",
       " 3176336001: Skeleton(segid=3176336001, vertices=(shape=305, float32), edges=(shape=303, uint32), radius=(305, float32), vertex_types=(305, uint8), space='voxel' transform=[[1.0, 0.0, 0.0, 0.0], [0.0, 1.0, 0.0, 0.0], [0.0, 0.0, 1.0, 0.0]]),\n",
       " 241334273: Skeleton(segid=241334273, vertices=(shape=102, float32), edges=(shape=101, uint32), radius=(102, float32), vertex_types=(102, uint8), space='voxel' transform=[[1.0, 0.0, 0.0, 0.0], [0.0, 1.0, 0.0, 0.0], [0.0, 0.0, 1.0, 0.0]]),\n",
       " 3376703361: Skeleton(segid=3376703361, vertices=(shape=341, float32), edges=(shape=339, uint32), radius=(341, float32), vertex_types=(341, uint8), space='voxel' transform=[[1.0, 0.0, 0.0, 0.0], [0.0, 1.0, 0.0, 0.0], [0.0, 0.0, 1.0, 0.0]]),\n",
       " 3257700737: Skeleton(segid=3257700737, vertices=(shape=238, float32), edges=(shape=236, uint32), radius=(238, float32), vertex_types=(238, uint8), space='voxel' transform=[[1.0, 0.0, 0.0, 0.0], [0.0, 1.0, 0.0, 0.0], [0.0, 0.0, 1.0, 0.0]]),\n",
       " 1620733825: Skeleton(segid=1620733825, vertices=(shape=582, float32), edges=(shape=580, uint32), radius=(582, float32), vertex_types=(582, uint8), space='voxel' transform=[[1.0, 0.0, 0.0, 0.0], [0.0, 1.0, 0.0, 0.0], [0.0, 0.0, 1.0, 0.0]]),\n",
       " 1537: Skeleton(segid=1537, vertices=(shape=48, float32), edges=(shape=47, uint32), radius=(48, float32), vertex_types=(48, uint8), space='voxel' transform=[[1.0, 0.0, 0.0, 0.0], [0.0, 1.0, 0.0, 0.0], [0.0, 0.0, 1.0, 0.0]]),\n",
       " 3083699329: Skeleton(segid=3083699329, vertices=(shape=390, float32), edges=(shape=388, uint32), radius=(390, float32), vertex_types=(390, uint8), space='voxel' transform=[[1.0, 0.0, 0.0, 0.0], [0.0, 1.0, 0.0, 0.0], [0.0, 0.0, 1.0, 0.0]]),\n",
       " 3261520257: Skeleton(segid=3261520257, vertices=(shape=39, float32), edges=(shape=38, uint32), radius=(39, float32), vertex_types=(39, uint8), space='voxel' transform=[[1.0, 0.0, 0.0, 0.0], [0.0, 1.0, 0.0, 0.0], [0.0, 0.0, 1.0, 0.0]]),\n",
       " 3163814273: Skeleton(segid=3163814273, vertices=(shape=98, float32), edges=(shape=96, uint32), radius=(98, float32), vertex_types=(98, uint8), space='voxel' transform=[[1.0, 0.0, 0.0, 0.0], [0.0, 1.0, 0.0, 0.0], [0.0, 0.0, 1.0, 0.0]]),\n",
       " 2802553089: Skeleton(segid=2802553089, vertices=(shape=110, float32), edges=(shape=109, uint32), radius=(110, float32), vertex_types=(110, uint8), space='voxel' transform=[[1.0, 0.0, 0.0, 0.0], [0.0, 1.0, 0.0, 0.0], [0.0, 0.0, 1.0, 0.0]]),\n",
       " 22919553: Skeleton(segid=22919553, vertices=(shape=101, float32), edges=(shape=100, uint32), radius=(101, float32), vertex_types=(101, uint8), space='voxel' transform=[[1.0, 0.0, 0.0, 0.0], [0.0, 1.0, 0.0, 0.0], [0.0, 0.0, 1.0, 0.0]]),\n",
       " 230596097: Skeleton(segid=230596097, vertices=(shape=257, float32), edges=(shape=256, uint32), radius=(257, float32), vertex_types=(257, uint8), space='voxel' transform=[[1.0, 0.0, 0.0, 0.0], [0.0, 1.0, 0.0, 0.0], [0.0, 0.0, 1.0, 0.0]]),\n",
       " 1978358273: Skeleton(segid=1978358273, vertices=(shape=50, float32), edges=(shape=49, uint32), radius=(50, float32), vertex_types=(50, uint8), space='voxel' transform=[[1.0, 0.0, 0.0, 0.0], [0.0, 1.0, 0.0, 0.0], [0.0, 0.0, 1.0, 0.0]]),\n",
       " 1444153473: Skeleton(segid=1444153473, vertices=(shape=274, float32), edges=(shape=273, uint32), radius=(274, float32), vertex_types=(274, uint8), space='voxel' transform=[[1.0, 0.0, 0.0, 0.0], [0.0, 1.0, 0.0, 0.0], [0.0, 0.0, 1.0, 0.0]]),\n",
       " 137673729: Skeleton(segid=137673729, vertices=(shape=595, float32), edges=(shape=592, uint32), radius=(595, float32), vertex_types=(595, uint8), space='voxel' transform=[[1.0, 0.0, 0.0, 0.0], [0.0, 1.0, 0.0, 0.0], [0.0, 0.0, 1.0, 0.0]]),\n",
       " 3389807745: Skeleton(segid=3389807745, vertices=(shape=375, float32), edges=(shape=374, uint32), radius=(375, float32), vertex_types=(375, uint8), space='voxel' transform=[[1.0, 0.0, 0.0, 0.0], [0.0, 1.0, 0.0, 0.0], [0.0, 0.0, 1.0, 0.0]]),\n",
       " 2528829185: Skeleton(segid=2528829185, vertices=(shape=109, float32), edges=(shape=108, uint32), radius=(109, float32), vertex_types=(109, uint8), space='voxel' transform=[[1.0, 0.0, 0.0, 0.0], [0.0, 1.0, 0.0, 0.0], [0.0, 0.0, 1.0, 0.0]]),\n",
       " 3567632001: Skeleton(segid=3567632001, vertices=(shape=118, float32), edges=(shape=115, uint32), radius=(118, float32), vertex_types=(118, uint8), space='voxel' transform=[[1.0, 0.0, 0.0, 0.0], [0.0, 1.0, 0.0, 0.0], [0.0, 0.0, 1.0, 0.0]]),\n",
       " 1978279937: Skeleton(segid=1978279937, vertices=(shape=66, float32), edges=(shape=65, uint32), radius=(66, float32), vertex_types=(66, uint8), space='voxel' transform=[[1.0, 0.0, 0.0, 0.0], [0.0, 1.0, 0.0, 0.0], [0.0, 0.0, 1.0, 0.0]]),\n",
       " 3376752769: Skeleton(segid=3376752769, vertices=(shape=60, float32), edges=(shape=59, uint32), radius=(60, float32), vertex_types=(60, uint8), space='voxel' transform=[[1.0, 0.0, 0.0, 0.0], [0.0, 1.0, 0.0, 0.0], [0.0, 0.0, 1.0, 0.0]]),\n",
       " 3229876993: Skeleton(segid=3229876993, vertices=(shape=650, float32), edges=(shape=648, uint32), radius=(650, float32), vertex_types=(650, uint8), space='voxel' transform=[[1.0, 0.0, 0.0, 0.0], [0.0, 1.0, 0.0, 0.0], [0.0, 0.0, 1.0, 0.0]]),\n",
       " 3176903553: Skeleton(segid=3176903553, vertices=(shape=168, float32), edges=(shape=167, uint32), radius=(168, float32), vertex_types=(168, uint8), space='voxel' transform=[[1.0, 0.0, 0.0, 0.0], [0.0, 1.0, 0.0, 0.0], [0.0, 0.0, 1.0, 0.0]]),\n",
       " 232611585: Skeleton(segid=232611585, vertices=(shape=129, float32), edges=(shape=128, uint32), radius=(129, float32), vertex_types=(129, uint8), space='voxel' transform=[[1.0, 0.0, 0.0, 0.0], [0.0, 1.0, 0.0, 0.0], [0.0, 0.0, 1.0, 0.0]]),\n",
       " 3361461377: Skeleton(segid=3361461377, vertices=(shape=256, float32), edges=(shape=255, uint32), radius=(256, float32), vertex_types=(256, uint8), space='voxel' transform=[[1.0, 0.0, 0.0, 0.0], [0.0, 1.0, 0.0, 0.0], [0.0, 0.0, 1.0, 0.0]]),\n",
       " 3132404865: Skeleton(segid=3132404865, vertices=(shape=184, float32), edges=(shape=183, uint32), radius=(184, float32), vertex_types=(184, uint8), space='voxel' transform=[[1.0, 0.0, 0.0, 0.0], [0.0, 1.0, 0.0, 0.0], [0.0, 0.0, 1.0, 0.0]]),\n",
       " 331656705: Skeleton(segid=331656705, vertices=(shape=258, float32), edges=(shape=257, uint32), radius=(258, float32), vertex_types=(258, uint8), space='voxel' transform=[[1.0, 0.0, 0.0, 0.0], [0.0, 1.0, 0.0, 0.0], [0.0, 0.0, 1.0, 0.0]]),\n",
       " 3401065857: Skeleton(segid=3401065857, vertices=(shape=256, float32), edges=(shape=255, uint32), radius=(256, float32), vertex_types=(256, uint8), space='voxel' transform=[[1.0, 0.0, 0.0, 0.0], [0.0, 1.0, 0.0, 0.0], [0.0, 0.0, 1.0, 0.0]]),\n",
       " 241323521: Skeleton(segid=241323521, vertices=(shape=590, float32), edges=(shape=588, uint32), radius=(590, float32), vertex_types=(590, uint8), space='voxel' transform=[[1.0, 0.0, 0.0, 0.0], [0.0, 1.0, 0.0, 0.0], [0.0, 0.0, 1.0, 0.0]]),\n",
       " 2826978049: Skeleton(segid=2826978049, vertices=(shape=170, float32), edges=(shape=169, uint32), radius=(170, float32), vertex_types=(170, uint8), space='voxel' transform=[[1.0, 0.0, 0.0, 0.0], [0.0, 1.0, 0.0, 0.0], [0.0, 0.0, 1.0, 0.0]]),\n",
       " 3257590145: Skeleton(segid=3257590145, vertices=(shape=117, float32), edges=(shape=116, uint32), radius=(117, float32), vertex_types=(117, uint8), space='voxel' transform=[[1.0, 0.0, 0.0, 0.0], [0.0, 1.0, 0.0, 0.0], [0.0, 0.0, 1.0, 0.0]]),\n",
       " 3192166785: Skeleton(segid=3192166785, vertices=(shape=133, float32), edges=(shape=131, uint32), radius=(133, float32), vertex_types=(133, uint8), space='voxel' transform=[[1.0, 0.0, 0.0, 0.0], [0.0, 1.0, 0.0, 0.0], [0.0, 0.0, 1.0, 0.0]]),\n",
       " 2049: Skeleton(segid=2049, vertices=(shape=33, float32), edges=(shape=32, uint32), radius=(33, float32), vertex_types=(33, uint8), space='voxel' transform=[[1.0, 0.0, 0.0, 0.0], [0.0, 1.0, 0.0, 0.0], [0.0, 0.0, 1.0, 0.0]]),\n",
       " 230505217: Skeleton(segid=230505217, vertices=(shape=412, float32), edges=(shape=411, uint32), radius=(412, float32), vertex_types=(412, uint8), space='voxel' transform=[[1.0, 0.0, 0.0, 0.0], [0.0, 1.0, 0.0, 0.0], [0.0, 0.0, 1.0, 0.0]]),\n",
       " 2740799105: Skeleton(segid=2740799105, vertices=(shape=97, float32), edges=(shape=96, uint32), radius=(97, float32), vertex_types=(97, uint8), space='voxel' transform=[[1.0, 0.0, 0.0, 0.0], [0.0, 1.0, 0.0, 0.0], [0.0, 0.0, 1.0, 0.0]]),\n",
       " 3262615937: Skeleton(segid=3262615937, vertices=(shape=401, float32), edges=(shape=400, uint32), radius=(401, float32), vertex_types=(401, uint8), space='voxel' transform=[[1.0, 0.0, 0.0, 0.0], [0.0, 1.0, 0.0, 0.0], [0.0, 0.0, 1.0, 0.0]]),\n",
       " 3753711745: Skeleton(segid=3753711745, vertices=(shape=233, float32), edges=(shape=232, uint32), radius=(233, float32), vertex_types=(233, uint8), space='voxel' transform=[[1.0, 0.0, 0.0, 0.0], [0.0, 1.0, 0.0, 0.0], [0.0, 0.0, 1.0, 0.0]]),\n",
       " 230565633: Skeleton(segid=230565633, vertices=(shape=172, float32), edges=(shape=171, uint32), radius=(172, float32), vertex_types=(172, uint8), space='voxel' transform=[[1.0, 0.0, 0.0, 0.0], [0.0, 1.0, 0.0, 0.0], [0.0, 0.0, 1.0, 0.0]]),\n",
       " 3395873537: Skeleton(segid=3395873537, vertices=(shape=28, float32), edges=(shape=27, uint32), radius=(28, float32), vertex_types=(28, uint8), space='voxel' transform=[[1.0, 0.0, 0.0, 0.0], [0.0, 1.0, 0.0, 0.0], [0.0, 0.0, 1.0, 0.0]]),\n",
       " 3755167745: Skeleton(segid=3755167745, vertices=(shape=447, float32), edges=(shape=445, uint32), radius=(447, float32), vertex_types=(447, uint8), space='voxel' transform=[[1.0, 0.0, 0.0, 0.0], [0.0, 1.0, 0.0, 0.0], [0.0, 0.0, 1.0, 0.0]]),\n",
       " 3403401601: Skeleton(segid=3403401601, vertices=(shape=23, float32), edges=(shape=22, uint32), radius=(23, float32), vertex_types=(23, uint8), space='voxel' transform=[[1.0, 0.0, 0.0, 0.0], [0.0, 1.0, 0.0, 0.0], [0.0, 0.0, 1.0, 0.0]]),\n",
       " 2740834433: Skeleton(segid=2740834433, vertices=(shape=14, float32), edges=(shape=13, uint32), radius=(14, float32), vertex_types=(14, uint8), space='voxel' transform=[[1.0, 0.0, 0.0, 0.0], [0.0, 1.0, 0.0, 0.0], [0.0, 0.0, 1.0, 0.0]]),\n",
       " 2528828673: Skeleton(segid=2528828673, vertices=(shape=22, float32), edges=(shape=21, uint32), radius=(22, float32), vertex_types=(22, uint8), space='voxel' transform=[[1.0, 0.0, 0.0, 0.0], [0.0, 1.0, 0.0, 0.0], [0.0, 0.0, 1.0, 0.0]]),\n",
       " 1614148353: Skeleton(segid=1614148353, vertices=(shape=154, float32), edges=(shape=153, uint32), radius=(154, float32), vertex_types=(154, uint8), space='voxel' transform=[[1.0, 0.0, 0.0, 0.0], [0.0, 1.0, 0.0, 0.0], [0.0, 0.0, 1.0, 0.0]]),\n",
       " 3262984321: Skeleton(segid=3262984321, vertices=(shape=193, float32), edges=(shape=192, uint32), radius=(193, float32), vertex_types=(193, uint8), space='voxel' transform=[[1.0, 0.0, 0.0, 0.0], [0.0, 1.0, 0.0, 0.0], [0.0, 0.0, 1.0, 0.0]]),\n",
       " 3389655425: Skeleton(segid=3389655425, vertices=(shape=359, float32), edges=(shape=358, uint32), radius=(359, float32), vertex_types=(359, uint8), space='voxel' transform=[[1.0, 0.0, 0.0, 0.0], [0.0, 1.0, 0.0, 0.0], [0.0, 0.0, 1.0, 0.0]]),\n",
       " 3385490305: Skeleton(segid=3385490305, vertices=(shape=483, float32), edges=(shape=482, uint32), radius=(483, float32), vertex_types=(483, uint8), space='voxel' transform=[[1.0, 0.0, 0.0, 0.0], [0.0, 1.0, 0.0, 0.0], [0.0, 0.0, 1.0, 0.0]]),\n",
       " 245100289: Skeleton(segid=245100289, vertices=(shape=50, float32), edges=(shape=49, uint32), radius=(50, float32), vertex_types=(50, uint8), space='voxel' transform=[[1.0, 0.0, 0.0, 0.0], [0.0, 1.0, 0.0, 0.0], [0.0, 0.0, 1.0, 0.0]]),\n",
       " 3131483009: Skeleton(segid=3131483009, vertices=(shape=102, float32), edges=(shape=101, uint32), radius=(102, float32), vertex_types=(102, uint8), space='voxel' transform=[[1.0, 0.0, 0.0, 0.0], [0.0, 1.0, 0.0, 0.0], [0.0, 0.0, 1.0, 0.0]]),\n",
       " 3257715329: Skeleton(segid=3257715329, vertices=(shape=408, float32), edges=(shape=407, uint32), radius=(408, float32), vertex_types=(408, uint8), space='voxel' transform=[[1.0, 0.0, 0.0, 0.0], [0.0, 1.0, 0.0, 0.0], [0.0, 0.0, 1.0, 0.0]]),\n",
       " 232632065: Skeleton(segid=232632065, vertices=(shape=85, float32), edges=(shape=84, uint32), radius=(85, float32), vertex_types=(85, uint8), space='voxel' transform=[[1.0, 0.0, 0.0, 0.0], [0.0, 1.0, 0.0, 0.0], [0.0, 0.0, 1.0, 0.0]]),\n",
       " 2528807681: Skeleton(segid=2528807681, vertices=(shape=58, float32), edges=(shape=57, uint32), radius=(58, float32), vertex_types=(58, uint8), space='voxel' transform=[[1.0, 0.0, 0.0, 0.0], [0.0, 1.0, 0.0, 0.0], [0.0, 0.0, 1.0, 0.0]]),\n",
       " 2879138817: Skeleton(segid=2879138817, vertices=(shape=256, float32), edges=(shape=255, uint32), radius=(256, float32), vertex_types=(256, uint8), space='voxel' transform=[[1.0, 0.0, 0.0, 0.0], [0.0, 1.0, 0.0, 0.0], [0.0, 0.0, 1.0, 0.0]]),\n",
       " 3262797185: Skeleton(segid=3262797185, vertices=(shape=262, float32), edges=(shape=261, uint32), radius=(262, float32), vertex_types=(262, uint8), space='voxel' transform=[[1.0, 0.0, 0.0, 0.0], [0.0, 1.0, 0.0, 0.0], [0.0, 0.0, 1.0, 0.0]]),\n",
       " 230575873: Skeleton(segid=230575873, vertices=(shape=151, float32), edges=(shape=150, uint32), radius=(151, float32), vertex_types=(151, uint8), space='voxel' transform=[[1.0, 0.0, 0.0, 0.0], [0.0, 1.0, 0.0, 0.0], [0.0, 0.0, 1.0, 0.0]]),\n",
       " 572959489: Skeleton(segid=572959489, vertices=(shape=137, float32), edges=(shape=136, uint32), radius=(137, float32), vertex_types=(137, uint8), space='voxel' transform=[[1.0, 0.0, 0.0, 0.0], [0.0, 1.0, 0.0, 0.0], [0.0, 0.0, 1.0, 0.0]]),\n",
       " 3403397505: Skeleton(segid=3403397505, vertices=(shape=13, float32), edges=(shape=12, uint32), radius=(13, float32), vertex_types=(13, uint8), space='voxel' transform=[[1.0, 0.0, 0.0, 0.0], [0.0, 1.0, 0.0, 0.0], [0.0, 0.0, 1.0, 0.0]]),\n",
       " 3226830209: Skeleton(segid=3226830209, vertices=(shape=333, float32), edges=(shape=332, uint32), radius=(333, float32), vertex_types=(333, uint8), space='voxel' transform=[[1.0, 0.0, 0.0, 0.0], [0.0, 1.0, 0.0, 0.0], [0.0, 0.0, 1.0, 0.0]]),\n",
       " 1620747649: Skeleton(segid=1620747649, vertices=(shape=323, float32), edges=(shape=322, uint32), radius=(323, float32), vertex_types=(323, uint8), space='voxel' transform=[[1.0, 0.0, 0.0, 0.0], [0.0, 1.0, 0.0, 0.0], [0.0, 0.0, 1.0, 0.0]]),\n",
       " 3389808513: Skeleton(segid=3389808513, vertices=(shape=87, float32), edges=(shape=86, uint32), radius=(87, float32), vertex_types=(87, uint8), space='voxel' transform=[[1.0, 0.0, 0.0, 0.0], [0.0, 1.0, 0.0, 0.0], [0.0, 0.0, 1.0, 0.0]]),\n",
       " 245104897: Skeleton(segid=245104897, vertices=(shape=34, float32), edges=(shape=33, uint32), radius=(34, float32), vertex_types=(34, uint8), space='voxel' transform=[[1.0, 0.0, 0.0, 0.0], [0.0, 1.0, 0.0, 0.0], [0.0, 0.0, 1.0, 0.0]]),\n",
       " 1444147841: Skeleton(segid=1444147841, vertices=(shape=129, float32), edges=(shape=128, uint32), radius=(129, float32), vertex_types=(129, uint8), space='voxel' transform=[[1.0, 0.0, 0.0, 0.0], [0.0, 1.0, 0.0, 0.0], [0.0, 0.0, 1.0, 0.0]]),\n",
       " 3599520129: Skeleton(segid=3599520129, vertices=(shape=92, float32), edges=(shape=91, uint32), radius=(92, float32), vertex_types=(92, uint8), space='voxel' transform=[[1.0, 0.0, 0.0, 0.0], [0.0, 1.0, 0.0, 0.0], [0.0, 0.0, 1.0, 0.0]]),\n",
       " 3538270977: Skeleton(segid=3538270977, vertices=(shape=30, float32), edges=(shape=29, uint32), radius=(30, float32), vertex_types=(30, uint8), space='voxel' transform=[[1.0, 0.0, 0.0, 0.0], [0.0, 1.0, 0.0, 0.0], [0.0, 0.0, 1.0, 0.0]]),\n",
       " 1978280449: Skeleton(segid=1978280449, vertices=(shape=120, float32), edges=(shape=119, uint32), radius=(120, float32), vertex_types=(120, uint8), space='voxel' transform=[[1.0, 0.0, 0.0, 0.0], [0.0, 1.0, 0.0, 0.0], [0.0, 0.0, 1.0, 0.0]]),\n",
       " 213050881: Skeleton(segid=213050881, vertices=(shape=287, float32), edges=(shape=286, uint32), radius=(287, float32), vertex_types=(287, uint8), space='voxel' transform=[[1.0, 0.0, 0.0, 0.0], [0.0, 1.0, 0.0, 0.0], [0.0, 0.0, 1.0, 0.0]]),\n",
       " 4087191809: Skeleton(segid=4087191809, vertices=(shape=206, float32), edges=(shape=205, uint32), radius=(206, float32), vertex_types=(206, uint8), space='voxel' transform=[[1.0, 0.0, 0.0, 0.0], [0.0, 1.0, 0.0, 0.0], [0.0, 0.0, 1.0, 0.0]]),\n",
       " 3248092033: Skeleton(segid=3248092033, vertices=(shape=671, float32), edges=(shape=669, uint32), radius=(671, float32), vertex_types=(671, uint8), space='voxel' transform=[[1.0, 0.0, 0.0, 0.0], [0.0, 1.0, 0.0, 0.0], [0.0, 0.0, 1.0, 0.0]]),\n",
       " 14081: Skeleton(segid=14081, vertices=(shape=230, float32), edges=(shape=229, uint32), radius=(230, float32), vertex_types=(230, uint8), space='voxel' transform=[[1.0, 0.0, 0.0, 0.0], [0.0, 1.0, 0.0, 0.0], [0.0, 0.0, 1.0, 0.0]]),\n",
       " 1444148609: Skeleton(segid=1444148609, vertices=(shape=41, float32), edges=(shape=40, uint32), radius=(41, float32), vertex_types=(41, uint8), space='voxel' transform=[[1.0, 0.0, 0.0, 0.0], [0.0, 1.0, 0.0, 0.0], [0.0, 0.0, 1.0, 0.0]]),\n",
       " 3186488961: Skeleton(segid=3186488961, vertices=(shape=69, float32), edges=(shape=68, uint32), radius=(69, float32), vertex_types=(69, uint8), space='voxel' transform=[[1.0, 0.0, 0.0, 0.0], [0.0, 1.0, 0.0, 0.0], [0.0, 0.0, 1.0, 0.0]]),\n",
       " 245105921: Skeleton(segid=245105921, vertices=(shape=41, float32), edges=(shape=40, uint32), radius=(41, float32), vertex_types=(41, uint8), space='voxel' transform=[[1.0, 0.0, 0.0, 0.0], [0.0, 1.0, 0.0, 0.0], [0.0, 0.0, 1.0, 0.0]]),\n",
       " 3391777153: Skeleton(segid=3391777153, vertices=(shape=261, float32), edges=(shape=260, uint32), radius=(261, float32), vertex_types=(261, uint8), space='voxel' transform=[[1.0, 0.0, 0.0, 0.0], [0.0, 1.0, 0.0, 0.0], [0.0, 0.0, 1.0, 0.0]]),\n",
       " 209882881: Skeleton(segid=209882881, vertices=(shape=332, float32), edges=(shape=330, uint32), radius=(332, float32), vertex_types=(332, uint8), space='voxel' transform=[[1.0, 0.0, 0.0, 0.0], [0.0, 1.0, 0.0, 0.0], [0.0, 0.0, 1.0, 0.0]]),\n",
       " 3551766529: Skeleton(segid=3551766529, vertices=(shape=240, float32), edges=(shape=239, uint32), radius=(240, float32), vertex_types=(240, uint8), space='voxel' transform=[[1.0, 0.0, 0.0, 0.0], [0.0, 1.0, 0.0, 0.0], [0.0, 0.0, 1.0, 0.0]]),\n",
       " 232610049: Skeleton(segid=232610049, vertices=(shape=212, float32), edges=(shape=211, uint32), radius=(212, float32), vertex_types=(212, uint8), space='voxel' transform=[[1.0, 0.0, 0.0, 0.0], [0.0, 1.0, 0.0, 0.0], [0.0, 0.0, 1.0, 0.0]]),\n",
       " 3148546689: Skeleton(segid=3148546689, vertices=(shape=88, float32), edges=(shape=86, uint32), radius=(88, float32), vertex_types=(88, uint8), space='voxel' transform=[[1.0, 0.0, 0.0, 0.0], [0.0, 1.0, 0.0, 0.0], [0.0, 0.0, 1.0, 0.0]]),\n",
       " 3163779457: Skeleton(segid=3163779457, vertices=(shape=268, float32), edges=(shape=267, uint32), radius=(268, float32), vertex_types=(268, uint8), space='voxel' transform=[[1.0, 0.0, 0.0, 0.0], [0.0, 1.0, 0.0, 0.0], [0.0, 0.0, 1.0, 0.0]]),\n",
       " 848194433: Skeleton(segid=848194433, vertices=(shape=54, float32), edges=(shape=53, uint32), radius=(54, float32), vertex_types=(54, uint8), space='voxel' transform=[[1.0, 0.0, 0.0, 0.0], [0.0, 1.0, 0.0, 0.0], [0.0, 0.0, 1.0, 0.0]]),\n",
       " 3155213313: Skeleton(segid=3155213313, vertices=(shape=291, float32), edges=(shape=290, uint32), radius=(291, float32), vertex_types=(291, uint8), space='voxel' transform=[[1.0, 0.0, 0.0, 0.0], [0.0, 1.0, 0.0, 0.0], [0.0, 0.0, 1.0, 0.0]]),\n",
       " 230565121: Skeleton(segid=230565121, vertices=(shape=256, float32), edges=(shape=255, uint32), radius=(256, float32), vertex_types=(256, uint8), space='voxel' transform=[[1.0, 0.0, 0.0, 0.0], [0.0, 1.0, 0.0, 0.0], [0.0, 0.0, 1.0, 0.0]]),\n",
       " 848194945: Skeleton(segid=848194945, vertices=(shape=37, float32), edges=(shape=36, uint32), radius=(37, float32), vertex_types=(37, uint8), space='voxel' transform=[[1.0, 0.0, 0.0, 0.0], [0.0, 1.0, 0.0, 0.0], [0.0, 0.0, 1.0, 0.0]]),\n",
       " 331528961: Skeleton(segid=331528961, vertices=(shape=310, float32), edges=(shape=309, uint32), radius=(310, float32), vertex_types=(310, uint8), space='voxel' transform=[[1.0, 0.0, 0.0, 0.0], [0.0, 1.0, 0.0, 0.0], [0.0, 0.0, 1.0, 0.0]]),\n",
       " 222672641: Skeleton(segid=222672641, vertices=(shape=388, float32), edges=(shape=387, uint32), radius=(388, float32), vertex_types=(388, uint8), space='voxel' transform=[[1.0, 0.0, 0.0, 0.0], [0.0, 1.0, 0.0, 0.0], [0.0, 0.0, 1.0, 0.0]]),\n",
       " 3360171649: Skeleton(segid=3360171649, vertices=(shape=258, float32), edges=(shape=257, uint32), radius=(258, float32), vertex_types=(258, uint8), space='voxel' transform=[[1.0, 0.0, 0.0, 0.0], [0.0, 1.0, 0.0, 0.0], [0.0, 0.0, 1.0, 0.0]]),\n",
       " 15873: Skeleton(segid=15873, vertices=(shape=55, float32), edges=(shape=54, uint32), radius=(55, float32), vertex_types=(55, uint8), space='voxel' transform=[[1.0, 0.0, 0.0, 0.0], [0.0, 1.0, 0.0, 0.0], [0.0, 0.0, 1.0, 0.0]]),\n",
       " 3166046849: Skeleton(segid=3166046849, vertices=(shape=307, float32), edges=(shape=306, uint32), radius=(307, float32), vertex_types=(307, uint8), space='voxel' transform=[[1.0, 0.0, 0.0, 0.0], [0.0, 1.0, 0.0, 0.0], [0.0, 0.0, 1.0, 0.0]]),\n",
       " 3304891265: Skeleton(segid=3304891265, vertices=(shape=302, float32), edges=(shape=301, uint32), radius=(302, float32), vertex_types=(302, uint8), space='voxel' transform=[[1.0, 0.0, 0.0, 0.0], [0.0, 1.0, 0.0, 0.0], [0.0, 0.0, 1.0, 0.0]]),\n",
       " 3389646977: Skeleton(segid=3389646977, vertices=(shape=262, float32), edges=(shape=261, uint32), radius=(262, float32), vertex_types=(262, uint8), space='voxel' transform=[[1.0, 0.0, 0.0, 0.0], [0.0, 1.0, 0.0, 0.0], [0.0, 0.0, 1.0, 0.0]]),\n",
       " 3083699073: Skeleton(segid=3083699073, vertices=(shape=88, float32), edges=(shape=87, uint32), radius=(88, float32), vertex_types=(88, uint8), space='voxel' transform=[[1.0, 0.0, 0.0, 0.0], [0.0, 1.0, 0.0, 0.0], [0.0, 0.0, 1.0, 0.0]]),\n",
       " 3431792385: Skeleton(segid=3431792385, vertices=(shape=294, float32), edges=(shape=293, uint32), radius=(294, float32), vertex_types=(294, uint8), space='voxel' transform=[[1.0, 0.0, 0.0, 0.0], [0.0, 1.0, 0.0, 0.0], [0.0, 0.0, 1.0, 0.0]]),\n",
       " 337683457: Skeleton(segid=337683457, vertices=(shape=151, float32), edges=(shape=150, uint32), radius=(151, float32), vertex_types=(151, uint8), space='voxel' transform=[[1.0, 0.0, 0.0, 0.0], [0.0, 1.0, 0.0, 0.0], [0.0, 0.0, 1.0, 0.0]]),\n",
       " 205760513: Skeleton(segid=205760513, vertices=(shape=279, float32), edges=(shape=278, uint32), radius=(279, float32), vertex_types=(279, uint8), space='voxel' transform=[[1.0, 0.0, 0.0, 0.0], [0.0, 1.0, 0.0, 0.0], [0.0, 0.0, 1.0, 0.0]]),\n",
       " 230456321: Skeleton(segid=230456321, vertices=(shape=316, float32), edges=(shape=314, uint32), radius=(316, float32), vertex_types=(316, uint8), space='voxel' transform=[[1.0, 0.0, 0.0, 0.0], [0.0, 1.0, 0.0, 0.0], [0.0, 0.0, 1.0, 0.0]]),\n",
       " 339149697: Skeleton(segid=339149697, vertices=(shape=52, float32), edges=(shape=51, uint32), radius=(52, float32), vertex_types=(52, uint8), space='voxel' transform=[[1.0, 0.0, 0.0, 0.0], [0.0, 1.0, 0.0, 0.0], [0.0, 0.0, 1.0, 0.0]]),\n",
       " 1444149377: Skeleton(segid=1444149377, vertices=(shape=652, float32), edges=(shape=651, uint32), radius=(652, float32), vertex_types=(652, uint8), space='voxel' transform=[[1.0, 0.0, 0.0, 0.0], [0.0, 1.0, 0.0, 0.0], [0.0, 0.0, 1.0, 0.0]]),\n",
       " 136315521: Skeleton(segid=136315521, vertices=(shape=838, float32), edges=(shape=836, uint32), radius=(838, float32), vertex_types=(838, uint8), space='voxel' transform=[[1.0, 0.0, 0.0, 0.0], [0.0, 1.0, 0.0, 0.0], [0.0, 0.0, 1.0, 0.0]]),\n",
       " 3264384641: Skeleton(segid=3264384641, vertices=(shape=58, float32), edges=(shape=57, uint32), radius=(58, float32), vertex_types=(58, uint8), space='voxel' transform=[[1.0, 0.0, 0.0, 0.0], [0.0, 1.0, 0.0, 0.0], [0.0, 0.0, 1.0, 0.0]]),\n",
       " 339150465: Skeleton(segid=339150465, vertices=(shape=35, float32), edges=(shape=34, uint32), radius=(35, float32), vertex_types=(35, uint8), space='voxel' transform=[[1.0, 0.0, 0.0, 0.0], [0.0, 1.0, 0.0, 0.0], [0.0, 0.0, 1.0, 0.0]]),\n",
       " 4236898433: Skeleton(segid=4236898433, vertices=(shape=180, float32), edges=(shape=179, uint32), radius=(180, float32), vertex_types=(180, uint8), space='voxel' transform=[[1.0, 0.0, 0.0, 0.0], [0.0, 1.0, 0.0, 0.0], [0.0, 0.0, 1.0, 0.0]]),\n",
       " 3950726913: Skeleton(segid=3950726913, vertices=(shape=164, float32), edges=(shape=163, uint32), radius=(164, float32), vertex_types=(164, uint8), space='voxel' transform=[[1.0, 0.0, 0.0, 0.0], [0.0, 1.0, 0.0, 0.0], [0.0, 0.0, 1.0, 0.0]]),\n",
       " 3226183809: Skeleton(segid=3226183809, vertices=(shape=96, float32), edges=(shape=94, uint32), radius=(96, float32), vertex_types=(96, uint8), space='voxel' transform=[[1.0, 0.0, 0.0, 0.0], [0.0, 1.0, 0.0, 0.0], [0.0, 0.0, 1.0, 0.0]]),\n",
       " 3257528705: Skeleton(segid=3257528705, vertices=(shape=256, float32), edges=(shape=255, uint32), radius=(256, float32), vertex_types=(256, uint8), space='voxel' transform=[[1.0, 0.0, 0.0, 0.0], [0.0, 1.0, 0.0, 0.0], [0.0, 0.0, 1.0, 0.0]]),\n",
       " 339151745: Skeleton(segid=339151745, vertices=(shape=59, float32), edges=(shape=58, uint32), radius=(59, float32), vertex_types=(59, uint8), space='voxel' transform=[[1.0, 0.0, 0.0, 0.0], [0.0, 1.0, 0.0, 0.0], [0.0, 0.0, 1.0, 0.0]]),\n",
       " 339152001: Skeleton(segid=339152001, vertices=(shape=74, float32), edges=(shape=73, uint32), radius=(74, float32), vertex_types=(74, uint8), space='voxel' transform=[[1.0, 0.0, 0.0, 0.0], [0.0, 1.0, 0.0, 0.0], [0.0, 0.0, 1.0, 0.0]]),\n",
       " 3307999745: Skeleton(segid=3307999745, vertices=(shape=256, float32), edges=(shape=255, uint32), radius=(256, float32), vertex_types=(256, uint8), space='voxel' transform=[[1.0, 0.0, 0.0, 0.0], [0.0, 1.0, 0.0, 0.0], [0.0, 0.0, 1.0, 0.0]]),\n",
       " 320890881: Skeleton(segid=320890881, vertices=(shape=218, float32), edges=(shape=216, uint32), radius=(218, float32), vertex_types=(218, uint8), space='voxel' transform=[[1.0, 0.0, 0.0, 0.0], [0.0, 1.0, 0.0, 0.0], [0.0, 0.0, 1.0, 0.0]]),\n",
       " 3166047361: Skeleton(segid=3166047361, vertices=(shape=96, float32), edges=(shape=95, uint32), radius=(96, float32), vertex_types=(96, uint8), space='voxel' transform=[[1.0, 0.0, 0.0, 0.0], [0.0, 1.0, 0.0, 0.0], [0.0, 0.0, 1.0, 0.0]]),\n",
       " 3395782145: Skeleton(segid=3395782145, vertices=(shape=661, float32), edges=(shape=657, uint32), radius=(661, float32), vertex_types=(661, uint8), space='voxel' transform=[[1.0, 0.0, 0.0, 0.0], [0.0, 1.0, 0.0, 0.0], [0.0, 0.0, 1.0, 0.0]]),\n",
       " 213009665: Skeleton(segid=213009665, vertices=(shape=262, float32), edges=(shape=261, uint32), radius=(262, float32), vertex_types=(262, uint8), space='voxel' transform=[[1.0, 0.0, 0.0, 0.0], [0.0, 1.0, 0.0, 0.0], [0.0, 0.0, 1.0, 0.0]]),\n",
       " 3760906753: Skeleton(segid=3760906753, vertices=(shape=808, float32), edges=(shape=805, uint32), radius=(808, float32), vertex_types=(808, uint8), space='voxel' transform=[[1.0, 0.0, 0.0, 0.0], [0.0, 1.0, 0.0, 0.0], [0.0, 0.0, 1.0, 0.0]]),\n",
       " 492902785: Skeleton(segid=492902785, vertices=(shape=150, float32), edges=(shape=149, uint32), radius=(150, float32), vertex_types=(150, uint8), space='voxel' transform=[[1.0, 0.0, 0.0, 0.0], [0.0, 1.0, 0.0, 0.0], [0.0, 0.0, 1.0, 0.0]]),\n",
       " 3277713665: Skeleton(segid=3277713665, vertices=(shape=170, float32), edges=(shape=169, uint32), radius=(170, float32), vertex_types=(170, uint8), space='voxel' transform=[[1.0, 0.0, 0.0, 0.0], [0.0, 1.0, 0.0, 0.0], [0.0, 0.0, 1.0, 0.0]]),\n",
       " 3302907521: Skeleton(segid=3302907521, vertices=(shape=281, float32), edges=(shape=280, uint32), radius=(281, float32), vertex_types=(281, uint8), space='voxel' transform=[[1.0, 0.0, 0.0, 0.0], [0.0, 1.0, 0.0, 0.0], [0.0, 0.0, 1.0, 0.0]]),\n",
       " 236696577: Skeleton(segid=236696577, vertices=(shape=316, float32), edges=(shape=314, uint32), radius=(316, float32), vertex_types=(316, uint8), space='voxel' transform=[[1.0, 0.0, 0.0, 0.0], [0.0, 1.0, 0.0, 0.0], [0.0, 0.0, 1.0, 0.0]]),\n",
       " 3226187905: Skeleton(segid=3226187905, vertices=(shape=223, float32), edges=(shape=222, uint32), radius=(223, float32), vertex_types=(223, uint8), space='voxel' transform=[[1.0, 0.0, 0.0, 0.0], [0.0, 1.0, 0.0, 0.0], [0.0, 0.0, 1.0, 0.0]]),\n",
       " 3306553729: Skeleton(segid=3306553729, vertices=(shape=272, float32), edges=(shape=271, uint32), radius=(272, float32), vertex_types=(272, uint8), space='voxel' transform=[[1.0, 0.0, 0.0, 0.0], [0.0, 1.0, 0.0, 0.0], [0.0, 0.0, 1.0, 0.0]]),\n",
       " 331527937: Skeleton(segid=331527937, vertices=(shape=213, float32), edges=(shape=212, uint32), radius=(213, float32), vertex_types=(213, uint8), space='voxel' transform=[[1.0, 0.0, 0.0, 0.0], [0.0, 1.0, 0.0, 0.0], [0.0, 0.0, 1.0, 0.0]]),\n",
       " 1444149633: Skeleton(segid=1444149633, vertices=(shape=31, float32), edges=(shape=30, uint32), radius=(31, float32), vertex_types=(31, uint8), space='voxel' transform=[[1.0, 0.0, 0.0, 0.0], [0.0, 1.0, 0.0, 0.0], [0.0, 0.0, 1.0, 0.0]]),\n",
       " 1614152705: Skeleton(segid=1614152705, vertices=(shape=100, float32), edges=(shape=99, uint32), radius=(100, float32), vertex_types=(100, uint8), space='voxel' transform=[[1.0, 0.0, 0.0, 0.0], [0.0, 1.0, 0.0, 0.0], [0.0, 0.0, 1.0, 0.0]]),\n",
       " 4008309633: Skeleton(segid=4008309633, vertices=(shape=256, float32), edges=(shape=255, uint32), radius=(256, float32), vertex_types=(256, uint8), space='voxel' transform=[[1.0, 0.0, 0.0, 0.0], [0.0, 1.0, 0.0, 0.0], [0.0, 0.0, 1.0, 0.0]]),\n",
       " 337624577: Skeleton(segid=337624577, vertices=(shape=425, float32), edges=(shape=423, uint32), radius=(425, float32), vertex_types=(425, uint8), space='voxel' transform=[[1.0, 0.0, 0.0, 0.0], [0.0, 1.0, 0.0, 0.0], [0.0, 0.0, 1.0, 0.0]]),\n",
       " 2740834945: Skeleton(segid=2740834945, vertices=(shape=150, float32), edges=(shape=149, uint32), radius=(150, float32), vertex_types=(150, uint8), space='voxel' transform=[[1.0, 0.0, 0.0, 0.0], [0.0, 1.0, 0.0, 0.0], [0.0, 0.0, 1.0, 0.0]]),\n",
       " 1614152961: Skeleton(segid=1614152961, vertices=(shape=92, float32), edges=(shape=91, uint32), radius=(92, float32), vertex_types=(92, uint8), space='voxel' transform=[[1.0, 0.0, 0.0, 0.0], [0.0, 1.0, 0.0, 0.0], [0.0, 0.0, 1.0, 0.0]]),\n",
       " 2740805249: Skeleton(segid=2740805249, vertices=(shape=20, float32), edges=(shape=19, uint32), radius=(20, float32), vertex_types=(20, uint8), space='voxel' transform=[[1.0, 0.0, 0.0, 0.0], [0.0, 1.0, 0.0, 0.0], [0.0, 0.0, 1.0, 0.0]]),\n",
       " 3163794817: Skeleton(segid=3163794817, vertices=(shape=247, float32), edges=(shape=244, uint32), radius=(247, float32), vertex_types=(247, uint8), space='voxel' transform=[[1.0, 0.0, 0.0, 0.0], [0.0, 1.0, 0.0, 0.0], [0.0, 0.0, 1.0, 0.0]]),\n",
       " 339153537: Skeleton(segid=339153537, vertices=(shape=53, float32), edges=(shape=52, uint32), radius=(53, float32), vertex_types=(53, uint8), space='voxel' transform=[[1.0, 0.0, 0.0, 0.0], [0.0, 1.0, 0.0, 0.0], [0.0, 0.0, 1.0, 0.0]]),\n",
       " 3304891777: Skeleton(segid=3304891777, vertices=(shape=36, float32), edges=(shape=35, uint32), radius=(36, float32), vertex_types=(36, uint8), space='voxel' transform=[[1.0, 0.0, 0.0, 0.0], [0.0, 1.0, 0.0, 0.0], [0.0, 0.0, 1.0, 0.0]]),\n",
       " 3166046337: Skeleton(segid=3166046337, vertices=(shape=89, float32), edges=(shape=88, uint32), radius=(89, float32), vertex_types=(89, uint8), space='voxel' transform=[[1.0, 0.0, 0.0, 0.0], [0.0, 1.0, 0.0, 0.0], [0.0, 0.0, 1.0, 0.0]]),\n",
       " 3376651905: Skeleton(segid=3376651905, vertices=(shape=244, float32), edges=(shape=243, uint32), radius=(244, float32), vertex_types=(244, uint8), space='voxel' transform=[[1.0, 0.0, 0.0, 0.0], [0.0, 1.0, 0.0, 0.0], [0.0, 0.0, 1.0, 0.0]]),\n",
       " 3131420545: Skeleton(segid=3131420545, vertices=(shape=242, float32), edges=(shape=241, uint32), radius=(242, float32), vertex_types=(242, uint8), space='voxel' transform=[[1.0, 0.0, 0.0, 0.0], [0.0, 1.0, 0.0, 0.0], [0.0, 0.0, 1.0, 0.0]]),\n",
       " 245112833: Skeleton(segid=245112833, vertices=(shape=28, float32), edges=(shape=27, uint32), radius=(28, float32), vertex_types=(28, uint8), space='voxel' transform=[[1.0, 0.0, 0.0, 0.0], [0.0, 1.0, 0.0, 0.0], [0.0, 0.0, 1.0, 0.0]]),\n",
       " 295004417: Skeleton(segid=295004417, vertices=(shape=44, float32), edges=(shape=43, uint32), radius=(44, float32), vertex_types=(44, uint8), space='voxel' transform=[[1.0, 0.0, 0.0, 0.0], [0.0, 1.0, 0.0, 0.0], [0.0, 0.0, 1.0, 0.0]]),\n",
       " 3121300993: Skeleton(segid=3121300993, vertices=(shape=167, float32), edges=(shape=166, uint32), radius=(167, float32), vertex_types=(167, uint8), space='voxel' transform=[[1.0, 0.0, 0.0, 0.0], [0.0, 1.0, 0.0, 0.0], [0.0, 0.0, 1.0, 0.0]]),\n",
       " 2740835201: Skeleton(segid=2740835201, vertices=(shape=64, float32), edges=(shape=63, uint32), radius=(64, float32), vertex_types=(64, uint8), space='voxel' transform=[[1.0, 0.0, 0.0, 0.0], [0.0, 1.0, 0.0, 0.0], [0.0, 0.0, 1.0, 0.0]]),\n",
       " 3264383105: Skeleton(segid=3264383105, vertices=(shape=261, float32), edges=(shape=260, uint32), radius=(261, float32), vertex_types=(261, uint8), space='voxel' transform=[[1.0, 0.0, 0.0, 0.0], [0.0, 1.0, 0.0, 0.0], [0.0, 0.0, 1.0, 0.0]]),\n",
       " 3163795585: Skeleton(segid=3163795585, vertices=(shape=186, float32), edges=(shape=185, uint32), radius=(186, float32), vertex_types=(186, uint8), space='voxel' transform=[[1.0, 0.0, 0.0, 0.0], [0.0, 1.0, 0.0, 0.0], [0.0, 0.0, 1.0, 0.0]]),\n",
       " 3166015873: Skeleton(segid=3166015873, vertices=(shape=266, float32), edges=(shape=265, uint32), radius=(266, float32), vertex_types=(266, uint8), space='voxel' transform=[[1.0, 0.0, 0.0, 0.0], [0.0, 1.0, 0.0, 0.0], [0.0, 0.0, 1.0, 0.0]]),\n",
       " 232615425: Skeleton(segid=232615425, vertices=(shape=131, float32), edges=(shape=130, uint32), radius=(131, float32), vertex_types=(131, uint8), space='voxel' transform=[[1.0, 0.0, 0.0, 0.0], [0.0, 1.0, 0.0, 0.0], [0.0, 0.0, 1.0, 0.0]]),\n",
       " 3133204865: Skeleton(segid=3133204865, vertices=(shape=262, float32), edges=(shape=261, uint32), radius=(262, float32), vertex_types=(262, uint8), space='voxel' transform=[[1.0, 0.0, 0.0, 0.0], [0.0, 1.0, 0.0, 0.0], [0.0, 0.0, 1.0, 0.0]]),\n",
       " 3081112705: Skeleton(segid=3081112705, vertices=(shape=108, float32), edges=(shape=107, uint32), radius=(108, float32), vertex_types=(108, uint8), space='voxel' transform=[[1.0, 0.0, 0.0, 0.0], [0.0, 1.0, 0.0, 0.0], [0.0, 0.0, 1.0, 0.0]]),\n",
       " 3176398465: Skeleton(segid=3176398465, vertices=(shape=268, float32), edges=(shape=267, uint32), radius=(268, float32), vertex_types=(268, uint8), space='voxel' transform=[[1.0, 0.0, 0.0, 0.0], [0.0, 1.0, 0.0, 0.0], [0.0, 0.0, 1.0, 0.0]]),\n",
       " 4008351233: Skeleton(segid=4008351233, vertices=(shape=266, float32), edges=(shape=265, uint32), radius=(266, float32), vertex_types=(266, uint8), space='voxel' transform=[[1.0, 0.0, 0.0, 0.0], [0.0, 1.0, 0.0, 0.0], [0.0, 0.0, 1.0, 0.0]]),\n",
       " 2695855489: Skeleton(segid=2695855489, vertices=(shape=20, float32), edges=(shape=19, uint32), radius=(20, float32), vertex_types=(20, uint8), space='voxel' transform=[[1.0, 0.0, 0.0, 0.0], [0.0, 1.0, 0.0, 0.0], [0.0, 0.0, 1.0, 0.0]]),\n",
       " 671937281: Skeleton(segid=671937281, vertices=(shape=16, float32), edges=(shape=15, uint32), radius=(16, float32), vertex_types=(16, uint8), space='voxel' transform=[[1.0, 0.0, 0.0, 0.0], [0.0, 1.0, 0.0, 0.0], [0.0, 0.0, 1.0, 0.0]]),\n",
       " 3376651393: Skeleton(segid=3376651393, vertices=(shape=110, float32), edges=(shape=108, uint32), radius=(110, float32), vertex_types=(110, uint8), space='voxel' transform=[[1.0, 0.0, 0.0, 0.0], [0.0, 1.0, 0.0, 0.0], [0.0, 0.0, 1.0, 0.0]]),\n",
       " 2740805761: Skeleton(segid=2740805761, vertices=(shape=63, float32), edges=(shape=62, uint32), radius=(63, float32), vertex_types=(63, uint8), space='voxel' transform=[[1.0, 0.0, 0.0, 0.0], [0.0, 1.0, 0.0, 0.0], [0.0, 0.0, 1.0, 0.0]]),\n",
       " 3070459905: Skeleton(segid=3070459905, vertices=(shape=116, float32), edges=(shape=115, uint32), radius=(116, float32), vertex_types=(116, uint8), space='voxel' transform=[[1.0, 0.0, 0.0, 0.0], [0.0, 1.0, 0.0, 0.0], [0.0, 0.0, 1.0, 0.0]]),\n",
       " 1173768705: Skeleton(segid=1173768705, vertices=(shape=17, float32), edges=(shape=16, uint32), radius=(17, float32), vertex_types=(17, uint8), space='voxel' transform=[[1.0, 0.0, 0.0, 0.0], [0.0, 1.0, 0.0, 0.0], [0.0, 0.0, 1.0, 0.0]]),\n",
       " 331652097: Skeleton(segid=331652097, vertices=(shape=359, float32), edges=(shape=358, uint32), radius=(359, float32), vertex_types=(359, uint8), space='voxel' transform=[[1.0, 0.0, 0.0, 0.0], [0.0, 1.0, 0.0, 0.0], [0.0, 0.0, 1.0, 0.0]]),\n",
       " 3276615681: Skeleton(segid=3276615681, vertices=(shape=163, float32), edges=(shape=161, uint32), radius=(163, float32), vertex_types=(163, uint8), space='voxel' transform=[[1.0, 0.0, 0.0, 0.0], [0.0, 1.0, 0.0, 0.0], [0.0, 0.0, 1.0, 0.0]]),\n",
       " 1444115585: Skeleton(segid=1444115585, vertices=(shape=105, float32), edges=(shape=104, uint32), radius=(105, float32), vertex_types=(105, uint8), space='voxel' transform=[[1.0, 0.0, 0.0, 0.0], [0.0, 1.0, 0.0, 0.0], [0.0, 0.0, 1.0, 0.0]]),\n",
       " 2114226817: Skeleton(segid=2114226817, vertices=(shape=42, float32), edges=(shape=41, uint32), radius=(42, float32), vertex_types=(42, uint8), space='voxel' transform=[[1.0, 0.0, 0.0, 0.0], [0.0, 1.0, 0.0, 0.0], [0.0, 0.0, 1.0, 0.0]]),\n",
       " 4250688001: Skeleton(segid=4250688001, vertices=(shape=258, float32), edges=(shape=255, uint32), radius=(258, float32), vertex_types=(258, uint8), space='voxel' transform=[[1.0, 0.0, 0.0, 0.0], [0.0, 1.0, 0.0, 0.0], [0.0, 0.0, 1.0, 0.0]]),\n",
       " 3957700993: Skeleton(segid=3957700993, vertices=(shape=148, float32), edges=(shape=147, uint32), radius=(148, float32), vertex_types=(148, uint8), space='voxel' transform=[[1.0, 0.0, 0.0, 0.0], [0.0, 1.0, 0.0, 0.0], [0.0, 0.0, 1.0, 0.0]]),\n",
       " 3245195137: Skeleton(segid=3245195137, vertices=(shape=248, float32), edges=(shape=247, uint32), radius=(248, float32), vertex_types=(248, uint8), space='voxel' transform=[[1.0, 0.0, 0.0, 0.0], [0.0, 1.0, 0.0, 0.0], [0.0, 0.0, 1.0, 0.0]]),\n",
       " 1620748161: Skeleton(segid=1620748161, vertices=(shape=48, float32), edges=(shape=47, uint32), radius=(48, float32), vertex_types=(48, uint8), space='voxel' transform=[[1.0, 0.0, 0.0, 0.0], [0.0, 1.0, 0.0, 0.0], [0.0, 0.0, 1.0, 0.0]]),\n",
       " 3148539009: Skeleton(segid=3148539009, vertices=(shape=181, float32), edges=(shape=180, uint32), radius=(181, float32), vertex_types=(181, uint8), space='voxel' transform=[[1.0, 0.0, 0.0, 0.0], [0.0, 1.0, 0.0, 0.0], [0.0, 0.0, 1.0, 0.0]]),\n",
       " 2695866497: Skeleton(segid=2695866497, vertices=(shape=192, float32), edges=(shape=191, uint32), radius=(192, float32), vertex_types=(192, uint8), space='voxel' transform=[[1.0, 0.0, 0.0, 0.0], [0.0, 1.0, 0.0, 0.0], [0.0, 0.0, 1.0, 0.0]]),\n",
       " 1618142721: Skeleton(segid=1618142721, vertices=(shape=35, float32), edges=(shape=34, uint32), radius=(35, float32), vertex_types=(35, uint8), space='voxel' transform=[[1.0, 0.0, 0.0, 0.0], [0.0, 1.0, 0.0, 0.0], [0.0, 0.0, 1.0, 0.0]]),\n",
       " 535685249: Skeleton(segid=535685249, vertices=(shape=138, float32), edges=(shape=137, uint32), radius=(138, float32), vertex_types=(138, uint8), space='voxel' transform=[[1.0, 0.0, 0.0, 0.0], [0.0, 1.0, 0.0, 0.0], [0.0, 0.0, 1.0, 0.0]]),\n",
       " 230489345: Skeleton(segid=230489345, vertices=(shape=67, float32), edges=(shape=66, uint32), radius=(67, float32), vertex_types=(67, uint8), space='voxel' transform=[[1.0, 0.0, 0.0, 0.0], [0.0, 1.0, 0.0, 0.0], [0.0, 0.0, 1.0, 0.0]]),\n",
       " 241336065: Skeleton(segid=241336065, vertices=(shape=121, float32), edges=(shape=120, uint32), radius=(121, float32), vertex_types=(121, uint8), space='voxel' transform=[[1.0, 0.0, 0.0, 0.0], [0.0, 1.0, 0.0, 0.0], [0.0, 0.0, 1.0, 0.0]]),\n",
       " 3393171841: Skeleton(segid=3393171841, vertices=(shape=451, float32), edges=(shape=450, uint32), radius=(451, float32), vertex_types=(451, uint8), space='voxel' transform=[[1.0, 0.0, 0.0, 0.0], [0.0, 1.0, 0.0, 0.0], [0.0, 0.0, 1.0, 0.0]]),\n",
       " 3381793153: Skeleton(segid=3381793153, vertices=(shape=252, float32), edges=(shape=251, uint32), radius=(252, float32), vertex_types=(252, uint8), space='voxel' transform=[[1.0, 0.0, 0.0, 0.0], [0.0, 1.0, 0.0, 0.0], [0.0, 0.0, 1.0, 0.0]]),\n",
       " 2114227329: Skeleton(segid=2114227329, vertices=(shape=59, float32), edges=(shape=58, uint32), radius=(59, float32), vertex_types=(59, uint8), space='voxel' transform=[[1.0, 0.0, 0.0, 0.0], [0.0, 1.0, 0.0, 0.0], [0.0, 0.0, 1.0, 0.0]]),\n",
       " 3870387585: Skeleton(segid=3870387585, vertices=(shape=51, float32), edges=(shape=50, uint32), radius=(51, float32), vertex_types=(51, uint8), space='voxel' transform=[[1.0, 0.0, 0.0, 0.0], [0.0, 1.0, 0.0, 0.0], [0.0, 0.0, 1.0, 0.0]]),\n",
       " 230489857: Skeleton(segid=230489857, vertices=(shape=33, float32), edges=(shape=32, uint32), radius=(33, float32), vertex_types=(33, uint8), space='voxel' transform=[[1.0, 0.0, 0.0, 0.0], [0.0, 1.0, 0.0, 0.0], [0.0, 0.0, 1.0, 0.0]]),\n",
       " 232631553: Skeleton(segid=232631553, vertices=(shape=44, float32), edges=(shape=43, uint32), radius=(44, float32), vertex_types=(44, uint8), space='voxel' transform=[[1.0, 0.0, 0.0, 0.0], [0.0, 1.0, 0.0, 0.0], [0.0, 0.0, 1.0, 0.0]]),\n",
       " 3360152193: Skeleton(segid=3360152193, vertices=(shape=89, float32), edges=(shape=88, uint32), radius=(89, float32), vertex_types=(89, uint8), space='voxel' transform=[[1.0, 0.0, 0.0, 0.0], [0.0, 1.0, 0.0, 0.0], [0.0, 0.0, 1.0, 0.0]]),\n",
       " 671942913: Skeleton(segid=671942913, vertices=(shape=43, float32), edges=(shape=42, uint32), radius=(43, float32), vertex_types=(43, uint8), space='voxel' transform=[[1.0, 0.0, 0.0, 0.0], [0.0, 1.0, 0.0, 0.0], [0.0, 0.0, 1.0, 0.0]]),\n",
       " 1173769217: Skeleton(segid=1173769217, vertices=(shape=154, float32), edges=(shape=153, uint32), radius=(154, float32), vertex_types=(154, uint8), space='voxel' transform=[[1.0, 0.0, 0.0, 0.0], [0.0, 1.0, 0.0, 0.0], [0.0, 0.0, 1.0, 0.0]]),\n",
       " 3131400065: Skeleton(segid=3131400065, vertices=(shape=24, float32), edges=(shape=23, uint32), radius=(24, float32), vertex_types=(24, uint8), space='voxel' transform=[[1.0, 0.0, 0.0, 0.0], [0.0, 1.0, 0.0, 0.0], [0.0, 0.0, 1.0, 0.0]]),\n",
       " 3257717121: Skeleton(segid=3257717121, vertices=(shape=27, float32), edges=(shape=26, uint32), radius=(27, float32), vertex_types=(27, uint8), space='voxel' transform=[[1.0, 0.0, 0.0, 0.0], [0.0, 1.0, 0.0, 0.0], [0.0, 0.0, 1.0, 0.0]]),\n",
       " 3614006529: Skeleton(segid=3614006529, vertices=(shape=17, float32), edges=(shape=16, uint32), radius=(17, float32), vertex_types=(17, uint8), space='voxel' transform=[[1.0, 0.0, 0.0, 0.0], [0.0, 1.0, 0.0, 0.0], [0.0, 0.0, 1.0, 0.0]]),\n",
       " 3186486657: Skeleton(segid=3186486657, vertices=(shape=36, float32), edges=(shape=35, uint32), radius=(36, float32), vertex_types=(36, uint8), space='voxel' transform=[[1.0, 0.0, 0.0, 0.0], [0.0, 1.0, 0.0, 0.0], [0.0, 0.0, 1.0, 0.0]])}"
      ]
     },
     "execution_count": 43,
     "metadata": {},
     "output_type": "execute_result"
    }
   ],
   "source": [
    "proof_skels"
   ]
  },
  {
   "cell_type": "code",
   "execution_count": 44,
   "metadata": {},
   "outputs": [
    {
     "data": {
      "application/vnd.jupyter.widget-view+json": {
       "model_id": "7e64f3b4879a4dc0a3c60a242d5e3d89",
       "version_major": 2,
       "version_minor": 0
      },
      "text/plain": [
       "Skeletonizing:   0%|          | 0/144 [00:00<?, ?it/s]"
      ]
     },
     "metadata": {},
     "output_type": "display_data"
    },
    {
     "data": {
      "application/vnd.jupyter.widget-view+json": {
       "model_id": "65ab2658fa344a71bd5620adaa6a98bc",
       "version_major": 2,
       "version_minor": 0
      },
      "text/plain": [
       "Skeletonizing:   0%|          | 0/238 [00:00<?, ?it/s]"
      ]
     },
     "metadata": {},
     "output_type": "display_data"
    },
    {
     "data": {
      "application/vnd.jupyter.widget-view+json": {
       "model_id": "813899a049aa42adaa021d2030c36d35",
       "version_major": 2,
       "version_minor": 0
      },
      "text/plain": [
       "Skeletonizing:   0%|          | 0/34 [00:00<?, ?it/s]"
      ]
     },
     "metadata": {},
     "output_type": "display_data"
    },
    {
     "data": {
      "application/vnd.jupyter.widget-view+json": {
       "model_id": "241032f7643d4e5b85e6fba0b6c3be99",
       "version_major": 2,
       "version_minor": 0
      },
      "text/plain": [
       "Skeletonizing:   0%|          | 0/164 [00:00<?, ?it/s]"
      ]
     },
     "metadata": {},
     "output_type": "display_data"
    },
    {
     "data": {
      "application/vnd.jupyter.widget-view+json": {
       "model_id": "8c978b94b15141059dae5e0a0487a7af",
       "version_major": 2,
       "version_minor": 0
      },
      "text/plain": [
       "Skeletonizing:   0%|          | 0/246 [00:00<?, ?it/s]"
      ]
     },
     "metadata": {},
     "output_type": "display_data"
    },
    {
     "data": {
      "application/vnd.jupyter.widget-view+json": {
       "model_id": "2c20248274284f8397664c5c773413c1",
       "version_major": 2,
       "version_minor": 0
      },
      "text/plain": [
       "Skeletonizing:   0%|          | 0/1348 [00:00<?, ?it/s]"
      ]
     },
     "metadata": {},
     "output_type": "display_data"
    },
    {
     "data": {
      "application/vnd.jupyter.widget-view+json": {
       "model_id": "3507cc6b7f7c495e800631e08ceff059",
       "version_major": 2,
       "version_minor": 0
      },
      "text/plain": [
       "Skeletonizing:   0%|          | 0/182 [00:00<?, ?it/s]"
      ]
     },
     "metadata": {},
     "output_type": "display_data"
    },
    {
     "data": {
      "application/vnd.jupyter.widget-view+json": {
       "model_id": "0d023e790fb74b97aec8f51e7b9710b8",
       "version_major": 2,
       "version_minor": 0
      },
      "text/plain": [
       "Skeletonizing:   0%|          | 0/488 [00:00<?, ?it/s]"
      ]
     },
     "metadata": {},
     "output_type": "display_data"
    },
    {
     "data": {
      "application/vnd.jupyter.widget-view+json": {
       "model_id": "76acdb567f0c4704923e2f08c311d239",
       "version_major": 2,
       "version_minor": 0
      },
      "text/plain": [
       "Skeletonizing:   0%|          | 0/438 [00:00<?, ?it/s]"
      ]
     },
     "metadata": {},
     "output_type": "display_data"
    },
    {
     "data": {
      "application/vnd.jupyter.widget-view+json": {
       "model_id": "53fd1a66921447e692ef5df86ab28083",
       "version_major": 2,
       "version_minor": 0
      },
      "text/plain": [
       "Skeletonizing:   0%|          | 0/3150 [00:00<?, ?it/s]"
      ]
     },
     "metadata": {},
     "output_type": "display_data"
    },
    {
     "data": {
      "application/vnd.jupyter.widget-view+json": {
       "model_id": "65840742a3df4c3bb14c99cc9af6f8c0",
       "version_major": 2,
       "version_minor": 0
      },
      "text/plain": [
       "Skeletonizing:   0%|          | 0/410 [00:00<?, ?it/s]"
      ]
     },
     "metadata": {},
     "output_type": "display_data"
    },
    {
     "data": {
      "application/vnd.jupyter.widget-view+json": {
       "model_id": "896e3990ee9642b2b082f0b0d973fd43",
       "version_major": 2,
       "version_minor": 0
      },
      "text/plain": [
       "Skeletonizing:   0%|          | 0/1548 [00:00<?, ?it/s]"
      ]
     },
     "metadata": {},
     "output_type": "display_data"
    },
    {
     "data": {
      "application/vnd.jupyter.widget-view+json": {
       "model_id": "a6559ac7edcc4bdeafa0680c35c938d4",
       "version_major": 2,
       "version_minor": 0
      },
      "text/plain": [
       "Skeletonizing:   0%|          | 0/752 [00:00<?, ?it/s]"
      ]
     },
     "metadata": {},
     "output_type": "display_data"
    },
    {
     "data": {
      "application/vnd.jupyter.widget-view+json": {
       "model_id": "3b8e56f3594c4775b01ff6dd867fd13d",
       "version_major": 2,
       "version_minor": 0
      },
      "text/plain": [
       "Skeletonizing:   0%|          | 0/1628 [00:00<?, ?it/s]"
      ]
     },
     "metadata": {},
     "output_type": "display_data"
    },
    {
     "data": {
      "application/vnd.jupyter.widget-view+json": {
       "model_id": "9ede525a87254383805d39d7ceb2bba8",
       "version_major": 2,
       "version_minor": 0
      },
      "text/plain": [
       "Skeletonizing:   0%|          | 0/536 [00:00<?, ?it/s]"
      ]
     },
     "metadata": {},
     "output_type": "display_data"
    },
    {
     "data": {
      "application/vnd.jupyter.widget-view+json": {
       "model_id": "9c1ab1e4239b4d949b8d24016bf20428",
       "version_major": 2,
       "version_minor": 0
      },
      "text/plain": [
       "Skeletonizing:   0%|          | 0/2474 [00:00<?, ?it/s]"
      ]
     },
     "metadata": {},
     "output_type": "display_data"
    },
    {
     "data": {
      "application/vnd.jupyter.widget-view+json": {
       "model_id": "fa7fbfa3672e45d3a0072ab3ad46c14b",
       "version_major": 2,
       "version_minor": 0
      },
      "text/plain": [
       "Skeletonizing:   0%|          | 0/388 [00:00<?, ?it/s]"
      ]
     },
     "metadata": {},
     "output_type": "display_data"
    },
    {
     "data": {
      "application/vnd.jupyter.widget-view+json": {
       "model_id": "6e85b79acb53417b80729b62fe3f34e1",
       "version_major": 2,
       "version_minor": 0
      },
      "text/plain": [
       "Skeletonizing:   0%|          | 0/1268 [00:00<?, ?it/s]"
      ]
     },
     "metadata": {},
     "output_type": "display_data"
    },
    {
     "data": {
      "application/vnd.jupyter.widget-view+json": {
       "model_id": "a527e29d97db4624a75dfc9f850dd8c9",
       "version_major": 2,
       "version_minor": 0
      },
      "text/plain": [
       "Skeletonizing:   0%|          | 0/2532 [00:00<?, ?it/s]"
      ]
     },
     "metadata": {},
     "output_type": "display_data"
    },
    {
     "data": {
      "application/vnd.jupyter.widget-view+json": {
       "model_id": "bba61d0d302443238428f1569e0ee511",
       "version_major": 2,
       "version_minor": 0
      },
      "text/plain": [
       "Skeletonizing:   0%|          | 0/2036 [00:00<?, ?it/s]"
      ]
     },
     "metadata": {},
     "output_type": "display_data"
    },
    {
     "data": {
      "application/vnd.jupyter.widget-view+json": {
       "model_id": "ca18e04914b44ab59f2f77b2f1f70805",
       "version_major": 2,
       "version_minor": 0
      },
      "text/plain": [
       "Skeletonizing:   0%|          | 0/910 [00:00<?, ?it/s]"
      ]
     },
     "metadata": {},
     "output_type": "display_data"
    },
    {
     "data": {
      "application/vnd.jupyter.widget-view+json": {
       "model_id": "ea259e97edc24f9cb0edae054ebad47a",
       "version_major": 2,
       "version_minor": 0
      },
      "text/plain": [
       "Skeletonizing:   0%|          | 0/5422 [00:00<?, ?it/s]"
      ]
     },
     "metadata": {},
     "output_type": "display_data"
    },
    {
     "data": {
      "application/vnd.jupyter.widget-view+json": {
       "model_id": "d6379772189448c99778d135138276eb",
       "version_major": 2,
       "version_minor": 0
      },
      "text/plain": [
       "Skeletonizing:   0%|          | 0/4556 [00:00<?, ?it/s]"
      ]
     },
     "metadata": {},
     "output_type": "display_data"
    },
    {
     "data": {
      "application/vnd.jupyter.widget-view+json": {
       "model_id": "34eb1c4496314c318504b43f58c3bee3",
       "version_major": 2,
       "version_minor": 0
      },
      "text/plain": [
       "Skeletonizing:   0%|          | 0/1422 [00:00<?, ?it/s]"
      ]
     },
     "metadata": {},
     "output_type": "display_data"
    },
    {
     "data": {
      "application/vnd.jupyter.widget-view+json": {
       "model_id": "dab6b89d2a684d4f813e655410156440",
       "version_major": 2,
       "version_minor": 0
      },
      "text/plain": [
       "Skeletonizing:   0%|          | 0/576 [00:00<?, ?it/s]"
      ]
     },
     "metadata": {},
     "output_type": "display_data"
    },
    {
     "data": {
      "application/vnd.jupyter.widget-view+json": {
       "model_id": "975cb7107bb847a589d9cb573e38d35e",
       "version_major": 2,
       "version_minor": 0
      },
      "text/plain": [
       "Skeletonizing:   0%|          | 0/536 [00:00<?, ?it/s]"
      ]
     },
     "metadata": {},
     "output_type": "display_data"
    },
    {
     "data": {
      "application/vnd.jupyter.widget-view+json": {
       "model_id": "6c57decaaa364aaa9f50a57cc90f310b",
       "version_major": 2,
       "version_minor": 0
      },
      "text/plain": [
       "Skeletonizing:   0%|          | 0/952 [00:00<?, ?it/s]"
      ]
     },
     "metadata": {},
     "output_type": "display_data"
    },
    {
     "data": {
      "application/vnd.jupyter.widget-view+json": {
       "model_id": "67cf73dcd6b649249b7d52db1bcf1250",
       "version_major": 2,
       "version_minor": 0
      },
      "text/plain": [
       "Skeletonizing:   0%|          | 0/2544 [00:00<?, ?it/s]"
      ]
     },
     "metadata": {},
     "output_type": "display_data"
    },
    {
     "data": {
      "application/vnd.jupyter.widget-view+json": {
       "model_id": "0e82f5d874b64dcf90dc333c4be5bdfe",
       "version_major": 2,
       "version_minor": 0
      },
      "text/plain": [
       "Skeletonizing:   0%|          | 0/1220 [00:00<?, ?it/s]"
      ]
     },
     "metadata": {},
     "output_type": "display_data"
    },
    {
     "data": {
      "application/vnd.jupyter.widget-view+json": {
       "model_id": "3c438192df4d4d5ba8833271c97a6343",
       "version_major": 2,
       "version_minor": 0
      },
      "text/plain": [
       "Skeletonizing:   0%|          | 0/54 [00:00<?, ?it/s]"
      ]
     },
     "metadata": {},
     "output_type": "display_data"
    },
    {
     "data": {
      "application/vnd.jupyter.widget-view+json": {
       "model_id": "e4985043da944f788949d42bd83df470",
       "version_major": 2,
       "version_minor": 0
      },
      "text/plain": [
       "Skeletonizing:   0%|          | 0/742 [00:00<?, ?it/s]"
      ]
     },
     "metadata": {},
     "output_type": "display_data"
    },
    {
     "data": {
      "application/vnd.jupyter.widget-view+json": {
       "model_id": "0e3d15ca22494c59bad2747ce5fe879c",
       "version_major": 2,
       "version_minor": 0
      },
      "text/plain": [
       "Skeletonizing:   0%|          | 0/3958 [00:00<?, ?it/s]"
      ]
     },
     "metadata": {},
     "output_type": "display_data"
    },
    {
     "data": {
      "application/vnd.jupyter.widget-view+json": {
       "model_id": "27d3bca685674a5ea92c1cc79953bbf6",
       "version_major": 2,
       "version_minor": 0
      },
      "text/plain": [
       "Skeletonizing:   0%|          | 0/386 [00:00<?, ?it/s]"
      ]
     },
     "metadata": {},
     "output_type": "display_data"
    },
    {
     "data": {
      "application/vnd.jupyter.widget-view+json": {
       "model_id": "446756f5823e441780b2120bd0db717f",
       "version_major": 2,
       "version_minor": 0
      },
      "text/plain": [
       "Skeletonizing:   0%|          | 0/2400 [00:00<?, ?it/s]"
      ]
     },
     "metadata": {},
     "output_type": "display_data"
    },
    {
     "data": {
      "application/vnd.jupyter.widget-view+json": {
       "model_id": "a35b3630794e4a94a4bd8bae4f1d0f71",
       "version_major": 2,
       "version_minor": 0
      },
      "text/plain": [
       "Skeletonizing:   0%|          | 0/2210 [00:00<?, ?it/s]"
      ]
     },
     "metadata": {},
     "output_type": "display_data"
    },
    {
     "data": {
      "application/vnd.jupyter.widget-view+json": {
       "model_id": "d655d098fc96401e989a6bd996022883",
       "version_major": 2,
       "version_minor": 0
      },
      "text/plain": [
       "Skeletonizing:   0%|          | 0/1168 [00:00<?, ?it/s]"
      ]
     },
     "metadata": {},
     "output_type": "display_data"
    },
    {
     "data": {
      "application/vnd.jupyter.widget-view+json": {
       "model_id": "c63720cf66e44287bcafcef2039d10af",
       "version_major": 2,
       "version_minor": 0
      },
      "text/plain": [
       "Skeletonizing:   0%|          | 0/3948 [00:00<?, ?it/s]"
      ]
     },
     "metadata": {},
     "output_type": "display_data"
    },
    {
     "data": {
      "application/vnd.jupyter.widget-view+json": {
       "model_id": "2572aef6c4174a85b3e128b6c5027b53",
       "version_major": 2,
       "version_minor": 0
      },
      "text/plain": [
       "Skeletonizing:   0%|          | 0/9666 [00:00<?, ?it/s]"
      ]
     },
     "metadata": {},
     "output_type": "display_data"
    },
    {
     "data": {
      "application/vnd.jupyter.widget-view+json": {
       "model_id": "baa6159090954c869302c286d0e39ed3",
       "version_major": 2,
       "version_minor": 0
      },
      "text/plain": [
       "Skeletonizing:   0%|          | 0/762 [00:00<?, ?it/s]"
      ]
     },
     "metadata": {},
     "output_type": "display_data"
    },
    {
     "data": {
      "application/vnd.jupyter.widget-view+json": {
       "model_id": "f62e3d1dd8e841f69337a2d4cd08f984",
       "version_major": 2,
       "version_minor": 0
      },
      "text/plain": [
       "Skeletonizing:   0%|          | 0/9534 [00:00<?, ?it/s]"
      ]
     },
     "metadata": {},
     "output_type": "display_data"
    },
    {
     "data": {
      "application/vnd.jupyter.widget-view+json": {
       "model_id": "11eba5fe78ec4e4eb8a92c63c6994675",
       "version_major": 2,
       "version_minor": 0
      },
      "text/plain": [
       "Skeletonizing:   0%|          | 0/710 [00:00<?, ?it/s]"
      ]
     },
     "metadata": {},
     "output_type": "display_data"
    },
    {
     "data": {
      "application/vnd.jupyter.widget-view+json": {
       "model_id": "96ec8f51490b4691b2d2fab51d90203d",
       "version_major": 2,
       "version_minor": 0
      },
      "text/plain": [
       "Skeletonizing:   0%|          | 0/18 [00:00<?, ?it/s]"
      ]
     },
     "metadata": {},
     "output_type": "display_data"
    },
    {
     "data": {
      "application/vnd.jupyter.widget-view+json": {
       "model_id": "c34ab0708de147a6ba66b7521ddfa34f",
       "version_major": 2,
       "version_minor": 0
      },
      "text/plain": [
       "Skeletonizing:   0%|          | 0/7750 [00:00<?, ?it/s]"
      ]
     },
     "metadata": {},
     "output_type": "display_data"
    },
    {
     "data": {
      "application/vnd.jupyter.widget-view+json": {
       "model_id": "6d3e3e853b2c4b82ba0e49f6c37f3606",
       "version_major": 2,
       "version_minor": 0
      },
      "text/plain": [
       "Skeletonizing:   0%|          | 0/858 [00:00<?, ?it/s]"
      ]
     },
     "metadata": {},
     "output_type": "display_data"
    },
    {
     "data": {
      "application/vnd.jupyter.widget-view+json": {
       "model_id": "4ce721ed13f3472197976056ed4cadaa",
       "version_major": 2,
       "version_minor": 0
      },
      "text/plain": [
       "Skeletonizing:   0%|          | 0/1450 [00:00<?, ?it/s]"
      ]
     },
     "metadata": {},
     "output_type": "display_data"
    },
    {
     "data": {
      "application/vnd.jupyter.widget-view+json": {
       "model_id": "23cfcd13a57a48ab998d305694181c00",
       "version_major": 2,
       "version_minor": 0
      },
      "text/plain": [
       "Skeletonizing:   0%|          | 0/306 [00:00<?, ?it/s]"
      ]
     },
     "metadata": {},
     "output_type": "display_data"
    },
    {
     "data": {
      "application/vnd.jupyter.widget-view+json": {
       "model_id": "8788675d1b974dd1be4bf157ea8b575a",
       "version_major": 2,
       "version_minor": 0
      },
      "text/plain": [
       "Skeletonizing:   0%|          | 0/5166 [00:00<?, ?it/s]"
      ]
     },
     "metadata": {},
     "output_type": "display_data"
    },
    {
     "data": {
      "application/vnd.jupyter.widget-view+json": {
       "model_id": "0580877624ee4368a411ef35e8ced4f7",
       "version_major": 2,
       "version_minor": 0
      },
      "text/plain": [
       "Skeletonizing:   0%|          | 0/502 [00:00<?, ?it/s]"
      ]
     },
     "metadata": {},
     "output_type": "display_data"
    },
    {
     "data": {
      "application/vnd.jupyter.widget-view+json": {
       "model_id": "b884520e4d2645cd821c24e6f79ff64c",
       "version_major": 2,
       "version_minor": 0
      },
      "text/plain": [
       "Skeletonizing:   0%|          | 0/1144 [00:00<?, ?it/s]"
      ]
     },
     "metadata": {},
     "output_type": "display_data"
    },
    {
     "data": {
      "application/vnd.jupyter.widget-view+json": {
       "model_id": "9a456ca4022545faa58cc0a12d9b2b3c",
       "version_major": 2,
       "version_minor": 0
      },
      "text/plain": [
       "Skeletonizing:   0%|          | 0/11216 [00:00<?, ?it/s]"
      ]
     },
     "metadata": {},
     "output_type": "display_data"
    },
    {
     "data": {
      "application/vnd.jupyter.widget-view+json": {
       "model_id": "e1a579e54fca40f8873dbb0a0f67c73d",
       "version_major": 2,
       "version_minor": 0
      },
      "text/plain": [
       "Skeletonizing:   0%|          | 0/8484 [00:00<?, ?it/s]"
      ]
     },
     "metadata": {},
     "output_type": "display_data"
    },
    {
     "data": {
      "application/vnd.jupyter.widget-view+json": {
       "model_id": "2143fcb2d68c4190a75d3506a24aa493",
       "version_major": 2,
       "version_minor": 0
      },
      "text/plain": [
       "Skeletonizing:   0%|          | 0/4750 [00:00<?, ?it/s]"
      ]
     },
     "metadata": {},
     "output_type": "display_data"
    },
    {
     "data": {
      "application/vnd.jupyter.widget-view+json": {
       "model_id": "5296eeff0162420e858c576e6c348f39",
       "version_major": 2,
       "version_minor": 0
      },
      "text/plain": [
       "Skeletonizing:   0%|          | 0/3830 [00:00<?, ?it/s]"
      ]
     },
     "metadata": {},
     "output_type": "display_data"
    },
    {
     "data": {
      "application/vnd.jupyter.widget-view+json": {
       "model_id": "5360f6924297417580943f4e276745f1",
       "version_major": 2,
       "version_minor": 0
      },
      "text/plain": [
       "Skeletonizing:   0%|          | 0/3558 [00:00<?, ?it/s]"
      ]
     },
     "metadata": {},
     "output_type": "display_data"
    },
    {
     "data": {
      "application/vnd.jupyter.widget-view+json": {
       "model_id": "b4ec819d0e7b4d75936ed51e2c19f6f3",
       "version_major": 2,
       "version_minor": 0
      },
      "text/plain": [
       "Skeletonizing:   0%|          | 0/504 [00:00<?, ?it/s]"
      ]
     },
     "metadata": {},
     "output_type": "display_data"
    },
    {
     "data": {
      "application/vnd.jupyter.widget-view+json": {
       "model_id": "2a1b4bf766964d359a1f283103b42e39",
       "version_major": 2,
       "version_minor": 0
      },
      "text/plain": [
       "Skeletonizing:   0%|          | 0/7262 [00:00<?, ?it/s]"
      ]
     },
     "metadata": {},
     "output_type": "display_data"
    },
    {
     "data": {
      "application/vnd.jupyter.widget-view+json": {
       "model_id": "cd1b555d81ba4a55aa0594300529b88f",
       "version_major": 2,
       "version_minor": 0
      },
      "text/plain": [
       "Skeletonizing:   0%|          | 0/6134 [00:00<?, ?it/s]"
      ]
     },
     "metadata": {},
     "output_type": "display_data"
    },
    {
     "data": {
      "application/vnd.jupyter.widget-view+json": {
       "model_id": "c5a6cb7968d64ab388bc7ef6d53bae33",
       "version_major": 2,
       "version_minor": 0
      },
      "text/plain": [
       "Skeletonizing:   0%|          | 0/1318 [00:00<?, ?it/s]"
      ]
     },
     "metadata": {},
     "output_type": "display_data"
    },
    {
     "data": {
      "application/vnd.jupyter.widget-view+json": {
       "model_id": "201b30a897e94e0caf98d39b7923d8dc",
       "version_major": 2,
       "version_minor": 0
      },
      "text/plain": [
       "Skeletonizing:   0%|          | 0/14706 [00:00<?, ?it/s]"
      ]
     },
     "metadata": {},
     "output_type": "display_data"
    },
    {
     "data": {
      "application/vnd.jupyter.widget-view+json": {
       "model_id": "7c7f60007c53439cba9ae93b791de1bc",
       "version_major": 2,
       "version_minor": 0
      },
      "text/plain": [
       "Skeletonizing:   0%|          | 0/546 [00:00<?, ?it/s]"
      ]
     },
     "metadata": {},
     "output_type": "display_data"
    },
    {
     "data": {
      "application/vnd.jupyter.widget-view+json": {
       "model_id": "9d7aaa6f5d9b4cef8e3d0319df0ca5f4",
       "version_major": 2,
       "version_minor": 0
      },
      "text/plain": [
       "Skeletonizing:   0%|          | 0/5294 [00:00<?, ?it/s]"
      ]
     },
     "metadata": {},
     "output_type": "display_data"
    },
    {
     "data": {
      "application/vnd.jupyter.widget-view+json": {
       "model_id": "1167a61265a645a99c6129efb0613735",
       "version_major": 2,
       "version_minor": 0
      },
      "text/plain": [
       "Skeletonizing:   0%|          | 0/922 [00:00<?, ?it/s]"
      ]
     },
     "metadata": {},
     "output_type": "display_data"
    },
    {
     "data": {
      "application/vnd.jupyter.widget-view+json": {
       "model_id": "1a2520c3e98949c9876203d5b579c0ac",
       "version_major": 2,
       "version_minor": 0
      },
      "text/plain": [
       "Skeletonizing:   0%|          | 0/1584 [00:00<?, ?it/s]"
      ]
     },
     "metadata": {},
     "output_type": "display_data"
    },
    {
     "data": {
      "application/vnd.jupyter.widget-view+json": {
       "model_id": "5cce7127e33c490dae7ed51b8cd64c2b",
       "version_major": 2,
       "version_minor": 0
      },
      "text/plain": [
       "Skeletonizing:   0%|          | 0/21682 [00:00<?, ?it/s]"
      ]
     },
     "metadata": {},
     "output_type": "display_data"
    },
    {
     "data": {
      "application/vnd.jupyter.widget-view+json": {
       "model_id": "9f997eb53c7943afb963d1fb3bf6771c",
       "version_major": 2,
       "version_minor": 0
      },
      "text/plain": [
       "Skeletonizing:   0%|          | 0/41432 [00:00<?, ?it/s]"
      ]
     },
     "metadata": {},
     "output_type": "display_data"
    },
    {
     "data": {
      "application/vnd.jupyter.widget-view+json": {
       "model_id": "a7fbaf502462479a849598e37580c4f8",
       "version_major": 2,
       "version_minor": 0
      },
      "text/plain": [
       "Skeletonizing:   0%|          | 0/2420 [00:00<?, ?it/s]"
      ]
     },
     "metadata": {},
     "output_type": "display_data"
    },
    {
     "data": {
      "application/vnd.jupyter.widget-view+json": {
       "model_id": "2e420f2cd5c14ef480610833430cd23b",
       "version_major": 2,
       "version_minor": 0
      },
      "text/plain": [
       "Skeletonizing:   0%|          | 0/33920 [00:00<?, ?it/s]"
      ]
     },
     "metadata": {},
     "output_type": "display_data"
    },
    {
     "data": {
      "application/vnd.jupyter.widget-view+json": {
       "model_id": "c686aa25062540a38c567e2dccbc4534",
       "version_major": 2,
       "version_minor": 0
      },
      "text/plain": [
       "Skeletonizing:   0%|          | 0/7604 [00:00<?, ?it/s]"
      ]
     },
     "metadata": {},
     "output_type": "display_data"
    },
    {
     "data": {
      "application/vnd.jupyter.widget-view+json": {
       "model_id": "17b0e08a52404dfc96fd30c3d9e3962b",
       "version_major": 2,
       "version_minor": 0
      },
      "text/plain": [
       "Skeletonizing:   0%|          | 0/8840 [00:00<?, ?it/s]"
      ]
     },
     "metadata": {},
     "output_type": "display_data"
    },
    {
     "data": {
      "application/vnd.jupyter.widget-view+json": {
       "model_id": "a70ebc3d50df4b29b9c9a1bd6ebc5896",
       "version_major": 2,
       "version_minor": 0
      },
      "text/plain": [
       "Skeletonizing:   0%|          | 0/10784 [00:00<?, ?it/s]"
      ]
     },
     "metadata": {},
     "output_type": "display_data"
    },
    {
     "data": {
      "application/vnd.jupyter.widget-view+json": {
       "model_id": "71cb198efa77461bbc1d4242296d5b5b",
       "version_major": 2,
       "version_minor": 0
      },
      "text/plain": [
       "Skeletonizing:   0%|          | 0/32378 [00:00<?, ?it/s]"
      ]
     },
     "metadata": {},
     "output_type": "display_data"
    },
    {
     "data": {
      "application/vnd.jupyter.widget-view+json": {
       "model_id": "6874e253c9864208adc4e7904559d174",
       "version_major": 2,
       "version_minor": 0
      },
      "text/plain": [
       "Skeletonizing:   0%|          | 0/128 [00:00<?, ?it/s]"
      ]
     },
     "metadata": {},
     "output_type": "display_data"
    },
    {
     "data": {
      "application/vnd.jupyter.widget-view+json": {
       "model_id": "09b4272aa2bc4a17ad453b47898d636e",
       "version_major": 2,
       "version_minor": 0
      },
      "text/plain": [
       "Skeletonizing:   0%|          | 0/1256 [00:00<?, ?it/s]"
      ]
     },
     "metadata": {},
     "output_type": "display_data"
    },
    {
     "data": {
      "application/vnd.jupyter.widget-view+json": {
       "model_id": "4f65057670a64a7391d64c00e8e0e570",
       "version_major": 2,
       "version_minor": 0
      },
      "text/plain": [
       "Skeletonizing:   0%|          | 0/342 [00:00<?, ?it/s]"
      ]
     },
     "metadata": {},
     "output_type": "display_data"
    },
    {
     "data": {
      "application/vnd.jupyter.widget-view+json": {
       "model_id": "03882f9ca24c4a17bae10eacd289956e",
       "version_major": 2,
       "version_minor": 0
      },
      "text/plain": [
       "Skeletonizing:   0%|          | 0/18938 [00:00<?, ?it/s]"
      ]
     },
     "metadata": {},
     "output_type": "display_data"
    },
    {
     "data": {
      "application/vnd.jupyter.widget-view+json": {
       "model_id": "d96b51aa8d9648d2af1227bb8d1f24a8",
       "version_major": 2,
       "version_minor": 0
      },
      "text/plain": [
       "Skeletonizing:   0%|          | 0/4556 [00:00<?, ?it/s]"
      ]
     },
     "metadata": {},
     "output_type": "display_data"
    },
    {
     "data": {
      "application/vnd.jupyter.widget-view+json": {
       "model_id": "bf16c97190124ba1abb4baca62be98b7",
       "version_major": 2,
       "version_minor": 0
      },
      "text/plain": [
       "Skeletonizing:   0%|          | 0/31824 [00:00<?, ?it/s]"
      ]
     },
     "metadata": {},
     "output_type": "display_data"
    },
    {
     "data": {
      "application/vnd.jupyter.widget-view+json": {
       "model_id": "94cfbd1fb51b4183bc963309d7e83c34",
       "version_major": 2,
       "version_minor": 0
      },
      "text/plain": [
       "Skeletonizing:   0%|          | 0/610 [00:00<?, ?it/s]"
      ]
     },
     "metadata": {},
     "output_type": "display_data"
    },
    {
     "data": {
      "application/vnd.jupyter.widget-view+json": {
       "model_id": "bda977b25bbc4d0f815d8befe63a54bd",
       "version_major": 2,
       "version_minor": 0
      },
      "text/plain": [
       "Skeletonizing:   0%|          | 0/9006 [00:00<?, ?it/s]"
      ]
     },
     "metadata": {},
     "output_type": "display_data"
    },
    {
     "data": {
      "application/vnd.jupyter.widget-view+json": {
       "model_id": "49091a39ba284927a24b2697d6a29f17",
       "version_major": 2,
       "version_minor": 0
      },
      "text/plain": [
       "Skeletonizing:   0%|          | 0/23034 [00:00<?, ?it/s]"
      ]
     },
     "metadata": {},
     "output_type": "display_data"
    },
    {
     "data": {
      "application/vnd.jupyter.widget-view+json": {
       "model_id": "ed5c58e7190241398b1a11a293f09534",
       "version_major": 2,
       "version_minor": 0
      },
      "text/plain": [
       "Skeletonizing:   0%|          | 0/8260 [00:00<?, ?it/s]"
      ]
     },
     "metadata": {},
     "output_type": "display_data"
    },
    {
     "data": {
      "application/vnd.jupyter.widget-view+json": {
       "model_id": "2cd10fea8c574e288e452edc82862afe",
       "version_major": 2,
       "version_minor": 0
      },
      "text/plain": [
       "Skeletonizing:   0%|          | 0/692 [00:00<?, ?it/s]"
      ]
     },
     "metadata": {},
     "output_type": "display_data"
    },
    {
     "data": {
      "application/vnd.jupyter.widget-view+json": {
       "model_id": "f0bc978eadf4481c9262af7fec0bebe9",
       "version_major": 2,
       "version_minor": 0
      },
      "text/plain": [
       "Skeletonizing:   0%|          | 0/14478 [00:00<?, ?it/s]"
      ]
     },
     "metadata": {},
     "output_type": "display_data"
    },
    {
     "data": {
      "application/vnd.jupyter.widget-view+json": {
       "model_id": "f0e309ae42f6443c9f5b08997563e3ae",
       "version_major": 2,
       "version_minor": 0
      },
      "text/plain": [
       "Skeletonizing:   0%|          | 0/2966 [00:00<?, ?it/s]"
      ]
     },
     "metadata": {},
     "output_type": "display_data"
    },
    {
     "data": {
      "application/vnd.jupyter.widget-view+json": {
       "model_id": "7dcd6c80fa6745ab82cb71cc57d50ad7",
       "version_major": 2,
       "version_minor": 0
      },
      "text/plain": [
       "Skeletonizing:   0%|          | 0/1452 [00:00<?, ?it/s]"
      ]
     },
     "metadata": {},
     "output_type": "display_data"
    },
    {
     "data": {
      "application/vnd.jupyter.widget-view+json": {
       "model_id": "aa4d58ddc5394e54b0b830067f10cd5c",
       "version_major": 2,
       "version_minor": 0
      },
      "text/plain": [
       "Skeletonizing:   0%|          | 0/168 [00:00<?, ?it/s]"
      ]
     },
     "metadata": {},
     "output_type": "display_data"
    },
    {
     "data": {
      "application/vnd.jupyter.widget-view+json": {
       "model_id": "3a18b16fbaa0492da877ae602a5ce841",
       "version_major": 2,
       "version_minor": 0
      },
      "text/plain": [
       "Skeletonizing:   0%|          | 0/730 [00:00<?, ?it/s]"
      ]
     },
     "metadata": {},
     "output_type": "display_data"
    },
    {
     "data": {
      "application/vnd.jupyter.widget-view+json": {
       "model_id": "f355393d6b074ecfbef686ed8b24f421",
       "version_major": 2,
       "version_minor": 0
      },
      "text/plain": [
       "Skeletonizing:   0%|          | 0/20846 [00:00<?, ?it/s]"
      ]
     },
     "metadata": {},
     "output_type": "display_data"
    },
    {
     "data": {
      "application/vnd.jupyter.widget-view+json": {
       "model_id": "883eb23bbbfe4b30877f589d7176555f",
       "version_major": 2,
       "version_minor": 0
      },
      "text/plain": [
       "Skeletonizing:   0%|          | 0/904 [00:00<?, ?it/s]"
      ]
     },
     "metadata": {},
     "output_type": "display_data"
    },
    {
     "data": {
      "application/vnd.jupyter.widget-view+json": {
       "model_id": "8b029030c01b4d8bb7969e10ff39935e",
       "version_major": 2,
       "version_minor": 0
      },
      "text/plain": [
       "Skeletonizing:   0%|          | 0/15826 [00:00<?, ?it/s]"
      ]
     },
     "metadata": {},
     "output_type": "display_data"
    },
    {
     "data": {
      "application/vnd.jupyter.widget-view+json": {
       "model_id": "86ee12c2737442708f59da44341bb336",
       "version_major": 2,
       "version_minor": 0
      },
      "text/plain": [
       "Skeletonizing:   0%|          | 0/874 [00:00<?, ?it/s]"
      ]
     },
     "metadata": {},
     "output_type": "display_data"
    },
    {
     "data": {
      "application/vnd.jupyter.widget-view+json": {
       "model_id": "a3240222e9ca4be0a7baf16553b8fa6c",
       "version_major": 2,
       "version_minor": 0
      },
      "text/plain": [
       "Skeletonizing:   0%|          | 0/638 [00:00<?, ?it/s]"
      ]
     },
     "metadata": {},
     "output_type": "display_data"
    },
    {
     "data": {
      "application/vnd.jupyter.widget-view+json": {
       "model_id": "2bf5c91599c343729e4214021459645b",
       "version_major": 2,
       "version_minor": 0
      },
      "text/plain": [
       "Skeletonizing:   0%|          | 0/866 [00:00<?, ?it/s]"
      ]
     },
     "metadata": {},
     "output_type": "display_data"
    },
    {
     "data": {
      "application/vnd.jupyter.widget-view+json": {
       "model_id": "7302adc45d034c1a8d1e05d121d7f980",
       "version_major": 2,
       "version_minor": 0
      },
      "text/plain": [
       "Skeletonizing:   0%|          | 0/1266 [00:00<?, ?it/s]"
      ]
     },
     "metadata": {},
     "output_type": "display_data"
    },
    {
     "data": {
      "application/vnd.jupyter.widget-view+json": {
       "model_id": "d4586ff4db9248eaa0eef13c9307a681",
       "version_major": 2,
       "version_minor": 0
      },
      "text/plain": [
       "Skeletonizing:   0%|          | 0/11162 [00:00<?, ?it/s]"
      ]
     },
     "metadata": {},
     "output_type": "display_data"
    },
    {
     "data": {
      "application/vnd.jupyter.widget-view+json": {
       "model_id": "7c8edea26bf2456988aa72a28e64e608",
       "version_major": 2,
       "version_minor": 0
      },
      "text/plain": [
       "Skeletonizing:   0%|          | 0/12074 [00:00<?, ?it/s]"
      ]
     },
     "metadata": {},
     "output_type": "display_data"
    },
    {
     "data": {
      "application/vnd.jupyter.widget-view+json": {
       "model_id": "5ac30a704697415eab7e4d77660c0638",
       "version_major": 2,
       "version_minor": 0
      },
      "text/plain": [
       "Skeletonizing:   0%|          | 0/20368 [00:00<?, ?it/s]"
      ]
     },
     "metadata": {},
     "output_type": "display_data"
    },
    {
     "data": {
      "application/vnd.jupyter.widget-view+json": {
       "model_id": "d0b101f8d36742a5a8826ae3e674f0e1",
       "version_major": 2,
       "version_minor": 0
      },
      "text/plain": [
       "Skeletonizing:   0%|          | 0/686 [00:00<?, ?it/s]"
      ]
     },
     "metadata": {},
     "output_type": "display_data"
    },
    {
     "data": {
      "application/vnd.jupyter.widget-view+json": {
       "model_id": "41ea967f7de24334aaa82b8db36eafa0",
       "version_major": 2,
       "version_minor": 0
      },
      "text/plain": [
       "Skeletonizing:   0%|          | 0/14810 [00:00<?, ?it/s]"
      ]
     },
     "metadata": {},
     "output_type": "display_data"
    },
    {
     "data": {
      "application/vnd.jupyter.widget-view+json": {
       "model_id": "756fbc9aa93246969f2b041ae5686b8f",
       "version_major": 2,
       "version_minor": 0
      },
      "text/plain": [
       "Skeletonizing:   0%|          | 0/10920 [00:00<?, ?it/s]"
      ]
     },
     "metadata": {},
     "output_type": "display_data"
    },
    {
     "data": {
      "application/vnd.jupyter.widget-view+json": {
       "model_id": "fa03b051a7a244c28e31acc4ea5b89b2",
       "version_major": 2,
       "version_minor": 0
      },
      "text/plain": [
       "Skeletonizing:   0%|          | 0/16740 [00:00<?, ?it/s]"
      ]
     },
     "metadata": {},
     "output_type": "display_data"
    },
    {
     "data": {
      "application/vnd.jupyter.widget-view+json": {
       "model_id": "e5c0f118908440818c9d83493b3ce4f2",
       "version_major": 2,
       "version_minor": 0
      },
      "text/plain": [
       "Skeletonizing:   0%|          | 0/444 [00:00<?, ?it/s]"
      ]
     },
     "metadata": {},
     "output_type": "display_data"
    },
    {
     "data": {
      "application/vnd.jupyter.widget-view+json": {
       "model_id": "bb30c995c07b48c296b8314b503c5eab",
       "version_major": 2,
       "version_minor": 0
      },
      "text/plain": [
       "Skeletonizing:   0%|          | 0/630 [00:00<?, ?it/s]"
      ]
     },
     "metadata": {},
     "output_type": "display_data"
    },
    {
     "data": {
      "application/vnd.jupyter.widget-view+json": {
       "model_id": "93ee4107a9a74b7fb96a2daf7eb513f6",
       "version_major": 2,
       "version_minor": 0
      },
      "text/plain": [
       "Skeletonizing:   0%|          | 0/744 [00:00<?, ?it/s]"
      ]
     },
     "metadata": {},
     "output_type": "display_data"
    },
    {
     "data": {
      "application/vnd.jupyter.widget-view+json": {
       "model_id": "763c83b96d324cb5ad4bdf93a1c8c469",
       "version_major": 2,
       "version_minor": 0
      },
      "text/plain": [
       "Skeletonizing:   0%|          | 0/16356 [00:00<?, ?it/s]"
      ]
     },
     "metadata": {},
     "output_type": "display_data"
    },
    {
     "data": {
      "application/vnd.jupyter.widget-view+json": {
       "model_id": "9c24f870ec374a1abaabc4cc52caa7e2",
       "version_major": 2,
       "version_minor": 0
      },
      "text/plain": [
       "Skeletonizing:   0%|          | 0/6252 [00:00<?, ?it/s]"
      ]
     },
     "metadata": {},
     "output_type": "display_data"
    },
    {
     "data": {
      "application/vnd.jupyter.widget-view+json": {
       "model_id": "1db4cd0cdbb8446386e6336ac8da38db",
       "version_major": 2,
       "version_minor": 0
      },
      "text/plain": [
       "Skeletonizing:   0%|          | 0/30696 [00:00<?, ?it/s]"
      ]
     },
     "metadata": {},
     "output_type": "display_data"
    },
    {
     "data": {
      "application/vnd.jupyter.widget-view+json": {
       "model_id": "ba270269cff645f29c81414ee7db21ae",
       "version_major": 2,
       "version_minor": 0
      },
      "text/plain": [
       "Skeletonizing:   0%|          | 0/17236 [00:00<?, ?it/s]"
      ]
     },
     "metadata": {},
     "output_type": "display_data"
    },
    {
     "data": {
      "application/vnd.jupyter.widget-view+json": {
       "model_id": "058c9f0b1d8346998c4b32aa3d5919d0",
       "version_major": 2,
       "version_minor": 0
      },
      "text/plain": [
       "Skeletonizing:   0%|          | 0/13772 [00:00<?, ?it/s]"
      ]
     },
     "metadata": {},
     "output_type": "display_data"
    },
    {
     "data": {
      "application/vnd.jupyter.widget-view+json": {
       "model_id": "895fe661e9b7479eb3956768befa107c",
       "version_major": 2,
       "version_minor": 0
      },
      "text/plain": [
       "Skeletonizing:   0%|          | 0/894 [00:00<?, ?it/s]"
      ]
     },
     "metadata": {},
     "output_type": "display_data"
    },
    {
     "data": {
      "application/vnd.jupyter.widget-view+json": {
       "model_id": "4e92c2eed8964de5bb2c95bd6c12d3f7",
       "version_major": 2,
       "version_minor": 0
      },
      "text/plain": [
       "Skeletonizing:   0%|          | 0/10898 [00:00<?, ?it/s]"
      ]
     },
     "metadata": {},
     "output_type": "display_data"
    },
    {
     "data": {
      "application/vnd.jupyter.widget-view+json": {
       "model_id": "36a8742c260246b0a9564466b0876f36",
       "version_major": 2,
       "version_minor": 0
      },
      "text/plain": [
       "Skeletonizing:   0%|          | 0/1984 [00:00<?, ?it/s]"
      ]
     },
     "metadata": {},
     "output_type": "display_data"
    },
    {
     "data": {
      "application/vnd.jupyter.widget-view+json": {
       "model_id": "1fb6be45a3604118ac3bd3c264655227",
       "version_major": 2,
       "version_minor": 0
      },
      "text/plain": [
       "Skeletonizing:   0%|          | 0/1954 [00:00<?, ?it/s]"
      ]
     },
     "metadata": {},
     "output_type": "display_data"
    },
    {
     "data": {
      "application/vnd.jupyter.widget-view+json": {
       "model_id": "a628b2f8edbe473eac5d1780e0b4bf6a",
       "version_major": 2,
       "version_minor": 0
      },
      "text/plain": [
       "Skeletonizing:   0%|          | 0/44384 [00:00<?, ?it/s]"
      ]
     },
     "metadata": {},
     "output_type": "display_data"
    },
    {
     "data": {
      "application/vnd.jupyter.widget-view+json": {
       "model_id": "da175260db3f4ca89d80d6bfb6524484",
       "version_major": 2,
       "version_minor": 0
      },
      "text/plain": [
       "Skeletonizing:   0%|          | 0/458 [00:00<?, ?it/s]"
      ]
     },
     "metadata": {},
     "output_type": "display_data"
    },
    {
     "data": {
      "application/vnd.jupyter.widget-view+json": {
       "model_id": "a7da80241d8a450abcd3bba269a84215",
       "version_major": 2,
       "version_minor": 0
      },
      "text/plain": [
       "Skeletonizing:   0%|          | 0/6460 [00:00<?, ?it/s]"
      ]
     },
     "metadata": {},
     "output_type": "display_data"
    },
    {
     "data": {
      "application/vnd.jupyter.widget-view+json": {
       "model_id": "3d8ecba33dcd4d209ed2fd0a52bdacf3",
       "version_major": 2,
       "version_minor": 0
      },
      "text/plain": [
       "Skeletonizing:   0%|          | 0/648 [00:00<?, ?it/s]"
      ]
     },
     "metadata": {},
     "output_type": "display_data"
    },
    {
     "data": {
      "application/vnd.jupyter.widget-view+json": {
       "model_id": "5ceb949a9eb7426a9862a5e9cfef717f",
       "version_major": 2,
       "version_minor": 0
      },
      "text/plain": [
       "Skeletonizing:   0%|          | 0/1288 [00:00<?, ?it/s]"
      ]
     },
     "metadata": {},
     "output_type": "display_data"
    },
    {
     "data": {
      "application/vnd.jupyter.widget-view+json": {
       "model_id": "5553b5081db843419b164091ffadd61a",
       "version_major": 2,
       "version_minor": 0
      },
      "text/plain": [
       "Skeletonizing:   0%|          | 0/28692 [00:00<?, ?it/s]"
      ]
     },
     "metadata": {},
     "output_type": "display_data"
    },
    {
     "data": {
      "application/vnd.jupyter.widget-view+json": {
       "model_id": "8f78f4b718f34b0c9bf102d88e569c90",
       "version_major": 2,
       "version_minor": 0
      },
      "text/plain": [
       "Skeletonizing:   0%|          | 0/63216 [00:00<?, ?it/s]"
      ]
     },
     "metadata": {},
     "output_type": "display_data"
    },
    {
     "data": {
      "application/vnd.jupyter.widget-view+json": {
       "model_id": "f07fa570bcbf4805bde5798c069ba7c7",
       "version_major": 2,
       "version_minor": 0
      },
      "text/plain": [
       "Skeletonizing:   0%|          | 0/4520 [00:00<?, ?it/s]"
      ]
     },
     "metadata": {},
     "output_type": "display_data"
    },
    {
     "data": {
      "application/vnd.jupyter.widget-view+json": {
       "model_id": "81ae1e31b44f48b78f5610387e379b40",
       "version_major": 2,
       "version_minor": 0
      },
      "text/plain": [
       "Skeletonizing:   0%|          | 0/26398 [00:00<?, ?it/s]"
      ]
     },
     "metadata": {},
     "output_type": "display_data"
    },
    {
     "data": {
      "application/vnd.jupyter.widget-view+json": {
       "model_id": "55e0a1d89d944918a1d083040820ec92",
       "version_major": 2,
       "version_minor": 0
      },
      "text/plain": [
       "Skeletonizing:   0%|          | 0/924 [00:00<?, ?it/s]"
      ]
     },
     "metadata": {},
     "output_type": "display_data"
    },
    {
     "data": {
      "application/vnd.jupyter.widget-view+json": {
       "model_id": "8397f613aad04b348652bfc0847eda0e",
       "version_major": 2,
       "version_minor": 0
      },
      "text/plain": [
       "Skeletonizing:   0%|          | 0/36140 [00:00<?, ?it/s]"
      ]
     },
     "metadata": {},
     "output_type": "display_data"
    },
    {
     "data": {
      "application/vnd.jupyter.widget-view+json": {
       "model_id": "2970b32099454830a61fb56907db6df4",
       "version_major": 2,
       "version_minor": 0
      },
      "text/plain": [
       "Skeletonizing:   0%|          | 0/15310 [00:00<?, ?it/s]"
      ]
     },
     "metadata": {},
     "output_type": "display_data"
    },
    {
     "data": {
      "application/vnd.jupyter.widget-view+json": {
       "model_id": "de18b397ba3144ae82bbbc58de0757ba",
       "version_major": 2,
       "version_minor": 0
      },
      "text/plain": [
       "Skeletonizing:   0%|          | 0/38178 [00:00<?, ?it/s]"
      ]
     },
     "metadata": {},
     "output_type": "display_data"
    },
    {
     "data": {
      "application/vnd.jupyter.widget-view+json": {
       "model_id": "3283cce25e4342eeac9b77915e543c99",
       "version_major": 2,
       "version_minor": 0
      },
      "text/plain": [
       "Skeletonizing:   0%|          | 0/46370 [00:00<?, ?it/s]"
      ]
     },
     "metadata": {},
     "output_type": "display_data"
    },
    {
     "data": {
      "application/vnd.jupyter.widget-view+json": {
       "model_id": "5ad85c918e014e719fc03ea11c804872",
       "version_major": 2,
       "version_minor": 0
      },
      "text/plain": [
       "Skeletonizing:   0%|          | 0/158 [00:00<?, ?it/s]"
      ]
     },
     "metadata": {},
     "output_type": "display_data"
    },
    {
     "data": {
      "application/vnd.jupyter.widget-view+json": {
       "model_id": "2ea682d539f247429f3ac56cfb11aaf6",
       "version_major": 2,
       "version_minor": 0
      },
      "text/plain": [
       "Skeletonizing:   0%|          | 0/1966 [00:00<?, ?it/s]"
      ]
     },
     "metadata": {},
     "output_type": "display_data"
    },
    {
     "data": {
      "application/vnd.jupyter.widget-view+json": {
       "model_id": "e36c360f56224d41ad1e799bfbb7b8af",
       "version_major": 2,
       "version_minor": 0
      },
      "text/plain": [
       "Skeletonizing:   0%|          | 0/466 [00:00<?, ?it/s]"
      ]
     },
     "metadata": {},
     "output_type": "display_data"
    },
    {
     "data": {
      "application/vnd.jupyter.widget-view+json": {
       "model_id": "73f31189466f4cf78c785ef623505927",
       "version_major": 2,
       "version_minor": 0
      },
      "text/plain": [
       "Skeletonizing:   0%|          | 0/70780 [00:00<?, ?it/s]"
      ]
     },
     "metadata": {},
     "output_type": "display_data"
    },
    {
     "data": {
      "application/vnd.jupyter.widget-view+json": {
       "model_id": "0379bdddb794460fb88be70680c79d1d",
       "version_major": 2,
       "version_minor": 0
      },
      "text/plain": [
       "Skeletonizing:   0%|          | 0/1098 [00:00<?, ?it/s]"
      ]
     },
     "metadata": {},
     "output_type": "display_data"
    },
    {
     "data": {
      "application/vnd.jupyter.widget-view+json": {
       "model_id": "9d753db0402b464db4ac611e4cba9067",
       "version_major": 2,
       "version_minor": 0
      },
      "text/plain": [
       "Skeletonizing:   0%|          | 0/760 [00:00<?, ?it/s]"
      ]
     },
     "metadata": {},
     "output_type": "display_data"
    },
    {
     "data": {
      "application/vnd.jupyter.widget-view+json": {
       "model_id": "9fb99b72a56e4fa092c88e2bc03b401a",
       "version_major": 2,
       "version_minor": 0
      },
      "text/plain": [
       "Skeletonizing:   0%|          | 0/2952 [00:00<?, ?it/s]"
      ]
     },
     "metadata": {},
     "output_type": "display_data"
    },
    {
     "data": {
      "application/vnd.jupyter.widget-view+json": {
       "model_id": "7e3caaf62f224c35bde745e05250cca9",
       "version_major": 2,
       "version_minor": 0
      },
      "text/plain": [
       "Skeletonizing:   0%|          | 0/650 [00:00<?, ?it/s]"
      ]
     },
     "metadata": {},
     "output_type": "display_data"
    },
    {
     "data": {
      "application/vnd.jupyter.widget-view+json": {
       "model_id": "b8094ed7f3ac4f3a93867c1a61ef5513",
       "version_major": 2,
       "version_minor": 0
      },
      "text/plain": [
       "Skeletonizing:   0%|          | 0/1946 [00:00<?, ?it/s]"
      ]
     },
     "metadata": {},
     "output_type": "display_data"
    },
    {
     "data": {
      "application/vnd.jupyter.widget-view+json": {
       "model_id": "4767aa01b45441d59bce2fbd471e4e2a",
       "version_major": 2,
       "version_minor": 0
      },
      "text/plain": [
       "Skeletonizing:   0%|          | 0/33300 [00:00<?, ?it/s]"
      ]
     },
     "metadata": {},
     "output_type": "display_data"
    },
    {
     "data": {
      "application/vnd.jupyter.widget-view+json": {
       "model_id": "cbb68601f6944baeb0ace7f949f7da7d",
       "version_major": 2,
       "version_minor": 0
      },
      "text/plain": [
       "Skeletonizing:   0%|          | 0/18858 [00:00<?, ?it/s]"
      ]
     },
     "metadata": {},
     "output_type": "display_data"
    },
    {
     "data": {
      "application/vnd.jupyter.widget-view+json": {
       "model_id": "c16aaa6fed70456792483af8981920d8",
       "version_major": 2,
       "version_minor": 0
      },
      "text/plain": [
       "Skeletonizing:   0%|          | 0/28206 [00:00<?, ?it/s]"
      ]
     },
     "metadata": {},
     "output_type": "display_data"
    },
    {
     "data": {
      "application/vnd.jupyter.widget-view+json": {
       "model_id": "d83108f24a8b404798d93e52e7dd7eb9",
       "version_major": 2,
       "version_minor": 0
      },
      "text/plain": [
       "Skeletonizing:   0%|          | 0/9534 [00:00<?, ?it/s]"
      ]
     },
     "metadata": {},
     "output_type": "display_data"
    },
    {
     "data": {
      "application/vnd.jupyter.widget-view+json": {
       "model_id": "0f4ef04f66a14b869ebe45d9cf250b3e",
       "version_major": 2,
       "version_minor": 0
      },
      "text/plain": [
       "Skeletonizing:   0%|          | 0/252 [00:00<?, ?it/s]"
      ]
     },
     "metadata": {},
     "output_type": "display_data"
    },
    {
     "data": {
      "application/vnd.jupyter.widget-view+json": {
       "model_id": "637d957af7dd47358f1238d8358c808a",
       "version_major": 2,
       "version_minor": 0
      },
      "text/plain": [
       "Skeletonizing:   0%|          | 0/524 [00:00<?, ?it/s]"
      ]
     },
     "metadata": {},
     "output_type": "display_data"
    },
    {
     "data": {
      "application/vnd.jupyter.widget-view+json": {
       "model_id": "058b282e264f49e78480bec41bd4cbeb",
       "version_major": 2,
       "version_minor": 0
      },
      "text/plain": [
       "Skeletonizing:   0%|          | 0/34956 [00:00<?, ?it/s]"
      ]
     },
     "metadata": {},
     "output_type": "display_data"
    },
    {
     "data": {
      "application/vnd.jupyter.widget-view+json": {
       "model_id": "b85b6caf60c94a648e586ef641cf2020",
       "version_major": 2,
       "version_minor": 0
      },
      "text/plain": [
       "Skeletonizing:   0%|          | 0/16870 [00:00<?, ?it/s]"
      ]
     },
     "metadata": {},
     "output_type": "display_data"
    },
    {
     "data": {
      "application/vnd.jupyter.widget-view+json": {
       "model_id": "c8a252adb1d34cafafdd3891c24aac92",
       "version_major": 2,
       "version_minor": 0
      },
      "text/plain": [
       "Skeletonizing:   0%|          | 0/1808 [00:00<?, ?it/s]"
      ]
     },
     "metadata": {},
     "output_type": "display_data"
    },
    {
     "data": {
      "application/vnd.jupyter.widget-view+json": {
       "model_id": "6d7e867ed9a8429c88a430a2db338ea6",
       "version_major": 2,
       "version_minor": 0
      },
      "text/plain": [
       "Skeletonizing:   0%|          | 0/100408 [00:00<?, ?it/s]"
      ]
     },
     "metadata": {},
     "output_type": "display_data"
    },
    {
     "data": {
      "application/vnd.jupyter.widget-view+json": {
       "model_id": "85d53edf70b64a3e9409b152630fc69c",
       "version_major": 2,
       "version_minor": 0
      },
      "text/plain": [
       "Skeletonizing:   0%|          | 0/31538 [00:00<?, ?it/s]"
      ]
     },
     "metadata": {},
     "output_type": "display_data"
    },
    {
     "data": {
      "application/vnd.jupyter.widget-view+json": {
       "model_id": "953827929f674f02b5c04a6a35f8fd5f",
       "version_major": 2,
       "version_minor": 0
      },
      "text/plain": [
       "Skeletonizing:   0%|          | 0/492 [00:00<?, ?it/s]"
      ]
     },
     "metadata": {},
     "output_type": "display_data"
    },
    {
     "data": {
      "application/vnd.jupyter.widget-view+json": {
       "model_id": "a241c3d7406248af951fd1b0ce11607b",
       "version_major": 2,
       "version_minor": 0
      },
      "text/plain": [
       "Skeletonizing:   0%|          | 0/7728 [00:00<?, ?it/s]"
      ]
     },
     "metadata": {},
     "output_type": "display_data"
    },
    {
     "data": {
      "application/vnd.jupyter.widget-view+json": {
       "model_id": "c864fa966d2040cd96ad17d2a5378987",
       "version_major": 2,
       "version_minor": 0
      },
      "text/plain": [
       "Skeletonizing:   0%|          | 0/126 [00:00<?, ?it/s]"
      ]
     },
     "metadata": {},
     "output_type": "display_data"
    },
    {
     "data": {
      "application/vnd.jupyter.widget-view+json": {
       "model_id": "50b895933033472cacc55ebebe9e4e72",
       "version_major": 2,
       "version_minor": 0
      },
      "text/plain": [
       "Skeletonizing:   0%|          | 0/29440 [00:00<?, ?it/s]"
      ]
     },
     "metadata": {},
     "output_type": "display_data"
    },
    {
     "data": {
      "application/vnd.jupyter.widget-view+json": {
       "model_id": "f116d51116c842c991af13f310ce2d69",
       "version_major": 2,
       "version_minor": 0
      },
      "text/plain": [
       "Skeletonizing:   0%|          | 0/242 [00:00<?, ?it/s]"
      ]
     },
     "metadata": {},
     "output_type": "display_data"
    },
    {
     "data": {
      "application/vnd.jupyter.widget-view+json": {
       "model_id": "60bae02a8aa84904952c1d68a403ae2f",
       "version_major": 2,
       "version_minor": 0
      },
      "text/plain": [
       "Skeletonizing:   0%|          | 0/11782 [00:00<?, ?it/s]"
      ]
     },
     "metadata": {},
     "output_type": "display_data"
    },
    {
     "data": {
      "application/vnd.jupyter.widget-view+json": {
       "model_id": "5663e3d0c669421eae68dd6e9f5a4567",
       "version_major": 2,
       "version_minor": 0
      },
      "text/plain": [
       "Skeletonizing:   0%|          | 0/6062 [00:00<?, ?it/s]"
      ]
     },
     "metadata": {},
     "output_type": "display_data"
    },
    {
     "data": {
      "application/vnd.jupyter.widget-view+json": {
       "model_id": "359657d4aee848989b82e6f0a680f2d7",
       "version_major": 2,
       "version_minor": 0
      },
      "text/plain": [
       "Skeletonizing:   0%|          | 0/25568 [00:00<?, ?it/s]"
      ]
     },
     "metadata": {},
     "output_type": "display_data"
    },
    {
     "data": {
      "application/vnd.jupyter.widget-view+json": {
       "model_id": "a665aa4f161748b6ab7b96705b94191d",
       "version_major": 2,
       "version_minor": 0
      },
      "text/plain": [
       "Skeletonizing:   0%|          | 0/22290 [00:00<?, ?it/s]"
      ]
     },
     "metadata": {},
     "output_type": "display_data"
    },
    {
     "data": {
      "application/vnd.jupyter.widget-view+json": {
       "model_id": "31dbf51a329b4d38a8b535f8e4ace3af",
       "version_major": 2,
       "version_minor": 0
      },
      "text/plain": [
       "Skeletonizing:   0%|          | 0/1062 [00:00<?, ?it/s]"
      ]
     },
     "metadata": {},
     "output_type": "display_data"
    },
    {
     "data": {
      "application/vnd.jupyter.widget-view+json": {
       "model_id": "b4e52a212173450283982f87e3f2f71c",
       "version_major": 2,
       "version_minor": 0
      },
      "text/plain": [
       "Skeletonizing:   0%|          | 0/38 [00:00<?, ?it/s]"
      ]
     },
     "metadata": {},
     "output_type": "display_data"
    },
    {
     "data": {
      "application/vnd.jupyter.widget-view+json": {
       "model_id": "40de8538d591422e93902a34f5fd2f70",
       "version_major": 2,
       "version_minor": 0
      },
      "text/plain": [
       "Skeletonizing:   0%|          | 0/7664 [00:00<?, ?it/s]"
      ]
     },
     "metadata": {},
     "output_type": "display_data"
    },
    {
     "data": {
      "application/vnd.jupyter.widget-view+json": {
       "model_id": "adf326e73868492ea7082c86436dbbf1",
       "version_major": 2,
       "version_minor": 0
      },
      "text/plain": [
       "Skeletonizing:   0%|          | 0/432 [00:00<?, ?it/s]"
      ]
     },
     "metadata": {},
     "output_type": "display_data"
    },
    {
     "data": {
      "application/vnd.jupyter.widget-view+json": {
       "model_id": "8363e945cdb347fdbbc50f16895e8cb4",
       "version_major": 2,
       "version_minor": 0
      },
      "text/plain": [
       "Skeletonizing:   0%|          | 0/3332 [00:00<?, ?it/s]"
      ]
     },
     "metadata": {},
     "output_type": "display_data"
    },
    {
     "data": {
      "application/vnd.jupyter.widget-view+json": {
       "model_id": "eac61773aec54f23963c7676cef5c626",
       "version_major": 2,
       "version_minor": 0
      },
      "text/plain": [
       "Skeletonizing:   0%|          | 0/1104 [00:00<?, ?it/s]"
      ]
     },
     "metadata": {},
     "output_type": "display_data"
    },
    {
     "data": {
      "application/vnd.jupyter.widget-view+json": {
       "model_id": "e65aa168e5874ea8a9e926e44c22f56b",
       "version_major": 2,
       "version_minor": 0
      },
      "text/plain": [
       "Skeletonizing:   0%|          | 0/272 [00:00<?, ?it/s]"
      ]
     },
     "metadata": {},
     "output_type": "display_data"
    },
    {
     "data": {
      "application/vnd.jupyter.widget-view+json": {
       "model_id": "54a107faf0ab41f9921d5ce4ca87e936",
       "version_major": 2,
       "version_minor": 0
      },
      "text/plain": [
       "Skeletonizing:   0%|          | 0/18542 [00:00<?, ?it/s]"
      ]
     },
     "metadata": {},
     "output_type": "display_data"
    },
    {
     "data": {
      "application/vnd.jupyter.widget-view+json": {
       "model_id": "d33cca5cf3f44f8b8c435f91bee33ccd",
       "version_major": 2,
       "version_minor": 0
      },
      "text/plain": [
       "Skeletonizing:   0%|          | 0/7120 [00:00<?, ?it/s]"
      ]
     },
     "metadata": {},
     "output_type": "display_data"
    },
    {
     "data": {
      "application/vnd.jupyter.widget-view+json": {
       "model_id": "f695e14c7c054383b2cdc8f2aba956d8",
       "version_major": 2,
       "version_minor": 0
      },
      "text/plain": [
       "Skeletonizing:   0%|          | 0/1696 [00:00<?, ?it/s]"
      ]
     },
     "metadata": {},
     "output_type": "display_data"
    },
    {
     "data": {
      "application/vnd.jupyter.widget-view+json": {
       "model_id": "d9bdba65caea4b999266fc5c40ddf47c",
       "version_major": 2,
       "version_minor": 0
      },
      "text/plain": [
       "Skeletonizing:   0%|          | 0/85234 [00:00<?, ?it/s]"
      ]
     },
     "metadata": {},
     "output_type": "display_data"
    },
    {
     "data": {
      "application/vnd.jupyter.widget-view+json": {
       "model_id": "f9f5a1a449964a7f8cf5776600912fe8",
       "version_major": 2,
       "version_minor": 0
      },
      "text/plain": [
       "Skeletonizing:   0%|          | 0/85224 [00:00<?, ?it/s]"
      ]
     },
     "metadata": {},
     "output_type": "display_data"
    },
    {
     "data": {
      "application/vnd.jupyter.widget-view+json": {
       "model_id": "3a682e97e47d4b799c173b423cb69cd7",
       "version_major": 2,
       "version_minor": 0
      },
      "text/plain": [
       "Skeletonizing:   0%|          | 0/22862 [00:00<?, ?it/s]"
      ]
     },
     "metadata": {},
     "output_type": "display_data"
    },
    {
     "data": {
      "application/vnd.jupyter.widget-view+json": {
       "model_id": "46a57f8df8dd4034858b2d9e0cd7678b",
       "version_major": 2,
       "version_minor": 0
      },
      "text/plain": [
       "Skeletonizing:   0%|          | 0/25722 [00:00<?, ?it/s]"
      ]
     },
     "metadata": {},
     "output_type": "display_data"
    },
    {
     "data": {
      "application/vnd.jupyter.widget-view+json": {
       "model_id": "3a49c8263325464898e9cff5fea43248",
       "version_major": 2,
       "version_minor": 0
      },
      "text/plain": [
       "Skeletonizing:   0%|          | 0/17674 [00:00<?, ?it/s]"
      ]
     },
     "metadata": {},
     "output_type": "display_data"
    },
    {
     "data": {
      "application/vnd.jupyter.widget-view+json": {
       "model_id": "a5557d647207404895d9cb2fe6710f0c",
       "version_major": 2,
       "version_minor": 0
      },
      "text/plain": [
       "Skeletonizing:   0%|          | 0/15150 [00:00<?, ?it/s]"
      ]
     },
     "metadata": {},
     "output_type": "display_data"
    },
    {
     "data": {
      "application/vnd.jupyter.widget-view+json": {
       "model_id": "cfd2663261a94f598833346f64df86b8",
       "version_major": 2,
       "version_minor": 0
      },
      "text/plain": [
       "Skeletonizing:   0%|          | 0/67976 [00:00<?, ?it/s]"
      ]
     },
     "metadata": {},
     "output_type": "display_data"
    },
    {
     "data": {
      "application/vnd.jupyter.widget-view+json": {
       "model_id": "1c7c560ca9994884882387f10d049bed",
       "version_major": 2,
       "version_minor": 0
      },
      "text/plain": [
       "Skeletonizing:   0%|          | 0/586 [00:00<?, ?it/s]"
      ]
     },
     "metadata": {},
     "output_type": "display_data"
    },
    {
     "data": {
      "application/vnd.jupyter.widget-view+json": {
       "model_id": "bcc8147bc22347d2bfe4be7ba13e6e86",
       "version_major": 2,
       "version_minor": 0
      },
      "text/plain": [
       "Skeletonizing:   0%|          | 0/24318 [00:00<?, ?it/s]"
      ]
     },
     "metadata": {},
     "output_type": "display_data"
    },
    {
     "data": {
      "application/vnd.jupyter.widget-view+json": {
       "model_id": "d03739ac433b41f0b19a24d12b87f8c3",
       "version_major": 2,
       "version_minor": 0
      },
      "text/plain": [
       "Skeletonizing:   0%|          | 0/4488 [00:00<?, ?it/s]"
      ]
     },
     "metadata": {},
     "output_type": "display_data"
    },
    {
     "data": {
      "application/vnd.jupyter.widget-view+json": {
       "model_id": "3a2cf3288fc14ed5b5fe351b92ad33d4",
       "version_major": 2,
       "version_minor": 0
      },
      "text/plain": [
       "Skeletonizing:   0%|          | 0/22784 [00:00<?, ?it/s]"
      ]
     },
     "metadata": {},
     "output_type": "display_data"
    },
    {
     "data": {
      "application/vnd.jupyter.widget-view+json": {
       "model_id": "551d7b0f50044712ae36fcab2e431017",
       "version_major": 2,
       "version_minor": 0
      },
      "text/plain": [
       "Skeletonizing:   0%|          | 0/430 [00:00<?, ?it/s]"
      ]
     },
     "metadata": {},
     "output_type": "display_data"
    },
    {
     "data": {
      "application/vnd.jupyter.widget-view+json": {
       "model_id": "b2db9b78560147e08d049de1caa45d73",
       "version_major": 2,
       "version_minor": 0
      },
      "text/plain": [
       "Skeletonizing:   0%|          | 0/46748 [00:00<?, ?it/s]"
      ]
     },
     "metadata": {},
     "output_type": "display_data"
    },
    {
     "data": {
      "application/vnd.jupyter.widget-view+json": {
       "model_id": "c87ad5b4edf1494ab0e0a41f7eed2359",
       "version_major": 2,
       "version_minor": 0
      },
      "text/plain": [
       "Skeletonizing:   0%|          | 0/24808 [00:00<?, ?it/s]"
      ]
     },
     "metadata": {},
     "output_type": "display_data"
    },
    {
     "data": {
      "application/vnd.jupyter.widget-view+json": {
       "model_id": "37f59a537c25458b88e018ad390154c4",
       "version_major": 2,
       "version_minor": 0
      },
      "text/plain": [
       "Skeletonizing:   0%|          | 0/12434 [00:00<?, ?it/s]"
      ]
     },
     "metadata": {},
     "output_type": "display_data"
    },
    {
     "data": {
      "application/vnd.jupyter.widget-view+json": {
       "model_id": "ff93218ba2b3466eb4d64626f6dc6fad",
       "version_major": 2,
       "version_minor": 0
      },
      "text/plain": [
       "Skeletonizing:   0%|          | 0/384 [00:00<?, ?it/s]"
      ]
     },
     "metadata": {},
     "output_type": "display_data"
    },
    {
     "data": {
      "application/vnd.jupyter.widget-view+json": {
       "model_id": "b2b052845e8d4244bb58f23661e530e8",
       "version_major": 2,
       "version_minor": 0
      },
      "text/plain": [
       "Skeletonizing:   0%|          | 0/17498 [00:00<?, ?it/s]"
      ]
     },
     "metadata": {},
     "output_type": "display_data"
    },
    {
     "data": {
      "application/vnd.jupyter.widget-view+json": {
       "model_id": "3731ab38a6fd470dbcd496fa9b0a5be3",
       "version_major": 2,
       "version_minor": 0
      },
      "text/plain": [
       "Skeletonizing:   0%|          | 0/19306 [00:00<?, ?it/s]"
      ]
     },
     "metadata": {},
     "output_type": "display_data"
    },
    {
     "data": {
      "application/vnd.jupyter.widget-view+json": {
       "model_id": "8ef6d14c33f34656a9650f37a6f72a18",
       "version_major": 2,
       "version_minor": 0
      },
      "text/plain": [
       "Skeletonizing:   0%|          | 0/4864 [00:00<?, ?it/s]"
      ]
     },
     "metadata": {},
     "output_type": "display_data"
    },
    {
     "data": {
      "application/vnd.jupyter.widget-view+json": {
       "model_id": "dc6d634d92604071a85e17546569a03a",
       "version_major": 2,
       "version_minor": 0
      },
      "text/plain": [
       "Skeletonizing:   0%|          | 0/310 [00:00<?, ?it/s]"
      ]
     },
     "metadata": {},
     "output_type": "display_data"
    },
    {
     "data": {
      "application/vnd.jupyter.widget-view+json": {
       "model_id": "ea5f1103a55544868f7afc889b7c650f",
       "version_major": 2,
       "version_minor": 0
      },
      "text/plain": [
       "Skeletonizing:   0%|          | 0/80186 [00:00<?, ?it/s]"
      ]
     },
     "metadata": {},
     "output_type": "display_data"
    },
    {
     "data": {
      "application/vnd.jupyter.widget-view+json": {
       "model_id": "f3b18423943a475aa7329b83695d497a",
       "version_major": 2,
       "version_minor": 0
      },
      "text/plain": [
       "Skeletonizing:   0%|          | 0/19764 [00:00<?, ?it/s]"
      ]
     },
     "metadata": {},
     "output_type": "display_data"
    },
    {
     "data": {
      "application/vnd.jupyter.widget-view+json": {
       "model_id": "f6fb3ab6ecb442ab9855b85999adb2cc",
       "version_major": 2,
       "version_minor": 0
      },
      "text/plain": [
       "Skeletonizing:   0%|          | 0/5898 [00:00<?, ?it/s]"
      ]
     },
     "metadata": {},
     "output_type": "display_data"
    },
    {
     "data": {
      "application/vnd.jupyter.widget-view+json": {
       "model_id": "3b0483e7bacd4ca6827c739f15a0525a",
       "version_major": 2,
       "version_minor": 0
      },
      "text/plain": [
       "Skeletonizing:   0%|          | 0/658 [00:00<?, ?it/s]"
      ]
     },
     "metadata": {},
     "output_type": "display_data"
    },
    {
     "data": {
      "application/vnd.jupyter.widget-view+json": {
       "model_id": "b0c0d1596ee14708be62f6bb512bcfc9",
       "version_major": 2,
       "version_minor": 0
      },
      "text/plain": [
       "Skeletonizing:   0%|          | 0/27610 [00:00<?, ?it/s]"
      ]
     },
     "metadata": {},
     "output_type": "display_data"
    },
    {
     "data": {
      "application/vnd.jupyter.widget-view+json": {
       "model_id": "7696f0b835464a4bac495ac4175f10cf",
       "version_major": 2,
       "version_minor": 0
      },
      "text/plain": [
       "Skeletonizing:   0%|          | 0/964 [00:00<?, ?it/s]"
      ]
     },
     "metadata": {},
     "output_type": "display_data"
    },
    {
     "data": {
      "application/vnd.jupyter.widget-view+json": {
       "model_id": "26cd32ee9c474430a2500bf2d9b27435",
       "version_major": 2,
       "version_minor": 0
      },
      "text/plain": [
       "Skeletonizing:   0%|          | 0/762 [00:00<?, ?it/s]"
      ]
     },
     "metadata": {},
     "output_type": "display_data"
    },
    {
     "data": {
      "application/vnd.jupyter.widget-view+json": {
       "model_id": "1606f1d32c944536a60e6bae33ffb1fd",
       "version_major": 2,
       "version_minor": 0
      },
      "text/plain": [
       "Skeletonizing:   0%|          | 0/6124 [00:00<?, ?it/s]"
      ]
     },
     "metadata": {},
     "output_type": "display_data"
    },
    {
     "data": {
      "application/vnd.jupyter.widget-view+json": {
       "model_id": "0dfe9768fed3457cb45921017addb2cc",
       "version_major": 2,
       "version_minor": 0
      },
      "text/plain": [
       "Skeletonizing:   0%|          | 0/13374 [00:00<?, ?it/s]"
      ]
     },
     "metadata": {},
     "output_type": "display_data"
    },
    {
     "data": {
      "application/vnd.jupyter.widget-view+json": {
       "model_id": "7b7978849d7d46caac073af804ab6008",
       "version_major": 2,
       "version_minor": 0
      },
      "text/plain": [
       "Skeletonizing:   0%|          | 0/700 [00:00<?, ?it/s]"
      ]
     },
     "metadata": {},
     "output_type": "display_data"
    },
    {
     "data": {
      "application/vnd.jupyter.widget-view+json": {
       "model_id": "d2b950feda5140c7bc5bbdc0531a368a",
       "version_major": 2,
       "version_minor": 0
      },
      "text/plain": [
       "Skeletonizing:   0%|          | 0/27114 [00:00<?, ?it/s]"
      ]
     },
     "metadata": {},
     "output_type": "display_data"
    },
    {
     "data": {
      "application/vnd.jupyter.widget-view+json": {
       "model_id": "9c7eb5361a624aa29dcf3669b9c054bf",
       "version_major": 2,
       "version_minor": 0
      },
      "text/plain": [
       "Skeletonizing:   0%|          | 0/224 [00:00<?, ?it/s]"
      ]
     },
     "metadata": {},
     "output_type": "display_data"
    },
    {
     "data": {
      "application/vnd.jupyter.widget-view+json": {
       "model_id": "8386d4d703c04bc88f4b50ed155d9316",
       "version_major": 2,
       "version_minor": 0
      },
      "text/plain": [
       "Skeletonizing:   0%|          | 0/3320 [00:00<?, ?it/s]"
      ]
     },
     "metadata": {},
     "output_type": "display_data"
    },
    {
     "data": {
      "application/vnd.jupyter.widget-view+json": {
       "model_id": "d73d04d15b4e4cf980a5b66c8ea068b8",
       "version_major": 2,
       "version_minor": 0
      },
      "text/plain": [
       "Skeletonizing:   0%|          | 0/75848 [00:00<?, ?it/s]"
      ]
     },
     "metadata": {},
     "output_type": "display_data"
    },
    {
     "data": {
      "application/vnd.jupyter.widget-view+json": {
       "model_id": "b788345e181548bc947d6f5e5508c7a3",
       "version_major": 2,
       "version_minor": 0
      },
      "text/plain": [
       "Skeletonizing:   0%|          | 0/1684 [00:00<?, ?it/s]"
      ]
     },
     "metadata": {},
     "output_type": "display_data"
    },
    {
     "data": {
      "application/vnd.jupyter.widget-view+json": {
       "model_id": "9b576fc2edc241e89c6397c90a9532ce",
       "version_major": 2,
       "version_minor": 0
      },
      "text/plain": [
       "Skeletonizing:   0%|          | 0/43738 [00:00<?, ?it/s]"
      ]
     },
     "metadata": {},
     "output_type": "display_data"
    },
    {
     "data": {
      "application/vnd.jupyter.widget-view+json": {
       "model_id": "c61da3e8a38b473192850b7b3588f734",
       "version_major": 2,
       "version_minor": 0
      },
      "text/plain": [
       "Skeletonizing:   0%|          | 0/74156 [00:00<?, ?it/s]"
      ]
     },
     "metadata": {},
     "output_type": "display_data"
    },
    {
     "data": {
      "application/vnd.jupyter.widget-view+json": {
       "model_id": "9a00b54ef8ad41cc9633b97c8fc73577",
       "version_major": 2,
       "version_minor": 0
      },
      "text/plain": [
       "Skeletonizing:   0%|          | 0/43388 [00:00<?, ?it/s]"
      ]
     },
     "metadata": {},
     "output_type": "display_data"
    },
    {
     "data": {
      "application/vnd.jupyter.widget-view+json": {
       "model_id": "4d172bfb1b8f410ea18acf43ee53b4ed",
       "version_major": 2,
       "version_minor": 0
      },
      "text/plain": [
       "Skeletonizing:   0%|          | 0/10264 [00:00<?, ?it/s]"
      ]
     },
     "metadata": {},
     "output_type": "display_data"
    },
    {
     "data": {
      "application/vnd.jupyter.widget-view+json": {
       "model_id": "4a9a9a2d7a2a4400a828b478dad64b4c",
       "version_major": 2,
       "version_minor": 0
      },
      "text/plain": [
       "Skeletonizing:   0%|          | 0/30980 [00:00<?, ?it/s]"
      ]
     },
     "metadata": {},
     "output_type": "display_data"
    },
    {
     "data": {
      "application/vnd.jupyter.widget-view+json": {
       "model_id": "b0fe8244c00944438bcd5f55cb6dd4a9",
       "version_major": 2,
       "version_minor": 0
      },
      "text/plain": [
       "Skeletonizing:   0%|          | 0/17326 [00:00<?, ?it/s]"
      ]
     },
     "metadata": {},
     "output_type": "display_data"
    },
    {
     "data": {
      "application/vnd.jupyter.widget-view+json": {
       "model_id": "90f7628bd2a14a6b8c14afe1f837beff",
       "version_major": 2,
       "version_minor": 0
      },
      "text/plain": [
       "Skeletonizing:   0%|          | 0/14398 [00:00<?, ?it/s]"
      ]
     },
     "metadata": {},
     "output_type": "display_data"
    },
    {
     "data": {
      "application/vnd.jupyter.widget-view+json": {
       "model_id": "4fcafb641da94bd08930b4d1c5bfae0f",
       "version_major": 2,
       "version_minor": 0
      },
      "text/plain": [
       "Skeletonizing:   0%|          | 0/4024 [00:00<?, ?it/s]"
      ]
     },
     "metadata": {},
     "output_type": "display_data"
    },
    {
     "data": {
      "application/vnd.jupyter.widget-view+json": {
       "model_id": "a9d6b1cfae5746c8b2f8690244011d42",
       "version_major": 2,
       "version_minor": 0
      },
      "text/plain": [
       "Skeletonizing:   0%|          | 0/620 [00:00<?, ?it/s]"
      ]
     },
     "metadata": {},
     "output_type": "display_data"
    },
    {
     "data": {
      "application/vnd.jupyter.widget-view+json": {
       "model_id": "6240058c1676407ca3061a1203c6516b",
       "version_major": 2,
       "version_minor": 0
      },
      "text/plain": [
       "Skeletonizing:   0%|          | 0/23192 [00:00<?, ?it/s]"
      ]
     },
     "metadata": {},
     "output_type": "display_data"
    },
    {
     "data": {
      "application/vnd.jupyter.widget-view+json": {
       "model_id": "30f6ca0342284193abc67d400192045f",
       "version_major": 2,
       "version_minor": 0
      },
      "text/plain": [
       "Skeletonizing:   0%|          | 0/1116 [00:00<?, ?it/s]"
      ]
     },
     "metadata": {},
     "output_type": "display_data"
    },
    {
     "data": {
      "application/vnd.jupyter.widget-view+json": {
       "model_id": "8b3b4f47e5304072b0ced073fd41dfec",
       "version_major": 2,
       "version_minor": 0
      },
      "text/plain": [
       "Skeletonizing:   0%|          | 0/20122 [00:00<?, ?it/s]"
      ]
     },
     "metadata": {},
     "output_type": "display_data"
    },
    {
     "data": {
      "application/vnd.jupyter.widget-view+json": {
       "model_id": "fde77dd2916740078b8b157cf6fdedbd",
       "version_major": 2,
       "version_minor": 0
      },
      "text/plain": [
       "Skeletonizing:   0%|          | 0/24614 [00:00<?, ?it/s]"
      ]
     },
     "metadata": {},
     "output_type": "display_data"
    },
    {
     "data": {
      "application/vnd.jupyter.widget-view+json": {
       "model_id": "327cf738bd174a9088970c592c52cb2f",
       "version_major": 2,
       "version_minor": 0
      },
      "text/plain": [
       "Skeletonizing:   0%|          | 0/13016 [00:00<?, ?it/s]"
      ]
     },
     "metadata": {},
     "output_type": "display_data"
    },
    {
     "data": {
      "application/vnd.jupyter.widget-view+json": {
       "model_id": "82f2491ebedb4b708b10341d47887bb6",
       "version_major": 2,
       "version_minor": 0
      },
      "text/plain": [
       "Skeletonizing:   0%|          | 0/280 [00:00<?, ?it/s]"
      ]
     },
     "metadata": {},
     "output_type": "display_data"
    },
    {
     "data": {
      "application/vnd.jupyter.widget-view+json": {
       "model_id": "951d2673246c4053b9d2b745562d0e3a",
       "version_major": 2,
       "version_minor": 0
      },
      "text/plain": [
       "Skeletonizing:   0%|          | 0/422 [00:00<?, ?it/s]"
      ]
     },
     "metadata": {},
     "output_type": "display_data"
    },
    {
     "data": {
      "application/vnd.jupyter.widget-view+json": {
       "model_id": "f9199faf14fb468083170f753e385016",
       "version_major": 2,
       "version_minor": 0
      },
      "text/plain": [
       "Skeletonizing:   0%|          | 0/6372 [00:00<?, ?it/s]"
      ]
     },
     "metadata": {},
     "output_type": "display_data"
    },
    {
     "data": {
      "application/vnd.jupyter.widget-view+json": {
       "model_id": "7907eba16b79415592de601c1ed17a5f",
       "version_major": 2,
       "version_minor": 0
      },
      "text/plain": [
       "Skeletonizing:   0%|          | 0/35226 [00:00<?, ?it/s]"
      ]
     },
     "metadata": {},
     "output_type": "display_data"
    },
    {
     "data": {
      "application/vnd.jupyter.widget-view+json": {
       "model_id": "645f085018114345a16abaeed8efcbc8",
       "version_major": 2,
       "version_minor": 0
      },
      "text/plain": [
       "Skeletonizing:   0%|          | 0/106 [00:00<?, ?it/s]"
      ]
     },
     "metadata": {},
     "output_type": "display_data"
    },
    {
     "data": {
      "application/vnd.jupyter.widget-view+json": {
       "model_id": "da78517559d34772918696fecd72d31c",
       "version_major": 2,
       "version_minor": 0
      },
      "text/plain": [
       "Skeletonizing:   0%|          | 0/210 [00:00<?, ?it/s]"
      ]
     },
     "metadata": {},
     "output_type": "display_data"
    },
    {
     "data": {
      "application/vnd.jupyter.widget-view+json": {
       "model_id": "91027ef0970d4cd99195862283b55278",
       "version_major": 2,
       "version_minor": 0
      },
      "text/plain": [
       "Skeletonizing:   0%|          | 0/380 [00:00<?, ?it/s]"
      ]
     },
     "metadata": {},
     "output_type": "display_data"
    },
    {
     "data": {
      "application/vnd.jupyter.widget-view+json": {
       "model_id": "e82049a3ad8c4be9919f39697e87f447",
       "version_major": 2,
       "version_minor": 0
      },
      "text/plain": [
       "Skeletonizing:   0%|          | 0/6108 [00:00<?, ?it/s]"
      ]
     },
     "metadata": {},
     "output_type": "display_data"
    },
    {
     "data": {
      "application/vnd.jupyter.widget-view+json": {
       "model_id": "a49d707c02004b67b6a41311298a4372",
       "version_major": 2,
       "version_minor": 0
      },
      "text/plain": [
       "Skeletonizing:   0%|          | 0/834 [00:00<?, ?it/s]"
      ]
     },
     "metadata": {},
     "output_type": "display_data"
    },
    {
     "data": {
      "application/vnd.jupyter.widget-view+json": {
       "model_id": "61b514ccb94f4591b90a136ec2882be3",
       "version_major": 2,
       "version_minor": 0
      },
      "text/plain": [
       "Skeletonizing:   0%|          | 0/29928 [00:00<?, ?it/s]"
      ]
     },
     "metadata": {},
     "output_type": "display_data"
    },
    {
     "data": {
      "application/vnd.jupyter.widget-view+json": {
       "model_id": "b390c2cbc74b48c6a7676a30f6ed527b",
       "version_major": 2,
       "version_minor": 0
      },
      "text/plain": [
       "Skeletonizing:   0%|          | 0/280 [00:00<?, ?it/s]"
      ]
     },
     "metadata": {},
     "output_type": "display_data"
    },
    {
     "data": {
      "application/vnd.jupyter.widget-view+json": {
       "model_id": "ea49f8f6e5d746ff847da384f19a1309",
       "version_major": 2,
       "version_minor": 0
      },
      "text/plain": [
       "Skeletonizing:   0%|          | 0/2834 [00:00<?, ?it/s]"
      ]
     },
     "metadata": {},
     "output_type": "display_data"
    },
    {
     "data": {
      "application/vnd.jupyter.widget-view+json": {
       "model_id": "e0bbce827d44422cb1cb04ad67ac355b",
       "version_major": 2,
       "version_minor": 0
      },
      "text/plain": [
       "Skeletonizing:   0%|          | 0/50674 [00:00<?, ?it/s]"
      ]
     },
     "metadata": {},
     "output_type": "display_data"
    },
    {
     "data": {
      "application/vnd.jupyter.widget-view+json": {
       "model_id": "801ca69c43db414c951e2ce65b45439d",
       "version_major": 2,
       "version_minor": 0
      },
      "text/plain": [
       "Skeletonizing:   0%|          | 0/44434 [00:00<?, ?it/s]"
      ]
     },
     "metadata": {},
     "output_type": "display_data"
    },
    {
     "data": {
      "application/vnd.jupyter.widget-view+json": {
       "model_id": "2844af0d463b44af9e18c1c256b27216",
       "version_major": 2,
       "version_minor": 0
      },
      "text/plain": [
       "Skeletonizing:   0%|          | 0/47772 [00:00<?, ?it/s]"
      ]
     },
     "metadata": {},
     "output_type": "display_data"
    },
    {
     "data": {
      "application/vnd.jupyter.widget-view+json": {
       "model_id": "9e12206e0c88464faeca97af48fdec1d",
       "version_major": 2,
       "version_minor": 0
      },
      "text/plain": [
       "Skeletonizing:   0%|          | 0/57884 [00:00<?, ?it/s]"
      ]
     },
     "metadata": {},
     "output_type": "display_data"
    },
    {
     "data": {
      "application/vnd.jupyter.widget-view+json": {
       "model_id": "a08c9ae26d5f42dd96b2a8ab14eb9f06",
       "version_major": 2,
       "version_minor": 0
      },
      "text/plain": [
       "Skeletonizing:   0%|          | 0/38460 [00:00<?, ?it/s]"
      ]
     },
     "metadata": {},
     "output_type": "display_data"
    },
    {
     "data": {
      "application/vnd.jupyter.widget-view+json": {
       "model_id": "b09e13b8f26c4cdaac9d79346585aeb3",
       "version_major": 2,
       "version_minor": 0
      },
      "text/plain": [
       "Skeletonizing:   0%|          | 0/530 [00:00<?, ?it/s]"
      ]
     },
     "metadata": {},
     "output_type": "display_data"
    },
    {
     "data": {
      "application/vnd.jupyter.widget-view+json": {
       "model_id": "9cdd8d4f8198401fa015592a862f4045",
       "version_major": 2,
       "version_minor": 0
      },
      "text/plain": [
       "Skeletonizing:   0%|          | 0/16 [00:00<?, ?it/s]"
      ]
     },
     "metadata": {},
     "output_type": "display_data"
    },
    {
     "data": {
      "application/vnd.jupyter.widget-view+json": {
       "model_id": "232e0ef0b11345c683405f58142981cb",
       "version_major": 2,
       "version_minor": 0
      },
      "text/plain": [
       "Skeletonizing:   0%|          | 0/22756 [00:00<?, ?it/s]"
      ]
     },
     "metadata": {},
     "output_type": "display_data"
    },
    {
     "data": {
      "application/vnd.jupyter.widget-view+json": {
       "model_id": "729811ff893d4a83b5250a2d82bc3f4d",
       "version_major": 2,
       "version_minor": 0
      },
      "text/plain": [
       "Skeletonizing:   0%|          | 0/17770 [00:00<?, ?it/s]"
      ]
     },
     "metadata": {},
     "output_type": "display_data"
    },
    {
     "data": {
      "application/vnd.jupyter.widget-view+json": {
       "model_id": "0bfb7e5222ef48b69b3295f6512952f0",
       "version_major": 2,
       "version_minor": 0
      },
      "text/plain": [
       "Skeletonizing:   0%|          | 0/20328 [00:00<?, ?it/s]"
      ]
     },
     "metadata": {},
     "output_type": "display_data"
    },
    {
     "data": {
      "application/vnd.jupyter.widget-view+json": {
       "model_id": "390248baef484bba87cda26d25497e3e",
       "version_major": 2,
       "version_minor": 0
      },
      "text/plain": [
       "Skeletonizing:   0%|          | 0/680 [00:00<?, ?it/s]"
      ]
     },
     "metadata": {},
     "output_type": "display_data"
    },
    {
     "data": {
      "application/vnd.jupyter.widget-view+json": {
       "model_id": "4aeabf5350d541578c2dcc31e275f8d6",
       "version_major": 2,
       "version_minor": 0
      },
      "text/plain": [
       "Skeletonizing:   0%|          | 0/560 [00:00<?, ?it/s]"
      ]
     },
     "metadata": {},
     "output_type": "display_data"
    },
    {
     "data": {
      "application/vnd.jupyter.widget-view+json": {
       "model_id": "35d3b1643eef463892219d088e464ec2",
       "version_major": 2,
       "version_minor": 0
      },
      "text/plain": [
       "Skeletonizing:   0%|          | 0/61978 [00:00<?, ?it/s]"
      ]
     },
     "metadata": {},
     "output_type": "display_data"
    },
    {
     "data": {
      "application/vnd.jupyter.widget-view+json": {
       "model_id": "d447bbc53d40442ebd5f20386c10b576",
       "version_major": 2,
       "version_minor": 0
      },
      "text/plain": [
       "Skeletonizing:   0%|          | 0/19384 [00:00<?, ?it/s]"
      ]
     },
     "metadata": {},
     "output_type": "display_data"
    },
    {
     "data": {
      "application/vnd.jupyter.widget-view+json": {
       "model_id": "0c669d853c304d4eb9c72e29c06dab16",
       "version_major": 2,
       "version_minor": 0
      },
      "text/plain": [
       "Skeletonizing:   0%|          | 0/5352 [00:00<?, ?it/s]"
      ]
     },
     "metadata": {},
     "output_type": "display_data"
    },
    {
     "data": {
      "application/vnd.jupyter.widget-view+json": {
       "model_id": "3d95d46feef04c6087fe26d8a7f7398f",
       "version_major": 2,
       "version_minor": 0
      },
      "text/plain": [
       "Skeletonizing:   0%|          | 0/20624 [00:00<?, ?it/s]"
      ]
     },
     "metadata": {},
     "output_type": "display_data"
    },
    {
     "data": {
      "application/vnd.jupyter.widget-view+json": {
       "model_id": "9b1e505e5dc943e7aff2d92670bb79be",
       "version_major": 2,
       "version_minor": 0
      },
      "text/plain": [
       "Skeletonizing:   0%|          | 0/30834 [00:00<?, ?it/s]"
      ]
     },
     "metadata": {},
     "output_type": "display_data"
    },
    {
     "data": {
      "application/vnd.jupyter.widget-view+json": {
       "model_id": "eda5a80b2cf044c68f2fce5f4b789157",
       "version_major": 2,
       "version_minor": 0
      },
      "text/plain": [
       "Skeletonizing:   0%|          | 0/28922 [00:00<?, ?it/s]"
      ]
     },
     "metadata": {},
     "output_type": "display_data"
    },
    {
     "data": {
      "application/vnd.jupyter.widget-view+json": {
       "model_id": "9e4b7715531640a08203eb59e3792d8f",
       "version_major": 2,
       "version_minor": 0
      },
      "text/plain": [
       "Skeletonizing:   0%|          | 0/42072 [00:00<?, ?it/s]"
      ]
     },
     "metadata": {},
     "output_type": "display_data"
    },
    {
     "data": {
      "application/vnd.jupyter.widget-view+json": {
       "model_id": "f742638d52474ac391d40b2319401f8c",
       "version_major": 2,
       "version_minor": 0
      },
      "text/plain": [
       "Skeletonizing:   0%|          | 0/598 [00:00<?, ?it/s]"
      ]
     },
     "metadata": {},
     "output_type": "display_data"
    },
    {
     "data": {
      "application/vnd.jupyter.widget-view+json": {
       "model_id": "ec4e45ad0bb24c61997f0465bf2a4467",
       "version_major": 2,
       "version_minor": 0
      },
      "text/plain": [
       "Skeletonizing:   0%|          | 0/490 [00:00<?, ?it/s]"
      ]
     },
     "metadata": {},
     "output_type": "display_data"
    },
    {
     "data": {
      "application/vnd.jupyter.widget-view+json": {
       "model_id": "7ed3788231f54496954a62a4d7d9c3d4",
       "version_major": 2,
       "version_minor": 0
      },
      "text/plain": [
       "Skeletonizing:   0%|          | 0/426 [00:00<?, ?it/s]"
      ]
     },
     "metadata": {},
     "output_type": "display_data"
    },
    {
     "data": {
      "application/vnd.jupyter.widget-view+json": {
       "model_id": "68e6c53fa4f44e2cbd70bce018275fda",
       "version_major": 2,
       "version_minor": 0
      },
      "text/plain": [
       "Skeletonizing:   0%|          | 0/690 [00:00<?, ?it/s]"
      ]
     },
     "metadata": {},
     "output_type": "display_data"
    },
    {
     "data": {
      "application/vnd.jupyter.widget-view+json": {
       "model_id": "55365c75b1bd404498d6124283225462",
       "version_major": 2,
       "version_minor": 0
      },
      "text/plain": [
       "Skeletonizing:   0%|          | 0/990 [00:00<?, ?it/s]"
      ]
     },
     "metadata": {},
     "output_type": "display_data"
    },
    {
     "data": {
      "application/vnd.jupyter.widget-view+json": {
       "model_id": "254fd68facde472bb9f51bb9088cacd8",
       "version_major": 2,
       "version_minor": 0
      },
      "text/plain": [
       "Skeletonizing:   0%|          | 0/232 [00:00<?, ?it/s]"
      ]
     },
     "metadata": {},
     "output_type": "display_data"
    },
    {
     "data": {
      "application/vnd.jupyter.widget-view+json": {
       "model_id": "28378645b853401fb7ecbe7658f050e7",
       "version_major": 2,
       "version_minor": 0
      },
      "text/plain": [
       "Skeletonizing:   0%|          | 0/51078 [00:00<?, ?it/s]"
      ]
     },
     "metadata": {},
     "output_type": "display_data"
    },
    {
     "data": {
      "application/vnd.jupyter.widget-view+json": {
       "model_id": "267ddf86d15c40ff8e81c8853481c0d0",
       "version_major": 2,
       "version_minor": 0
      },
      "text/plain": [
       "Skeletonizing:   0%|          | 0/25482 [00:00<?, ?it/s]"
      ]
     },
     "metadata": {},
     "output_type": "display_data"
    },
    {
     "data": {
      "application/vnd.jupyter.widget-view+json": {
       "model_id": "208e557de68642058aab16b525a38b89",
       "version_major": 2,
       "version_minor": 0
      },
      "text/plain": [
       "Skeletonizing:   0%|          | 0/118360 [00:00<?, ?it/s]"
      ]
     },
     "metadata": {},
     "output_type": "display_data"
    },
    {
     "data": {
      "application/vnd.jupyter.widget-view+json": {
       "model_id": "3d2d1d4940b74d7e80e46d79b1fff76a",
       "version_major": 2,
       "version_minor": 0
      },
      "text/plain": [
       "Skeletonizing:   0%|          | 0/63388 [00:00<?, ?it/s]"
      ]
     },
     "metadata": {},
     "output_type": "display_data"
    },
    {
     "data": {
      "application/vnd.jupyter.widget-view+json": {
       "model_id": "4b19ce409cbe41bfbd0e8da58191d91d",
       "version_major": 2,
       "version_minor": 0
      },
      "text/plain": [
       "Skeletonizing:   0%|          | 0/79738 [00:00<?, ?it/s]"
      ]
     },
     "metadata": {},
     "output_type": "display_data"
    },
    {
     "data": {
      "application/vnd.jupyter.widget-view+json": {
       "model_id": "b6f1dd76958d49c285c967c339e2eeb7",
       "version_major": 2,
       "version_minor": 0
      },
      "text/plain": [
       "Skeletonizing:   0%|          | 0/9502 [00:00<?, ?it/s]"
      ]
     },
     "metadata": {},
     "output_type": "display_data"
    },
    {
     "data": {
      "application/vnd.jupyter.widget-view+json": {
       "model_id": "790472744e0f4e2a97e8527b251b7e70",
       "version_major": 2,
       "version_minor": 0
      },
      "text/plain": [
       "Skeletonizing:   0%|          | 0/25072 [00:00<?, ?it/s]"
      ]
     },
     "metadata": {},
     "output_type": "display_data"
    },
    {
     "data": {
      "application/vnd.jupyter.widget-view+json": {
       "model_id": "5c5269407d664e1aba10ee652cecaeb2",
       "version_major": 2,
       "version_minor": 0
      },
      "text/plain": [
       "Skeletonizing:   0%|          | 0/1350 [00:00<?, ?it/s]"
      ]
     },
     "metadata": {},
     "output_type": "display_data"
    },
    {
     "data": {
      "application/vnd.jupyter.widget-view+json": {
       "model_id": "2d3a0ccb06184bb2bd283eb03a4361f3",
       "version_major": 2,
       "version_minor": 0
      },
      "text/plain": [
       "Skeletonizing:   0%|          | 0/33680 [00:00<?, ?it/s]"
      ]
     },
     "metadata": {},
     "output_type": "display_data"
    },
    {
     "data": {
      "application/vnd.jupyter.widget-view+json": {
       "model_id": "01304db6802a41e7b6ccf6a34fbcfa58",
       "version_major": 2,
       "version_minor": 0
      },
      "text/plain": [
       "Skeletonizing:   0%|          | 0/2096 [00:00<?, ?it/s]"
      ]
     },
     "metadata": {},
     "output_type": "display_data"
    },
    {
     "data": {
      "application/vnd.jupyter.widget-view+json": {
       "model_id": "ddb46a38601a454b83718065a31c1875",
       "version_major": 2,
       "version_minor": 0
      },
      "text/plain": [
       "Skeletonizing:   0%|          | 0/64850 [00:00<?, ?it/s]"
      ]
     },
     "metadata": {},
     "output_type": "display_data"
    },
    {
     "data": {
      "application/vnd.jupyter.widget-view+json": {
       "model_id": "92fd7ecca029400a9261daf3badb3030",
       "version_major": 2,
       "version_minor": 0
      },
      "text/plain": [
       "Skeletonizing:   0%|          | 0/336 [00:00<?, ?it/s]"
      ]
     },
     "metadata": {},
     "output_type": "display_data"
    },
    {
     "data": {
      "application/vnd.jupyter.widget-view+json": {
       "model_id": "9749e53e9f124548822a8cdd922f0ccb",
       "version_major": 2,
       "version_minor": 0
      },
      "text/plain": [
       "Skeletonizing:   0%|          | 0/68016 [00:00<?, ?it/s]"
      ]
     },
     "metadata": {},
     "output_type": "display_data"
    },
    {
     "data": {
      "application/vnd.jupyter.widget-view+json": {
       "model_id": "a6d306ef0a94446ebefd4a9fb1adfc08",
       "version_major": 2,
       "version_minor": 0
      },
      "text/plain": [
       "Skeletonizing:   0%|          | 0/8996 [00:00<?, ?it/s]"
      ]
     },
     "metadata": {},
     "output_type": "display_data"
    },
    {
     "data": {
      "application/vnd.jupyter.widget-view+json": {
       "model_id": "a9f4dae8d62f4d82b71b8681d560e890",
       "version_major": 2,
       "version_minor": 0
      },
      "text/plain": [
       "Skeletonizing:   0%|          | 0/12786 [00:00<?, ?it/s]"
      ]
     },
     "metadata": {},
     "output_type": "display_data"
    },
    {
     "data": {
      "application/vnd.jupyter.widget-view+json": {
       "model_id": "c9cec69d892c4504930e5b122380e4aa",
       "version_major": 2,
       "version_minor": 0
      },
      "text/plain": [
       "Skeletonizing:   0%|          | 0/45378 [00:00<?, ?it/s]"
      ]
     },
     "metadata": {},
     "output_type": "display_data"
    }
   ],
   "source": [
    "import skeletor as sk\n",
    "\n",
    "proof_skeletor_skels = dict()\n",
    "for id in proof_meshes:\n",
    "    mesh = proof_meshes[id]\n",
    "    mesh = sk.pre.fix_mesh(mesh, remove_disconnected=5, inplace=False)\n",
    "    skel = sk.skeletonize.by_wavefront(mesh, waves=1, step_size=1)\n",
    "    proof_skeletor_skels[id] = skel\n",
    "    del mesh\n",
    "    del skel"
   ]
  },
  {
   "cell_type": "code",
   "execution_count": 13,
   "metadata": {},
   "outputs": [],
   "source": [
    "meshes = dict()\n",
    "for obj_id in mesher.ids():\n",
    "  meshes[obj_id] = mesher.get(\n",
    "      obj_id, \n",
    "      normals=False, # whether to calculate normals or not\n",
    "\n",
    "      # tries to reduce triangles by this factor\n",
    "      # 0 disables simplification\n",
    "      reduction_factor=0, \n",
    "\n",
    "      # Max tolerable error in physical distance\n",
    "      # note: if max_error is not set, the max error\n",
    "      # will be set equivalent to one voxel along the \n",
    "      # smallest dimension.\n",
    "      max_error=8,\n",
    "      # whether meshes should be centered in the voxel\n",
    "      # on (0,0,0) [False] or (0.5,0.5,0.5) [True]\n",
    "      voxel_centered=False, \n",
    "    )\n",
    "  mesher.erase(obj_id) # delete high res mesh"
   ]
  },
  {
   "cell_type": "code",
   "execution_count": 14,
   "metadata": {},
   "outputs": [
    {
     "data": {
      "text/plain": [
       "dict_keys([3703648513, 3595279873, 2740798081, 3071324929, 995844737, 2695847553, 1614159617, 3108927361, 4266257025, 227864577, 671942913, 22909057, 536177537, 216910721, 428049025, 22918529, 22916737, 428047745, 995854721, 22909313, 3225796993, 3131400065, 230584321, 216918401, 245096193, 216905857, 3673933313, 295004417, 428048513, 22917505, 245100801, 241282305, 428047233, 1618142721, 2976548225, 3424646017, 22908289, 3405221249, 216913025, 1173769217, 428048257, 3510992129, 245105153, 1978282497, 216917121, 1978283009, 995843713, 174113537, 3545637633, 216907137, 3376752769, 1614161153, 4009269121, 2695847297, 1978279937, 3261520257, 22919809, 245096705, 174112769, 2740805761, 1173768705, 995845505, 3226191489, 3257735041, 174111745, 428044417, 3309538305, 3699187201, 3257721217, 2695843713, 22910081, 22919553, 219733505, 245106689, 22912129, 1978284033, 1978283265, 2740799105, 174114305, 3674070529, 3131483009, 1614160641, 3563050881, 174115073, 536175233, 22906753, 3405339777, 22907521, 3166046337, 1614160129, 241282817, 3257620865, 245110785, 245097217, 230575873, 2529038593, 230489345, 1614155265, 1978349057, 1614184705, 3304892033, 1978348801, 3226187905, 3186486657, 3163770241, 3226835841, 2114227585, 2880087297, 3166047361, 2695855489, 1444150657, 3176398465, 1978349569, 1444148353, 2114226817, 2732556161, 2919353345, 2695843201, 339276417, 281038849, 848382337, 339271041, 3262615937, 3389623681, 3329, 671937281, 848383617, 329231361, 13313, 1614184193, 1978357249, 232631553, 3257730433, 1978348289, 7681, 3257461633, 281390337, 3879993857, 3498568833, 1978358273, 3289984641, 3372112769, 3257717121, 573830657, 2740834433, 3396794625, 281050113, 3586200833, 251771137, 848386945, 3949747201, 2528807681, 535689089, 3847070977, 3384355841, 400399233, 3257528705, 848390785, 281041921, 2937517697, 3182240129, 1444115329, 209882881, 3163794817, 1978280449, 3382895489, 3081112705, 2695866497, 3403442561, 115969, 494068353, 4265304961, 1444150913, 848384129, 339272833, 3376651393, 3175027457, 2699910529, 22920321, 230596097, 3269348609, 3569025665, 241336065, 400398721, 3360171649, 536176001, 3198059905, 3163771521, 1614149377, 241333505, 245108481, 535684225, 3261446529, 4176990593, 339269505, 1444147841, 3163795585, 848382593, 245100289, 3376703361, 3188438785, 3264383105, 493829505, 848379265, 230489857, 3171025537, 232758273, 3790927105, 1614185473, 4609, 3305488641, 3305557889, 281052417, 3376716161, 535688833, 22909569, 3376667521, 4111870081, 241330689, 3226380929, 3761256065, 4008820353, 1444145537, 1620733825, 1444151425, 848375681, 12801, 2114226561, 339258753, 121732993, 3257736577, 3403394177, 3510284033, 535688065, 3257715329, 3257458305, 3429220225, 3950726913, 2740831361, 3230707713, 3376663937, 3093469697, 3507434241, 245036545, 3092877569, 2528802049, 15873, 241334273, 3163807617, 3225557889, 281047553, 2049, 3023231233, 331527937, 3163806593, 213050881, 333993985, 3163778945, 281053953, 3539449089, 281053697, 3303521665, 235350529, 281054465, 230506241, 4009410433, 4111899777, 3307999745, 241323521, 339152001, 848382081, 339270785, 4266111361, 3360152193, 230488833, 2740805249, 332305665, 1978355713, 3222381441, 331528961, 3182230401, 3186488961, 339149697, 671943169, 4266309761, 3163808385, 4233759233, 2755347713, 193148161, 136793217, 329233409, 3093438209, 230565121, 107777, 2732580737, 339270017, 3163818625, 337624577, 3376658561, 281395201, 3226835329, 3385537665, 241332225, 423442177, 281052929, 3277801601, 295088385, 1614153985, 3176903553, 174103553, 1620736385, 100609, 3573712897, 3262141569, 848389761, 329237505, 3724705281, 431848577, 3166015873, 3595976705, 1444153217, 2528808449, 3250634369, 3173979393, 3384352257, 400132737, 2695842433, 1444115585, 3162079617, 3372112257, 3679154433, 3163818369, 3332509185, 3839135873, 3225419649, 3403427457, 3163779457, 3225954433, 281044737, 2528808193, 3341057537, 3361461377, 281047041, 848235905, 3428831873, 4042124801, 1444147585, 3087361153, 400400257, 3257590657, 3498767105, 3756169217, 3226830209, 3904344193, 3353199361, 3502013313, 3257740417, 1978282753, 3376651905, 3586791553, 281036801, 3469420673, 230505217, 3389646977, 100353, 535685249, 3199764225, 3163792513, 1978358529, 337677313, 3163799681, 4051794305, 3257566337, 3230628865, 3025527425, 3595464705, 3163770497, 3163817601, 3165629825, 136941953, 400404865, 216912001, 3277539073, 4233022977, 671942145, 848388481, 281039617, 1444148609, 3393149569, 3429363841, 493826945, 3741570433, 2828050817, 3502099073, 3403397505, 281046529, 3225556865, 1620747649, 3278605057, 2695852417, 2879705345, 228244737, 3171903361, 1620748161, 3163639425, 400401793, 3225434497, 2740834945, 337683457, 339276161, 400394369, 3756439297, 1978348545, 174107649, 3880758273, 3347444609, 3257730945, 3118416385, 281048833, 339153537, 3262796929, 174104577, 3304855937, 1444149121, 1614152961, 3341206529, 274475521, 1978356737, 3262984321, 848380801, 3257590145, 3257728641, 3283380993, 848194433, 245105921, 1978339841, 3475645313, 3790920705, 400397185, 205760513, 2755218433, 3024866945, 281053441, 564163201, 14081, 329235457, 1614184961, 232610049, 182641025, 281042433, 848391297, 400133505, 281035777, 97793, 3163814273, 3403429249, 536175489, 3023032577, 4265724801, 3049089, 1444145793, 329232129, 3225512577, 848384385, 2695851649, 99841, 3257526145, 339276929, 8193, 493007489, 4176991105, 2803605505, 442456449, 3376709249, 3403396225, 535681921, 245110017, 535685761, 848379009, 339267713, 230501121, 281052161, 174105089, 1444149633, 2970860289, 1614153473, 111617, 281396993, 230456321, 3255810049, 241317377, 240624897, 3856281089, 3345959041, 2305, 329233921, 216912257, 339274881, 3309603585, 3095461761, 3264384641, 1537, 339269249, 3226183809, 339155073, 848194945, 1978357505, 1444149377, 216919681, 1614153217, 241316609, 3282438913, 848387969, 3990368129, 400402049, 3391777153, 4088966017, 1978356225, 4009334657, 3083699073, 1444153473, 232615425, 535682945, 3403397249, 98049, 2695844737, 22903937, 281398529, 1614148353, 3225445505, 3403453313, 1614154241, 101889, 3834937985, 535689601, 1978347777, 174109697, 3083699841, 3359938433, 3725180929, 3403401601, 535687297, 3592385537, 339271553, 3741148801, 3379770369, 3514766721, 232611585, 120895361, 339270529, 3264617345, 281394945, 339154305, 339272065, 1620744833, 1978283521, 281389313, 2695859329, 3746923009, 1620727681, 3656128641, 1614149121, 1444145281, 5889, 339271809, 241285889, 848383105, 174105601, 3257728897, 4205571329, 535686273, 2755389697, 3182239361, 3131420545, 671941377, 2947715841, 3084841473, 3225799809, 339263617, 3376745089, 3499321601, 3433171969, 3304952449, 2740835201, 848391809, 281394433, 3871548289, 3166046849, 3390133377, 281050625, 3499102465, 3403442049, 3303507841, 3391918465, 281040385, 2971061505, 6145, 339262081, 339150465, 182678657, 281051393, 3507192833, 232611329, 3163778177, 3312438145, 281053185, 1614184449, 848379521, 2529036545, 3666065793, 339260289, 1614185217, 339261569, 3132404865, 3931180545, 3163592833, 848391041, 281042177, 1614148865, 3262797185, 848193665, 339153793, 848375425, 671938817, 3225797249, 848385153, 97778305, 3823211521, 1614154497, 535687809, 3325211777, 281051137, 3088692097, 400405121, 4051547521, 3182233473, 3131414657, 1978338561, 400397441, 4193201537, 3350006657, 428053889, 1444146305, 216904577, 339267201, 1978355457, 281049601, 3382285185, 3591380481, 281049089, 281037825, 339275393, 329234433, 281049345, 281043713, 228158209, 245112833, 3376715905, 535688577, 22911105, 1620722817, 3920629121, 339262337, 2114227073, 1620749441, 1, 339155585, 339151745, 400395649, 1978349825, 3257590401, 848381057, 2528829185, 1978339329, 848374657, 281046017, 3312711553, 3459773825, 281042689, 3372156545, 3403435393, 2114227329, 174109185, 3083699329, 2528828673, 245104897, 1978338817, 95745, 174106625, 428058753, 848236673, 1444151169, 281051905, 535686017, 848193921, 535682177, 245108225, 3379834241, 99073, 339260801, 281045249, 848385921, 4052279425, 281040641, 3257700737, 2970385921, 3133204865, 3336764033, 1444147329, 1614152705, 281044993, 7508353, 281049857, 113409, 1978356481, 3403449985, 339274113, 281044481, 96513, 1978339585, 3673279745, 2997162369, 1978358785, 2802553089, 3396733697, 1978349313, 1614148609, 216921985, 1614155521])"
      ]
     },
     "execution_count": 14,
     "metadata": {},
     "output_type": "execute_result"
    }
   ],
   "source": [
    "meshes.keys()"
   ]
  },
  {
   "cell_type": "code",
   "execution_count": 15,
   "metadata": {},
   "outputs": [],
   "source": [
    "import trimesh\n",
    "\n",
    "trimeshes = dict()\n",
    "\n",
    "for mesh_key in meshes:\n",
    "    trimeshes[mesh_key] = trimesh.Trimesh(meshes[mesh_key].vertices, meshes[mesh_key].faces)"
   ]
  },
  {
   "cell_type": "code",
   "execution_count": null,
   "metadata": {},
   "outputs": [],
   "source": []
  },
  {
   "cell_type": "code",
   "execution_count": 16,
   "metadata": {},
   "outputs": [],
   "source": [
    "def compute_mesh_lut(\n",
    "    meshes, node_position, anisotropy=(4, 4, 40), data_type=np.uint32\n",
    "):\n",
    "    \"\"\"\n",
    "    \"\"\"\n",
    "\n",
    "    scaling_factor = (1/anisotropy[0], 1/anisotropy[1], 1/anisotropy[2])\n",
    "\n",
    "    node_lut = np.zeros(node_position.shape[0], dtype=data_type)\n",
    "    for mesh_id in meshes:\n",
    "        mesh = meshes[mesh_id]\n",
    "        mesh.apply_scale(scaling_factor)\n",
    "\n",
    "        contains = mesh.contains(node_position)\n",
    "        node_lut[contains] = mesh_id\n",
    "\n",
    "    return node_lut"
   ]
  },
  {
   "cell_type": "code",
   "execution_count": 17,
   "metadata": {},
   "outputs": [],
   "source": [
    "from em_erl.erl import skel_to_erlgraph\n",
    "from em_erl.eval import compute_erl_score"
   ]
  },
  {
   "cell_type": "code",
   "execution_count": 18,
   "metadata": {},
   "outputs": [],
   "source": [
    "# Stolen from PytorchConnectomics/em_erl\n",
    "# https://github.com/PytorchConnectomics/em_erl/blob/main/em_erl/eval.py\n",
    "def compute_segment_lut(\n",
    "    segment, node_position, mask=None, chunk_num=1, data_type=np.uint32\n",
    "):\n",
    "    \"\"\"\n",
    "    The function `compute_segment_lut` is a low memory version of a lookup table\n",
    "    computation for node segments in a 3D volume.\n",
    "\n",
    "    :param node_position: A numpy array containing the coordinates of each node. The shape of the array\n",
    "    is (N, 3), where N is the number of nodes and each row represents the (z, y, x) coordinates of a\n",
    "    node\n",
    "    :param segment: either a 3D volume or a string representing the\n",
    "    name of a file containing segment data.\n",
    "    :param chunk_num: The parameter `chunk_num` is the number of chunks into which the volume is divided\n",
    "    for reading. It is used in the `read_vol` function to specify which chunk to read, defaults to 1\n",
    "    (optional)\n",
    "    :param data_type: The parameter `data_type` is the data type of the array used to store the node segment\n",
    "    lookup table. In this case, it is set to `np.uint32`, which means the array will store unsigned\n",
    "    32-bit integers\n",
    "    :return: a list of numpy arrays, where each array represents the node segment lookup table for a\n",
    "    specific segment.\n",
    "    \"\"\"\n",
    "    if not isinstance(segment, str):\n",
    "        # load the whole segment\n",
    "        node_lut = segment[\n",
    "            node_position[:, 0], node_position[:, 1], node_position[:, 2]\n",
    "        ]\n",
    "        mask_id = []\n",
    "        if mask is not None:\n",
    "            if isinstance(mask, str):\n",
    "                mask = read_vol(mask)\n",
    "            mask_id = segment[mask > 0]\n",
    "    else:\n",
    "        # read segment by chunk (when memory is limited)\n",
    "        assert \".h5\" in segment\n",
    "        node_lut = np.zeros(node_position.shape[0], data_type)\n",
    "        mask_id = [[]] * chunk_num\n",
    "        start_z = 0\n",
    "        for chunk_id in range(chunk_num):\n",
    "            seg = read_vol(segment, None, chunk_id, chunk_num)\n",
    "            last_z = start_z + seg.shape[0]\n",
    "            ind = (node_position[:, 0] >= start_z) * (node_position[:, 0] < last_z)\n",
    "            pts = node_position[ind]\n",
    "            node_lut[ind] = seg[pts[:, 0] - start_z, pts[:, 1], pts[:, 2]]\n",
    "            if mask is not None:\n",
    "                if isinstance(mask, str):\n",
    "                    mask_z = read_vol(mask, None, chunk_id, chunk_num)\n",
    "                else:\n",
    "                    mask_z = mask[start_z:last_z]\n",
    "                mask_id[chunk_id] = seg[mask_z > 0]\n",
    "            start_z = last_z\n",
    "        if mask is not None:\n",
    "            # remove irrelevant seg ids (not used by nodes)\n",
    "            node_lut_unique = np.unique(node_lut)\n",
    "            for chunk_id in range(chunk_num):\n",
    "                mask_id[chunk_id] = mask_id[chunk_id][\n",
    "                    np.in1d(mask_id[chunk_id], node_lut_unique)\n",
    "                ]\n",
    "        mask_id = np.concatenate(mask_id)\n",
    "    return node_lut, mask_id"
   ]
  },
  {
   "cell_type": "code",
   "execution_count": 19,
   "metadata": {},
   "outputs": [],
   "source": [
    "gt_graph = skel_to_erlgraph(gt_skels)\n",
    "proof_graph = skel_to_erlgraph(proof_skels)"
   ]
  },
  {
   "cell_type": "code",
   "execution_count": 20,
   "metadata": {},
   "outputs": [],
   "source": [
    "nodes_position = proof_graph.get_nodes_position((4, 4, 40))\n",
    "\n",
    "node_segment_lut, mask_segment_id = compute_segment_lut(gt_seg, nodes_position)"
   ]
  },
  {
   "cell_type": "code",
   "execution_count": 21,
   "metadata": {},
   "outputs": [
    {
     "data": {
      "text/plain": [
       "[]"
      ]
     },
     "execution_count": 21,
     "metadata": {},
     "output_type": "execute_result"
    }
   ],
   "source": [
    "mask_segment_id"
   ]
  },
  {
   "cell_type": "code",
   "execution_count": 29,
   "metadata": {},
   "outputs": [],
   "source": [
    "score = compute_erl_score(erl_graph=gt_graph,\n",
    "    node_segment_lut=node_segment_lut,\n",
    "    mask_segment_id=mask_segment_id,\n",
    "    merge_threshold=0,\n",
    "    verbose=True)"
   ]
  },
  {
   "cell_type": "code",
   "execution_count": 30,
   "metadata": {},
   "outputs": [
    {
     "name": "stdout",
     "output_type": "stream",
     "text": [
      "all skel\n",
      "ERL\t: 8675.36\n",
      "gt ERL\t: 12043.16\n",
      "#skel\t: 484\n",
      "-----------------\n"
     ]
    }
   ],
   "source": [
    "score.compute_erl(None)\n",
    "score.print_erl()"
   ]
  },
  {
   "cell_type": "code",
   "execution_count": 31,
   "metadata": {},
   "outputs": [
    {
     "data": {
      "text/plain": [
       "array([3403396225, 3403396225, 3403396225, ..., 3186486657, 3186486657,\n",
       "       3186486657], dtype=uint32)"
      ]
     },
     "execution_count": 31,
     "metadata": {},
     "output_type": "execute_result"
    }
   ],
   "source": [
    "node_segment_lut"
   ]
  },
  {
   "cell_type": "code",
   "execution_count": 22,
   "metadata": {},
   "outputs": [],
   "source": [
    "mesh_lut = compute_mesh_lut(trimeshes, nodes_position)"
   ]
  },
  {
   "cell_type": "code",
   "execution_count": 23,
   "metadata": {},
   "outputs": [
    {
     "data": {
      "text/plain": [
       "array([         0,          0,          0, ...,  671937281, 3186486657,\n",
       "       3186486657], dtype=uint32)"
      ]
     },
     "execution_count": 23,
     "metadata": {},
     "output_type": "execute_result"
    }
   ],
   "source": [
    "mesh_lut"
   ]
  },
  {
   "cell_type": "code",
   "execution_count": 24,
   "metadata": {},
   "outputs": [
    {
     "data": {
      "text/plain": [
       "array([[  0,   1,   0],\n",
       "       [  0,   4,   5],\n",
       "       [  0,   5,   5],\n",
       "       ...,\n",
       "       [251, 164, 458],\n",
       "       [252, 165, 458],\n",
       "       [253, 166, 458]])"
      ]
     },
     "execution_count": 24,
     "metadata": {},
     "output_type": "execute_result"
    }
   ],
   "source": [
    "nodes_position[mesh_lut != node_segment_lut]"
   ]
  },
  {
   "cell_type": "code",
   "execution_count": 27,
   "metadata": {},
   "outputs": [
    {
     "data": {
      "text/plain": [
       "array([3403396225, 3403396225, 3403396225, ..., 3186486657, 3186486657,\n",
       "       3186486657], dtype=uint32)"
      ]
     },
     "execution_count": 27,
     "metadata": {},
     "output_type": "execute_result"
    }
   ],
   "source": [
    "node_segment_lut[mesh_lut != node_segment_lut]"
   ]
  },
  {
   "cell_type": "code",
   "execution_count": 30,
   "metadata": {},
   "outputs": [],
   "source": [
    "uniques, counts = np.unique(mesh_lut[mesh_lut != node_segment_lut], return_counts=True)"
   ]
  },
  {
   "cell_type": "code",
   "execution_count": 35,
   "metadata": {},
   "outputs": [
    {
     "data": {
      "text/plain": [
       "array([ 295004417,  216910721,  216912257,  230489857, 3225797249,\n",
       "       3673933313,  241334273,  281040641,  281042433, 3403449985,\n",
       "       3131483009,  281052417,  281053697,  329234433, 3403442049,\n",
       "       3904344193,  339267201,  400397185, 3257620865,  536176001,\n",
       "       3088692097, 3257700737, 3384355841, 1444150657, 3379770369,\n",
       "       1614160641, 2970860289, 3376667521, 1978283265, 1978348801,\n",
       "       3360152193,  339270529, 3990368129, 3304855937,       1537,\n",
       "        174109185,   22909569,  174106625,     111617,  174115073,\n",
       "           107777,  182641025,  174109697,       2305,  281042689,\n",
       "        281053441, 2919353345, 3376709249,  120895361, 3163806593,\n",
       "       3403429249, 3403396225,  281042177, 3257590145, 3403394177,\n",
       "       1978348545, 3372112257,  848383617,  995854721, 3390133377,\n",
       "       1444149121,       7681, 1614148865, 3376663937, 4205571329,\n",
       "        423442177,  281035777, 4009269121,  245106689, 3499102465,\n",
       "       2695852417, 3303521665,  232611329,  232611585, 3132404865,\n",
       "       3225796993,  241282305,  232758273, 2699910529, 3095461761,\n",
       "        339261569, 1978355457,  232631553, 3283380993,  337683457,\n",
       "       3173979393, 3257728641, 3175027457,  174112769, 3118416385,\n",
       "       3257721217,  332305665,  241333505, 2529036545,  245096193,\n",
       "        281041921,  245036545,  281049089, 1444153473, 2970385921,\n",
       "       3341206529, 3498767105, 3225556865, 1614149121, 3879993857,\n",
       "       2997162369, 1978280449, 3163792513, 1614154497, 1614149377,\n",
       "       1614155265, 3880758273,  848390785,  848385153, 1620727681,\n",
       "       3871548289,  274475521,   22909057,  281038849, 2528808449,\n",
       "       2529038593,  281049857, 2528807681, 3222381441,  281390337,\n",
       "       2114227329, 3359938433,  671937281,  121732993, 3403442561,\n",
       "       2695843713, 3162079617, 3163592833, 3396794625, 3225799809,\n",
       "       3396733697,  331527937, 3163818625, 3353199361, 2947715841,\n",
       "       3325211777, 3108927361, 1614184193,      97793, 3847070977,\n",
       "       3823211521, 3163779457, 3595464705,   22912129, 4051547521,\n",
       "       3226191489, 3459773825, 3403453313, 4009410433, 3303507841,\n",
       "       3163770497,  174114305, 3569025665, 3255810049,  174105089,\n",
       "       2976548225,  329231361,  329233409, 1978349569, 4111899777,\n",
       "        848380801, 1444145793, 3384352257, 3376715905,  174107649,\n",
       "       3257735041, 2740834945, 3166047361,  442456449,  535688833,\n",
       "        281050113, 3666065793,  228158209, 1614148609,  535685761,\n",
       "       3376703361,  493829505, 3372112769, 3332509185, 4193201537,\n",
       "       3376651393,  136941953,  136793217, 3186488961, 3163807617,\n",
       "       3586791553,  241285889, 3226835329,  339274881,  205760513,\n",
       "       3391918465, 3345959041, 3307999745,  848382593, 1444145281,\n",
       "       3382895489, 3225445505,  230488833, 2695859329,     115969,\n",
       "       4176990593, 1614185217, 3262797185, 3257736577,  232615425,\n",
       "        848379521, 3171903361, 2740835201, 3257566337, 3674070529,\n",
       "       3264617345, 3277801601, 3360171649, 4088966017, 3433171969,\n",
       "       3699187201, 4266309761, 1614148353,  230565121,  232610049,\n",
       "       3024866945, 3163814273, 3083699329, 1620744833,  219733505,\n",
       "       3163794817, 3385537665,  193148161,    3049089, 2755389697,\n",
       "       3502013313, 3949747201,  281049345, 3199764225, 3163818369,\n",
       "       3507192833, 3591380481, 3163778945, 3746923009, 3261520257,\n",
       "       3262615937, 3081112705, 2695842433, 3163799681, 3257526145,\n",
       "       1978347777, 3264383105,  241282817,  213050881, 2971061505,\n",
       "       1978357249,  339270785, 2740805249, 1620733825, 3084841473,\n",
       "       3257740417, 3361461377, 2740799105, 3931180545, 4233759233,\n",
       "       3573712897, 3350006657,  230489345, 3656128641, 3595976705,\n",
       "       3429220225, 3403427457, 4008820353,  536175489,   22916737,\n",
       "        339271809, 1620722817,   22910081, 3502099073, 4042124801,\n",
       "       3257458305, 1614152705, 3389623681, 3347444609, 4266111361,\n",
       "       3182233473, 3790927105, 3257730433,  281036801, 3093438209,\n",
       "       1978349825, 1444146305, 3182240129, 3023032577,  230505217,\n",
       "       3304892033, 3165629825, 3539449089, 3262984321, 1173769217,\n",
       "       3163639425, 3382285185, 3741148801, 3679154433, 3092877569,\n",
       "       3176903553,  228244737, 3741570433, 3166046849, 3469420673,\n",
       "       1618142721, 4009334657,  241336065,  235350529,  251771137,\n",
       "       4265724801,      15873, 3586200833, 2695844737, 2695851649,\n",
       "       3093469697,  230456321, 3309538305, 3379834241, 3257728897,\n",
       "       1978339841,  240624897,  493007489, 3023231233, 3225557889,\n",
       "       3475645313, 3230628865, 2732556161, 3309603585, 3278605057,\n",
       "       3856281089, 3163770241, 3163771521,  331528961, 3498568833,\n",
       "       3198059905, 3304952449,  241323521, 2695855489, 3226187905,\n",
       "       3376745089,  230596097, 3131420545, 3510284033, 3725180929,\n",
       "       1614154241, 3257730945, 3133204865, 3510992129,  209882881,\n",
       "       3166015873,  337624577, 3429363841,  182678657, 2755347713,\n",
       "       3336764033, 3257528705, 3257715329, 3163778177,  573830657,\n",
       "        230501121, 3289984641, 3756439297, 3834937985, 1620747649,\n",
       "       4111870081,  564163201, 3920629121, 4052279425, 3262796929,\n",
       "       3226830209, 3428831873, 3391777153, 2937517697,   97778305,\n",
       "        241317377, 1978357505, 3839135873, 3171025537, 4233022977,\n",
       "            14081, 1444149377, 4176991105, 3277539073, 3176398465,\n",
       "       2879705345, 3499321601, 3790920705,          0], dtype=uint32)"
      ]
     },
     "execution_count": 35,
     "metadata": {},
     "output_type": "execute_result"
    }
   ],
   "source": [
    "uniques[np.argsort(counts)]"
   ]
  },
  {
   "cell_type": "code",
   "execution_count": 36,
   "metadata": {},
   "outputs": [
    {
     "data": {
      "text/plain": [
       "TrackedArray([[ 68. , 236.5,  40. ],\n",
       "              [ 68. , 236. ,  40.5],\n",
       "              [ 68.5, 236. ,  40. ],\n",
       "              ...,\n",
       "              [  0.5,   1. ,   6. ],\n",
       "              [  0.5,   1. ,   5. ],\n",
       "              [  0.5,   1. ,   1. ]])"
      ]
     },
     "execution_count": 36,
     "metadata": {},
     "output_type": "execute_result"
    }
   ],
   "source": [
    "trimeshes[3403396225].vertices"
   ]
  },
  {
   "cell_type": "code",
   "execution_count": 63,
   "metadata": {},
   "outputs": [
    {
     "data": {
      "text/plain": [
       "array([False])"
      ]
     },
     "execution_count": 63,
     "metadata": {},
     "output_type": "execute_result"
    }
   ],
   "source": [
    "trimeshes[3403396225].contains(np.array([[0, 1, 0]]))"
   ]
  },
  {
   "cell_type": "code",
   "execution_count": 33,
   "metadata": {},
   "outputs": [
    {
     "data": {
      "text/plain": [
       "93051"
      ]
     },
     "execution_count": 33,
     "metadata": {},
     "output_type": "execute_result"
    }
   ],
   "source": [
    "(mesh_lut == node_segment_lut).sum()"
   ]
  },
  {
   "cell_type": "code",
   "execution_count": 64,
   "metadata": {},
   "outputs": [
    {
     "data": {
      "text/plain": [
       "0.790538718346926"
      ]
     },
     "execution_count": 64,
     "metadata": {},
     "output_type": "execute_result"
    }
   ],
   "source": [
    "(mesh_lut == node_segment_lut).sum()/mesh_lut.size"
   ]
  },
  {
   "cell_type": "code",
   "execution_count": 34,
   "metadata": {},
   "outputs": [
    {
     "name": "stdout",
     "output_type": "stream",
     "text": [
      "all skel\n",
      "ERL\t: 3.07\n",
      "gt ERL\t: 12043.16\n",
      "#skel\t: 484\n",
      "-----------------\n"
     ]
    }
   ],
   "source": [
    "score = compute_erl_score(erl_graph=gt_graph,\n",
    "    node_segment_lut=mesh_lut,\n",
    "    mask_segment_id=mask_segment_id,\n",
    "    merge_threshold=0,\n",
    "    verbose=True)\n",
    "\n",
    "score.compute_erl(None)\n",
    "score.print_erl()"
   ]
  },
  {
   "cell_type": "code",
   "execution_count": 90,
   "metadata": {},
   "outputs": [
    {
     "data": {
      "text/plain": [
       "array([864691135589335552, 864691135269639168, 864691133806684160,\n",
       "       864691136106568448, 864691136732677760, 864691135349709568,\n",
       "       864691135976860032, 864691135571476992, 864691135531898368,\n",
       "       864691136601801984, 864691132402843904, 864691135411893760,\n",
       "       864691135539138688, 864691134881786624, 864691135411358976,\n",
       "       864691135411497216, 864691135589381376, 864691135700706048,\n",
       "       864691135349710848, 864691135443660544, 864691135589368576,\n",
       "       864691136722192512, 864691134164295040, 864691135351569152,\n",
       "       864691135562606848, 864691136617699840, 864691136488414976,\n",
       "       864691136813212288, 864691135349746944, 864691135582673024,\n",
       "       864691135932862336, 864691135317353984, 864691135385703552,\n",
       "       864691135778324864, 864691133806688768, 864691136722238848,\n",
       "       864691136176307456, 864691135518448512, 864691132430975872,\n",
       "       864691135183101696, 864691135359918720, 864691135412775168,\n",
       "       864691134881791744, 864691135490795264, 864691135349739008,\n",
       "       864691136775995008, 864691134164294784, 864691135443465472,\n",
       "       864691135368172800, 864691135411496192, 864691135589381888,\n",
       "       864691136700640128, 864691136722188928, 864691135360966784,\n",
       "       864691135696931456, 864691134164221824, 864691136973914112,\n",
       "       864691135589336576, 864691134714975872, 864691135489447168,\n",
       "       864691135156325248, 864691136711412864, 864691133630089984,\n",
       "       864691135411384832, 864691136297809408, 864691136674054784,\n",
       "       864691136451664128, 864691135443397632, 864691135568224512,\n",
       "       864691135589333504, 864691134164296576, 864691135693373568,\n",
       "       864691134164296832, 864691133800087936, 864691133800088448,\n",
       "       864691135208971904, 864691133630084608, 864691136483955712,\n",
       "       864691133806667008, 864691136090283520, 864691134164295808,\n",
       "       864691133800088192, 864691135349717504, 864691135464544384,\n",
       "       864691135304355712, 864691135123457024, 864691135781404032,\n",
       "       864691135725388416, 864691134881781760, 864691135489460992,\n",
       "       864691135105292672, 864691135685041792, 864691135349747712,\n",
       "       864691132186037120, 864691135279377536, 864691135455287936,\n",
       "       864691135589392640, 864691135591279104, 864691136721531520,\n",
       "       864691135210806272, 864691136711407744, 864691135443679744,\n",
       "       864691135589366784, 864691134164222080, 864691135443675904,\n",
       "       864691135777319808, 864691134164222336, 864691136135686528,\n",
       "       864691132586333696, 864691135443668224, 864691135450556672,\n",
       "       864691136713664896, 864691135885126528, 864691132360043904,\n",
       "       864691135576072704, 864691135412130816, 864691134918520064,\n",
       "       864691136237486848, 864691135066026624, 864691134164222592,\n",
       "       864691132186041216, 864691135349745920, 864691132186050944,\n",
       "       864691135411736576, 864691135348018944, 864691132186052736,\n",
       "       864691135589374720, 864691132586338560, 864691135562684416,\n",
       "       864691135947195392, 864691136452249088, 864691132186055296,\n",
       "       864691133800088704, 864691135416568192, 864691136025075200,\n",
       "       864691133630085632, 864691135575563008, 864691135349731840,\n",
       "       864691135568834816, 864691133800092800, 864691136912755200,\n",
       "       864691136228064128, 864691135577857792, 864691132525201664,\n",
       "       864691135463740928, 864691132586341376, 864691136716257152,\n",
       "       864691136419698560, 864691133800093312, 864691132525210112,\n",
       "       864691134881782528, 864691132525210368, 864691135368169728,\n",
       "       864691135368178688, 864691134881784064, 864691135842067968,\n",
       "       864691135013990144, 864691133800093824, 864691136713517952,\n",
       "       864691132525211136, 864691133800093568, 864691135281401088,\n",
       "       864691135357842688, 864691135748990208, 864691135498377472,\n",
       "       864691132360054400, 864691135349757952, 864691135349578752,\n",
       "       864691134714747776, 864691135927509760, 864691133800123520,\n",
       "       864691135443669760, 864691133800123776, 864691135490831360,\n",
       "       864691135443529728, 864691133806675712, 864691133800124544,\n",
       "       864691136297839104, 864691132525209856, 864691135565709696,\n",
       "       864691136711395456, 864691132515171456, 864691135443529984,\n",
       "       864691136722224000, 864691136452050688, 864691135294866688,\n",
       "       864691136362929920, 864691136755382144, 864691132525215744,\n",
       "       864691133034313984, 864691134941157760, 864691132613983744,\n",
       "       864691136009150848, 864691132515172736, 864691135759652224,\n",
       "       864691136663585280, 864691135349757696, 864691136451244288,\n",
       "       864691135645713152, 864691133034318848, 864691135443667968,\n",
       "       864691135349709824, 864691133800124288, 864691135349756928,\n",
       "       864691134164277888, 864691135562655232, 864691133800124800,\n",
       "       864691134164278144, 864691133034318592, 864691136033010304,\n",
       "       864691136818583936, 864691133806662144, 864691136722223232,\n",
       "       864691133034320128, 864691134941329024, 864691135349532160,\n",
       "       864691135754964992, 864691136238218752, 864691136065933184,\n",
       "       864691133630090240, 864691133034322432, 864691133034323456,\n",
       "       864691135443670272, 864691135436573696, 864691135558052096,\n",
       "       864691135416647040, 864691133034324480, 864691135731576960,\n",
       "       864691137054737280, 864691134881790976, 864691135463478400,\n",
       "       864691132613988352, 864691135562655488, 864691135615159552,\n",
       "       864691135411736320, 864691135356964864, 864691135582733952,\n",
       "       864691134881798656, 864691134164278656, 864691134164279168,\n",
       "       864691135562648576, 864691135535945984, 864691134881783040,\n",
       "       864691136709151360, 864691135859872640, 864691133800099968,\n",
       "       864691133800100480, 864691135368179456, 864691132208848384,\n",
       "       864691135274631424, 864691132208848640, 864691133630090496,\n",
       "       864691135209170560, 864691135655360000, 864691135411739136,\n",
       "       864691135558051584, 864691136722189440, 864691134164287104,\n",
       "       864691136709064832, 864691134885849856, 864691135270780800,\n",
       "       864691135533383936, 864691135162487552, 864691132208849408,\n",
       "       864691136195349760, 864691135279409024, 864691132466976128,\n",
       "       864691132466978176, 864691135688038400, 864691135278816896,\n",
       "       864691135942378624, 864691134164287616, 864691135589389312,\n",
       "       864691135852005120, 864691132466981248, 864691134164287872,\n",
       "       864691132466985344, 864691135443505664, 864691134164289152,\n",
       "       864691132466992768, 864691135558095872, 864691135448736256,\n",
       "       864691132466993024, 864691132613998080, 864691135781916032,\n",
       "       864691135911120256, 864691135619111296, 864691132466993792,\n",
       "       864691132208851456, 864691136722240128, 864691133034330112,\n",
       "       864691135490891776, 864691135443674368, 864691133034330368,\n",
       "       864691135562603264, 864691135522703360, 864691134714977920,\n",
       "       864691133034331136, 864691135383999232, 864691136578684928,\n",
       "       864691136274905344, 864691135696223360, 864691135687952640,\n",
       "       864691135412774656, 864691135349718272, 864691136117119872,\n",
       "       864691136711490944, 864691135565773568, 864691136722240896,\n",
       "       864691135562642688, 864691135443640064, 864691133806673152,\n",
       "       864691132185940864, 864691135269638656, 864691135447459584,\n",
       "       864691135349753600, 864691134988492416, 864691132208858880,\n",
       "       864691136711502720, 864691134164297600, 864691133630092800,\n",
       "       864691135545877760, 864691136974736128, 864691134714768512,\n",
       "       864691135772730880, 864691134164219264, 864691135562692096,\n",
       "       864691135684508160, 864691135362842880, 864691136713518208,\n",
       "       864691135547400704, 864691135318344192, 864691136194759680,\n",
       "       864691135273300480, 864691136722230144, 864691136617848576,\n",
       "       864691135443529472, 864691136237733632, 864691132185941376,\n",
       "       864691136711411840, 864691134926738432, 864691135448555264,\n",
       "       864691135495542912, 864691136663547648, 864691135498650880,\n",
       "       864691135865093760, 864691135589340928, 864691134926773760,\n",
       "       864691134714768000, 864691133800087680, 864691135448923648,\n",
       "       864691135408320768, 864691134941287040, 864691132431039616,\n",
       "       864691135317422336, 864691135443654656, 864691135942108544,\n",
       "       864691134714747008, 864691136379140864, 864691135448736512,\n",
       "       864691136711482496, 864691135570295168, 864691135589336832,\n",
       "       864691135412769536, 864691133806686976, 864691136195208448,\n",
       "       864691132431044224, 864691133630087168, 864691135570291584,\n",
       "       864691135468378240, 864691134164219776, 864691136693957504,\n",
       "       864691135685260928, 864691135615303168, 864691132185953408,\n",
       "       864691133630087936, 864691135372428288, 864691132431045248,\n",
       "       864691135577716480, 864691136690789504, 864691136602639616,\n",
       "       864691136713516672, 864691136923363072, 864691135349718784,\n",
       "       864691133034133760, 864691135910644608, 864691136711471744,\n",
       "       864691135684706432, 864691133034134272, 864691136812435584,\n",
       "       864691135976866432, 864691135546110976, 864691132185955200,\n",
       "       864691135351986176, 864691136066697600, 864691135575586304,\n",
       "       864691135269638400, 864691136195273984, 864691136818590080,\n",
       "       864691136686667136, 864691136711362944, 864691132525089024,\n",
       "       864691133630088704, 864691136362930432, 864691135450323968,\n",
       "       864691132525089792, 864691135441749376, 864691136136666240,\n",
       "       864691135412123136, 864691135443468032, 864691132525091072,\n",
       "       864691132525091328, 864691135493939072, 864691135772140160,\n",
       "       864691135351986688, 864691136020877312, 864691135927088128,\n",
       "       864691135065644672, 864691134918495488, 864691136974733568,\n",
       "       864691135156799616, 864691136391510656, 864691135412127232,\n",
       "       864691135495477632, 864691136812434560, 864691133630088960,\n",
       "       864691133800092032, 864691135614771200, 864691136818531200,\n",
       "       864691134926774272, 864691133800092288, 864691134926744576,\n",
       "       864691135349734144, 864691132525092864, 864691136974974976,\n",
       "       864691135351985664, 864691135562591232, 864691135317359872,\n",
       "       864691132431052160, 864691136775911040, 864691135527145856,\n",
       "       864691134926774528, 864691135450322432, 864691135349734912,\n",
       "       864691135351955200, 864691136713522048, 864691135319144192,\n",
       "       864691135267052032, 864691135362337792, 864691135133655168,\n",
       "       864691134881794816, 864691132857876608, 864691135562590720,\n",
       "       864691134926745088, 864691136904348800, 864691133359708032,\n",
       "       864691135661584640, 864691135157000832, 864691133630054912,\n",
       "       864691134300166144, 864691136042220416, 864691135860009856,\n",
       "       864691135475923968, 864691133806687488, 864691135591160576,\n",
       "       864691134881805824, 864691133804082048, 864691132721624576,\n",
       "       864691136711395968, 864691136722242688, 864691136418962304,\n",
       "       864691135693132160, 864691134300166656, 864691135491497216,\n",
       "       864691136711396480, 864691136713538176, 864691135546091520,\n",
       "       864691132857882240, 864691133359708544, 864691135317339392,\n",
       "       864691135443656448, 864691134989544832, 864691135372425984])"
      ]
     },
     "execution_count": 90,
     "metadata": {},
     "output_type": "execute_result"
    }
   ],
   "source": [
    "gt_graph.skeleton_id"
   ]
  },
  {
   "cell_type": "code",
   "execution_count": 83,
   "metadata": {},
   "outputs": [],
   "source": [
    "score = compute_erl_score(erl_graph=gt_graph,\n",
    "    node_segment_lut=mesh_lut,\n",
    "    mask_segment_id=mask_segment_id,\n",
    "    merge_threshold=0,\n",
    "    verbose=True)"
   ]
  },
  {
   "cell_type": "code",
   "execution_count": 84,
   "metadata": {},
   "outputs": [
    {
     "name": "stdout",
     "output_type": "stream",
     "text": [
      "all skel\n",
      "ERL\t: 3.19\n",
      "gt ERL\t: 10822.92\n",
      "#skel\t: 483\n",
      "-----------------\n"
     ]
    }
   ],
   "source": [
    "score.compute_erl(None)\n",
    "score.print_erl()"
   ]
  },
  {
   "cell_type": "code",
   "execution_count": 14,
   "metadata": {},
   "outputs": [],
   "source": [
    "skeleton_segment, count = np.unique(\n",
    "        np.hstack([gt_graph.nodes[:, :1], node_segment_lut.reshape(-1, 1)]),\n",
    "        axis=0,\n",
    "        return_counts=True,\n",
    "    )"
   ]
  },
  {
   "cell_type": "code",
   "execution_count": 15,
   "metadata": {},
   "outputs": [],
   "source": [
    "segments, num_segment_skeletons = np.unique(\n",
    "        skeleton_segment[:, 1], return_counts=True\n",
    "    )"
   ]
  },
  {
   "cell_type": "code",
   "execution_count": 16,
   "metadata": {},
   "outputs": [],
   "source": [
    "merged_segments = segments[num_segment_skeletons > 1]\n",
    "merged_skeletons = np.unique(\n",
    "    skeleton_segment[np.isin(skeleton_segment[:, 1], merged_segments), 0]\n",
    ")"
   ]
  },
  {
   "cell_type": "code",
   "execution_count": 82,
   "metadata": {},
   "outputs": [
    {
     "data": {
      "text/plain": [
       "94"
      ]
     },
     "execution_count": 82,
     "metadata": {},
     "output_type": "execute_result"
    }
   ],
   "source": [
    "len(merged_segments)"
   ]
  },
  {
   "cell_type": "code",
   "execution_count": 63,
   "metadata": {},
   "outputs": [],
   "source": [
    "# Funkelab implementation\n",
    "\n",
    "\n",
    "merges = {}\n",
    "merging_segments = segments[num_segment_skeletons > 1]\n",
    "merging_segments_mask = np.isin(skeleton_segment[:, 1], merging_segments)\n",
    "merged_segments = skeleton_segment[:, 1][merging_segments_mask]\n",
    "\n",
    "merged_skeletons = skeleton_segment[:, 0][merging_segments_mask]\n",
    "\n",
    "for segment, skeleton in zip(merged_segments, merged_skeletons):\n",
    "    if segment not in merges:\n",
    "        merges[segment] = []\n",
    "    merges[segment].append(skeleton)"
   ]
  },
  {
   "cell_type": "code",
   "execution_count": 64,
   "metadata": {},
   "outputs": [
    {
     "data": {
      "text/plain": [
       "{864691135279377536: [94],\n",
       " 864691135455287936: [95, 96],\n",
       " 864691135589392640: [97, 98],\n",
       " 864691136721531520: [99, 100, 102],\n",
       " 864691135210806272: [101, 103],\n",
       " 864691136711407744: [104, 106],\n",
       " 864691135443679744: [105, 107],\n",
       " 864691135589366784: [108, 110],\n",
       " 864691135443675904: [109, 111, 112],\n",
       " 864691135777319808: [113, 114],\n",
       " 864691136135686528: [115, 116, 118],\n",
       " 864691135443668224: [117, 119],\n",
       " 864691135450556672: [120, 122, 124],\n",
       " 864691133630085120: [121, 123],\n",
       " 864691136713664896: [125, 127],\n",
       " 864691135885126528: [126, 129],\n",
       " 864691135576072704: [128, 130, 132],\n",
       " 864691135412130816: [131, 133],\n",
       " 864691136237486848: [134, 136],\n",
       " 864691135066026624: [135, 137, 138],\n",
       " 864691135349745920: [139, 140],\n",
       " 864691135411736576: [141, 142, 144],\n",
       " 864691135348018944: [143, 145, 146, 147],\n",
       " 864691135589374720: [148, 149, 150],\n",
       " 864691135947195392: [151, 152, 153, 154],\n",
       " 864691136452249088: [155, 157],\n",
       " 864691133800088704: [156, 158, 159],\n",
       " 864691135416568192: [160, 162],\n",
       " 864691133630085632: [161, 163, 164],\n",
       " 864691135575563008: [165, 166],\n",
       " 864691136228064128: [167, 168, 170],\n",
       " 864691135577857792: [169, 171, 172, 173, 175],\n",
       " 864691135463740928: [174, 176, 177],\n",
       " 864691136716257152: [178, 179, 181],\n",
       " 864691136419698560: [180, 183],\n",
       " 864691132525210368: [182, 184, 185],\n",
       " 864691135368178688: [186, 187, 189],\n",
       " 864691134881784064: [188, 190, 191, 192],\n",
       " 864691135842067968: [193, 195],\n",
       " 864691135013990144: [194, 196],\n",
       " 864691136713517952: [197, 198, 200],\n",
       " 864691135281401088: [199, 201, 202, 203],\n",
       " 864691135357842688: [204, 205],\n",
       " 864691135498377472: [206, 207, 209],\n",
       " 864691135349578752: [208, 210, 211, 212],\n",
       " 864691135927509760: [213, 214, 216],\n",
       " 864691135443669760: [215, 217, 218],\n",
       " 864691135490831360: [219, 220, 222],\n",
       " 864691135443529728: [221, 224],\n",
       " 864691133800124544: [223, 225, 226],\n",
       " 864691136297839104: [227, 229],\n",
       " 864691135565709696: [228, 230, 231],\n",
       " 864691136711395456: [232, 234],\n",
       " 864691135443529984: [233, 235, 236],\n",
       " 864691136722224000: [237, 239],\n",
       " 864691136452050688: [238, 241],\n",
       " 864691136362929920: [240, 382, 383],\n",
       " 864691136755382144: [384, 386],\n",
       " 864691134941157760: [385, 387]}"
      ]
     },
     "execution_count": 64,
     "metadata": {},
     "output_type": "execute_result"
    }
   ],
   "source": [
    "merges"
   ]
  },
  {
   "cell_type": "code",
   "execution_count": 65,
   "metadata": {},
   "outputs": [],
   "source": [
    "skeletons = gt_skels[864691135589335552]"
   ]
  },
  {
   "cell_type": "code",
   "execution_count": 73,
   "metadata": {},
   "outputs": [
    {
     "data": {
      "text/plain": [
       "Skeleton(segid=864691135589335552, vertices=(shape=380, float32), edges=(shape=379, uint32), radius=(380, float32), vertex_types=(380, uint8), space='voxel' transform=[[1.0, 0.0, 0.0, 0.0], [0.0, 1.0, 0.0, 0.0], [0.0, 0.0, 1.0, 0.0]])"
      ]
     },
     "execution_count": 73,
     "metadata": {},
     "output_type": "execute_result"
    }
   ],
   "source": [
    "skeletons"
   ]
  },
  {
   "cell_type": "code",
   "execution_count": 66,
   "metadata": {},
   "outputs": [
    {
     "data": {
      "text/plain": [
       "array([[   0.,    4.,    0.],\n",
       "       [   0.,   16.,  200.],\n",
       "       [   0.,   20.,  200.],\n",
       "       ...,\n",
       "       [ 260.,  936., 1560.],\n",
       "       [ 264.,  936., 1560.],\n",
       "       [ 268.,  940., 1560.]], dtype=float32)"
      ]
     },
     "execution_count": 66,
     "metadata": {},
     "output_type": "execute_result"
    }
   ],
   "source": [
    "skeletons.vertices"
   ]
  },
  {
   "cell_type": "code",
   "execution_count": 71,
   "metadata": {},
   "outputs": [
    {
     "data": {
      "text/plain": [
       "array([[  0,  52],\n",
       "       [  1,   2],\n",
       "       [  1,  54],\n",
       "       [  2,  55],\n",
       "       [  3,  57],\n",
       "       [  4,  58],\n",
       "       [  5,  59],\n",
       "       [  6,  60],\n",
       "       [  7,  61],\n",
       "       [  8,   9],\n",
       "       [  8,  62],\n",
       "       [  9,  10],\n",
       "       [ 10,  11],\n",
       "       [ 11,  12],\n",
       "       [ 12,  13],\n",
       "       [ 13,  14],\n",
       "       [ 14,  15],\n",
       "       [ 15,  16],\n",
       "       [ 16,  17],\n",
       "       [ 17,  18],\n",
       "       [ 18,  19],\n",
       "       [ 19,  20],\n",
       "       [ 20,  21],\n",
       "       [ 21,  22],\n",
       "       [ 22,  23],\n",
       "       [ 23,  24],\n",
       "       [ 24,  25],\n",
       "       [ 25,  26],\n",
       "       [ 26,  27],\n",
       "       [ 27,  28],\n",
       "       [ 28,  29],\n",
       "       [ 29,  30],\n",
       "       [ 30,  31],\n",
       "       [ 31,  32],\n",
       "       [ 32,  33],\n",
       "       [ 33,  34],\n",
       "       [ 34,  35],\n",
       "       [ 35,  36],\n",
       "       [ 36,  37],\n",
       "       [ 37,  38],\n",
       "       [ 38,  39],\n",
       "       [ 39,  40],\n",
       "       [ 40,  41],\n",
       "       [ 41,  42],\n",
       "       [ 42,  43],\n",
       "       [ 43,  44],\n",
       "       [ 44,  45],\n",
       "       [ 45,  46],\n",
       "       [ 46,  47],\n",
       "       [ 47,  48],\n",
       "       [ 48,  49],\n",
       "       [ 49,  50],\n",
       "       [ 50,  51],\n",
       "       [ 51,  63],\n",
       "       [ 52,  53],\n",
       "       [ 52,  64],\n",
       "       [ 53,  66],\n",
       "       [ 54,  65],\n",
       "       [ 55,  56],\n",
       "       [ 55,  67],\n",
       "       [ 56,  68],\n",
       "       [ 57,  69],\n",
       "       [ 58,  70],\n",
       "       [ 59,  71],\n",
       "       [ 60,  72],\n",
       "       [ 61,  73],\n",
       "       [ 62,  74],\n",
       "       [ 63,  75],\n",
       "       [ 64,  76],\n",
       "       [ 65,  77],\n",
       "       [ 66,  78],\n",
       "       [ 67,  78],\n",
       "       [ 68,  79],\n",
       "       [ 69,  80],\n",
       "       [ 70,  81],\n",
       "       [ 71,  82],\n",
       "       [ 72,  83],\n",
       "       [ 73,  84],\n",
       "       [ 74,  85],\n",
       "       [ 76,  86],\n",
       "       [ 77,  87],\n",
       "       [ 79,  88],\n",
       "       [ 80,  88],\n",
       "       [ 81,  89],\n",
       "       [ 82,  90],\n",
       "       [ 83,  91],\n",
       "       [ 84,  92],\n",
       "       [ 85,  93],\n",
       "       [ 86,  94],\n",
       "       [ 88,  95],\n",
       "       [ 89,  96],\n",
       "       [ 90,  97],\n",
       "       [ 91,  98],\n",
       "       [ 92,  99],\n",
       "       [ 93, 100],\n",
       "       [ 94, 101],\n",
       "       [ 95, 102],\n",
       "       [ 96, 103],\n",
       "       [ 97, 104],\n",
       "       [ 98, 105],\n",
       "       [ 99, 106],\n",
       "       [100, 107],\n",
       "       [102, 108],\n",
       "       [103, 110],\n",
       "       [104, 111],\n",
       "       [105, 112],\n",
       "       [106, 113],\n",
       "       [107, 114],\n",
       "       [108, 109],\n",
       "       [109, 115],\n",
       "       [110, 116],\n",
       "       [111, 117],\n",
       "       [112, 118],\n",
       "       [113, 119],\n",
       "       [114, 120],\n",
       "       [115, 121],\n",
       "       [116, 122],\n",
       "       [117, 123],\n",
       "       [117, 124],\n",
       "       [118, 125],\n",
       "       [119, 126],\n",
       "       [119, 127],\n",
       "       [120, 128],\n",
       "       [121, 129],\n",
       "       [122, 130],\n",
       "       [123, 131],\n",
       "       [124, 132],\n",
       "       [125, 134],\n",
       "       [126, 136],\n",
       "       [127, 137],\n",
       "       [128, 138],\n",
       "       [129, 139],\n",
       "       [130, 140],\n",
       "       [131, 140],\n",
       "       [132, 133],\n",
       "       [133, 141],\n",
       "       [134, 142],\n",
       "       [135, 143],\n",
       "       [135, 144],\n",
       "       [136, 150],\n",
       "       [137, 151],\n",
       "       [138, 152],\n",
       "       [139, 153],\n",
       "       [140, 154],\n",
       "       [141, 155],\n",
       "       [142, 162],\n",
       "       [143, 163],\n",
       "       [144, 164],\n",
       "       [145, 146],\n",
       "       [145, 165],\n",
       "       [146, 147],\n",
       "       [147, 148],\n",
       "       [148, 149],\n",
       "       [149, 166],\n",
       "       [150, 169],\n",
       "       [151, 170],\n",
       "       [152, 178],\n",
       "       [153, 179],\n",
       "       [154, 180],\n",
       "       [155, 156],\n",
       "       [156, 181],\n",
       "       [157, 158],\n",
       "       [157, 183],\n",
       "       [158, 184],\n",
       "       [159, 160],\n",
       "       [159, 187],\n",
       "       [160, 161],\n",
       "       [161, 188],\n",
       "       [162, 194],\n",
       "       [163, 196],\n",
       "       [164, 165],\n",
       "       [166, 197],\n",
       "       [167, 168],\n",
       "       [167, 197],\n",
       "       [168, 198],\n",
       "       [169, 201],\n",
       "       [170, 171],\n",
       "       [171, 202],\n",
       "       [172, 173],\n",
       "       [172, 203],\n",
       "       [173, 174],\n",
       "       [174, 175],\n",
       "       [175, 204],\n",
       "       [176, 204],\n",
       "       [176, 205],\n",
       "       [177, 206],\n",
       "       [177, 207],\n",
       "       [178, 208],\n",
       "       [179, 209],\n",
       "       [180, 214],\n",
       "       [181, 182],\n",
       "       [182, 183],\n",
       "       [184, 215],\n",
       "       [185, 186],\n",
       "       [185, 216],\n",
       "       [186, 217],\n",
       "       [187, 218],\n",
       "       [188, 219],\n",
       "       [189, 190],\n",
       "       [189, 223],\n",
       "       [190, 224],\n",
       "       [191, 192],\n",
       "       [191, 227],\n",
       "       [192, 228],\n",
       "       [193, 194],\n",
       "       [193, 229],\n",
       "       [194, 195],\n",
       "       [195, 230],\n",
       "       [196, 232],\n",
       "       [198, 233],\n",
       "       [199, 200],\n",
       "       [199, 239],\n",
       "       [200, 201],\n",
       "       [202, 203],\n",
       "       [205, 206],\n",
       "       [207, 240],\n",
       "       [208, 241],\n",
       "       [209, 210],\n",
       "       [210, 242],\n",
       "       [211, 212],\n",
       "       [211, 243],\n",
       "       [212, 244],\n",
       "       [213, 245],\n",
       "       [214, 250],\n",
       "       [215, 216],\n",
       "       [217, 218],\n",
       "       [219, 220],\n",
       "       [220, 251],\n",
       "       [221, 222],\n",
       "       [221, 251],\n",
       "       [222, 223],\n",
       "       [224, 252],\n",
       "       [225, 226],\n",
       "       [225, 253],\n",
       "       [226, 227],\n",
       "       [228, 254],\n",
       "       [229, 255],\n",
       "       [230, 256],\n",
       "       [231, 257],\n",
       "       [231, 258],\n",
       "       [232, 261],\n",
       "       [233, 262],\n",
       "       [234, 264],\n",
       "       [234, 265],\n",
       "       [235, 236],\n",
       "       [235, 270],\n",
       "       [236, 237],\n",
       "       [237, 238],\n",
       "       [238, 239],\n",
       "       [240, 271],\n",
       "       [241, 271],\n",
       "       [242, 243],\n",
       "       [244, 245],\n",
       "       [244, 272],\n",
       "       [246, 247],\n",
       "       [246, 276],\n",
       "       [247, 248],\n",
       "       [248, 249],\n",
       "       [249, 277],\n",
       "       [250, 285],\n",
       "       [250, 286],\n",
       "       [252, 253],\n",
       "       [254, 255],\n",
       "       [256, 257],\n",
       "       [258, 259],\n",
       "       [259, 288],\n",
       "       [260, 261],\n",
       "       [260, 292],\n",
       "       [262, 293],\n",
       "       [263, 264],\n",
       "       [263, 295],\n",
       "       [265, 266],\n",
       "       [266, 267],\n",
       "       [267, 268],\n",
       "       [268, 269],\n",
       "       [269, 296],\n",
       "       [270, 300],\n",
       "       [271, 301],\n",
       "       [272, 273],\n",
       "       [273, 274],\n",
       "       [274, 275],\n",
       "       [275, 276],\n",
       "       [277, 302],\n",
       "       [278, 279],\n",
       "       [278, 302],\n",
       "       [279, 280],\n",
       "       [280, 281],\n",
       "       [281, 282],\n",
       "       [282, 283],\n",
       "       [283, 284],\n",
       "       [284, 285],\n",
       "       [286, 287],\n",
       "       [287, 303],\n",
       "       [288, 289],\n",
       "       [289, 290],\n",
       "       [290, 291],\n",
       "       [291, 304],\n",
       "       [292, 305],\n",
       "       [293, 306],\n",
       "       [294, 307],\n",
       "       [294, 308],\n",
       "       [295, 308],\n",
       "       [296, 297],\n",
       "       [297, 298],\n",
       "       [298, 299],\n",
       "       [299, 300],\n",
       "       [301, 309],\n",
       "       [303, 310],\n",
       "       [304, 305],\n",
       "       [306, 311],\n",
       "       [307, 312],\n",
       "       [309, 313],\n",
       "       [310, 314],\n",
       "       [311, 315],\n",
       "       [312, 316],\n",
       "       [313, 317],\n",
       "       [314, 318],\n",
       "       [315, 319],\n",
       "       [316, 322],\n",
       "       [317, 323],\n",
       "       [318, 324],\n",
       "       [319, 320],\n",
       "       [320, 321],\n",
       "       [321, 322],\n",
       "       [323, 325],\n",
       "       [324, 326],\n",
       "       [325, 327],\n",
       "       [326, 328],\n",
       "       [327, 329],\n",
       "       [328, 330],\n",
       "       [329, 331],\n",
       "       [330, 332],\n",
       "       [331, 333],\n",
       "       [332, 334],\n",
       "       [333, 335],\n",
       "       [334, 336],\n",
       "       [335, 337],\n",
       "       [337, 338],\n",
       "       [338, 339],\n",
       "       [339, 340],\n",
       "       [340, 341],\n",
       "       [341, 342],\n",
       "       [342, 343],\n",
       "       [343, 344],\n",
       "       [344, 345],\n",
       "       [345, 347],\n",
       "       [346, 347],\n",
       "       [346, 348],\n",
       "       [347, 349],\n",
       "       [349, 350],\n",
       "       [350, 351],\n",
       "       [351, 352],\n",
       "       [352, 353],\n",
       "       [353, 354],\n",
       "       [354, 355],\n",
       "       [355, 356],\n",
       "       [356, 357],\n",
       "       [357, 358],\n",
       "       [358, 359],\n",
       "       [359, 360],\n",
       "       [360, 361],\n",
       "       [361, 362],\n",
       "       [362, 363],\n",
       "       [363, 364],\n",
       "       [364, 365],\n",
       "       [365, 366],\n",
       "       [366, 367],\n",
       "       [367, 368],\n",
       "       [368, 369],\n",
       "       [369, 370],\n",
       "       [370, 371],\n",
       "       [371, 372],\n",
       "       [372, 373],\n",
       "       [373, 374],\n",
       "       [374, 375],\n",
       "       [375, 376],\n",
       "       [376, 377],\n",
       "       [377, 378],\n",
       "       [378, 379]], dtype=uint32)"
      ]
     },
     "execution_count": 71,
     "metadata": {},
     "output_type": "execute_result"
    }
   ],
   "source": [
    "skeletons.edges"
   ]
  },
  {
   "cell_type": "code",
   "execution_count": 68,
   "metadata": {},
   "outputs": [
    {
     "data": {
      "text/plain": [
       "864691135589335552"
      ]
     },
     "execution_count": 68,
     "metadata": {},
     "output_type": "execute_result"
    }
   ],
   "source": [
    "node_segment_lut[0]"
   ]
  },
  {
   "cell_type": "code",
   "execution_count": 69,
   "metadata": {},
   "outputs": [
    {
     "data": {
      "text/plain": [
       "864691135589335552"
      ]
     },
     "execution_count": 69,
     "metadata": {},
     "output_type": "execute_result"
    }
   ],
   "source": [
    "node_segment_lut[52]"
   ]
  },
  {
   "cell_type": "code",
   "execution_count": 72,
   "metadata": {},
   "outputs": [
    {
     "ename": "AttributeError",
     "evalue": "'Skeleton' object has no attribute 'nodes'",
     "output_type": "error",
     "traceback": [
      "\u001b[0;31m---------------------------------------------------------------------------\u001b[0m",
      "\u001b[0;31mAttributeError\u001b[0m                            Traceback (most recent call last)",
      "Cell \u001b[0;32mIn[72], line 3\u001b[0m\n\u001b[1;32m      1\u001b[0m \u001b[38;5;28;01mfor\u001b[39;00m u, v \u001b[38;5;129;01min\u001b[39;00m skeletons\u001b[38;5;241m.\u001b[39medges:\n\u001b[0;32m----> 3\u001b[0m     skeleton_id \u001b[38;5;241m=\u001b[39m \u001b[43mskeletons\u001b[49m\u001b[38;5;241;43m.\u001b[39;49m\u001b[43mnodes\u001b[49m[u][skeleton_id_attribute]\n\u001b[1;32m      4\u001b[0m     segment_u \u001b[38;5;241m=\u001b[39m node_segment_lut[u]\n\u001b[1;32m      5\u001b[0m     segment_v \u001b[38;5;241m=\u001b[39m node_segment_lut[v]\n",
      "\u001b[0;31mAttributeError\u001b[0m: 'Skeleton' object has no attribute 'nodes'"
     ]
    }
   ],
   "source": [
    "for u, v in skeletons.edges():\n",
    "\n",
    "    skeleton_id = skeletons.nodes[u][skeleton_id_attribute]\n",
    "    segment_u = node_segment_lut[u]\n",
    "    segment_v = node_segment_lut[v]"
   ]
  },
  {
   "cell_type": "code",
   "execution_count": null,
   "metadata": {},
   "outputs": [],
   "source": [
    "splits = {}\n",
    "n_splits = 0\n",
    "for skeleton_id in proof_skels:\n",
    "    \n",
    "    skeletons = proof_skels[skeleton_id]\n",
    "    \n",
    "    for u, v in skeletons.edges:\n",
    "        segment_u = node_segment_lut[u]\n",
    "        segment_v = node_segment_lut[v]\n",
    "\n",
    "    if segment_u != segment_v:\n",
    "        n_splits += 1\n",
    "\n",
    "        if skeleton_id not in splits:\n",
    "            splits[skeleton_id] = []\n",
    "        splits[skeleton_id].append((segment_u, segment_v))"
   ]
  },
  {
   "cell_type": "markdown",
   "metadata": {},
   "source": [
    "### Count Mergers and Splits, return number of problematic skeletons"
   ]
  },
  {
   "cell_type": "code",
   "execution_count": 83,
   "metadata": {},
   "outputs": [],
   "source": [
    "problem_segments = []\n",
    "n_merges = 0\n",
    "n_splits = 0\n",
    "\n",
    "\n",
    "# Mergers\n",
    "# TODO: why different number of mergers than funkelab implementation?\n",
    "skeleton_segment, count = np.unique(\n",
    "        np.hstack([gt_graph.nodes[:, :1], node_segment_lut.reshape(-1, 1)]),\n",
    "        axis=0,\n",
    "        return_counts=True,\n",
    "    )\n",
    "segments, num_segment_skeletons = np.unique(\n",
    "        skeleton_segment[:, 1], return_counts=True\n",
    "    )\n",
    "\n",
    "merged_segments = segments[num_segment_skeletons > 1]\n",
    "merging_segments_mask = np.isin(skeleton_segment[:, 1], merged_segments)\n",
    "\n",
    "merged_segments = skeleton_segment[:, 1][merging_segments_mask]\n",
    "\n",
    "merged_skeletons = np.unique(\n",
    "    skeleton_segment[np.isin(skeleton_segment[:, 1], merged_segments), 0]\n",
    ")\n",
    "\n",
    "n_mergers = len(merged_segments)\n",
    "\n",
    "problem_segments += list(merged_segments)\n",
    "\n",
    "\n",
    "\n",
    "# Splits TODO: probably inefficient\n",
    "for skeleton_id in proof_skels:\n",
    "    \n",
    "    skeletons = proof_skels[skeleton_id]\n",
    "    \n",
    "    for u, v in skeletons.edges:\n",
    "        segment_u = node_segment_lut[u]\n",
    "        segment_v = node_segment_lut[v]\n",
    "\n",
    "    if segment_u != segment_v:\n",
    "        n_splits += 1\n",
    "\n",
    "        if skeleton_id not in problem_segments:\n",
    "            problem_segments += [skeleton_id]\n"
   ]
  },
  {
   "cell_type": "code",
   "execution_count": 84,
   "metadata": {},
   "outputs": [
    {
     "data": {
      "text/plain": [
       "248"
      ]
     },
     "execution_count": 84,
     "metadata": {},
     "output_type": "execute_result"
    }
   ],
   "source": [
    "n_mergers"
   ]
  },
  {
   "cell_type": "code",
   "execution_count": 77,
   "metadata": {},
   "outputs": [
    {
     "data": {
      "text/plain": [
       "59"
      ]
     },
     "execution_count": 77,
     "metadata": {},
     "output_type": "execute_result"
    }
   ],
   "source": [
    "len(merges)"
   ]
  },
  {
   "cell_type": "code",
   "execution_count": 75,
   "metadata": {},
   "outputs": [
    {
     "data": {
      "text/plain": [
       "96"
      ]
     },
     "execution_count": 75,
     "metadata": {},
     "output_type": "execute_result"
    }
   ],
   "source": [
    "len(problem_segments)"
   ]
  },
  {
   "cell_type": "code",
   "execution_count": 77,
   "metadata": {},
   "outputs": [
    {
     "data": {
      "text/plain": [
       "(array([864691132515172736, 864691132525210368, 864691133034133760,\n",
       "        864691133034323456, 864691133034324480, 864691133630085120,\n",
       "        864691133630085632, 864691133800088704, 864691133800124288,\n",
       "        864691133800124544, 864691133806662144, 864691134164279168,\n",
       "        864691134881784064, 864691134881790976, 864691134941157760,\n",
       "        864691134941329024, 864691135013990144, 864691135066026624,\n",
       "        864691135210806272, 864691135279377536, 864691135281401088,\n",
       "        864691135348018944, 864691135349532160, 864691135349578752,\n",
       "        864691135349709824, 864691135349718784, 864691135349745920,\n",
       "        864691135349757696, 864691135356964864, 864691135357842688,\n",
       "        864691135368178688, 864691135411736576, 864691135412130816,\n",
       "        864691135416568192, 864691135443529728, 864691135443529984,\n",
       "        864691135443668224, 864691135443669760, 864691135443670272,\n",
       "        864691135443675904, 864691135443679744, 864691135450556672,\n",
       "        864691135455287936, 864691135463478400, 864691135463740928,\n",
       "        864691135490831360, 864691135498377472, 864691135535945984,\n",
       "        864691135558052096, 864691135562648576, 864691135562655232,\n",
       "        864691135562655488, 864691135565709696, 864691135575563008,\n",
       "        864691135576072704, 864691135577857792, 864691135582733952,\n",
       "        864691135589366784, 864691135589374720, 864691135589392640,\n",
       "        864691135615159552, 864691135645713152, 864691135754964992,\n",
       "        864691135777319808, 864691135842067968, 864691135885126528,\n",
       "        864691135910644608, 864691135927509760, 864691135947195392,\n",
       "        864691136009150848, 864691136033010304, 864691136135686528,\n",
       "        864691136228064128, 864691136237486848, 864691136238218752,\n",
       "        864691136297839104, 864691136362929920, 864691136419698560,\n",
       "        864691136452050688, 864691136452249088, 864691136663585280,\n",
       "        864691136711395456, 864691136711407744, 864691136711471744,\n",
       "        864691136713517952, 864691136713664896, 864691136716257152,\n",
       "        864691136721531520, 864691136722223232, 864691136722224000,\n",
       "        864691136755382144, 864691136818583936, 864691136923363072,\n",
       "        864691137054737280]),\n",
       " array([1, 1, 1, 1, 1, 1, 1, 1, 1, 1, 1, 1, 1, 1, 1, 1, 1, 1, 1, 1, 1, 1,\n",
       "        1, 1, 1, 1, 1, 1, 1, 1, 1, 1, 1, 1, 1, 1, 1, 1, 1, 1, 1, 1, 1, 1,\n",
       "        1, 1, 1, 1, 1, 1, 1, 1, 1, 1, 1, 1, 1, 1, 1, 1, 1, 1, 1, 1, 1, 1,\n",
       "        1, 1, 1, 1, 1, 1, 1, 1, 1, 1, 1, 1, 1, 1, 1, 1, 1, 1, 1, 1, 1, 1,\n",
       "        1, 1, 1, 1, 1, 1]))"
      ]
     },
     "execution_count": 77,
     "metadata": {},
     "output_type": "execute_result"
    }
   ],
   "source": [
    "np.unique(merged_segments, return_counts=True)"
   ]
  },
  {
   "cell_type": "code",
   "execution_count": 83,
   "metadata": {},
   "outputs": [
    {
     "data": {
      "text/plain": [
       "94"
      ]
     },
     "execution_count": 83,
     "metadata": {},
     "output_type": "execute_result"
    }
   ],
   "source": [
    "len(np.unique(merged_segments))"
   ]
  },
  {
   "cell_type": "code",
   "execution_count": 80,
   "metadata": {},
   "outputs": [
    {
     "data": {
      "text/plain": [
       "{864691135279377536: [94],\n",
       " 864691135455287936: [95, 96],\n",
       " 864691135589392640: [97, 98],\n",
       " 864691136721531520: [99, 100, 102],\n",
       " 864691135210806272: [101, 103],\n",
       " 864691136711407744: [104, 106],\n",
       " 864691135443679744: [105, 107],\n",
       " 864691135589366784: [108, 110],\n",
       " 864691135443675904: [109, 111, 112],\n",
       " 864691135777319808: [113, 114],\n",
       " 864691136135686528: [115, 116, 118],\n",
       " 864691135443668224: [117, 119],\n",
       " 864691135450556672: [120, 122, 124],\n",
       " 864691133630085120: [121, 123],\n",
       " 864691136713664896: [125, 127],\n",
       " 864691135885126528: [126, 129],\n",
       " 864691135576072704: [128, 130, 132],\n",
       " 864691135412130816: [131, 133],\n",
       " 864691136237486848: [134, 136],\n",
       " 864691135066026624: [135, 137, 138],\n",
       " 864691135349745920: [139, 140],\n",
       " 864691135411736576: [141, 142, 144],\n",
       " 864691135348018944: [143, 145, 146, 147],\n",
       " 864691135589374720: [148, 149, 150],\n",
       " 864691135947195392: [151, 152, 153, 154],\n",
       " 864691136452249088: [155, 157],\n",
       " 864691133800088704: [156, 158, 159],\n",
       " 864691135416568192: [160, 162],\n",
       " 864691133630085632: [161, 163, 164],\n",
       " 864691135575563008: [165, 166],\n",
       " 864691136228064128: [167, 168, 170],\n",
       " 864691135577857792: [169, 171, 172, 173, 175],\n",
       " 864691135463740928: [174, 176, 177],\n",
       " 864691136716257152: [178, 179, 181],\n",
       " 864691136419698560: [180, 183],\n",
       " 864691132525210368: [182, 184, 185],\n",
       " 864691135368178688: [186, 187, 189],\n",
       " 864691134881784064: [188, 190, 191, 192],\n",
       " 864691135842067968: [193, 195],\n",
       " 864691135013990144: [194, 196],\n",
       " 864691136713517952: [197, 198, 200],\n",
       " 864691135281401088: [199, 201, 202, 203],\n",
       " 864691135357842688: [204, 205],\n",
       " 864691135498377472: [206, 207, 209],\n",
       " 864691135349578752: [208, 210, 211, 212],\n",
       " 864691135927509760: [213, 214, 216],\n",
       " 864691135443669760: [215, 217, 218],\n",
       " 864691135490831360: [219, 220, 222],\n",
       " 864691135443529728: [221, 224],\n",
       " 864691133800124544: [223, 225, 226],\n",
       " 864691136297839104: [227, 229],\n",
       " 864691135565709696: [228, 230, 231],\n",
       " 864691136711395456: [232, 234],\n",
       " 864691135443529984: [233, 235, 236],\n",
       " 864691136722224000: [237, 239],\n",
       " 864691136452050688: [238, 241],\n",
       " 864691136362929920: [240, 382, 383],\n",
       " 864691136755382144: [384, 386],\n",
       " 864691134941157760: [385, 387]}"
      ]
     },
     "execution_count": 80,
     "metadata": {},
     "output_type": "execute_result"
    }
   ],
   "source": [
    "merges"
   ]
  },
  {
   "cell_type": "markdown",
   "metadata": {},
   "source": [
    "## Starting from Meshes"
   ]
  },
  {
   "cell_type": "code",
   "execution_count": 11,
   "metadata": {},
   "outputs": [],
   "source": [
    "from meshparty import trimesh_io, skeletonize\n",
    "from trimesh.exchange.off import load_off\n",
    "from trimesh import Trimesh"
   ]
  },
  {
   "cell_type": "code",
   "execution_count": 13,
   "metadata": {},
   "outputs": [],
   "source": [
    "with open('data/neurd/864691135526405723_dynamic.off', 'r') as f:\n",
    "    mesh_params = load_off(f)\n",
    "\n",
    "mesh_dynamic = Trimesh(vertices=mesh_params[\"vertices\"], faces=mesh_params[\"faces\"])"
   ]
  },
  {
   "cell_type": "code",
   "execution_count": 29,
   "metadata": {},
   "outputs": [
    {
     "data": {
      "text/plain": [
       "TrackedArray([[1765308, 1763160, 1765309],\n",
       "              [1765309, 1763160, 1764159],\n",
       "              [1758286, 1759354, 1759894],\n",
       "              ...,\n",
       "              [ 359930,  359235,  360186],\n",
       "              [ 359235,  359932,  360186],\n",
       "              [ 360472,  360186,  359932]])"
      ]
     },
     "execution_count": 29,
     "metadata": {},
     "output_type": "execute_result"
    }
   ],
   "source": [
    "mesh_dynamic.faces"
   ]
  },
  {
   "cell_type": "code",
   "execution_count": 31,
   "metadata": {},
   "outputs": [],
   "source": [
    "mesh_dynamic = trimesh_io.Mesh(vertices=mesh_dynamic.vertices, faces=mesh_dynamic.faces)"
   ]
  },
  {
   "cell_type": "code",
   "execution_count": 33,
   "metadata": {},
   "outputs": [
    {
     "name": "stderr",
     "output_type": "stream",
     "text": [
      "/home/nicolas/Desktop/projects/eon_systems/proofreading/.conda/lib/python3.11/site-packages/meshparty/skeletonize.py:622: RuntimeWarning: invalid value encountered in multiply\n",
      "  target = np.nanargmax(root_ds * valid)\n"
     ]
    }
   ],
   "source": [
    "skel_dynamic = skeletonize.skeletonize_mesh(mesh_dynamic)"
   ]
  },
  {
   "cell_type": "code",
   "execution_count": 34,
   "metadata": {},
   "outputs": [
    {
     "name": "stderr",
     "output_type": "stream",
     "text": [
      "/home/nicolas/Desktop/projects/eon_systems/proofreading/.conda/lib/python3.11/site-packages/meshparty/skeletonize.py:622: RuntimeWarning: invalid value encountered in multiply\n",
      "  target = np.nanargmax(root_ds * valid)\n"
     ]
    }
   ],
   "source": [
    "with open('data/neurd/864691135526405723_static.off', 'r') as f:\n",
    "    mesh_params = load_off(f)\n",
    "\n",
    "mesh_static = trimesh_io.Mesh(vertices=mesh_params[\"vertices\"], faces=mesh_params[\"faces\"])\n",
    "\n",
    "skel_static = skeletonize.skeletonize_mesh(mesh_static)"
   ]
  },
  {
   "cell_type": "code",
   "execution_count": 36,
   "metadata": {},
   "outputs": [
    {
     "data": {
      "text/plain": [
       "<meshparty.skeleton.Skeleton at 0x7f290385be50>"
      ]
     },
     "execution_count": 36,
     "metadata": {},
     "output_type": "execute_result"
    }
   ],
   "source": [
    "skel_static"
   ]
  },
  {
   "cell_type": "code",
   "execution_count": 35,
   "metadata": {},
   "outputs": [
    {
     "ename": "AttributeError",
     "evalue": "'Skeleton' object has no attribute 'get_nodes_position'",
     "output_type": "error",
     "traceback": [
      "\u001b[0;31m---------------------------------------------------------------------------\u001b[0m",
      "\u001b[0;31mAttributeError\u001b[0m                            Traceback (most recent call last)",
      "Cell \u001b[0;32mIn[35], line 1\u001b[0m\n\u001b[0;32m----> 1\u001b[0m nodes_position \u001b[38;5;241m=\u001b[39m \u001b[43mskel_static\u001b[49m\u001b[38;5;241;43m.\u001b[39;49m\u001b[43mget_nodes_position\u001b[49m((\u001b[38;5;241m4\u001b[39m,\u001b[38;5;241m4\u001b[39m,\u001b[38;5;241m40\u001b[39m))\n",
      "\u001b[0;31mAttributeError\u001b[0m: 'Skeleton' object has no attribute 'get_nodes_position'"
     ]
    }
   ],
   "source": [
    "nodes_position = skel_static.get_nodes_position((4,4,40))\n",
    "\n"
   ]
  },
  {
   "cell_type": "code",
   "execution_count": null,
   "metadata": {},
   "outputs": [],
   "source": [
    "node_segment_lut, mask_segment_id = compute_segment_lut(gt_seg, nodes_position)"
   ]
  }
 ],
 "metadata": {
  "kernelspec": {
   "display_name": "Python 3 (ipykernel)",
   "language": "python",
   "name": "python3"
  },
  "language_info": {
   "codemirror_mode": {
    "name": "ipython",
    "version": 3
   },
   "file_extension": ".py",
   "mimetype": "text/x-python",
   "name": "python",
   "nbconvert_exporter": "python",
   "pygments_lexer": "ipython3",
   "version": "3.11.5"
  }
 },
 "nbformat": 4,
 "nbformat_minor": 2
}
