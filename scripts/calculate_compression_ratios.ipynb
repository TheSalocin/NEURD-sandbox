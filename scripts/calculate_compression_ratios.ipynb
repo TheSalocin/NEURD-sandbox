{
 "cells": [
  {
   "cell_type": "markdown",
   "id": "0b30d9d7-6a69-4884-a7e5-7f3c8680da1d",
   "metadata": {},
   "source": [
    "# Calculate Compression Ratios\n",
    "\n",
    "This notebook aims to calculate differences in file sizes for segmentations and meshes of varying resolution for different data sizes"
   ]
  },
  {
   "cell_type": "markdown",
   "id": "0acf3d30-0254-4fb2-b1d9-2dcae256a788",
   "metadata": {},
   "source": [
    "## Imports and functions"
   ]
  },
  {
   "cell_type": "code",
   "execution_count": 37,
   "id": "7523e105-2bf6-4201-b9ce-c5d6eaa4c1f6",
   "metadata": {},
   "outputs": [],
   "source": [
    "from caveclient import CAVEclient\n",
    "import imageryclient as ic\n",
    "import numpy as np\n",
    "from zmesh import Mesher\n",
    "import os\n",
    "import shutil\n",
    "from tqdm import tqdm\n",
    "import pandas as pd\n"
   ]
  },
  {
   "cell_type": "code",
   "execution_count": 31,
   "id": "9e4b300b-84fa-4f7a-bdb4-5971da1990d1",
   "metadata": {},
   "outputs": [],
   "source": [
    "def get_size(start_path = '.'):\n",
    "    # Helper function to calulate total size of all files in a directory (including subdirectory) in bits\n",
    "    # parameters: start_path: str; directory to calulate size of\n",
    "    # returns: total_size: int; total size of directory in bytes\n",
    "    total_size = 0\n",
    "    for dirpath, dirnames, filenames in os.walk(start_path):\n",
    "        for f in filenames:\n",
    "            fp = os.path.join(dirpath, f)\n",
    "            # skip if it is symbolic link\n",
    "            if not os.path.islink(fp):\n",
    "                total_size += os.path.getsize(fp)\n",
    "\n",
    "    return total_size"
   ]
  },
  {
   "cell_type": "markdown",
   "id": "f26fc49b-d307-4062-9488-62d3c7a914d0",
   "metadata": {},
   "source": [
    "## Collect sizes"
   ]
  },
  {
   "cell_type": "code",
   "execution_count": 32,
   "id": "38b3bd06-1858-4a78-8d0c-b9f328ae3b13",
   "metadata": {},
   "outputs": [],
   "source": [
    "# initialise dataframe\n",
    "# BBox: size of volume\n",
    "# Segmentation: size of segmentation\n",
    "# Red_000: size of meshes with reduction factor 0\n",
    "# Red_010: size of meshes with reduction factor 10\n",
    "# Red_100: size of meshes with reduction factor 100\n",
    "sizes_base = pd.DataFrame(columns=[\"BBox\", \"Segmentation\", \"Red_000\", \"Red_010\", \"Red_100\"])"
   ]
  },
  {
   "cell_type": "code",
   "execution_count": 27,
   "id": "f16a5504-c641-45b2-afd8-02da7b9bee28",
   "metadata": {},
   "outputs": [],
   "source": [
    "# client setup\n",
    "client = CAVEclient('minnie65_public')\n",
    "\n",
    "img_client = ic.ImageryClient(client=client)"
   ]
  },
  {
   "cell_type": "code",
   "execution_count": 48,
   "id": "f4ed20b7-2425-4871-af0b-9d2a12bf03c5",
   "metadata": {},
   "outputs": [],
   "source": [
    "# volume to collect\n",
    "bbox_size = (1024*3, 1024*3, 128*3)"
   ]
  },
  {
   "cell_type": "code",
   "execution_count": null,
   "id": "c95bfe8f-2794-45bd-98a8-770b36853c50",
   "metadata": {},
   "outputs": [],
   "source": [
    "# collect segmentation volume centered on [240640, 207872, 21360]\n",
    "seg = img_client.segmentation_cutout([240640, 207872, 21360], bbox_size=bbox_size)"
   ]
  },
  {
   "cell_type": "code",
   "execution_count": null,
   "id": "50a02ea4-c116-498e-8d1b-0b2649413ec2",
   "metadata": {},
   "outputs": [],
   "source": [
    "# save basic segmentation\n",
    "os.makedirs(os.path.dirname(f\"data/segmentation/\"), exist_ok=True)\n",
    "with open(f\"data/segmentation/{bbox_size[0]}_{bbox_size[1]}_{bbox_size[2]}.npy\", \"wb\") as f:\n",
    "    np.save(f, seg)"
   ]
  },
  {
   "cell_type": "code",
   "execution_count": null,
   "id": "c67f7c91-e7c6-4386-a2c0-6d1a42933614",
   "metadata": {},
   "outputs": [],
   "source": [
    "# collect size of segmentation and save in dataframe, then free up disk space\n",
    "sizes_base.loc[2, \"BBox\"] = bbox_size\n",
    "sizes_base.loc[2, \"Segmentation\"] =  get_size(\"data/segmentation\")\n",
    "shutil.rmtree(\"data/segmentation/\")"
   ]
  },
  {
   "cell_type": "code",
   "execution_count": 46,
   "id": "f22e9a0a-67e8-4e4b-b585-eb7ab17eae67",
   "metadata": {},
   "outputs": [
    {
     "name": "stdout",
     "output_type": "stream",
     "text": [
      "meshing without compression\n"
     ]
    },
    {
     "name": "stderr",
     "output_type": "stream",
     "text": [
      "100%|█████████████████████████████████████████████████████████████████████████| 3303/3303 [04:59<00:00, 11.03it/s]\n"
     ]
    },
    {
     "name": "stdout",
     "output_type": "stream",
     "text": [
      "saving without compression\n"
     ]
    },
    {
     "name": "stderr",
     "output_type": "stream",
     "text": [
      "3303it [00:11, 288.10it/s] \n"
     ]
    },
    {
     "name": "stdout",
     "output_type": "stream",
     "text": [
      "meshing with reduction factor 10\n"
     ]
    },
    {
     "name": "stderr",
     "output_type": "stream",
     "text": [
      "100%|█████████████████████████████████████████████████████████████████████████| 3303/3303 [17:54<00:00,  3.08it/s]\n"
     ]
    },
    {
     "name": "stdout",
     "output_type": "stream",
     "text": [
      "saving with reduction factor 10\n"
     ]
    },
    {
     "name": "stderr",
     "output_type": "stream",
     "text": [
      "3303it [00:00, 8127.07it/s]\n"
     ]
    },
    {
     "name": "stdout",
     "output_type": "stream",
     "text": [
      "meshing with reduction factor 100\n"
     ]
    },
    {
     "name": "stderr",
     "output_type": "stream",
     "text": [
      "100%|█████████████████████████████████████████████████████████████████████████| 3303/3303 [18:53<00:00,  2.91it/s]\n"
     ]
    },
    {
     "name": "stdout",
     "output_type": "stream",
     "text": [
      "saving without reduction factor 100\n"
     ]
    },
    {
     "name": "stderr",
     "output_type": "stream",
     "text": [
      "3303it [00:00, 10666.31it/s]\n"
     ]
    }
   ],
   "source": [
    "# Get meshes\n",
    "mesher = Mesher((4, 4, 40))\n",
    "mesher.mesh(seg, close=False)\n",
    "\n",
    "print(\"meshing without compression\")\n",
    "meshes = []\n",
    "for obj_id in tqdm(mesher.ids()):\n",
    "  meshes.append(\n",
    "    mesher.get(\n",
    "      obj_id, \n",
    "      normals=False, # whether to calculate normals or not\n",
    "\n",
    "      # tries to reduce triangles by this factor\n",
    "      # 0 disables simplification\n",
    "      reduction_factor=0, \n",
    "\n",
    "      # Max tolerable error in physical distance\n",
    "      # note: if max_error is not set, the max error\n",
    "      # will be set equivalent to one voxel along the \n",
    "      # smallest dimension.\n",
    "      max_error=8,\n",
    "      # whether meshes should be centered in the voxel\n",
    "      # on (0,0,0) [False] or (0.5,0.5,0.5) [True]\n",
    "      voxel_centered=False, \n",
    "    )\n",
    "  )\n",
    "\n",
    "# make mesh dir\n",
    "os.makedirs(os.path.dirname(f\"data/meshes/red_000/{bbox_size[0]}_{bbox_size[1]}_{bbox_size[2]}/\"), exist_ok=True)\n",
    "\n",
    "print(\"saving without compression\")\n",
    "# save each mesh as precomputed file\n",
    "for i, mesh in tqdm(enumerate(meshes)):\n",
    "    with open(f\"data/meshes/red_000/{bbox_size[0]}_{bbox_size[1]}_{bbox_size[2]}/10001001:{i:03d}\", \"wb\") as f:\n",
    "        f.write(mesh.to_precomputed())\n",
    "\n",
    "# save data size and free disk space\n",
    "sizes_base.loc[2, \"Red_000\"] = get_size(\"data/meshes/red_000/\")\n",
    "shutil.rmtree('data/meshes/red_000')\n",
    "\n",
    "print(\"meshing with reduction factor 10\")\n",
    "meshes = []\n",
    "for obj_id in tqdm(mesher.ids()):\n",
    "  meshes.append(\n",
    "    mesher.get(\n",
    "      obj_id, \n",
    "      normals=False, # whether to calculate normals or not\n",
    "      reduction_factor=10,\n",
    "      max_error=8,\n",
    "      voxel_centered=False, \n",
    "    )\n",
    "  )\n",
    "\n",
    "os.makedirs(os.path.dirname(f\"data/meshes/red_010/{bbox_size[0]}_{bbox_size[1]}_{bbox_size[2]}/\"), exist_ok=True)\n",
    "\n",
    "print(\"saving with reduction factor 10\")\n",
    "for i, mesh in tqdm(enumerate(meshes)):\n",
    "    with open(f\"data/meshes/red_010/{bbox_size[0]}_{bbox_size[1]}_{bbox_size[2]}/10001001:{i:03d}\", \"wb\") as f:\n",
    "        f.write(mesh.to_precomputed())\n",
    "\n",
    "sizes_base.loc[2, \"Red_010\"] = get_size(\"data/meshes/red_010/\")\n",
    "shutil.rmtree('data/meshes/red_010')\n",
    "\n",
    "print(\"meshing with reduction factor 100\")\n",
    "meshes = []\n",
    "for obj_id in tqdm(mesher.ids()):\n",
    "  meshes.append(\n",
    "    mesher.get(\n",
    "      obj_id, \n",
    "      normals=False, # whether to calculate normals or not\n",
    "      reduction_factor=100, \n",
    "      max_error=8,\n",
    "      voxel_centered=False, \n",
    "    )\n",
    "  )\n",
    "  mesher.erase(obj_id) # delete high res mesh\n",
    "\n",
    "mesher.clear() # clear memory retained by mesher\n",
    "\n",
    "os.makedirs(os.path.dirname(f\"data/meshes/red_100/{bbox_size[0]}_{bbox_size[1]}_{bbox_size[2]}/\"), exist_ok=True)\n",
    "\n",
    "print(\"saving without reduction factor 100\")\n",
    "\n",
    "for i, mesh in tqdm(enumerate(meshes)):\n",
    "    with open(f\"data/meshes/red_100/{bbox_size[0]}_{bbox_size[1]}_{bbox_size[2]}/10001001:{i:03d}\", \"wb\") as f:\n",
    "        f.write(mesh.to_precomputed())\n",
    "\n",
    "sizes_base.loc[2, \"Red_100\"] = get_size(\"data/meshes/red_100/\")\n",
    "shutil.rmtree('data/meshes/red_100')"
   ]
  },
  {
   "cell_type": "code",
   "execution_count": 47,
   "id": "e33ed75f-f8ab-46f1-bd05-54f90a32f9b7",
   "metadata": {},
   "outputs": [
    {
     "data": {
      "text/html": [
       "<div>\n",
       "<style scoped>\n",
       "    .dataframe tbody tr th:only-of-type {\n",
       "        vertical-align: middle;\n",
       "    }\n",
       "\n",
       "    .dataframe tbody tr th {\n",
       "        vertical-align: top;\n",
       "    }\n",
       "\n",
       "    .dataframe thead th {\n",
       "        text-align: right;\n",
       "    }\n",
       "</style>\n",
       "<table border=\"1\" class=\"dataframe\">\n",
       "  <thead>\n",
       "    <tr style=\"text-align: right;\">\n",
       "      <th></th>\n",
       "      <th>BBox</th>\n",
       "      <th>Segmentation</th>\n",
       "      <th>Red_000</th>\n",
       "      <th>Red_010</th>\n",
       "      <th>Red_100</th>\n",
       "    </tr>\n",
       "  </thead>\n",
       "  <tbody>\n",
       "    <tr>\n",
       "      <th>0</th>\n",
       "      <td>(1024, 1024, 128)</td>\n",
       "      <td>268435584</td>\n",
       "      <td>403846696</td>\n",
       "      <td>41103496</td>\n",
       "      <td>26299684</td>\n",
       "    </tr>\n",
       "    <tr>\n",
       "      <th>1</th>\n",
       "      <td>(2048, 2048, 256)</td>\n",
       "      <td>2147483776</td>\n",
       "      <td>3350707824</td>\n",
       "      <td>308354340</td>\n",
       "      <td>173631540</td>\n",
       "    </tr>\n",
       "  </tbody>\n",
       "</table>\n",
       "</div>"
      ],
      "text/plain": [
       "                BBox Segmentation     Red_000    Red_010    Red_100\n",
       "0  (1024, 1024, 128)    268435584   403846696   41103496   26299684\n",
       "1  (2048, 2048, 256)   2147483776  3350707824  308354340  173631540"
      ]
     },
     "execution_count": 47,
     "metadata": {},
     "output_type": "execute_result"
    }
   ],
   "source": [
    "sizes_base"
   ]
  },
  {
   "cell_type": "code",
   "execution_count": null,
   "id": "0bbf8935-8a44-4a6e-a234-94acdb203732",
   "metadata": {},
   "outputs": [],
   "source": []
  }
 ],
 "metadata": {
  "kernelspec": {
   "display_name": "Python 3 (ipykernel)",
   "language": "python",
   "name": "python3"
  },
  "language_info": {
   "codemirror_mode": {
    "name": "ipython",
    "version": 3
   },
   "file_extension": ".py",
   "mimetype": "text/x-python",
   "name": "python",
   "nbconvert_exporter": "python",
   "pygments_lexer": "ipython3",
   "version": "3.8.0"
  }
 },
 "nbformat": 4,
 "nbformat_minor": 5
}
