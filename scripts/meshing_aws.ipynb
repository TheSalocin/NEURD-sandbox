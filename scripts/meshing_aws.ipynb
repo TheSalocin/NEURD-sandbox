{
 "cells": [
  {
   "cell_type": "code",
   "execution_count": 6,
   "id": "908682e9-5117-4792-90df-99ba15699936",
   "metadata": {},
   "outputs": [
    {
     "ename": "AttributeError",
     "evalue": "`np.float_` was removed in the NumPy 2.0 release. Use `np.float64` instead.",
     "output_type": "error",
     "traceback": [
      "\u001b[0;31m---------------------------------------------------------------------------\u001b[0m",
      "\u001b[0;31mAttributeError\u001b[0m                            Traceback (most recent call last)",
      "Cell \u001b[0;32mIn[6], line 1\u001b[0m\n\u001b[0;32m----> 1\u001b[0m \u001b[38;5;28;01mimport\u001b[39;00m \u001b[38;5;21;01mmesh_tools\u001b[39;00m\u001b[38;5;21;01m.\u001b[39;00m\u001b[38;5;21;01mtrimesh_utils\u001b[39;00m \u001b[38;5;28;01mas\u001b[39;00m \u001b[38;5;21;01mtu\u001b[39;00m\n\u001b[1;32m      2\u001b[0m \u001b[38;5;28;01mimport\u001b[39;00m \u001b[38;5;21;01mtrimesh\u001b[39;00m\n\u001b[1;32m      3\u001b[0m \u001b[38;5;28;01mfrom\u001b[39;00m \u001b[38;5;21;01mcloudvolume\u001b[39;00m \u001b[38;5;28;01mimport\u001b[39;00m CloudVolume\n",
      "File \u001b[0;32m~/mesh_tools/mesh_tools/trimesh_utils.py:17\u001b[0m\n\u001b[1;32m     15\u001b[0m \u001b[38;5;28;01mfrom\u001b[39;00m \u001b[38;5;21;01mtrimesh\u001b[39;00m\u001b[38;5;21;01m.\u001b[39;00m\u001b[38;5;21;01mgrouping\u001b[39;00m \u001b[38;5;28;01mimport\u001b[39;00m \u001b[38;5;241m*\u001b[39m\n\u001b[1;32m     16\u001b[0m \u001b[38;5;28;01mfrom\u001b[39;00m \u001b[38;5;21;01mtrimesh\u001b[39;00m\u001b[38;5;21;01m.\u001b[39;00m\u001b[38;5;21;01mgraph\u001b[39;00m \u001b[38;5;28;01mimport\u001b[39;00m \u001b[38;5;241m*\u001b[39m\n\u001b[0;32m---> 17\u001b[0m \u001b[38;5;28;01mfrom\u001b[39;00m \u001b[38;5;21;01mdatasci_tools\u001b[39;00m \u001b[38;5;28;01mimport\u001b[39;00m numpy_dep \u001b[38;5;28;01mas\u001b[39;00m np\n\u001b[1;32m     18\u001b[0m \u001b[38;5;28;01mimport\u001b[39;00m \u001b[38;5;21;01mopen3d\u001b[39;00m \u001b[38;5;28;01mas\u001b[39;00m \u001b[38;5;21;01mo3d\u001b[39;00m\n\u001b[1;32m     19\u001b[0m \u001b[38;5;28;01mimport\u001b[39;00m \u001b[38;5;21;01mpandas\u001b[39;00m \u001b[38;5;28;01mas\u001b[39;00m \u001b[38;5;21;01mpd\u001b[39;00m\n",
      "File \u001b[0;32m~/.local/lib/python3.10/site-packages/datasci_tools/numpy_dep.py:27\u001b[0m\n\u001b[1;32m     24\u001b[0m     \u001b[38;5;28;01mreturn\u001b[39;00m numpy\u001b[38;5;241m.\u001b[39mabs(\u001b[38;5;241m*\u001b[39margs,\u001b[38;5;241m*\u001b[39m\u001b[38;5;241m*\u001b[39mkwargs)\n\u001b[1;32m     26\u001b[0m \u001b[38;5;28mbool\u001b[39m \u001b[38;5;241m=\u001b[39m numpy\u001b[38;5;241m.\u001b[39mbool_\n\u001b[0;32m---> 27\u001b[0m \u001b[38;5;28mfloat\u001b[39m \u001b[38;5;241m=\u001b[39m \u001b[43mnumpy\u001b[49m\u001b[38;5;241;43m.\u001b[39;49m\u001b[43mfloat_\u001b[49m\n\u001b[1;32m     28\u001b[0m \u001b[38;5;66;03m# def bool(*args,**kwargs):\u001b[39;00m\n\u001b[1;32m     29\u001b[0m \u001b[38;5;66;03m#     return numpy.bool_(*args,**kwargs)\u001b[39;00m\n\u001b[1;32m     30\u001b[0m \n\u001b[1;32m     31\u001b[0m \u001b[38;5;66;03m# from numpy import int as _int\u001b[39;00m\n\u001b[1;32m     32\u001b[0m \u001b[38;5;66;03m# def int(*args,**kwargs):\u001b[39;00m\n\u001b[1;32m     33\u001b[0m \u001b[38;5;66;03m#     return _int(*args,**kwargs)\u001b[39;00m\n",
      "File \u001b[0;32m~/.local/lib/python3.10/site-packages/numpy/__init__.py:397\u001b[0m, in \u001b[0;36m__getattr__\u001b[0;34m(attr)\u001b[0m\n\u001b[1;32m    394\u001b[0m     \u001b[38;5;28;01mraise\u001b[39;00m \u001b[38;5;167;01mAttributeError\u001b[39;00m(__former_attrs__[attr])\n\u001b[1;32m    396\u001b[0m \u001b[38;5;28;01mif\u001b[39;00m attr \u001b[38;5;129;01min\u001b[39;00m __expired_attributes__:\n\u001b[0;32m--> 397\u001b[0m     \u001b[38;5;28;01mraise\u001b[39;00m \u001b[38;5;167;01mAttributeError\u001b[39;00m(\n\u001b[1;32m    398\u001b[0m         \u001b[38;5;124mf\u001b[39m\u001b[38;5;124m\"\u001b[39m\u001b[38;5;124m`np.\u001b[39m\u001b[38;5;132;01m{\u001b[39;00mattr\u001b[38;5;132;01m}\u001b[39;00m\u001b[38;5;124m` was removed in the NumPy 2.0 release. \u001b[39m\u001b[38;5;124m\"\u001b[39m\n\u001b[1;32m    399\u001b[0m         \u001b[38;5;124mf\u001b[39m\u001b[38;5;124m\"\u001b[39m\u001b[38;5;132;01m{\u001b[39;00m__expired_attributes__[attr]\u001b[38;5;132;01m}\u001b[39;00m\u001b[38;5;124m\"\u001b[39m\n\u001b[1;32m    400\u001b[0m     )\n\u001b[1;32m    402\u001b[0m \u001b[38;5;28;01mif\u001b[39;00m attr \u001b[38;5;241m==\u001b[39m \u001b[38;5;124m\"\u001b[39m\u001b[38;5;124mchararray\u001b[39m\u001b[38;5;124m\"\u001b[39m:\n\u001b[1;32m    403\u001b[0m     warnings\u001b[38;5;241m.\u001b[39mwarn(\n\u001b[1;32m    404\u001b[0m         \u001b[38;5;124m\"\u001b[39m\u001b[38;5;124m`np.chararray` is deprecated and will be removed from \u001b[39m\u001b[38;5;124m\"\u001b[39m\n\u001b[1;32m    405\u001b[0m         \u001b[38;5;124m\"\u001b[39m\u001b[38;5;124mthe main namespace in the future. Use an array with a string \u001b[39m\u001b[38;5;124m\"\u001b[39m\n\u001b[1;32m    406\u001b[0m         \u001b[38;5;124m\"\u001b[39m\u001b[38;5;124mor bytes dtype instead.\u001b[39m\u001b[38;5;124m\"\u001b[39m, \u001b[38;5;167;01mDeprecationWarning\u001b[39;00m, stacklevel\u001b[38;5;241m=\u001b[39m\u001b[38;5;241m2\u001b[39m)\n",
      "\u001b[0;31mAttributeError\u001b[0m: `np.float_` was removed in the NumPy 2.0 release. Use `np.float64` instead."
     ]
    }
   ],
   "source": [
    "import mesh_tools.trimesh_utils as tu\n",
    "import trimesh\n",
    "from cloudvolume import CloudVolume"
   ]
  },
  {
   "cell_type": "code",
   "execution_count": 2,
   "id": "b5f731b3-7f88-41e7-a501-5f38f6cef36b",
   "metadata": {},
   "outputs": [],
   "source": [
    "cv_new = CloudVolume('precomputed://https://storage.googleapis.com/iarpa_microns/minnie/minnie65/seg', \n",
    "    progress=True, # shows progress bar\n",
    "    cache=True, # cache to disk to avoid repeated downloads\n",
    "    fill_missing=True,\n",
    "    )"
   ]
  },
  {
   "cell_type": "code",
   "execution_count": 3,
   "id": "f4f3649f-eea1-4fbf-bbaf-d3d2ec1b8947",
   "metadata": {},
   "outputs": [],
   "source": [
    "cell_id = 864691135577202181\n"
   ]
  },
  {
   "cell_type": "code",
   "execution_count": 4,
   "id": "322f6006-692f-4ac2-8a13-268438b0a529",
   "metadata": {
    "scrolled": true
   },
   "outputs": [
    {
     "name": "stderr",
     "output_type": "stream",
     "text": [
      "  0%|                                                                                           | 0/1 [00:00<?, ?it/s]\n",
      "Upload to Cache: 0it [00:00, ?it/s]\u001b[A\n",
      "100%|███████████████████████████████████████████████████████████████████████████████████| 1/1 [00:04<00:00,  4.63s/it]\n"
     ]
    }
   ],
   "source": [
    "new_mesh = cv_new.mesh.get(cell_id)[cell_id]"
   ]
  },
  {
   "cell_type": "code",
   "execution_count": 5,
   "id": "f1eec9c2-27d0-4689-be4d-070cecb96f8a",
   "metadata": {},
   "outputs": [],
   "source": [
    "new_mesh = trimesh.Trimesh(vertices=new_mesh.vertices, faces=new_mesh.faces)"
   ]
  },
  {
   "cell_type": "code",
   "execution_count": 6,
   "id": "8d40347d-8ce5-47b9-9efe-10d5fee04455",
   "metadata": {},
   "outputs": [
    {
     "name": "stdout",
     "output_type": "stream",
     "text": [
      "     Starting Screened Poisson\n",
      "xvfb-run -n 5178 -s \"-screen 0 800x600x24\" meshlabserver $@  -i /home/ubuntu/temp/neuron_36577.off -o /home/ubuntu/temp/neuron_36577_decimated.off -s /home/ubuntu/temp/decimation_meshlab_2512151.mls\n",
      "-----Time for Screened Poisson= 189.724214553833\n"
     ]
    }
   ],
   "source": [
    "new_mesh_decimated = tu.decimate(\n",
    "    new_mesh,\n",
    "    decimation_ratio=0.25,\n",
    "    verbose=True\n",
    ")"
   ]
  },
  {
   "cell_type": "code",
   "execution_count": 7,
   "id": "ae80ff33-60a3-40ee-b2cb-50a5883d9b04",
   "metadata": {},
   "outputs": [
    {
     "data": {
      "text/plain": [
       "<trimesh.Trimesh(vertices.shape=(815658, 3), faces.shape=(1637697, 3), name=`neuron_36577_decimated.off`)>"
      ]
     },
     "execution_count": 7,
     "metadata": {},
     "output_type": "execute_result"
    }
   ],
   "source": [
    "new_mesh_decimated"
   ]
  },
  {
   "cell_type": "code",
   "execution_count": 8,
   "id": "44e11592-9b4a-4f20-8a76-c25171ffb746",
   "metadata": {},
   "outputs": [
    {
     "data": {
      "text/plain": [
       "<datasci_tools.pipeline.PipelineProducts at 0x7845e6de9c00>"
      ]
     },
     "execution_count": 8,
     "metadata": {},
     "output_type": "execute_result"
    }
   ],
   "source": [
    "from datasci_tools import pipeline\n",
    "\n",
    "products = pipeline.PipelineProducts()\n",
    "products"
   ]
  },
  {
   "cell_type": "code",
   "execution_count": 12,
   "id": "95a7c8b6-4f26-493c-be35-10f765e4dbbf",
   "metadata": {},
   "outputs": [
    {
     "name": "stdout",
     "output_type": "stream",
     "text": [
      "{\n",
      "  'decimation':\n",
      "  {\n",
      "    'decimation_parameters':\n",
      "    {\n",
      "      'decimation_ratio':0.25,\n",
      "    },\n",
      "    'segment_id':864691135577202181,\n",
      "  },\n",
      "}\n",
      "\n"
     ]
    }
   ],
   "source": [
    "# saving any parameters used or output products for later use\n",
    "products.set_stage_attrs(\n",
    "    stage = \"decimation\",\n",
    "    attr_dict = dict(\n",
    "        decimation_parameters = dict(decimation_ratio=0.25),\n",
    "        segment_id = cell_id,\n",
    "    ),\n",
    "    \n",
    ")\n",
    "\n",
    "print(products)"
   ]
  },
  {
   "cell_type": "code",
   "execution_count": 13,
   "id": "96a3eb88-8f48-40cb-86f9-38a44a769364",
   "metadata": {},
   "outputs": [],
   "source": [
    "from neurd import soma_extraction_utils as sm\n",
    "soma_extraction_parameters = dict()"
   ]
  },
  {
   "cell_type": "code",
   "execution_count": 17,
   "id": "d3972bfd-6dbb-4e3a-a32f-6457fbb60cc8",
   "metadata": {},
   "outputs": [
    {
     "data": {
      "text/plain": [
       "{}"
      ]
     },
     "execution_count": 17,
     "metadata": {},
     "output_type": "execute_result"
    }
   ],
   "source": [
    "soma_extraction_parameters"
   ]
  },
  {
   "cell_type": "code",
   "execution_count": null,
   "id": "417a163c-1fe3-4793-b649-e051e0f96d66",
   "metadata": {},
   "outputs": [],
   "source": [
    "{'glia_volume_threshold_in_um_global': 2500,\n",
    " 'glia_n_faces_threshold_global': 400000,\n",
    " 'glia_n_faces_min_global': 100000}"
   ]
  },
  {
   "cell_type": "code",
   "execution_count": 14,
   "id": "27992e02-da80-4737-86a2-476f9a17e9b8",
   "metadata": {},
   "outputs": [
    {
     "ename": "AttributeError",
     "evalue": "module 'neurd.soma_extraction_utils' has no attribute 'glia_volume_threshold_in_um_global'",
     "output_type": "error",
     "traceback": [
      "\u001b[0;31m---------------------------------------------------------------------------\u001b[0m",
      "\u001b[0;31mAttributeError\u001b[0m                            Traceback (most recent call last)",
      "Cell \u001b[0;32mIn[14], line 3\u001b[0m\n\u001b[1;32m      1\u001b[0m \u001b[38;5;66;03m# could inspect the parameters of a certain category\u001b[39;00m\n\u001b[1;32m      2\u001b[0m \u001b[38;5;28;01mfrom\u001b[39;00m \u001b[38;5;21;01mneurd\u001b[39;00m \u001b[38;5;28;01mimport\u001b[39;00m parameter_utils \u001b[38;5;28;01mas\u001b[39;00m paru\n\u001b[0;32m----> 3\u001b[0m \u001b[43mparu\u001b[49m\u001b[38;5;241;43m.\u001b[39;49m\u001b[43mcategory_param_from_module\u001b[49m\u001b[43m(\u001b[49m\n\u001b[1;32m      4\u001b[0m \u001b[43m        \u001b[49m\u001b[43mmodule\u001b[49m\u001b[43m \u001b[49m\u001b[38;5;241;43m=\u001b[39;49m\u001b[43m \u001b[49m\u001b[43msm\u001b[49m\u001b[43m,\u001b[49m\n\u001b[1;32m      5\u001b[0m \u001b[43m        \u001b[49m\u001b[43mcategory\u001b[49m\u001b[43m \u001b[49m\u001b[38;5;241;43m=\u001b[39;49m\u001b[43m \u001b[49m\u001b[38;5;124;43m\"\u001b[39;49m\u001b[38;5;124;43mglia\u001b[39;49m\u001b[38;5;124;43m\"\u001b[39;49m\u001b[43m,\u001b[49m\n\u001b[1;32m      6\u001b[0m \u001b[43m)\u001b[49m\n",
      "File \u001b[0;32m~/.local/lib/python3.10/site-packages/neurd/parameter_utils.py:812\u001b[0m, in \u001b[0;36mcategory_param_from_module\u001b[0;34m(module, category, verbose)\u001b[0m\n\u001b[1;32m    807\u001b[0m             curr_dict \u001b[38;5;241m=\u001b[39m add_global_name_to_dict(\n\u001b[1;32m    808\u001b[0m                 curr_dict\n\u001b[1;32m    809\u001b[0m             )\n\u001b[1;32m    810\u001b[0m         output_dict\u001b[38;5;241m.\u001b[39mupdate(curr_dict)\n\u001b[0;32m--> 812\u001b[0m output_dict \u001b[38;5;241m=\u001b[39m {\n\u001b[1;32m    813\u001b[0m     k:\u001b[38;5;28mgetattr\u001b[39m(module,k) \u001b[38;5;28;01mfor\u001b[39;00m k \u001b[38;5;129;01min\u001b[39;00m output_dict\u001b[38;5;241m.\u001b[39mkeys()\n\u001b[1;32m    814\u001b[0m }\n\u001b[1;32m    816\u001b[0m \u001b[38;5;28;01mreturn\u001b[39;00m output_dict\n",
      "File \u001b[0;32m~/.local/lib/python3.10/site-packages/neurd/parameter_utils.py:813\u001b[0m, in \u001b[0;36m<dictcomp>\u001b[0;34m(.0)\u001b[0m\n\u001b[1;32m    807\u001b[0m             curr_dict \u001b[38;5;241m=\u001b[39m add_global_name_to_dict(\n\u001b[1;32m    808\u001b[0m                 curr_dict\n\u001b[1;32m    809\u001b[0m             )\n\u001b[1;32m    810\u001b[0m         output_dict\u001b[38;5;241m.\u001b[39mupdate(curr_dict)\n\u001b[1;32m    812\u001b[0m output_dict \u001b[38;5;241m=\u001b[39m {\n\u001b[0;32m--> 813\u001b[0m     k:\u001b[38;5;28;43mgetattr\u001b[39;49m\u001b[43m(\u001b[49m\u001b[43mmodule\u001b[49m\u001b[43m,\u001b[49m\u001b[43mk\u001b[49m\u001b[43m)\u001b[49m \u001b[38;5;28;01mfor\u001b[39;00m k \u001b[38;5;129;01min\u001b[39;00m output_dict\u001b[38;5;241m.\u001b[39mkeys()\n\u001b[1;32m    814\u001b[0m }\n\u001b[1;32m    816\u001b[0m \u001b[38;5;28;01mreturn\u001b[39;00m output_dict\n",
      "\u001b[0;31mAttributeError\u001b[0m: module 'neurd.soma_extraction_utils' has no attribute 'glia_volume_threshold_in_um_global'"
     ]
    }
   ],
   "source": [
    "# could inspect the parameters of a certain category\n",
    "from neurd import parameter_utils as paru\n",
    "paru.category_param_from_module(\n",
    "        module = sm,\n",
    "        category = \"glia\",\n",
    ")"
   ]
  },
  {
   "cell_type": "code",
   "execution_count": 18,
   "id": "340e2c81-bd9b-4430-b57b-90b1edaedddd",
   "metadata": {},
   "outputs": [
    {
     "ename": "NameError",
     "evalue": "name 'nucleus_min_global' is not defined",
     "output_type": "error",
     "traceback": [
      "\u001b[0;31m---------------------------------------------------------------------------\u001b[0m",
      "\u001b[0;31mNameError\u001b[0m                                 Traceback (most recent call last)",
      "Cell \u001b[0;32mIn[18], line 5\u001b[0m\n\u001b[1;32m      1\u001b[0m \u001b[38;5;28;01mfrom\u001b[39;00m \u001b[38;5;21;01mneurd\u001b[39;00m \u001b[38;5;28;01mimport\u001b[39;00m neuron_visualizations \u001b[38;5;28;01mas\u001b[39;00m nviz\n\u001b[1;32m      3\u001b[0m verbose \u001b[38;5;241m=\u001b[39m \u001b[38;5;28;01mTrue\u001b[39;00m\n\u001b[0;32m----> 5\u001b[0m soma_products \u001b[38;5;241m=\u001b[39m \u001b[43msm\u001b[49m\u001b[38;5;241;43m.\u001b[39;49m\u001b[43msoma_indentification\u001b[49m\u001b[43m(\u001b[49m\n\u001b[1;32m      6\u001b[0m \u001b[43m    \u001b[49m\u001b[43mnew_mesh_decimated\u001b[49m\u001b[43m,\u001b[49m\n\u001b[1;32m      7\u001b[0m \u001b[43m    \u001b[49m\u001b[43mverbose\u001b[49m\u001b[38;5;241;43m=\u001b[39;49m\u001b[38;5;28;43;01mTrue\u001b[39;49;00m\u001b[43m,\u001b[49m\n\u001b[1;32m      8\u001b[0m \u001b[43m)\u001b[49m\n",
      "File \u001b[0;32m~/.local/lib/python3.10/site-packages/neurd/soma_extraction_utils.py:1981\u001b[0m, in \u001b[0;36msoma_indentification\u001b[0;34m(mesh_decimated, verbose, plot, **soma_extraction_parameters)\u001b[0m\n\u001b[1;32m   1970\u001b[0m \u001b[38;5;28;01mdef\u001b[39;00m \u001b[38;5;21msoma_indentification\u001b[39m(\n\u001b[1;32m   1971\u001b[0m     mesh_decimated,\n\u001b[1;32m   1972\u001b[0m     verbose\u001b[38;5;241m=\u001b[39m\u001b[38;5;28;01mFalse\u001b[39;00m,\n\u001b[1;32m   1973\u001b[0m     plot \u001b[38;5;241m=\u001b[39m \u001b[38;5;28;01mFalse\u001b[39;00m,\n\u001b[1;32m   1974\u001b[0m     \u001b[38;5;241m*\u001b[39m\u001b[38;5;241m*\u001b[39msoma_extraction_parameters\n\u001b[1;32m   1975\u001b[0m     ):\n\u001b[1;32m   1977\u001b[0m     (total_soma_list, \n\u001b[1;32m   1978\u001b[0m      run_time, \n\u001b[1;32m   1979\u001b[0m      total_soma_list_sdf,\n\u001b[1;32m   1980\u001b[0m      glia_pieces,\n\u001b[0;32m-> 1981\u001b[0m      nuclei_pieces) \u001b[38;5;241m=\u001b[39m \u001b[43msm\u001b[49m\u001b[38;5;241;43m.\u001b[39;49m\u001b[43mextract_soma_center\u001b[49m\u001b[43m(\u001b[49m\n\u001b[1;32m   1982\u001b[0m \u001b[43m        \u001b[49m\u001b[43mmesh\u001b[49m\u001b[43m \u001b[49m\u001b[38;5;241;43m=\u001b[39;49m\u001b[43m \u001b[49m\u001b[43mmesh_decimated\u001b[49m\u001b[43m,\u001b[49m\n\u001b[1;32m   1983\u001b[0m \u001b[43m        \u001b[49m\u001b[43mreturn_glia_nuclei_pieces\u001b[49m\u001b[38;5;241;43m=\u001b[39;49m\u001b[38;5;28;43;01mTrue\u001b[39;49;00m\u001b[43m,\u001b[49m\n\u001b[1;32m   1984\u001b[0m \u001b[43m        \u001b[49m\u001b[43mverbose\u001b[49m\u001b[43m \u001b[49m\u001b[38;5;241;43m=\u001b[39;49m\u001b[43m \u001b[49m\u001b[43mverbose\u001b[49m\u001b[43m,\u001b[49m\n\u001b[1;32m   1985\u001b[0m \u001b[43m        \u001b[49m\u001b[38;5;241;43m*\u001b[39;49m\u001b[38;5;241;43m*\u001b[39;49m\u001b[43msoma_extraction_parameters\u001b[49m\n\u001b[1;32m   1986\u001b[0m \u001b[43m    \u001b[49m\u001b[43m)\u001b[49m\n\u001b[1;32m   1988\u001b[0m     soma_products \u001b[38;5;241m=\u001b[39m pipeline\u001b[38;5;241m.\u001b[39mStageProducts(\n\u001b[1;32m   1989\u001b[0m         soma_extraction_parameters \u001b[38;5;241m=\u001b[39m soma_extraction_parameters,\n\u001b[1;32m   1990\u001b[0m         soma_meshes\u001b[38;5;241m=\u001b[39mtotal_soma_list,\n\u001b[0;32m   (...)\u001b[0m\n\u001b[1;32m   1994\u001b[0m         nuclei_meshes\u001b[38;5;241m=\u001b[39mnuclei_pieces,\n\u001b[1;32m   1995\u001b[0m     )\n\u001b[1;32m   1997\u001b[0m     \u001b[38;5;28;01mif\u001b[39;00m plot:\n",
      "File \u001b[0;32m~/.local/lib/python3.10/site-packages/neurd/soma_extraction_utils.py:782\u001b[0m, in \u001b[0;36mextract_soma_center\u001b[0;34m(segment_id, current_mesh_verts, current_mesh_faces, mesh, outer_decimation_ratio, large_mesh_threshold, large_mesh_threshold_inner, soma_width_threshold, soma_size_threshold, inner_decimation_ratio, segmentation_clusters, segmentation_smoothness, volume_mulitplier, side_length_ratio_threshold, soma_size_threshold_max, delete_files, backtrack_soma_mesh_to_original, boundary_vertices_threshold, poisson_backtrack_distance_threshold, close_holes, remove_inside_pieces, size_threshold_to_remove, pymeshfix_clean, check_holes_before_pymeshfix, second_poisson, segmentation_at_end, last_size_threshold, largest_hole_threshold, max_fail_loops, perform_pairing, verbose, return_glia_nuclei_pieces, backtrack_soma_size_threshold, backtrack_match_distance_threshold, filter_inside_meshes_after_glia_removal, max_mesh_sized_filtered_away, filter_inside_somas, backtrack_segmentation_on_fail, glia_pieces, nuclei_pieces, glia_volume_threshold_in_um, glia_n_faces_threshold, glia_n_faces_min, nucleus_min, nucleus_max, second_pass_size_threshold, **kwargs)\u001b[0m\n\u001b[1;32m    712\u001b[0m \u001b[38;5;28;01mdef\u001b[39;00m \u001b[38;5;21mextract_soma_center\u001b[39m(\n\u001b[1;32m    713\u001b[0m     segment_id\u001b[38;5;241m=\u001b[39m\u001b[38;5;241m12345\u001b[39m,\n\u001b[1;32m    714\u001b[0m     current_mesh_verts\u001b[38;5;241m=\u001b[39m\u001b[38;5;28;01mNone\u001b[39;00m,\n\u001b[0;32m   (...)\u001b[0m\n\u001b[1;32m    779\u001b[0m     \n\u001b[1;32m    780\u001b[0m     \u001b[38;5;66;03m# ------- Nuclei parameters -------------\u001b[39;00m\n\u001b[1;32m    781\u001b[0m     \u001b[38;5;28;01mif\u001b[39;00m nucleus_min \u001b[38;5;129;01mis\u001b[39;00m \u001b[38;5;28;01mNone\u001b[39;00m:\n\u001b[0;32m--> 782\u001b[0m         nucleus_min \u001b[38;5;241m=\u001b[39m \u001b[43mnucleus_min_global\u001b[49m\n\u001b[1;32m    784\u001b[0m     \u001b[38;5;28;01mif\u001b[39;00m nucleus_max \u001b[38;5;129;01mis\u001b[39;00m \u001b[38;5;28;01mNone\u001b[39;00m:\n\u001b[1;32m    785\u001b[0m         nucleus_max \u001b[38;5;241m=\u001b[39m nucleus_max_global\n",
      "\u001b[0;31mNameError\u001b[0m: name 'nucleus_min_global' is not defined"
     ]
    }
   ],
   "source": [
    "from neurd import neuron_visualizations as nviz\n",
    "\n",
    "verbose = True\n",
    "\n",
    "soma_products = sm.soma_indentification(\n",
    "    new_mesh_decimated,\n",
    "    verbose=True,\n",
    ")"
   ]
  },
  {
   "cell_type": "code",
   "execution_count": null,
   "id": "b42bfd49-5b42-4e06-b360-656332a08dd3",
   "metadata": {},
   "outputs": [],
   "source": []
  }
 ],
 "metadata": {
  "kernelspec": {
   "display_name": "Python 3 (ipykernel)",
   "language": "python",
   "name": "python3"
  }
 },
 "nbformat": 4,
 "nbformat_minor": 5
}
