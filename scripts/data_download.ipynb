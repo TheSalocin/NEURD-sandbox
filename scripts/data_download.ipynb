{
 "cells": [
  {
   "cell_type": "markdown",
   "metadata": {},
   "source": [
    "# Data Download\n",
    "\n",
    "This notebook downloads MICrONs data for use in error calculations, meshing, and skeletonisation"
   ]
  },
  {
   "cell_type": "code",
   "execution_count": null,
   "metadata": {},
   "outputs": [],
   "source": [
    "import imageryclient as ic\n",
    "from caveclient import CAVEclient\n",
    "import numpy as np"
   ]
  },
  {
   "cell_type": "code",
   "execution_count": null,
   "metadata": {},
   "outputs": [],
   "source": [
    "client = CAVEclient('minnie65_public')\n",
    "old_client = CAVEclient('minnie65_public_v117')\n",
    "\n",
    "img_client = ic.ImageryClient(client=client)\n",
    "old_img_client = ic.ImageryClient(client=old_client)\n",
    "\n",
    "size = 512\n",
    "depth = 256\n",
    "\n",
    "for i in tqdm(range(depth)):\n",
    "    ctr = (cell_coords[0], cell_coords[1], cell_coords[2] - depth/2 + i)\n",
    "\n",
    "    image = img_client.image_cutout(ctr,\n",
    "        image_size=(size,size), mip=3)\n",
    "    np.save(f\"data/microns/em/{ctr[0]}_{ctr[1]}_{ctr[2]}_{i:03}.npy\", image)\n",
    "    del image\n",
    "    seg = img_client.segmentation_cutout(ctr,\n",
    "        image_size=(size,size), mip=3)\n",
    "    np.save(f\"data/microns/seg_v1078/{ctr[0]}_{ctr[1]}_{ctr[2]}_{i:03}.npy\", seg)\n",
    "    del seg\n",
    "    old_seg = old_img_client.segmentation_cutout(ctr,\n",
    "        image_size=(size,size), mip=3)\n",
    "    np.save(f\"data/microns/seg_v117/{ctr[0]}_{ctr[1]}_{ctr[2]}_{i:03}.npy\", old_seg)"
   ]
  }
 ],
 "metadata": {
  "language_info": {
   "name": "python"
  }
 },
 "nbformat": 4,
 "nbformat_minor": 2
}
