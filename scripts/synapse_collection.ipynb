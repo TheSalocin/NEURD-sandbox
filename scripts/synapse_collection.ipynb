{
 "cells": [
  {
   "cell_type": "markdown",
   "metadata": {},
   "source": [
    "# Synapse Collection\n",
    "\n",
    "This notebook downloads synapse information for a neuron via cave and saves it in a synapse dataframe in the format required by NEURD."
   ]
  },
  {
   "cell_type": "markdown",
   "metadata": {},
   "source": [
    "## Imports"
   ]
  },
  {
   "cell_type": "code",
   "execution_count": null,
   "metadata": {},
   "outputs": [],
   "source": [
    "from caveclient import CAVEclient\n",
    "import pandas as pd"
   ]
  },
  {
   "cell_type": "markdown",
   "metadata": {},
   "source": [
    "## Setup"
   ]
  },
  {
   "cell_type": "code",
   "execution_count": null,
   "metadata": {},
   "outputs": [],
   "source": [
    "client = CAVEclient('minnie65_public')"
   ]
  },
  {
   "cell_type": "code",
   "execution_count": null,
   "metadata": {},
   "outputs": [],
   "source": [
    "def collect_synapses(segment_id, client):\n",
    "    \"\"\"\n",
    "    Function to collect all pre and postsynaptic endings involving neuron segment_id from client and save results as a csv file named segment_id_synapses.csv\n",
    "\n",
    "    Parameters\n",
    "    ----------\n",
    "    segment_id : int\n",
    "        ID of neuron segment to collect synapses from\n",
    "    client : CAVEclient\n",
    "        Client with synapse information. Currently only supports microns data\n",
    "    \"\"\"\n",
    "    # Get synapses going from segment_id to other neurons\n",
    "    pre_synapses = client.materialize.synapse_query(pre_ids = segment_id, split_positions=True)\n",
    "    pre_synapses = pre_synapses[[\"pre_pt_root_id\", \"post_pt_root_id\", \"id\", \"pre_pt_position_x\", \"pre_pt_position_y\", \"pre_pt_position_z\", \"size\"]]\n",
    "    pre_synapses[\"prepost\"] = \"presyn\"\n",
    "    # rename columns to match neurd synapse dataframes\n",
    "    rename_map = {\n",
    "        \"pre_pt_root_id\" : \"segment_id\",\n",
    "        \"post_pt_root_id\" : \"segment_id_secondary\",\n",
    "        \"id\" : \"synapse_id\",\n",
    "        \"pre_pt_position_x\" : \"synapse_x\",\n",
    "        \"pre_pt_position_y\" : \"synapse_y\",\n",
    "        \"pre_pt_position_z\" : \"synapse_z\",\n",
    "        \"size\" : \"synapse_size\",\n",
    "    }\n",
    "    pre_synapses = pre_synapses.rename(columns = rename_map)\n",
    "    # save synapses so far\n",
    "    pre_synapses.to_csv(f\"{segment_id}_synapses.csv\")\n",
    "\n",
    "    # get all synapses connection to neuron segment_id\n",
    "    post_synapses = client.materialize.synapse_query(post_ids = segment_id, split_positions=True)\n",
    "\n",
    "    post_synapses = post_synapses[[\"pre_pt_root_id\", \"post_pt_root_id\", \"id\", \"post_pt_position_x\", \"post_pt_position_y\", \"post_pt_position_z\", \"size\"]]\n",
    "    post_synapses[\"prepost\"] = \"postsyn\"\n",
    "    rename_map = {\n",
    "        \"post_pt_root_id\" : \"segment_id\",\n",
    "        \"pre_pt_root_id\" : \"segment_id_secondary\",\n",
    "        \"id\" : \"synapse_id\",\n",
    "        \"post_pt_position_x\" : \"synapse_x\",\n",
    "        \"post_pt_position_y\" : \"synapse_y\",\n",
    "        \"post_pt_position_z\" : \"synapse_z\",\n",
    "        \"size\" : \"synapse_size\",\n",
    "    }\n",
    "    post_synapses = post_synapses.rename(columns = rename_map)\n",
    "    # append to previously created dataframe\n",
    "    post_synapses.to_csv(f\"{segment_id}_synapses.csv\", mode=\"a\", header=False)"
   ]
  }
 ],
 "metadata": {
  "language_info": {
   "name": "python"
  }
 },
 "nbformat": 4,
 "nbformat_minor": 2
}
