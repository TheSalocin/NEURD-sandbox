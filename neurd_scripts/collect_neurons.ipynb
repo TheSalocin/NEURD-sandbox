{
 "cells": [
  {
   "cell_type": "markdown",
   "id": "9fdd1d4c-c5f2-4529-b133-fa074af4e0e2",
   "metadata": {},
   "source": [
    "# Collect Neurons\n",
    "\n",
    "This notebook downloads corresponding neurons from two versions of microns and compares their skeletal length to discover neurons that may have had merge errors in earlier releases"
   ]
  },
  {
   "cell_type": "markdown",
   "id": "23e4b89e-d089-4b90-96ba-366ecfc0ceef",
   "metadata": {},
   "source": [
    "## Imports and functions"
   ]
  },
  {
   "cell_type": "code",
   "execution_count": 1,
   "id": "80b9ef4b-80fd-4e61-9887-8136a389e964",
   "metadata": {},
   "outputs": [
    {
     "name": "stderr",
     "output_type": "stream",
     "text": [
      "INFO - 2024-08-28 11:43:42,358 - utils - NumExpr defaulting to 8 threads.\n",
      "/usr/local/lib/python3.8/dist-packages/python_jsonschema_objects/__init__.py:113: UserWarning: Schema id not specified. Defaulting to 'self'\n",
      "  warnings.warn(\"Schema id not specified. Defaulting to 'self'\")\n"
     ]
    }
   ],
   "source": [
    "from mesh_tools import trimesh_utils as tu\n",
    "from datasci_tools import ipyvolume_utils as ipvu\n",
    "from neurd import neuron_visualizations as nviz\n",
    "from pathlib import Path\n",
    "from cloudvolume import CloudVolume\n",
    "import trimesh\n",
    "from neurd.vdi_microns import volume_data_interface as vdi"
   ]
  },
  {
   "cell_type": "code",
   "execution_count": 2,
   "id": "a693cc01-9de4-42f9-a3f1-aa26053fc0ae",
   "metadata": {},
   "outputs": [],
   "source": [
    "import ipyvolume as ipv\n",
    "import ipyvolume.pylab as p3\n",
    "import shutil\n",
    "import numpy as np\n",
    "from tqdm import tqdm\n",
    "import pandas as pd"
   ]
  },
  {
   "cell_type": "markdown",
   "id": "ef3cf496-459e-49fa-bdd3-a72f72f00475",
   "metadata": {},
   "source": [
    "## Old version: only valid for neurons where ID does not change in manifestations"
   ]
  },
  {
   "cell_type": "code",
   "execution_count": 3,
   "id": "efe5e1de-bfcc-4ab8-8b2e-80a403fa0ca9",
   "metadata": {},
   "outputs": [],
   "source": [
    "def collect_meshes(id, cv_new, cv_old, decimation_parameters = dict(decimation_ratio = 0.25*0.25)):\n",
    "    # get newer version of neuron\n",
    "    mesh_new = cv_new.mesh.get(id)[id]\n",
    "    # decimate for runtime\n",
    "    mesh_new_decimated = tu.decimate(\n",
    "        mesh_new,\n",
    "        **decimation_parameters\n",
    "    )\n",
    "    # same for old neuron\n",
    "    mesh_old = cv_old.mesh.get(id)[id]\n",
    "    mesh_old_decimated = tu.decimate(\n",
    "        mesh_old,\n",
    "        **decimation_parameters\n",
    "    )\n",
    "\n",
    "    return mesh_new_decimated, mesh_old_decimated"
   ]
  },
  {
   "cell_type": "code",
   "execution_count": 4,
   "id": "110a5197-4f22-49da-b9bc-933c9332d31f",
   "metadata": {},
   "outputs": [
    {
     "name": "stdout",
     "output_type": "stream",
     "text": [
      "\u001b[1;93mUsing default Google credentials. There is no ~/.cloudvolume/secrets/google-secret.json set.\u001b[m\n",
      "\u001b[1;93m\n",
      "      Warning: Environment variable GOOGLE_APPLICATION_CREDENTIALS is not set.\n",
      "        google-cloud-python might not find your credentials. Your credentials\n",
      "        might be located in $HOME/.config/gcloud/legacy_credentials/$YOUR_GMAIL/adc.json\n",
      "\n",
      "        If they are you can export your credentials like so:\n",
      "        export GOOGLE_APPLICATION_CREDENTIALS=\"$HOME/.config/gcloud/legacy_credentials/$YOUR_GMAIL/adc.json\"\n",
      "      \u001b[m\n"
     ]
    },
    {
     "name": "stderr",
     "output_type": "stream",
     "text": [
      "/usr/local/lib/python3.8/dist-packages/google/auth/_default.py:76: UserWarning: Your application has authenticated using end user credentials from Google Cloud SDK without a quota project. You might receive a \"quota exceeded\" or \"API not enabled\" error. See the following page for troubleshooting: https://cloud.google.com/docs/authentication/adc-troubleshooting/user-creds. \n",
      "  warnings.warn(_CLOUD_SDK_CREDENTIALS_WARNING)\n",
      "WARNING - 2024-08-28 11:43:53,460 - _default - No project ID could be determined. Consider running `gcloud config set project` or setting the GOOGLE_CLOUD_PROJECT environment variable\n"
     ]
    }
   ],
   "source": [
    "# oldest manifestation\n",
    "cv_old = CloudVolume('precomputed://https://storage.googleapis.com/iarpa_microns/minnie/minnie65/seg',\n",
    "                    progress=False, # shows progress bar\n",
    "                    cache=False, # cache to disk to avoid repeated downloads\n",
    "                    fill_missing=False,)\n",
    "# most recent manifestation\n",
    "cv_new = CloudVolume('graphene://https://minnie.microns-daf.com/segmentation/table/minnie65_public',\n",
    "                    progress=False, # shows progress bar\n",
    "                    cache=False, # cache to disk to avoid repeated downloads\n",
    "                    fill_missing=False,)"
   ]
  },
  {
   "cell_type": "code",
   "execution_count": 4,
   "id": "6fad66f2-344f-4abf-9797-ba53cabd6d50",
   "metadata": {},
   "outputs": [],
   "source": [
    "# ids that remain the same through both releases\n",
    "good_ids = [864691135975539779, 864691135975633475, 864691135497743635, 864691136108938168, 864691135544588584, 864691136023889209, 864691135212863360,\n",
    " 864691136309871706, 864691136903144370, 864691135915343462, 864691135700409211, 864691135593659947, 864691135699487522, 864691136023980601, 864691135855890478,\n",
    " 864691135952122147, 864691136209328060, 864691136812081779, 864691136136778621, 864691135396580129, 864691136237644604, 864691135359010904, 864691136105661657,\n",
    " 864691135864188286, 864691135407429321, 864691136334080435, 864691135654280386, 864691136136766845, 864691135918528432, 864691135012753654, 864691136311902269,\n",
    " 864691136031910331, 864691135367232761, 864691135081877495, 864691137019755118, 864691135358995288, 864691135753932237, 864691135848030814, 864691134884807418,\n",
    " 864691135440543560, 864691135233242713, 864691136925601354, 864691135517531786, 864691135782544435, 864691135724393131, 864691135272206865, 864691135373601736,\n",
    " 864691135953985800, 864691136123919654, 864691136100014453, 864691136118618136, 864691135609687047, 864691135462420637, 864691136618564493, 864691135382556378,\n",
    " 864691135360096071, 864691135577202181, 864691136451224831, 864691135809608652, 864691135099901728, 864691135888577417, 864691135463695429, 864691135501703746,\n",
    " 864691135385422677, 864691135341198789, 864691135367033849, 864691135117980637, 864691135508871945, 864691136378815445, 864691135937286404, 864691135428676144,\n",
    " 864691137019596142, 864691135952121379, 864691136194355176, 864691136136766589, 864691136143696692, 864691135754881746, 864691135739733140, 864691135065145924,\n",
    " 864691135775906989, 864691136084313196, 864691136227020113, 864691135113360025, 864691136099960181, 864691135692949951, 864691135855860782, 864691135367305465,\n",
    " 864691136118618392, 864691135122469671]"
   ]
  },
  {
   "cell_type": "code",
   "execution_count": null,
   "id": "90d53b21-506c-475d-a355-ae08478995e3",
   "metadata": {
    "scrolled": true
   },
   "outputs": [
    {
     "name": "stderr",
     "output_type": "stream",
     "text": [
      "0it [00:00, ?it/s]\n",
      "Downloading Meshes:   0%|                                                                   | 0/1 [00:00<?, ?it/s]\u001b[A/usr/local/lib/python3.8/dist-packages/google/auth/_default.py:76: UserWarning: Your application has authenticated using end user credentials from Google Cloud SDK without a quota project. You might receive a \"quota exceeded\" or \"API not enabled\" error. See the following page for troubleshooting: https://cloud.google.com/docs/authentication/adc-troubleshooting/user-creds. \n",
      "  warnings.warn(_CLOUD_SDK_CREDENTIALS_WARNING)\n",
      "WARNING - 2024-08-23 15:05:07,512 - _default - No project ID could be determined. Consider running `gcloud config set project` or setting the GOOGLE_CLOUD_PROJECT environment variable\n",
      "/usr/local/lib/python3.8/dist-packages/google/auth/_default.py:76: UserWarning: Your application has authenticated using end user credentials from Google Cloud SDK without a quota project. You might receive a \"quota exceeded\" or \"API not enabled\" error. See the following page for troubleshooting: https://cloud.google.com/docs/authentication/adc-troubleshooting/user-creds. \n",
      "  warnings.warn(_CLOUD_SDK_CREDENTIALS_WARNING)\n",
      "WARNING - 2024-08-23 15:05:07,961 - _default - No project ID could be determined. Consider running `gcloud config set project` or setting the GOOGLE_CLOUD_PROJECT environment variable\n",
      "/usr/local/lib/python3.8/dist-packages/google/auth/_default.py:76: UserWarning: Your application has authenticated using end user credentials from Google Cloud SDK without a quota project. You might receive a \"quota exceeded\" or \"API not enabled\" error. See the following page for troubleshooting: https://cloud.google.com/docs/authentication/adc-troubleshooting/user-creds. \n",
      "  warnings.warn(_CLOUD_SDK_CREDENTIALS_WARNING)\n",
      "WARNING - 2024-08-23 15:05:08,405 - _default - No project ID could be determined. Consider running `gcloud config set project` or setting the GOOGLE_CLOUD_PROJECT environment variable\n",
      "/usr/local/lib/python3.8/dist-packages/google/auth/_default.py:76: UserWarning: Your application has authenticated using end user credentials from Google Cloud SDK without a quota project. You might receive a \"quota exceeded\" or \"API not enabled\" error. See the following page for troubleshooting: https://cloud.google.com/docs/authentication/adc-troubleshooting/user-creds. \n",
      "  warnings.warn(_CLOUD_SDK_CREDENTIALS_WARNING)\n",
      "WARNING - 2024-08-23 15:05:08,857 - _default - No project ID could be determined. Consider running `gcloud config set project` or setting the GOOGLE_CLOUD_PROJECT environment variable\n",
      "/usr/local/lib/python3.8/dist-packages/google/auth/_default.py:76: UserWarning: Your application has authenticated using end user credentials from Google Cloud SDK without a quota project. You might receive a \"quota exceeded\" or \"API not enabled\" error. See the following page for troubleshooting: https://cloud.google.com/docs/authentication/adc-troubleshooting/user-creds. \n",
      "  warnings.warn(_CLOUD_SDK_CREDENTIALS_WARNING)\n",
      "WARNING - 2024-08-23 15:05:09,317 - _default - No project ID could be determined. Consider running `gcloud config set project` or setting the GOOGLE_CLOUD_PROJECT environment variable\n",
      "/usr/local/lib/python3.8/dist-packages/google/auth/_default.py:76: UserWarning: Your application has authenticated using end user credentials from Google Cloud SDK without a quota project. You might receive a \"quota exceeded\" or \"API not enabled\" error. See the following page for troubleshooting: https://cloud.google.com/docs/authentication/adc-troubleshooting/user-creds. \n",
      "  warnings.warn(_CLOUD_SDK_CREDENTIALS_WARNING)\n",
      "WARNING - 2024-08-23 15:05:09,780 - _default - No project ID could be determined. Consider running `gcloud config set project` or setting the GOOGLE_CLOUD_PROJECT environment variable\n",
      "/usr/local/lib/python3.8/dist-packages/google/auth/_default.py:76: UserWarning: Your application has authenticated using end user credentials from Google Cloud SDK without a quota project. You might receive a \"quota exceeded\" or \"API not enabled\" error. See the following page for troubleshooting: https://cloud.google.com/docs/authentication/adc-troubleshooting/user-creds. \n",
      "  warnings.warn(_CLOUD_SDK_CREDENTIALS_WARNING)\n",
      "WARNING - 2024-08-23 15:05:10,240 - _default - No project ID could be determined. Consider running `gcloud config set project` or setting the GOOGLE_CLOUD_PROJECT environment variable\n",
      "/usr/local/lib/python3.8/dist-packages/google/auth/_default.py:76: UserWarning: Your application has authenticated using end user credentials from Google Cloud SDK without a quota project. You might receive a \"quota exceeded\" or \"API not enabled\" error. See the following page for troubleshooting: https://cloud.google.com/docs/authentication/adc-troubleshooting/user-creds. \n",
      "  warnings.warn(_CLOUD_SDK_CREDENTIALS_WARNING)\n",
      "WARNING - 2024-08-23 15:05:10,699 - _default - No project ID could be determined. Consider running `gcloud config set project` or setting the GOOGLE_CLOUD_PROJECT environment variable\n",
      "/usr/local/lib/python3.8/dist-packages/google/auth/_default.py:76: UserWarning: Your application has authenticated using end user credentials from Google Cloud SDK without a quota project. You might receive a \"quota exceeded\" or \"API not enabled\" error. See the following page for troubleshooting: https://cloud.google.com/docs/authentication/adc-troubleshooting/user-creds. \n",
      "  warnings.warn(_CLOUD_SDK_CREDENTIALS_WARNING)\n",
      "WARNING - 2024-08-23 15:05:11,159 - _default - No project ID could be determined. Consider running `gcloud config set project` or setting the GOOGLE_CLOUD_PROJECT environment variable\n",
      "/usr/local/lib/python3.8/dist-packages/google/auth/_default.py:76: UserWarning: Your application has authenticated using end user credentials from Google Cloud SDK without a quota project. You might receive a \"quota exceeded\" or \"API not enabled\" error. See the following page for troubleshooting: https://cloud.google.com/docs/authentication/adc-troubleshooting/user-creds. \n",
      "  warnings.warn(_CLOUD_SDK_CREDENTIALS_WARNING)\n",
      "WARNING - 2024-08-23 15:05:11,626 - _default - No project ID could be determined. Consider running `gcloud config set project` or setting the GOOGLE_CLOUD_PROJECT environment variable\n",
      "/usr/local/lib/python3.8/dist-packages/google/auth/_default.py:76: UserWarning: Your application has authenticated using end user credentials from Google Cloud SDK without a quota project. You might receive a \"quota exceeded\" or \"API not enabled\" error. See the following page for troubleshooting: https://cloud.google.com/docs/authentication/adc-troubleshooting/user-creds. \n",
      "  warnings.warn(_CLOUD_SDK_CREDENTIALS_WARNING)\n",
      "WARNING - 2024-08-23 15:05:12,087 - _default - No project ID could be determined. Consider running `gcloud config set project` or setting the GOOGLE_CLOUD_PROJECT environment variable\n",
      "/usr/local/lib/python3.8/dist-packages/google/auth/_default.py:76: UserWarning: Your application has authenticated using end user credentials from Google Cloud SDK without a quota project. You might receive a \"quota exceeded\" or \"API not enabled\" error. See the following page for troubleshooting: https://cloud.google.com/docs/authentication/adc-troubleshooting/user-creds. \n",
      "  warnings.warn(_CLOUD_SDK_CREDENTIALS_WARNING)\n",
      "WARNING - 2024-08-23 15:05:12,557 - _default - No project ID could be determined. Consider running `gcloud config set project` or setting the GOOGLE_CLOUD_PROJECT environment variable\n",
      "/usr/local/lib/python3.8/dist-packages/google/auth/_default.py:76: UserWarning: Your application has authenticated using end user credentials from Google Cloud SDK without a quota project. You might receive a \"quota exceeded\" or \"API not enabled\" error. See the following page for troubleshooting: https://cloud.google.com/docs/authentication/adc-troubleshooting/user-creds. \n",
      "  warnings.warn(_CLOUD_SDK_CREDENTIALS_WARNING)\n",
      "WARNING - 2024-08-23 15:05:13,027 - _default - No project ID could be determined. Consider running `gcloud config set project` or setting the GOOGLE_CLOUD_PROJECT environment variable\n",
      "/usr/local/lib/python3.8/dist-packages/google/auth/_default.py:76: UserWarning: Your application has authenticated using end user credentials from Google Cloud SDK without a quota project. You might receive a \"quota exceeded\" or \"API not enabled\" error. See the following page for troubleshooting: https://cloud.google.com/docs/authentication/adc-troubleshooting/user-creds. \n",
      "  warnings.warn(_CLOUD_SDK_CREDENTIALS_WARNING)\n",
      "WARNING - 2024-08-23 15:05:13,498 - _default - No project ID could be determined. Consider running `gcloud config set project` or setting the GOOGLE_CLOUD_PROJECT environment variable\n",
      "/usr/local/lib/python3.8/dist-packages/google/auth/_default.py:76: UserWarning: Your application has authenticated using end user credentials from Google Cloud SDK without a quota project. You might receive a \"quota exceeded\" or \"API not enabled\" error. See the following page for troubleshooting: https://cloud.google.com/docs/authentication/adc-troubleshooting/user-creds. \n",
      "  warnings.warn(_CLOUD_SDK_CREDENTIALS_WARNING)\n",
      "WARNING - 2024-08-23 15:05:13,976 - _default - No project ID could be determined. Consider running `gcloud config set project` or setting the GOOGLE_CLOUD_PROJECT environment variable\n",
      "/usr/local/lib/python3.8/dist-packages/google/auth/_default.py:76: UserWarning: Your application has authenticated using end user credentials from Google Cloud SDK without a quota project. You might receive a \"quota exceeded\" or \"API not enabled\" error. See the following page for troubleshooting: https://cloud.google.com/docs/authentication/adc-troubleshooting/user-creds. \n",
      "  warnings.warn(_CLOUD_SDK_CREDENTIALS_WARNING)\n",
      "WARNING - 2024-08-23 15:05:14,446 - _default - No project ID could be determined. Consider running `gcloud config set project` or setting the GOOGLE_CLOUD_PROJECT environment variable\n",
      "/usr/local/lib/python3.8/dist-packages/google/auth/_default.py:76: UserWarning: Your application has authenticated using end user credentials from Google Cloud SDK without a quota project. You might receive a \"quota exceeded\" or \"API not enabled\" error. See the following page for troubleshooting: https://cloud.google.com/docs/authentication/adc-troubleshooting/user-creds. \n",
      "  warnings.warn(_CLOUD_SDK_CREDENTIALS_WARNING)\n",
      "WARNING - 2024-08-23 15:05:14,919 - _default - No project ID could be determined. Consider running `gcloud config set project` or setting the GOOGLE_CLOUD_PROJECT environment variable\n",
      "/usr/local/lib/python3.8/dist-packages/google/auth/_default.py:76: UserWarning: Your application has authenticated using end user credentials from Google Cloud SDK without a quota project. You might receive a \"quota exceeded\" or \"API not enabled\" error. See the following page for troubleshooting: https://cloud.google.com/docs/authentication/adc-troubleshooting/user-creds. \n",
      "  warnings.warn(_CLOUD_SDK_CREDENTIALS_WARNING)\n",
      "WARNING - 2024-08-23 15:05:15,396 - _default - No project ID could be determined. Consider running `gcloud config set project` or setting the GOOGLE_CLOUD_PROJECT environment variable\n",
      "/usr/local/lib/python3.8/dist-packages/google/auth/_default.py:76: UserWarning: Your application has authenticated using end user credentials from Google Cloud SDK without a quota project. You might receive a \"quota exceeded\" or \"API not enabled\" error. See the following page for troubleshooting: https://cloud.google.com/docs/authentication/adc-troubleshooting/user-creds. \n",
      "  warnings.warn(_CLOUD_SDK_CREDENTIALS_WARNING)\n",
      "WARNING - 2024-08-23 15:05:19,101 - _default - No project ID could be determined. Consider running `gcloud config set project` or setting the GOOGLE_CLOUD_PROJECT environment variable\n",
      "\n",
      "Downloading Meshes: 100%|███████████████████████████████████████████████████████████| 1/1 [01:01<00:00, 61.70s/it]\u001b[A"
     ]
    },
    {
     "name": "stdout",
     "output_type": "stream",
     "text": [
      "Warning: deduplication not currently supported for this layer's variable layered draco meshes\n"
     ]
    },
    {
     "name": "stderr",
     "output_type": "stream",
     "text": [
      "\n"
     ]
    },
    {
     "name": "stdout",
     "output_type": "stream",
     "text": [
      "xvfb-run -n 7939 -s \"-screen 0 800x600x24\" meshlabserver $@  -i /NEURD/Applications/Tutorials/Auto_Proof_Pipeline/Single_Soma_Exc/temp/neuron_49663.off -o /NEURD/Applications/Tutorials/Auto_Proof_Pipeline/Single_Soma_Exc/temp/neuron_49663_decimated.off -s /NEURD/Applications/Tutorials/Auto_Proof_Pipeline/Single_Soma_Exc/temp/decimation_meshlab_06398610.mls\n"
     ]
    },
    {
     "name": "stderr",
     "output_type": "stream",
     "text": [
      "\n",
      "Upload to Cache: 0it [00:00, ?it/s]\u001b[A\n"
     ]
    },
    {
     "name": "stdout",
     "output_type": "stream",
     "text": [
      "xvfb-run -n 116 -s \"-screen 0 800x600x24\" meshlabserver $@  -i /NEURD/Applications/Tutorials/Auto_Proof_Pipeline/Single_Soma_Exc/temp/neuron_47675.off -o /NEURD/Applications/Tutorials/Auto_Proof_Pipeline/Single_Soma_Exc/temp/neuron_47675_decimated.off -s /NEURD/Applications/Tutorials/Auto_Proof_Pipeline/Single_Soma_Exc/temp/decimation_meshlab_06249228.mls\n"
     ]
    },
    {
     "name": "stderr",
     "output_type": "stream",
     "text": [
      "1it [14:27, 867.96s/it]\n",
      "Downloading Meshes:   0%|                                                                   | 0/1 [00:00<?, ?it/s]\u001b[A\n",
      "Downloading Meshes: 100%|███████████████████████████████████████████████████████████| 1/1 [00:41<00:00, 41.45s/it]\u001b[A"
     ]
    },
    {
     "name": "stdout",
     "output_type": "stream",
     "text": [
      "Warning: deduplication not currently supported for this layer's variable layered draco meshes\n"
     ]
    },
    {
     "name": "stderr",
     "output_type": "stream",
     "text": [
      "\n"
     ]
    },
    {
     "name": "stdout",
     "output_type": "stream",
     "text": [
      "xvfb-run -n 3104 -s \"-screen 0 800x600x24\" meshlabserver $@  -i /NEURD/Applications/Tutorials/Auto_Proof_Pipeline/Single_Soma_Exc/temp/neuron_54991.off -o /NEURD/Applications/Tutorials/Auto_Proof_Pipeline/Single_Soma_Exc/temp/neuron_54991_decimated.off -s /NEURD/Applications/Tutorials/Auto_Proof_Pipeline/Single_Soma_Exc/temp/decimation_meshlab_06158637.mls\n",
      "xvfb-run -n 7259 -s \"-screen 0 800x600x24\" meshlabserver $@  -i /NEURD/Applications/Tutorials/Auto_Proof_Pipeline/Single_Soma_Exc/temp/neuron_21875.off -o /NEURD/Applications/Tutorials/Auto_Proof_Pipeline/Single_Soma_Exc/temp/neuron_21875_decimated.off -s /NEURD/Applications/Tutorials/Auto_Proof_Pipeline/Single_Soma_Exc/temp/decimation_meshlab_06120428.mls\n"
     ]
    },
    {
     "name": "stderr",
     "output_type": "stream",
     "text": [
      "2it [24:30, 711.96s/it]\n",
      "Downloading Meshes:   0%|                                                                   | 0/1 [00:00<?, ?it/s]\u001b[A\n",
      "Downloading Meshes: 100%|███████████████████████████████████████████████████████████| 1/1 [00:59<00:00, 59.63s/it]\u001b[A"
     ]
    },
    {
     "name": "stdout",
     "output_type": "stream",
     "text": [
      "Warning: deduplication not currently supported for this layer's variable layered draco meshes\n"
     ]
    },
    {
     "name": "stderr",
     "output_type": "stream",
     "text": [
      "\n"
     ]
    },
    {
     "name": "stdout",
     "output_type": "stream",
     "text": [
      "xvfb-run -n 1582 -s \"-screen 0 800x600x24\" meshlabserver $@  -i /NEURD/Applications/Tutorials/Auto_Proof_Pipeline/Single_Soma_Exc/temp/neuron_97929.off -o /NEURD/Applications/Tutorials/Auto_Proof_Pipeline/Single_Soma_Exc/temp/neuron_97929_decimated.off -s /NEURD/Applications/Tutorials/Auto_Proof_Pipeline/Single_Soma_Exc/temp/decimation_meshlab_06243034.mls\n",
      "xvfb-run -n 6705 -s \"-screen 0 800x600x24\" meshlabserver $@  -i /NEURD/Applications/Tutorials/Auto_Proof_Pipeline/Single_Soma_Exc/temp/neuron_50844.off -o /NEURD/Applications/Tutorials/Auto_Proof_Pipeline/Single_Soma_Exc/temp/neuron_50844_decimated.off -s /NEURD/Applications/Tutorials/Auto_Proof_Pipeline/Single_Soma_Exc/temp/decimation_meshlab_06319831.mls\n"
     ]
    },
    {
     "name": "stderr",
     "output_type": "stream",
     "text": [
      "3it [39:50, 806.67s/it]\n",
      "Downloading Meshes:   0%|                                                                   | 0/1 [00:00<?, ?it/s]\u001b[A\n",
      "Downloading Meshes: 100%|███████████████████████████████████████████████████████████| 1/1 [01:12<00:00, 72.92s/it]\u001b[A"
     ]
    },
    {
     "name": "stdout",
     "output_type": "stream",
     "text": [
      "Warning: deduplication not currently supported for this layer's variable layered draco meshes\n"
     ]
    },
    {
     "name": "stderr",
     "output_type": "stream",
     "text": [
      "\n"
     ]
    },
    {
     "name": "stdout",
     "output_type": "stream",
     "text": [
      "xvfb-run -n 604 -s \"-screen 0 800x600x24\" meshlabserver $@  -i /NEURD/Applications/Tutorials/Auto_Proof_Pipeline/Single_Soma_Exc/temp/neuron_60179.off -o /NEURD/Applications/Tutorials/Auto_Proof_Pipeline/Single_Soma_Exc/temp/neuron_60179_decimated.off -s /NEURD/Applications/Tutorials/Auto_Proof_Pipeline/Single_Soma_Exc/temp/decimation_meshlab_06349884.mls\n",
      "xvfb-run -n 5801 -s \"-screen 0 800x600x24\" meshlabserver $@  -i /NEURD/Applications/Tutorials/Auto_Proof_Pipeline/Single_Soma_Exc/temp/neuron_90404.off -o /NEURD/Applications/Tutorials/Auto_Proof_Pipeline/Single_Soma_Exc/temp/neuron_90404_decimated.off -s /NEURD/Applications/Tutorials/Auto_Proof_Pipeline/Single_Soma_Exc/temp/decimation_meshlab_06240553.mls\n"
     ]
    },
    {
     "name": "stderr",
     "output_type": "stream",
     "text": [
      "4it [53:59, 823.65s/it]\n",
      "Downloading Meshes:   0%|                                                                   | 0/1 [00:00<?, ?it/s]\u001b[A\n",
      "Downloading Meshes: 100%|███████████████████████████████████████████████████████████| 1/1 [01:26<00:00, 86.68s/it]\u001b[A"
     ]
    },
    {
     "name": "stdout",
     "output_type": "stream",
     "text": [
      "Warning: deduplication not currently supported for this layer's variable layered draco meshes\n"
     ]
    },
    {
     "name": "stderr",
     "output_type": "stream",
     "text": [
      "\n"
     ]
    },
    {
     "name": "stdout",
     "output_type": "stream",
     "text": [
      "xvfb-run -n 7349 -s \"-screen 0 800x600x24\" meshlabserver $@  -i /NEURD/Applications/Tutorials/Auto_Proof_Pipeline/Single_Soma_Exc/temp/neuron_53536.off -o /NEURD/Applications/Tutorials/Auto_Proof_Pipeline/Single_Soma_Exc/temp/neuron_53536_decimated.off -s /NEURD/Applications/Tutorials/Auto_Proof_Pipeline/Single_Soma_Exc/temp/decimation_meshlab_06152446.mls\n",
      "xvfb-run -n 9315 -s \"-screen 0 800x600x24\" meshlabserver $@  -i /NEURD/Applications/Tutorials/Auto_Proof_Pipeline/Single_Soma_Exc/temp/neuron_51629.off -o /NEURD/Applications/Tutorials/Auto_Proof_Pipeline/Single_Soma_Exc/temp/neuron_51629_decimated.off -s /NEURD/Applications/Tutorials/Auto_Proof_Pipeline/Single_Soma_Exc/temp/decimation_meshlab_06515732.mls\n"
     ]
    },
    {
     "name": "stderr",
     "output_type": "stream",
     "text": [
      "5it [1:07:12, 812.32s/it]\n",
      "Downloading Meshes:   0%|                                                                   | 0/1 [00:00<?, ?it/s]\u001b[A\n",
      "Downloading Meshes: 100%|███████████████████████████████████████████████████████████| 1/1 [00:35<00:00, 35.11s/it]\u001b[A"
     ]
    },
    {
     "name": "stdout",
     "output_type": "stream",
     "text": [
      "Warning: deduplication not currently supported for this layer's variable layered draco meshes\n"
     ]
    },
    {
     "name": "stderr",
     "output_type": "stream",
     "text": [
      "\n"
     ]
    },
    {
     "name": "stdout",
     "output_type": "stream",
     "text": [
      "xvfb-run -n 6626 -s \"-screen 0 800x600x24\" meshlabserver $@  -i /NEURD/Applications/Tutorials/Auto_Proof_Pipeline/Single_Soma_Exc/temp/neuron_54468.off -o /NEURD/Applications/Tutorials/Auto_Proof_Pipeline/Single_Soma_Exc/temp/neuron_54468_decimated.off -s /NEURD/Applications/Tutorials/Auto_Proof_Pipeline/Single_Soma_Exc/temp/decimation_meshlab_06156857.mls\n",
      "xvfb-run -n 6914 -s \"-screen 0 800x600x24\" meshlabserver $@  -i /NEURD/Applications/Tutorials/Auto_Proof_Pipeline/Single_Soma_Exc/temp/neuron_63878.off -o /NEURD/Applications/Tutorials/Auto_Proof_Pipeline/Single_Soma_Exc/temp/neuron_63878_decimated.off -s /NEURD/Applications/Tutorials/Auto_Proof_Pipeline/Single_Soma_Exc/temp/decimation_meshlab_06660407.mls\n"
     ]
    },
    {
     "name": "stderr",
     "output_type": "stream",
     "text": [
      "6it [1:13:57, 674.02s/it]\n",
      "Downloading Meshes:   0%|                                                                   | 0/1 [00:00<?, ?it/s]\u001b[A\n",
      "Downloading Meshes: 100%|███████████████████████████████████████████████████████████| 1/1 [01:18<00:00, 78.30s/it]\u001b[A"
     ]
    },
    {
     "name": "stdout",
     "output_type": "stream",
     "text": [
      "Warning: deduplication not currently supported for this layer's variable layered draco meshes\n"
     ]
    },
    {
     "name": "stderr",
     "output_type": "stream",
     "text": [
      "\n"
     ]
    },
    {
     "name": "stdout",
     "output_type": "stream",
     "text": [
      "xvfb-run -n 4057 -s \"-screen 0 800x600x24\" meshlabserver $@  -i /NEURD/Applications/Tutorials/Auto_Proof_Pipeline/Single_Soma_Exc/temp/neuron_78183.off -o /NEURD/Applications/Tutorials/Auto_Proof_Pipeline/Single_Soma_Exc/temp/neuron_78183_decimated.off -s /NEURD/Applications/Tutorials/Auto_Proof_Pipeline/Single_Soma_Exc/temp/decimation_meshlab_06835084.mls\n",
      "xvfb-run -n 4381 -s \"-screen 0 800x600x24\" meshlabserver $@  -i /NEURD/Applications/Tutorials/Auto_Proof_Pipeline/Single_Soma_Exc/temp/neuron_84629.off -o /NEURD/Applications/Tutorials/Auto_Proof_Pipeline/Single_Soma_Exc/temp/neuron_84629_decimated.off -s /NEURD/Applications/Tutorials/Auto_Proof_Pipeline/Single_Soma_Exc/temp/decimation_meshlab_06948286.mls\n"
     ]
    },
    {
     "name": "stderr",
     "output_type": "stream",
     "text": [
      "7it [1:34:14, 851.52s/it]\n",
      "Downloading Meshes:   0%|                                                                   | 0/1 [00:00<?, ?it/s]\u001b[A\n",
      "Downloading Meshes: 100%|███████████████████████████████████████████████████████████| 1/1 [00:58<00:00, 58.43s/it]\u001b[A"
     ]
    },
    {
     "name": "stdout",
     "output_type": "stream",
     "text": [
      "Warning: deduplication not currently supported for this layer's variable layered draco meshes\n"
     ]
    },
    {
     "name": "stderr",
     "output_type": "stream",
     "text": [
      "\n"
     ]
    },
    {
     "name": "stdout",
     "output_type": "stream",
     "text": [
      "xvfb-run -n 2086 -s \"-screen 0 800x600x24\" meshlabserver $@  -i /NEURD/Applications/Tutorials/Auto_Proof_Pipeline/Single_Soma_Exc/temp/neuron_22244.off -o /NEURD/Applications/Tutorials/Auto_Proof_Pipeline/Single_Soma_Exc/temp/neuron_22244_decimated.off -s /NEURD/Applications/Tutorials/Auto_Proof_Pipeline/Single_Soma_Exc/temp/decimation_meshlab_06798928.mls\n",
      "xvfb-run -n 889 -s \"-screen 0 800x600x24\" meshlabserver $@  -i /NEURD/Applications/Tutorials/Auto_Proof_Pipeline/Single_Soma_Exc/temp/neuron_28961.off -o /NEURD/Applications/Tutorials/Auto_Proof_Pipeline/Single_Soma_Exc/temp/neuron_28961_decimated.off -s /NEURD/Applications/Tutorials/Auto_Proof_Pipeline/Single_Soma_Exc/temp/decimation_meshlab_06478157.mls\n"
     ]
    },
    {
     "name": "stderr",
     "output_type": "stream",
     "text": [
      "8it [1:46:32, 815.37s/it]\n",
      "Downloading Meshes:   0%|                                                                   | 0/1 [00:00<?, ?it/s]\u001b[A\n",
      "Downloading Meshes: 100%|███████████████████████████████████████████████████████████| 1/1 [00:44<00:00, 44.32s/it]\u001b[A"
     ]
    },
    {
     "name": "stdout",
     "output_type": "stream",
     "text": [
      "Warning: deduplication not currently supported for this layer's variable layered draco meshes\n"
     ]
    },
    {
     "name": "stderr",
     "output_type": "stream",
     "text": [
      "\n"
     ]
    },
    {
     "name": "stdout",
     "output_type": "stream",
     "text": [
      "xvfb-run -n 7500 -s \"-screen 0 800x600x24\" meshlabserver $@  -i /NEURD/Applications/Tutorials/Auto_Proof_Pipeline/Single_Soma_Exc/temp/neuron_55416.off -o /NEURD/Applications/Tutorials/Auto_Proof_Pipeline/Single_Soma_Exc/temp/neuron_55416_decimated.off -s /NEURD/Applications/Tutorials/Auto_Proof_Pipeline/Single_Soma_Exc/temp/decimation_meshlab_06331763.mls\n",
      "xvfb-run -n 3494 -s \"-screen 0 800x600x24\" meshlabserver $@  -i /NEURD/Applications/Tutorials/Auto_Proof_Pipeline/Single_Soma_Exc/temp/neuron_1559.off -o /NEURD/Applications/Tutorials/Auto_Proof_Pipeline/Single_Soma_Exc/temp/neuron_1559_decimated.off -s /NEURD/Applications/Tutorials/Auto_Proof_Pipeline/Single_Soma_Exc/temp/decimation_meshlab_0665489.mls\n"
     ]
    }
   ],
   "source": [
    "results = np.zeros((len(good_ids), 4))\n",
    "\n",
    "for i, id in tqdm(enumerate(good_ids)):\n",
    "    mesh_new, mesh_old = collect_meshes(id, cv_new, cv_old)\n",
    "    length_new = tu.skeletal_length_from_mesh(trimesh.Trimesh(mesh_new.vertices, mesh_new.faces))\n",
    "    length_old = tu.skeletal_length_from_mesh(trimesh.Trimesh(mesh_old.vertices, mesh_old.faces))\n",
    "\n",
    "    results[i, 0] = length_new\n",
    "    results[i, 1] = length_old\n",
    "    # difference in lengths\n",
    "    results[i, 2] = length_new - length_old\n",
    "    # scale\n",
    "    results[i, 3] = length_new/length_old\n",
    "\n",
    "    # manually remove temp folder to save disk space\n",
    "    shutil.rmtree('temp/')\n",
    "\n",
    "np.save(\"mesh_length_comparisons_new-old-diff-ratio\", results)"
   ]
  },
  {
   "cell_type": "code",
   "execution_count": null,
   "id": "fcdf8e44-d70a-4dd2-a4c2-d82ceeb33442",
   "metadata": {
    "scrolled": true
   },
   "outputs": [
    {
     "name": "stderr",
     "output_type": "stream",
     "text": [
      "Downloading Meshes:   0%|                                                                   | 0/1 [00:00<?, ?it/s]/usr/local/lib/python3.8/dist-packages/google/auth/_default.py:76: UserWarning: Your application has authenticated using end user credentials from Google Cloud SDK without a quota project. You might receive a \"quota exceeded\" or \"API not enabled\" error. See the following page for troubleshooting: https://cloud.google.com/docs/authentication/adc-troubleshooting/user-creds. \n",
      "  warnings.warn(_CLOUD_SDK_CREDENTIALS_WARNING)\n",
      "WARNING - 2024-08-26 09:57:32,464 - _default - No project ID could be determined. Consider running `gcloud config set project` or setting the GOOGLE_CLOUD_PROJECT environment variable\n",
      "/usr/local/lib/python3.8/dist-packages/google/auth/_default.py:76: UserWarning: Your application has authenticated using end user credentials from Google Cloud SDK without a quota project. You might receive a \"quota exceeded\" or \"API not enabled\" error. See the following page for troubleshooting: https://cloud.google.com/docs/authentication/adc-troubleshooting/user-creds. \n",
      "  warnings.warn(_CLOUD_SDK_CREDENTIALS_WARNING)\n",
      "WARNING - 2024-08-26 09:57:32,924 - _default - No project ID could be determined. Consider running `gcloud config set project` or setting the GOOGLE_CLOUD_PROJECT environment variable\n",
      "/usr/local/lib/python3.8/dist-packages/google/auth/_default.py:76: UserWarning: Your application has authenticated using end user credentials from Google Cloud SDK without a quota project. You might receive a \"quota exceeded\" or \"API not enabled\" error. See the following page for troubleshooting: https://cloud.google.com/docs/authentication/adc-troubleshooting/user-creds. \n",
      "  warnings.warn(_CLOUD_SDK_CREDENTIALS_WARNING)\n",
      "WARNING - 2024-08-26 09:57:33,393 - _default - No project ID could be determined. Consider running `gcloud config set project` or setting the GOOGLE_CLOUD_PROJECT environment variable\n",
      "/usr/local/lib/python3.8/dist-packages/google/auth/_default.py:76: UserWarning: Your application has authenticated using end user credentials from Google Cloud SDK without a quota project. You might receive a \"quota exceeded\" or \"API not enabled\" error. See the following page for troubleshooting: https://cloud.google.com/docs/authentication/adc-troubleshooting/user-creds. \n",
      "  warnings.warn(_CLOUD_SDK_CREDENTIALS_WARNING)\n",
      "WARNING - 2024-08-26 09:57:33,847 - _default - No project ID could be determined. Consider running `gcloud config set project` or setting the GOOGLE_CLOUD_PROJECT environment variable\n",
      "/usr/local/lib/python3.8/dist-packages/google/auth/_default.py:76: UserWarning: Your application has authenticated using end user credentials from Google Cloud SDK without a quota project. You might receive a \"quota exceeded\" or \"API not enabled\" error. See the following page for troubleshooting: https://cloud.google.com/docs/authentication/adc-troubleshooting/user-creds. \n",
      "  warnings.warn(_CLOUD_SDK_CREDENTIALS_WARNING)\n",
      "WARNING - 2024-08-26 09:57:34,301 - _default - No project ID could be determined. Consider running `gcloud config set project` or setting the GOOGLE_CLOUD_PROJECT environment variable\n",
      "/usr/local/lib/python3.8/dist-packages/google/auth/_default.py:76: UserWarning: Your application has authenticated using end user credentials from Google Cloud SDK without a quota project. You might receive a \"quota exceeded\" or \"API not enabled\" error. See the following page for troubleshooting: https://cloud.google.com/docs/authentication/adc-troubleshooting/user-creds. \n",
      "  warnings.warn(_CLOUD_SDK_CREDENTIALS_WARNING)\n",
      "WARNING - 2024-08-26 09:57:34,763 - _default - No project ID could be determined. Consider running `gcloud config set project` or setting the GOOGLE_CLOUD_PROJECT environment variable\n",
      "/usr/local/lib/python3.8/dist-packages/google/auth/_default.py:76: UserWarning: Your application has authenticated using end user credentials from Google Cloud SDK without a quota project. You might receive a \"quota exceeded\" or \"API not enabled\" error. See the following page for troubleshooting: https://cloud.google.com/docs/authentication/adc-troubleshooting/user-creds. \n",
      "  warnings.warn(_CLOUD_SDK_CREDENTIALS_WARNING)\n",
      "WARNING - 2024-08-26 09:57:35,227 - _default - No project ID could be determined. Consider running `gcloud config set project` or setting the GOOGLE_CLOUD_PROJECT environment variable\n",
      "/usr/local/lib/python3.8/dist-packages/google/auth/_default.py:76: UserWarning: Your application has authenticated using end user credentials from Google Cloud SDK without a quota project. You might receive a \"quota exceeded\" or \"API not enabled\" error. See the following page for troubleshooting: https://cloud.google.com/docs/authentication/adc-troubleshooting/user-creds. \n",
      "  warnings.warn(_CLOUD_SDK_CREDENTIALS_WARNING)\n",
      "WARNING - 2024-08-26 09:57:35,687 - _default - No project ID could be determined. Consider running `gcloud config set project` or setting the GOOGLE_CLOUD_PROJECT environment variable\n",
      "/usr/local/lib/python3.8/dist-packages/google/auth/_default.py:76: UserWarning: Your application has authenticated using end user credentials from Google Cloud SDK without a quota project. You might receive a \"quota exceeded\" or \"API not enabled\" error. See the following page for troubleshooting: https://cloud.google.com/docs/authentication/adc-troubleshooting/user-creds. \n",
      "  warnings.warn(_CLOUD_SDK_CREDENTIALS_WARNING)\n",
      "WARNING - 2024-08-26 09:57:36,152 - _default - No project ID could be determined. Consider running `gcloud config set project` or setting the GOOGLE_CLOUD_PROJECT environment variable\n",
      "/usr/local/lib/python3.8/dist-packages/google/auth/_default.py:76: UserWarning: Your application has authenticated using end user credentials from Google Cloud SDK without a quota project. You might receive a \"quota exceeded\" or \"API not enabled\" error. See the following page for troubleshooting: https://cloud.google.com/docs/authentication/adc-troubleshooting/user-creds. \n",
      "  warnings.warn(_CLOUD_SDK_CREDENTIALS_WARNING)\n",
      "WARNING - 2024-08-26 09:57:36,617 - _default - No project ID could be determined. Consider running `gcloud config set project` or setting the GOOGLE_CLOUD_PROJECT environment variable\n",
      "/usr/local/lib/python3.8/dist-packages/google/auth/_default.py:76: UserWarning: Your application has authenticated using end user credentials from Google Cloud SDK without a quota project. You might receive a \"quota exceeded\" or \"API not enabled\" error. See the following page for troubleshooting: https://cloud.google.com/docs/authentication/adc-troubleshooting/user-creds. \n",
      "  warnings.warn(_CLOUD_SDK_CREDENTIALS_WARNING)\n",
      "WARNING - 2024-08-26 09:57:37,091 - _default - No project ID could be determined. Consider running `gcloud config set project` or setting the GOOGLE_CLOUD_PROJECT environment variable\n",
      "/usr/local/lib/python3.8/dist-packages/google/auth/_default.py:76: UserWarning: Your application has authenticated using end user credentials from Google Cloud SDK without a quota project. You might receive a \"quota exceeded\" or \"API not enabled\" error. See the following page for troubleshooting: https://cloud.google.com/docs/authentication/adc-troubleshooting/user-creds. \n",
      "  warnings.warn(_CLOUD_SDK_CREDENTIALS_WARNING)\n",
      "WARNING - 2024-08-26 09:57:40,810 - _default - No project ID could be determined. Consider running `gcloud config set project` or setting the GOOGLE_CLOUD_PROJECT environment variable\n",
      "/usr/local/lib/python3.8/dist-packages/google/auth/_default.py:76: UserWarning: Your application has authenticated using end user credentials from Google Cloud SDK without a quota project. You might receive a \"quota exceeded\" or \"API not enabled\" error. See the following page for troubleshooting: https://cloud.google.com/docs/authentication/adc-troubleshooting/user-creds. \n",
      "  warnings.warn(_CLOUD_SDK_CREDENTIALS_WARNING)\n",
      "WARNING - 2024-08-26 09:57:41,287 - _default - No project ID could be determined. Consider running `gcloud config set project` or setting the GOOGLE_CLOUD_PROJECT environment variable\n",
      "/usr/local/lib/python3.8/dist-packages/google/auth/_default.py:76: UserWarning: Your application has authenticated using end user credentials from Google Cloud SDK without a quota project. You might receive a \"quota exceeded\" or \"API not enabled\" error. See the following page for troubleshooting: https://cloud.google.com/docs/authentication/adc-troubleshooting/user-creds. \n",
      "  warnings.warn(_CLOUD_SDK_CREDENTIALS_WARNING)\n",
      "WARNING - 2024-08-26 09:57:41,758 - _default - No project ID could be determined. Consider running `gcloud config set project` or setting the GOOGLE_CLOUD_PROJECT environment variable\n",
      "/usr/local/lib/python3.8/dist-packages/google/auth/_default.py:76: UserWarning: Your application has authenticated using end user credentials from Google Cloud SDK without a quota project. You might receive a \"quota exceeded\" or \"API not enabled\" error. See the following page for troubleshooting: https://cloud.google.com/docs/authentication/adc-troubleshooting/user-creds. \n",
      "  warnings.warn(_CLOUD_SDK_CREDENTIALS_WARNING)\n",
      "WARNING - 2024-08-26 09:57:42,233 - _default - No project ID could be determined. Consider running `gcloud config set project` or setting the GOOGLE_CLOUD_PROJECT environment variable\n",
      "/usr/local/lib/python3.8/dist-packages/google/auth/_default.py:76: UserWarning: Your application has authenticated using end user credentials from Google Cloud SDK without a quota project. You might receive a \"quota exceeded\" or \"API not enabled\" error. See the following page for troubleshooting: https://cloud.google.com/docs/authentication/adc-troubleshooting/user-creds. \n",
      "  warnings.warn(_CLOUD_SDK_CREDENTIALS_WARNING)\n",
      "WARNING - 2024-08-26 09:57:42,708 - _default - No project ID could be determined. Consider running `gcloud config set project` or setting the GOOGLE_CLOUD_PROJECT environment variable\n",
      "/usr/local/lib/python3.8/dist-packages/google/auth/_default.py:76: UserWarning: Your application has authenticated using end user credentials from Google Cloud SDK without a quota project. You might receive a \"quota exceeded\" or \"API not enabled\" error. See the following page for troubleshooting: https://cloud.google.com/docs/authentication/adc-troubleshooting/user-creds. \n",
      "  warnings.warn(_CLOUD_SDK_CREDENTIALS_WARNING)\n",
      "WARNING - 2024-08-26 09:57:43,185 - _default - No project ID could be determined. Consider running `gcloud config set project` or setting the GOOGLE_CLOUD_PROJECT environment variable\n",
      "/usr/local/lib/python3.8/dist-packages/google/auth/_default.py:76: UserWarning: Your application has authenticated using end user credentials from Google Cloud SDK without a quota project. You might receive a \"quota exceeded\" or \"API not enabled\" error. See the following page for troubleshooting: https://cloud.google.com/docs/authentication/adc-troubleshooting/user-creds. \n",
      "  warnings.warn(_CLOUD_SDK_CREDENTIALS_WARNING)\n",
      "WARNING - 2024-08-26 09:57:43,662 - _default - No project ID could be determined. Consider running `gcloud config set project` or setting the GOOGLE_CLOUD_PROJECT environment variable\n",
      "/usr/local/lib/python3.8/dist-packages/google/auth/_default.py:76: UserWarning: Your application has authenticated using end user credentials from Google Cloud SDK without a quota project. You might receive a \"quota exceeded\" or \"API not enabled\" error. See the following page for troubleshooting: https://cloud.google.com/docs/authentication/adc-troubleshooting/user-creds. \n",
      "  warnings.warn(_CLOUD_SDK_CREDENTIALS_WARNING)\n",
      "WARNING - 2024-08-26 09:57:44,144 - _default - No project ID could be determined. Consider running `gcloud config set project` or setting the GOOGLE_CLOUD_PROJECT environment variable\n",
      "Downloading Meshes: 100%|███████████████████████████████████████████████████████████| 1/1 [00:51<00:00, 51.87s/it]"
     ]
    },
    {
     "name": "stdout",
     "output_type": "stream",
     "text": [
      "Warning: deduplication not currently supported for this layer's variable layered draco meshes\n"
     ]
    },
    {
     "name": "stderr",
     "output_type": "stream",
     "text": [
      "\n"
     ]
    },
    {
     "name": "stdout",
     "output_type": "stream",
     "text": [
      "xvfb-run -n 5263 -s \"-screen 0 800x600x24\" meshlabserver $@  -i /NEURD/Applications/Tutorials/Auto_Proof_Pipeline/Single_Soma_Exc/temp/neuron_64165.off -o /NEURD/Applications/Tutorials/Auto_Proof_Pipeline/Single_Soma_Exc/temp/neuron_64165_decimated.off -s /NEURD/Applications/Tutorials/Auto_Proof_Pipeline/Single_Soma_Exc/temp/decimation_meshlab_06171060.mls\n",
      "xvfb-run -n 3296 -s \"-screen 0 800x600x24\" meshlabserver $@  -i /NEURD/Applications/Tutorials/Auto_Proof_Pipeline/Single_Soma_Exc/temp/neuron_93533.off -o /NEURD/Applications/Tutorials/Auto_Proof_Pipeline/Single_Soma_Exc/temp/neuron_93533_decimated.off -s /NEURD/Applications/Tutorials/Auto_Proof_Pipeline/Single_Soma_Exc/temp/decimation_meshlab_06593459.mls\n"
     ]
    },
    {
     "name": "stderr",
     "output_type": "stream",
     "text": [
      "Downloading Meshes: 100%|███████████████████████████████████████████████████████████| 1/1 [00:25<00:00, 25.11s/it]"
     ]
    },
    {
     "name": "stdout",
     "output_type": "stream",
     "text": [
      "Warning: deduplication not currently supported for this layer's variable layered draco meshes\n"
     ]
    },
    {
     "name": "stderr",
     "output_type": "stream",
     "text": [
      "\n"
     ]
    },
    {
     "name": "stdout",
     "output_type": "stream",
     "text": [
      "xvfb-run -n 3243 -s \"-screen 0 800x600x24\" meshlabserver $@  -i /NEURD/Applications/Tutorials/Auto_Proof_Pipeline/Single_Soma_Exc/temp/neuron_75907.off -o /NEURD/Applications/Tutorials/Auto_Proof_Pipeline/Single_Soma_Exc/temp/neuron_75907_decimated.off -s /NEURD/Applications/Tutorials/Auto_Proof_Pipeline/Single_Soma_Exc/temp/decimation_meshlab_06264931.mls\n",
      "xvfb-run -n 8086 -s \"-screen 0 800x600x24\" meshlabserver $@  -i /NEURD/Applications/Tutorials/Auto_Proof_Pipeline/Single_Soma_Exc/temp/neuron_54641.off -o /NEURD/Applications/Tutorials/Auto_Proof_Pipeline/Single_Soma_Exc/temp/neuron_54641_decimated.off -s /NEURD/Applications/Tutorials/Auto_Proof_Pipeline/Single_Soma_Exc/temp/decimation_meshlab_06362250.mls\n"
     ]
    },
    {
     "name": "stderr",
     "output_type": "stream",
     "text": [
      "Downloading Meshes: 100%|███████████████████████████████████████████████████████████| 1/1 [00:52<00:00, 52.12s/it]"
     ]
    },
    {
     "name": "stdout",
     "output_type": "stream",
     "text": [
      "Warning: deduplication not currently supported for this layer's variable layered draco meshes\n"
     ]
    },
    {
     "name": "stderr",
     "output_type": "stream",
     "text": [
      "\n"
     ]
    },
    {
     "name": "stdout",
     "output_type": "stream",
     "text": [
      "xvfb-run -n 3903 -s \"-screen 0 800x600x24\" meshlabserver $@  -i /NEURD/Applications/Tutorials/Auto_Proof_Pipeline/Single_Soma_Exc/temp/neuron_95749.off -o /NEURD/Applications/Tutorials/Auto_Proof_Pipeline/Single_Soma_Exc/temp/neuron_95749_decimated.off -s /NEURD/Applications/Tutorials/Auto_Proof_Pipeline/Single_Soma_Exc/temp/decimation_meshlab_06309634.mls\n",
      "xvfb-run -n 1084 -s \"-screen 0 800x600x24\" meshlabserver $@  -i /NEURD/Applications/Tutorials/Auto_Proof_Pipeline/Single_Soma_Exc/temp/neuron_71038.off -o /NEURD/Applications/Tutorials/Auto_Proof_Pipeline/Single_Soma_Exc/temp/neuron_71038_decimated.off -s /NEURD/Applications/Tutorials/Auto_Proof_Pipeline/Single_Soma_Exc/temp/decimation_meshlab_06834743.mls\n"
     ]
    },
    {
     "name": "stderr",
     "output_type": "stream",
     "text": [
      "Downloading Meshes: 100%|███████████████████████████████████████████████████████████| 1/1 [00:41<00:00, 41.53s/it]"
     ]
    },
    {
     "name": "stdout",
     "output_type": "stream",
     "text": [
      "Warning: deduplication not currently supported for this layer's variable layered draco meshes\n"
     ]
    },
    {
     "name": "stderr",
     "output_type": "stream",
     "text": [
      "\n"
     ]
    },
    {
     "name": "stdout",
     "output_type": "stream",
     "text": [
      "xvfb-run -n 9297 -s \"-screen 0 800x600x24\" meshlabserver $@  -i /NEURD/Applications/Tutorials/Auto_Proof_Pipeline/Single_Soma_Exc/temp/neuron_28703.off -o /NEURD/Applications/Tutorials/Auto_Proof_Pipeline/Single_Soma_Exc/temp/neuron_28703_decimated.off -s /NEURD/Applications/Tutorials/Auto_Proof_Pipeline/Single_Soma_Exc/temp/decimation_meshlab_06117820.mls\n",
      "xvfb-run -n 9012 -s \"-screen 0 800x600x24\" meshlabserver $@  -i /NEURD/Applications/Tutorials/Auto_Proof_Pipeline/Single_Soma_Exc/temp/neuron_65035.off -o /NEURD/Applications/Tutorials/Auto_Proof_Pipeline/Single_Soma_Exc/temp/neuron_65035_decimated.off -s /NEURD/Applications/Tutorials/Auto_Proof_Pipeline/Single_Soma_Exc/temp/decimation_meshlab_06989411.mls\n"
     ]
    },
    {
     "name": "stderr",
     "output_type": "stream",
     "text": [
      "Downloading Meshes: 100%|███████████████████████████████████████████████████████████| 1/1 [00:23<00:00, 23.40s/it]"
     ]
    },
    {
     "name": "stdout",
     "output_type": "stream",
     "text": [
      "Warning: deduplication not currently supported for this layer's variable layered draco meshes\n"
     ]
    },
    {
     "name": "stderr",
     "output_type": "stream",
     "text": [
      "\n"
     ]
    },
    {
     "name": "stdout",
     "output_type": "stream",
     "text": [
      "xvfb-run -n 1992 -s \"-screen 0 800x600x24\" meshlabserver $@  -i /NEURD/Applications/Tutorials/Auto_Proof_Pipeline/Single_Soma_Exc/temp/neuron_1164.off -o /NEURD/Applications/Tutorials/Auto_Proof_Pipeline/Single_Soma_Exc/temp/neuron_1164_decimated.off -s /NEURD/Applications/Tutorials/Auto_Proof_Pipeline/Single_Soma_Exc/temp/decimation_meshlab_06838095.mls\n",
      "xvfb-run -n 3571 -s \"-screen 0 800x600x24\" meshlabserver $@  -i /NEURD/Applications/Tutorials/Auto_Proof_Pipeline/Single_Soma_Exc/temp/neuron_18178.off -o /NEURD/Applications/Tutorials/Auto_Proof_Pipeline/Single_Soma_Exc/temp/neuron_18178_decimated.off -s /NEURD/Applications/Tutorials/Auto_Proof_Pipeline/Single_Soma_Exc/temp/decimation_meshlab_06161192.mls\n"
     ]
    },
    {
     "name": "stderr",
     "output_type": "stream",
     "text": [
      "Downloading Meshes: 100%|███████████████████████████████████████████████████████████| 1/1 [00:47<00:00, 47.49s/it]"
     ]
    },
    {
     "name": "stdout",
     "output_type": "stream",
     "text": [
      "Warning: deduplication not currently supported for this layer's variable layered draco meshes\n"
     ]
    },
    {
     "name": "stderr",
     "output_type": "stream",
     "text": [
      "\n"
     ]
    },
    {
     "name": "stdout",
     "output_type": "stream",
     "text": [
      "xvfb-run -n 2891 -s \"-screen 0 800x600x24\" meshlabserver $@  -i /NEURD/Applications/Tutorials/Auto_Proof_Pipeline/Single_Soma_Exc/temp/neuron_24093.off -o /NEURD/Applications/Tutorials/Auto_Proof_Pipeline/Single_Soma_Exc/temp/neuron_24093_decimated.off -s /NEURD/Applications/Tutorials/Auto_Proof_Pipeline/Single_Soma_Exc/temp/decimation_meshlab_06403620.mls\n",
      "xvfb-run -n 9266 -s \"-screen 0 800x600x24\" meshlabserver $@  -i /NEURD/Applications/Tutorials/Auto_Proof_Pipeline/Single_Soma_Exc/temp/neuron_7731.off -o /NEURD/Applications/Tutorials/Auto_Proof_Pipeline/Single_Soma_Exc/temp/neuron_7731_decimated.off -s /NEURD/Applications/Tutorials/Auto_Proof_Pipeline/Single_Soma_Exc/temp/decimation_meshlab_06434136.mls\n"
     ]
    },
    {
     "name": "stderr",
     "output_type": "stream",
     "text": [
      "Downloading Meshes: 100%|███████████████████████████████████████████████████████████| 1/1 [00:41<00:00, 41.21s/it]"
     ]
    },
    {
     "name": "stdout",
     "output_type": "stream",
     "text": [
      "Warning: deduplication not currently supported for this layer's variable layered draco meshes\n"
     ]
    },
    {
     "name": "stderr",
     "output_type": "stream",
     "text": [
      "\n"
     ]
    },
    {
     "name": "stdout",
     "output_type": "stream",
     "text": [
      "xvfb-run -n 3543 -s \"-screen 0 800x600x24\" meshlabserver $@  -i /NEURD/Applications/Tutorials/Auto_Proof_Pipeline/Single_Soma_Exc/temp/neuron_26985.off -o /NEURD/Applications/Tutorials/Auto_Proof_Pipeline/Single_Soma_Exc/temp/neuron_26985_decimated.off -s /NEURD/Applications/Tutorials/Auto_Proof_Pipeline/Single_Soma_Exc/temp/decimation_meshlab_06576921.mls\n",
      "xvfb-run -n 6760 -s \"-screen 0 800x600x24\" meshlabserver $@  -i /NEURD/Applications/Tutorials/Auto_Proof_Pipeline/Single_Soma_Exc/temp/neuron_65807.off -o /NEURD/Applications/Tutorials/Auto_Proof_Pipeline/Single_Soma_Exc/temp/neuron_65807_decimated.off -s /NEURD/Applications/Tutorials/Auto_Proof_Pipeline/Single_Soma_Exc/temp/decimation_meshlab_06835527.mls\n"
     ]
    },
    {
     "name": "stderr",
     "output_type": "stream",
     "text": [
      "Downloading Meshes:   0%|                                                                   | 0/1 [00:00<?, ?it/s]"
     ]
    },
    {
     "name": "stdout",
     "output_type": "stream",
     "text": [
      "xvfb-run -n 670 -s \"-screen 0 800x600x24\" meshlabserver $@  -i /NEURD/Applications/Tutorials/Auto_Proof_Pipeline/Single_Soma_Exc/temp/neuron_5165.off -o /NEURD/Applications/Tutorials/Auto_Proof_Pipeline/Single_Soma_Exc/temp/neuron_5165_decimated.off -s /NEURD/Applications/Tutorials/Auto_Proof_Pipeline/Single_Soma_Exc/temp/decimation_meshlab_06337947.mls\n"
     ]
    },
    {
     "name": "stderr",
     "output_type": "stream",
     "text": [
      "Downloading Meshes: 100%|███████████████████████████████████████████████████████████| 1/1 [00:43<00:00, 43.60s/it]"
     ]
    },
    {
     "name": "stdout",
     "output_type": "stream",
     "text": [
      "Warning: deduplication not currently supported for this layer's variable layered draco meshes\n"
     ]
    },
    {
     "name": "stderr",
     "output_type": "stream",
     "text": [
      "\n"
     ]
    },
    {
     "name": "stdout",
     "output_type": "stream",
     "text": [
      "xvfb-run -n 3702 -s \"-screen 0 800x600x24\" meshlabserver $@  -i /NEURD/Applications/Tutorials/Auto_Proof_Pipeline/Single_Soma_Exc/temp/neuron_15330.off -o /NEURD/Applications/Tutorials/Auto_Proof_Pipeline/Single_Soma_Exc/temp/neuron_15330_decimated.off -s /NEURD/Applications/Tutorials/Auto_Proof_Pipeline/Single_Soma_Exc/temp/decimation_meshlab_06224148.mls\n",
      "xvfb-run -n 374 -s \"-screen 0 800x600x24\" meshlabserver $@  -i /NEURD/Applications/Tutorials/Auto_Proof_Pipeline/Single_Soma_Exc/temp/neuron_52337.off -o /NEURD/Applications/Tutorials/Auto_Proof_Pipeline/Single_Soma_Exc/temp/neuron_52337_decimated.off -s /NEURD/Applications/Tutorials/Auto_Proof_Pipeline/Single_Soma_Exc/temp/decimation_meshlab_06682031.mls\n"
     ]
    },
    {
     "name": "stderr",
     "output_type": "stream",
     "text": [
      "Downloading Meshes: 100%|███████████████████████████████████████████████████████████| 1/1 [00:34<00:00, 34.64s/it]"
     ]
    },
    {
     "name": "stdout",
     "output_type": "stream",
     "text": [
      "Warning: deduplication not currently supported for this layer's variable layered draco meshes\n"
     ]
    },
    {
     "name": "stderr",
     "output_type": "stream",
     "text": [
      "\n"
     ]
    },
    {
     "name": "stdout",
     "output_type": "stream",
     "text": [
      "xvfb-run -n 8820 -s \"-screen 0 800x600x24\" meshlabserver $@  -i /NEURD/Applications/Tutorials/Auto_Proof_Pipeline/Single_Soma_Exc/temp/neuron_48319.off -o /NEURD/Applications/Tutorials/Auto_Proof_Pipeline/Single_Soma_Exc/temp/neuron_48319_decimated.off -s /NEURD/Applications/Tutorials/Auto_Proof_Pipeline/Single_Soma_Exc/temp/decimation_meshlab_06918192.mls\n",
      "xvfb-run -n 817 -s \"-screen 0 800x600x24\" meshlabserver $@  -i /NEURD/Applications/Tutorials/Auto_Proof_Pipeline/Single_Soma_Exc/temp/neuron_36454.off -o /NEURD/Applications/Tutorials/Auto_Proof_Pipeline/Single_Soma_Exc/temp/neuron_36454_decimated.off -s /NEURD/Applications/Tutorials/Auto_Proof_Pipeline/Single_Soma_Exc/temp/decimation_meshlab_06720008.mls\n"
     ]
    },
    {
     "name": "stderr",
     "output_type": "stream",
     "text": [
      "Downloading Meshes: 100%|███████████████████████████████████████████████████████████| 1/1 [00:21<00:00, 21.40s/it]"
     ]
    },
    {
     "name": "stdout",
     "output_type": "stream",
     "text": [
      "Warning: deduplication not currently supported for this layer's variable layered draco meshes\n"
     ]
    },
    {
     "name": "stderr",
     "output_type": "stream",
     "text": [
      "\n"
     ]
    },
    {
     "name": "stdout",
     "output_type": "stream",
     "text": [
      "xvfb-run -n 3373 -s \"-screen 0 800x600x24\" meshlabserver $@  -i /NEURD/Applications/Tutorials/Auto_Proof_Pipeline/Single_Soma_Exc/temp/neuron_39345.off -o /NEURD/Applications/Tutorials/Auto_Proof_Pipeline/Single_Soma_Exc/temp/neuron_39345_decimated.off -s /NEURD/Applications/Tutorials/Auto_Proof_Pipeline/Single_Soma_Exc/temp/decimation_meshlab_06237959.mls\n"
     ]
    },
    {
     "name": "stderr",
     "output_type": "stream",
     "text": [
      "Upload to Cache: 0it [00:00, ?it/s]\n"
     ]
    },
    {
     "name": "stdout",
     "output_type": "stream",
     "text": [
      "xvfb-run -n 8475 -s \"-screen 0 800x600x24\" meshlabserver $@  -i /NEURD/Applications/Tutorials/Auto_Proof_Pipeline/Single_Soma_Exc/temp/neuron_40989.off -o /NEURD/Applications/Tutorials/Auto_Proof_Pipeline/Single_Soma_Exc/temp/neuron_40989_decimated.off -s /NEURD/Applications/Tutorials/Auto_Proof_Pipeline/Single_Soma_Exc/temp/decimation_meshlab_06357421.mls\n"
     ]
    },
    {
     "name": "stderr",
     "output_type": "stream",
     "text": [
      "Downloading Meshes: 100%|███████████████████████████████████████████████████████████| 1/1 [00:25<00:00, 25.72s/it]"
     ]
    },
    {
     "name": "stdout",
     "output_type": "stream",
     "text": [
      "Warning: deduplication not currently supported for this layer's variable layered draco meshes\n"
     ]
    },
    {
     "name": "stderr",
     "output_type": "stream",
     "text": [
      "\n"
     ]
    },
    {
     "name": "stdout",
     "output_type": "stream",
     "text": [
      "xvfb-run -n 641 -s \"-screen 0 800x600x24\" meshlabserver $@  -i /NEURD/Applications/Tutorials/Auto_Proof_Pipeline/Single_Soma_Exc/temp/neuron_3524.off -o /NEURD/Applications/Tutorials/Auto_Proof_Pipeline/Single_Soma_Exc/temp/neuron_3524_decimated.off -s /NEURD/Applications/Tutorials/Auto_Proof_Pipeline/Single_Soma_Exc/temp/decimation_meshlab_0660780.mls\n",
      "xvfb-run -n 6895 -s \"-screen 0 800x600x24\" meshlabserver $@  -i /NEURD/Applications/Tutorials/Auto_Proof_Pipeline/Single_Soma_Exc/temp/neuron_70642.off -o /NEURD/Applications/Tutorials/Auto_Proof_Pipeline/Single_Soma_Exc/temp/neuron_70642_decimated.off -s /NEURD/Applications/Tutorials/Auto_Proof_Pipeline/Single_Soma_Exc/temp/decimation_meshlab_06257932.mls\n"
     ]
    },
    {
     "name": "stderr",
     "output_type": "stream",
     "text": [
      "Downloading Meshes: 100%|███████████████████████████████████████████████████████████| 1/1 [00:31<00:00, 31.18s/it]"
     ]
    },
    {
     "name": "stdout",
     "output_type": "stream",
     "text": [
      "Warning: deduplication not currently supported for this layer's variable layered draco meshes\n"
     ]
    },
    {
     "name": "stderr",
     "output_type": "stream",
     "text": [
      "\n"
     ]
    },
    {
     "name": "stdout",
     "output_type": "stream",
     "text": [
      "xvfb-run -n 1792 -s \"-screen 0 800x600x24\" meshlabserver $@  -i /NEURD/Applications/Tutorials/Auto_Proof_Pipeline/Single_Soma_Exc/temp/neuron_75326.off -o /NEURD/Applications/Tutorials/Auto_Proof_Pipeline/Single_Soma_Exc/temp/neuron_75326_decimated.off -s /NEURD/Applications/Tutorials/Auto_Proof_Pipeline/Single_Soma_Exc/temp/decimation_meshlab_06697434.mls\n",
      "xvfb-run -n 8026 -s \"-screen 0 800x600x24\" meshlabserver $@  -i /NEURD/Applications/Tutorials/Auto_Proof_Pipeline/Single_Soma_Exc/temp/neuron_36810.off -o /NEURD/Applications/Tutorials/Auto_Proof_Pipeline/Single_Soma_Exc/temp/neuron_36810_decimated.off -s /NEURD/Applications/Tutorials/Auto_Proof_Pipeline/Single_Soma_Exc/temp/decimation_meshlab_06155309.mls\n"
     ]
    },
    {
     "name": "stderr",
     "output_type": "stream",
     "text": [
      "Downloading Meshes: 100%|███████████████████████████████████████████████████████████| 1/1 [00:53<00:00, 53.05s/it]"
     ]
    },
    {
     "name": "stdout",
     "output_type": "stream",
     "text": [
      "Warning: deduplication not currently supported for this layer's variable layered draco meshes\n"
     ]
    },
    {
     "name": "stderr",
     "output_type": "stream",
     "text": [
      "\n"
     ]
    },
    {
     "name": "stdout",
     "output_type": "stream",
     "text": [
      "xvfb-run -n 7502 -s \"-screen 0 800x600x24\" meshlabserver $@  -i /NEURD/Applications/Tutorials/Auto_Proof_Pipeline/Single_Soma_Exc/temp/neuron_33414.off -o /NEURD/Applications/Tutorials/Auto_Proof_Pipeline/Single_Soma_Exc/temp/neuron_33414_decimated.off -s /NEURD/Applications/Tutorials/Auto_Proof_Pipeline/Single_Soma_Exc/temp/decimation_meshlab_0668547.mls\n",
      "xvfb-run -n 9449 -s \"-screen 0 800x600x24\" meshlabserver $@  -i /NEURD/Applications/Tutorials/Auto_Proof_Pipeline/Single_Soma_Exc/temp/neuron_99942.off -o /NEURD/Applications/Tutorials/Auto_Proof_Pipeline/Single_Soma_Exc/temp/neuron_99942_decimated.off -s /NEURD/Applications/Tutorials/Auto_Proof_Pipeline/Single_Soma_Exc/temp/decimation_meshlab_06410880.mls\n"
     ]
    },
    {
     "name": "stderr",
     "output_type": "stream",
     "text": [
      "Downloading Meshes: 100%|███████████████████████████████████████████████████████████| 1/1 [00:32<00:00, 32.69s/it]"
     ]
    },
    {
     "name": "stdout",
     "output_type": "stream",
     "text": [
      "Warning: deduplication not currently supported for this layer's variable layered draco meshes\n"
     ]
    },
    {
     "name": "stderr",
     "output_type": "stream",
     "text": [
      "\n"
     ]
    },
    {
     "name": "stdout",
     "output_type": "stream",
     "text": [
      "xvfb-run -n 9651 -s \"-screen 0 800x600x24\" meshlabserver $@  -i /NEURD/Applications/Tutorials/Auto_Proof_Pipeline/Single_Soma_Exc/temp/neuron_62038.off -o /NEURD/Applications/Tutorials/Auto_Proof_Pipeline/Single_Soma_Exc/temp/neuron_62038_decimated.off -s /NEURD/Applications/Tutorials/Auto_Proof_Pipeline/Single_Soma_Exc/temp/decimation_meshlab_06578516.mls\n",
      "xvfb-run -n 3962 -s \"-screen 0 800x600x24\" meshlabserver $@  -i /NEURD/Applications/Tutorials/Auto_Proof_Pipeline/Single_Soma_Exc/temp/neuron_17435.off -o /NEURD/Applications/Tutorials/Auto_Proof_Pipeline/Single_Soma_Exc/temp/neuron_17435_decimated.off -s /NEURD/Applications/Tutorials/Auto_Proof_Pipeline/Single_Soma_Exc/temp/decimation_meshlab_06290582.mls\n"
     ]
    },
    {
     "name": "stderr",
     "output_type": "stream",
     "text": [
      "Downloading Meshes:   0%|                                                                   | 0/1 [00:00<?, ?it/s]"
     ]
    },
    {
     "name": "stdout",
     "output_type": "stream",
     "text": [
      "xvfb-run -n 1502 -s \"-screen 0 800x600x24\" meshlabserver $@  -i /NEURD/Applications/Tutorials/Auto_Proof_Pipeline/Single_Soma_Exc/temp/neuron_91056.off -o /NEURD/Applications/Tutorials/Auto_Proof_Pipeline/Single_Soma_Exc/temp/neuron_91056_decimated.off -s /NEURD/Applications/Tutorials/Auto_Proof_Pipeline/Single_Soma_Exc/temp/decimation_meshlab_06163189.mls\n"
     ]
    },
    {
     "name": "stderr",
     "output_type": "stream",
     "text": [
      "Downloading Meshes: 100%|██████████████████████████████████████████████████████████| 1/1 [01:44<00:00, 104.68s/it]"
     ]
    },
    {
     "name": "stdout",
     "output_type": "stream",
     "text": [
      "Warning: deduplication not currently supported for this layer's variable layered draco meshes\n"
     ]
    },
    {
     "name": "stderr",
     "output_type": "stream",
     "text": [
      "\n"
     ]
    },
    {
     "name": "stdout",
     "output_type": "stream",
     "text": [
      "xvfb-run -n 7704 -s \"-screen 0 800x600x24\" meshlabserver $@  -i /NEURD/Applications/Tutorials/Auto_Proof_Pipeline/Single_Soma_Exc/temp/neuron_77649.off -o /NEURD/Applications/Tutorials/Auto_Proof_Pipeline/Single_Soma_Exc/temp/neuron_77649_decimated.off -s /NEURD/Applications/Tutorials/Auto_Proof_Pipeline/Single_Soma_Exc/temp/decimation_meshlab_06432290.mls\n"
     ]
    }
   ],
   "source": [
    "# Failed first time around, so continue where it left off\n",
    "results = np.load(\"mesh_length_comparisons_new-old-diff-ratio.npy\")\n",
    "\n",
    "for i in range(67, 89):\n",
    "    id = good_ids[i]\n",
    "    \n",
    "    mesh_new, mesh_old = collect_meshes(id, cv_new, cv_old)\n",
    "    length_new = tu.skeletal_length_from_mesh(trimesh.Trimesh(mesh_new.vertices, mesh_new.faces))\n",
    "    length_old = tu.skeletal_length_from_mesh(trimesh.Trimesh(mesh_old.vertices, mesh_old.faces))\n",
    "\n",
    "    results[i, 0] = length_new\n",
    "    results[i, 1] = length_old\n",
    "    results[i, 2] = length_new - length_old\n",
    "    results[i, 3] = length_new/length_old\n",
    "\n",
    "    # manually remove temp folder\n",
    "    shutil.rmtree('temp/')\n",
    "\n",
    "np.save(\"mesh_length_comparisons_new-old-diff-ratio\", results)"
   ]
  },
  {
   "cell_type": "code",
   "execution_count": 26,
   "id": "1b5a1bb8-8b9c-42f8-bf08-27ae388eedc8",
   "metadata": {},
   "outputs": [],
   "source": [
    "results = np.load(\"mesh_length_comparisons_new-old-diff-ratio.npy\")"
   ]
  },
  {
   "cell_type": "markdown",
   "id": "e275de4c-2289-46dc-9a40-311fab52f046",
   "metadata": {},
   "source": [
    "## Better: for Microns neurons with many changes\n",
    "\n",
    "root_ids_proofread_microns.csv is produced by collect_cave_changes.ipynb"
   ]
  },
  {
   "cell_type": "code",
   "execution_count": 6,
   "id": "a0454007-ea81-4ef4-b254-c6668e0fb4df",
   "metadata": {},
   "outputs": [],
   "source": [
    "root_ids = pd.read_csv(\"root_ids_proofread_microns.csv\")"
   ]
  },
  {
   "cell_type": "code",
   "execution_count": 10,
   "id": "7bcc13fa-6853-4314-b167-d9a0201bbfb7",
   "metadata": {},
   "outputs": [
    {
     "data": {
      "text/html": [
       "<div>\n",
       "<style scoped>\n",
       "    .dataframe tbody tr th:only-of-type {\n",
       "        vertical-align: middle;\n",
       "    }\n",
       "\n",
       "    .dataframe tbody tr th {\n",
       "        vertical-align: top;\n",
       "    }\n",
       "\n",
       "    .dataframe thead th {\n",
       "        text-align: right;\n",
       "    }\n",
       "</style>\n",
       "<table border=\"1\" class=\"dataframe\">\n",
       "  <thead>\n",
       "    <tr style=\"text-align: right;\">\n",
       "      <th></th>\n",
       "      <th>Unnamed: 0</th>\n",
       "      <th>root_id_1078</th>\n",
       "      <th>pt_supervoxel_id</th>\n",
       "      <th>pt_position_x</th>\n",
       "      <th>pt_position_y</th>\n",
       "      <th>pt_position_z</th>\n",
       "      <th>n_changes</th>\n",
       "      <th>root_id_117</th>\n",
       "    </tr>\n",
       "  </thead>\n",
       "  <tbody>\n",
       "    <tr>\n",
       "      <th>0</th>\n",
       "      <td>51</td>\n",
       "      <td>864691135335733481</td>\n",
       "      <td>90924527114284243</td>\n",
       "      <td>190027</td>\n",
       "      <td>121508</td>\n",
       "      <td>20685</td>\n",
       "      <td>2377</td>\n",
       "      <td>864691135660642800</td>\n",
       "    </tr>\n",
       "    <tr>\n",
       "      <th>1</th>\n",
       "      <td>54</td>\n",
       "      <td>864691135952122147</td>\n",
       "      <td>112175063088115757</td>\n",
       "      <td>344768</td>\n",
       "      <td>115350</td>\n",
       "      <td>19786</td>\n",
       "      <td>1714</td>\n",
       "      <td>864691135952122147</td>\n",
       "    </tr>\n",
       "    <tr>\n",
       "      <th>2</th>\n",
       "      <td>2</td>\n",
       "      <td>864691135082864887</td>\n",
       "      <td>106552435166206532</td>\n",
       "      <td>303659</td>\n",
       "      <td>166262</td>\n",
       "      <td>17349</td>\n",
       "      <td>1183</td>\n",
       "      <td>864691135609594119</td>\n",
       "    </tr>\n",
       "    <tr>\n",
       "      <th>3</th>\n",
       "      <td>6</td>\n",
       "      <td>864691136144674612</td>\n",
       "      <td>88815663879226337</td>\n",
       "      <td>174921</td>\n",
       "      <td>137614</td>\n",
       "      <td>21123</td>\n",
       "      <td>1114</td>\n",
       "      <td>864691135293126156</td>\n",
       "    </tr>\n",
       "    <tr>\n",
       "      <th>4</th>\n",
       "      <td>14</td>\n",
       "      <td>864691135488888378</td>\n",
       "      <td>90571584016011523</td>\n",
       "      <td>187568</td>\n",
       "      <td>113216</td>\n",
       "      <td>21732</td>\n",
       "      <td>979</td>\n",
       "      <td>864691135925753358</td>\n",
       "    </tr>\n",
       "    <tr>\n",
       "      <th>5</th>\n",
       "      <td>19</td>\n",
       "      <td>864691136023889209</td>\n",
       "      <td>87904100087286054</td>\n",
       "      <td>168181</td>\n",
       "      <td>161960</td>\n",
       "      <td>21511</td>\n",
       "      <td>935</td>\n",
       "      <td>864691136023889209</td>\n",
       "    </tr>\n",
       "    <tr>\n",
       "      <th>6</th>\n",
       "      <td>32</td>\n",
       "      <td>864691136990522517</td>\n",
       "      <td>93177907207497424</td>\n",
       "      <td>206577</td>\n",
       "      <td>133261</td>\n",
       "      <td>18640</td>\n",
       "      <td>838</td>\n",
       "      <td>864691136008689326</td>\n",
       "    </tr>\n",
       "    <tr>\n",
       "      <th>7</th>\n",
       "      <td>36</td>\n",
       "      <td>864691136137834877</td>\n",
       "      <td>106053051533554699</td>\n",
       "      <td>300576</td>\n",
       "      <td>115616</td>\n",
       "      <td>23080</td>\n",
       "      <td>788</td>\n",
       "      <td>864691135415666362</td>\n",
       "    </tr>\n",
       "    <tr>\n",
       "      <th>8</th>\n",
       "      <td>1316</td>\n",
       "      <td>864691135123617831</td>\n",
       "      <td>95641569704922650</td>\n",
       "      <td>224336</td>\n",
       "      <td>138864</td>\n",
       "      <td>22805</td>\n",
       "      <td>752</td>\n",
       "      <td>864691135502241717</td>\n",
       "    </tr>\n",
       "    <tr>\n",
       "      <th>9</th>\n",
       "      <td>48</td>\n",
       "      <td>864691136023980601</td>\n",
       "      <td>105004461172496411</td>\n",
       "      <td>292612</td>\n",
       "      <td>167390</td>\n",
       "      <td>24276</td>\n",
       "      <td>732</td>\n",
       "      <td>864691136023980601</td>\n",
       "    </tr>\n",
       "    <tr>\n",
       "      <th>10</th>\n",
       "      <td>913</td>\n",
       "      <td>864691135214052480</td>\n",
       "      <td>86706388193052161</td>\n",
       "      <td>159296</td>\n",
       "      <td>151056</td>\n",
       "      <td>20498</td>\n",
       "      <td>684</td>\n",
       "      <td>864691135994548394</td>\n",
       "    </tr>\n",
       "    <tr>\n",
       "      <th>11</th>\n",
       "      <td>1339</td>\n",
       "      <td>864691134941297763</td>\n",
       "      <td>103386529543553383</td>\n",
       "      <td>281008</td>\n",
       "      <td>171424</td>\n",
       "      <td>22050</td>\n",
       "      <td>668</td>\n",
       "      <td>864691135583989880</td>\n",
       "    </tr>\n",
       "    <tr>\n",
       "      <th>12</th>\n",
       "      <td>232</td>\n",
       "      <td>864691135195668266</td>\n",
       "      <td>92543970571587571</td>\n",
       "      <td>202032</td>\n",
       "      <td>128688</td>\n",
       "      <td>22839</td>\n",
       "      <td>643</td>\n",
       "      <td>864691135644629487</td>\n",
       "    </tr>\n",
       "    <tr>\n",
       "      <th>13</th>\n",
       "      <td>1372</td>\n",
       "      <td>864691135463909789</td>\n",
       "      <td>103526510580980496</td>\n",
       "      <td>281840</td>\n",
       "      <td>165760</td>\n",
       "      <td>18075</td>\n",
       "      <td>615</td>\n",
       "      <td>864691135724527508</td>\n",
       "    </tr>\n",
       "    <tr>\n",
       "      <th>14</th>\n",
       "      <td>285</td>\n",
       "      <td>864691135618421647</td>\n",
       "      <td>90290727514762113</td>\n",
       "      <td>185552</td>\n",
       "      <td>117744</td>\n",
       "      <td>21870</td>\n",
       "      <td>614</td>\n",
       "      <td>864691135012916374</td>\n",
       "    </tr>\n",
       "    <tr>\n",
       "      <th>15</th>\n",
       "      <td>298</td>\n",
       "      <td>864691135738047620</td>\n",
       "      <td>92976078440074681</td>\n",
       "      <td>204976</td>\n",
       "      <td>202048</td>\n",
       "      <td>21408</td>\n",
       "      <td>559</td>\n",
       "      <td>864691136361538530</td>\n",
       "    </tr>\n",
       "    <tr>\n",
       "      <th>16</th>\n",
       "      <td>454</td>\n",
       "      <td>864691136974813212</td>\n",
       "      <td>90651917084211802</td>\n",
       "      <td>188352</td>\n",
       "      <td>187088</td>\n",
       "      <td>21652</td>\n",
       "      <td>497</td>\n",
       "      <td>864691135937688373</td>\n",
       "    </tr>\n",
       "    <tr>\n",
       "      <th>17</th>\n",
       "      <td>456</td>\n",
       "      <td>864691135463969854</td>\n",
       "      <td>89450563124843868</td>\n",
       "      <td>179456</td>\n",
       "      <td>149584</td>\n",
       "      <td>21162</td>\n",
       "      <td>494</td>\n",
       "      <td>864691135491198047</td>\n",
       "    </tr>\n",
       "    <tr>\n",
       "      <th>18</th>\n",
       "      <td>902</td>\n",
       "      <td>864691135953426467</td>\n",
       "      <td>95854806375205551</td>\n",
       "      <td>226048</td>\n",
       "      <td>154720</td>\n",
       "      <td>23617</td>\n",
       "      <td>486</td>\n",
       "      <td>864691135939345409</td>\n",
       "    </tr>\n",
       "    <tr>\n",
       "      <th>19</th>\n",
       "      <td>466</td>\n",
       "      <td>864691135469422674</td>\n",
       "      <td>92968244151133945</td>\n",
       "      <td>204851</td>\n",
       "      <td>143787</td>\n",
       "      <td>19186</td>\n",
       "      <td>473</td>\n",
       "      <td>864691135564752471</td>\n",
       "    </tr>\n",
       "  </tbody>\n",
       "</table>\n",
       "</div>"
      ],
      "text/plain": [
       "    Unnamed: 0        root_id_1078    pt_supervoxel_id  pt_position_x  \\\n",
       "0           51  864691135335733481   90924527114284243         190027   \n",
       "1           54  864691135952122147  112175063088115757         344768   \n",
       "2            2  864691135082864887  106552435166206532         303659   \n",
       "3            6  864691136144674612   88815663879226337         174921   \n",
       "4           14  864691135488888378   90571584016011523         187568   \n",
       "5           19  864691136023889209   87904100087286054         168181   \n",
       "6           32  864691136990522517   93177907207497424         206577   \n",
       "7           36  864691136137834877  106053051533554699         300576   \n",
       "8         1316  864691135123617831   95641569704922650         224336   \n",
       "9           48  864691136023980601  105004461172496411         292612   \n",
       "10         913  864691135214052480   86706388193052161         159296   \n",
       "11        1339  864691134941297763  103386529543553383         281008   \n",
       "12         232  864691135195668266   92543970571587571         202032   \n",
       "13        1372  864691135463909789  103526510580980496         281840   \n",
       "14         285  864691135618421647   90290727514762113         185552   \n",
       "15         298  864691135738047620   92976078440074681         204976   \n",
       "16         454  864691136974813212   90651917084211802         188352   \n",
       "17         456  864691135463969854   89450563124843868         179456   \n",
       "18         902  864691135953426467   95854806375205551         226048   \n",
       "19         466  864691135469422674   92968244151133945         204851   \n",
       "\n",
       "    pt_position_y  pt_position_z  n_changes         root_id_117  \n",
       "0          121508          20685       2377  864691135660642800  \n",
       "1          115350          19786       1714  864691135952122147  \n",
       "2          166262          17349       1183  864691135609594119  \n",
       "3          137614          21123       1114  864691135293126156  \n",
       "4          113216          21732        979  864691135925753358  \n",
       "5          161960          21511        935  864691136023889209  \n",
       "6          133261          18640        838  864691136008689326  \n",
       "7          115616          23080        788  864691135415666362  \n",
       "8          138864          22805        752  864691135502241717  \n",
       "9          167390          24276        732  864691136023980601  \n",
       "10         151056          20498        684  864691135994548394  \n",
       "11         171424          22050        668  864691135583989880  \n",
       "12         128688          22839        643  864691135644629487  \n",
       "13         165760          18075        615  864691135724527508  \n",
       "14         117744          21870        614  864691135012916374  \n",
       "15         202048          21408        559  864691136361538530  \n",
       "16         187088          21652        497  864691135937688373  \n",
       "17         149584          21162        494  864691135491198047  \n",
       "18         154720          23617        486  864691135939345409  \n",
       "19         143787          19186        473  864691135564752471  "
      ]
     },
     "execution_count": 10,
     "metadata": {},
     "output_type": "execute_result"
    }
   ],
   "source": [
    "root_ids"
   ]
  },
  {
   "cell_type": "code",
   "execution_count": 8,
   "id": "4300b46e-5a2a-4c90-8065-391e71a1d416",
   "metadata": {
    "scrolled": true
   },
   "outputs": [],
   "source": [
    "decimation_parameters = dict(decimation_ratio = 0.25*0.25)\n",
    "\n",
    "n_neurons = root_ids.shape[0]"
   ]
  },
  {
   "cell_type": "code",
   "execution_count": null,
   "id": "25e8efcb-3139-4a17-a424-c9545046e4e0",
   "metadata": {
    "scrolled": true
   },
   "outputs": [],
   "source": [
    "results_largechanges = pd.DataFrame(columns=[\"pt_supervoxel_id\", \"root_id_1078\", \"root_id_117\", \"length_1078\", \"length_117\", \"length_difference\", \"length_ratio_new_old\"])\n",
    "\n",
    "# for each neuron\n",
    "for i in tqdm(range(n_neurons)):\n",
    "    # all known info from previous dataframe\n",
    "    neuron_info = root_ids.iloc[i,:]\n",
    "    \n",
    "    results_largechanges.loc[i,\"pt_supervoxel_id\"] = neuron_info.pt_supervoxel_id\n",
    "    # root id in most recent manifestation (v1078)\n",
    "    results_largechanges.loc[i,\"root_id_1078\"] = neuron_info.root_id_1078\n",
    "    # root id in oldest manifestation (v117)\n",
    "    results_largechanges.loc[i,\"root_id_117\"] = neuron_info.root_id_117\n",
    "\n",
    "    # download mesh and decimate for runtime\n",
    "    mesh_new = cv_new.mesh.get(neuron_info.root_id_1078)[neuron_info.root_id_1078]\n",
    "    mesh_new = tu.decimate(\n",
    "        mesh_new,\n",
    "        **decimation_parameters\n",
    "    )\n",
    "\n",
    "    mesh_old = cv_old.mesh.get(neuron_info.root_id_117)[neuron_info.root_id_117]\n",
    "    mesh_old = tu.decimate(\n",
    "        mesh_old,\n",
    "        **decimation_parameters\n",
    "    )\n",
    "\n",
    "    # get length\n",
    "    length_new = tu.skeletal_length_from_mesh(trimesh.Trimesh(mesh_new.vertices, mesh_new.faces))\n",
    "    length_old = tu.skeletal_length_from_mesh(trimesh.Trimesh(mesh_old.vertices, mesh_old.faces))\n",
    "\n",
    "    # save length statistics\n",
    "    results_largechanges.loc[i, \"length_1078\"] = length_new\n",
    "    results_largechanges.loc[i, \"length_117\"] = length_old\n",
    "    results_largechanges.loc[i, \"length_difference\"] = length_new - length_old\n",
    "    results_largechanges.loc[i, \"length_ratio_new_old\"] = length_new/length_old\n",
    "\n",
    "    # free up disk space\n",
    "    shutil.rmtree('temp/')\n",
    "\n",
    "results_largechanges.to_csv('large_changes_length_comparison.csv')"
   ]
  },
  {
   "cell_type": "code",
   "execution_count": 7,
   "id": "a93686a4-67a0-4eed-9031-fc75d4eecb83",
   "metadata": {},
   "outputs": [
    {
     "data": {
      "text/html": [
       "<div>\n",
       "<style scoped>\n",
       "    .dataframe tbody tr th:only-of-type {\n",
       "        vertical-align: middle;\n",
       "    }\n",
       "\n",
       "    .dataframe tbody tr th {\n",
       "        vertical-align: top;\n",
       "    }\n",
       "\n",
       "    .dataframe thead th {\n",
       "        text-align: right;\n",
       "    }\n",
       "</style>\n",
       "<table border=\"1\" class=\"dataframe\">\n",
       "  <thead>\n",
       "    <tr style=\"text-align: right;\">\n",
       "      <th></th>\n",
       "      <th>pt_supervoxel_id</th>\n",
       "      <th>root_id_1078</th>\n",
       "      <th>root_id_117</th>\n",
       "      <th>length_1078</th>\n",
       "      <th>length_117</th>\n",
       "      <th>length_difference</th>\n",
       "      <th>length_ratio_new_old</th>\n",
       "    </tr>\n",
       "  </thead>\n",
       "  <tbody>\n",
       "    <tr>\n",
       "      <th>0</th>\n",
       "      <td>90924527114284243</td>\n",
       "      <td>864691135335733481</td>\n",
       "      <td>864691135660642800</td>\n",
       "      <td>13849712.128857</td>\n",
       "      <td>1185021.762194</td>\n",
       "      <td>12664690.366663</td>\n",
       "      <td>11.687306</td>\n",
       "    </tr>\n",
       "    <tr>\n",
       "      <th>1</th>\n",
       "      <td>112175063088115757</td>\n",
       "      <td>864691135952122147</td>\n",
       "      <td>864691135952122147</td>\n",
       "      <td>9754890.39446</td>\n",
       "      <td>9179331.548589</td>\n",
       "      <td>575558.845871</td>\n",
       "      <td>1.062702</td>\n",
       "    </tr>\n",
       "    <tr>\n",
       "      <th>2</th>\n",
       "      <td>106552435166206532</td>\n",
       "      <td>864691135082864887</td>\n",
       "      <td>864691135609594119</td>\n",
       "      <td>9723653.055064</td>\n",
       "      <td>8775256.048868</td>\n",
       "      <td>948397.006196</td>\n",
       "      <td>1.108076</td>\n",
       "    </tr>\n",
       "    <tr>\n",
       "      <th>3</th>\n",
       "      <td>88815663879226337</td>\n",
       "      <td>864691136144674612</td>\n",
       "      <td>864691135293126156</td>\n",
       "      <td>6849780.032073</td>\n",
       "      <td>6518367.683717</td>\n",
       "      <td>331412.348356</td>\n",
       "      <td>1.050843</td>\n",
       "    </tr>\n",
       "    <tr>\n",
       "      <th>4</th>\n",
       "      <td>90571584016011523</td>\n",
       "      <td>864691135488888378</td>\n",
       "      <td>864691135925753358</td>\n",
       "      <td>5614532.720058</td>\n",
       "      <td>542114.263663</td>\n",
       "      <td>5072418.456395</td>\n",
       "      <td>10.356733</td>\n",
       "    </tr>\n",
       "    <tr>\n",
       "      <th>5</th>\n",
       "      <td>87904100087286054</td>\n",
       "      <td>864691136023889209</td>\n",
       "      <td>864691136023889209</td>\n",
       "      <td>8191144.417017</td>\n",
       "      <td>8206055.971406</td>\n",
       "      <td>-14911.55439</td>\n",
       "      <td>0.998183</td>\n",
       "    </tr>\n",
       "    <tr>\n",
       "      <th>6</th>\n",
       "      <td>93177907207497424</td>\n",
       "      <td>864691136990522517</td>\n",
       "      <td>864691136008689326</td>\n",
       "      <td>8475854.835295</td>\n",
       "      <td>7805098.562045</td>\n",
       "      <td>670756.273251</td>\n",
       "      <td>1.085938</td>\n",
       "    </tr>\n",
       "    <tr>\n",
       "      <th>7</th>\n",
       "      <td>106053051533554699</td>\n",
       "      <td>864691136137834877</td>\n",
       "      <td>864691135415666362</td>\n",
       "      <td>8032883.287099</td>\n",
       "      <td>7066126.465602</td>\n",
       "      <td>966756.821497</td>\n",
       "      <td>1.136816</td>\n",
       "    </tr>\n",
       "    <tr>\n",
       "      <th>8</th>\n",
       "      <td>95641569704922650</td>\n",
       "      <td>864691135123617831</td>\n",
       "      <td>864691135502241717</td>\n",
       "      <td>7060461.597809</td>\n",
       "      <td>999506.22208</td>\n",
       "      <td>6060955.375729</td>\n",
       "      <td>7.06395</td>\n",
       "    </tr>\n",
       "    <tr>\n",
       "      <th>9</th>\n",
       "      <td>105004461172496411</td>\n",
       "      <td>864691136023980601</td>\n",
       "      <td>864691136023980601</td>\n",
       "      <td>6175149.676295</td>\n",
       "      <td>5586886.628677</td>\n",
       "      <td>588263.047618</td>\n",
       "      <td>1.105294</td>\n",
       "    </tr>\n",
       "    <tr>\n",
       "      <th>10</th>\n",
       "      <td>86706388193052161</td>\n",
       "      <td>864691135214052480</td>\n",
       "      <td>864691135994548394</td>\n",
       "      <td>6411798.745006</td>\n",
       "      <td>1140333.64045</td>\n",
       "      <td>5271465.104556</td>\n",
       "      <td>5.622739</td>\n",
       "    </tr>\n",
       "    <tr>\n",
       "      <th>11</th>\n",
       "      <td>103386529543553383</td>\n",
       "      <td>864691134941297763</td>\n",
       "      <td>864691135583989880</td>\n",
       "      <td>7170090.56994</td>\n",
       "      <td>814903.790547</td>\n",
       "      <td>6355186.779393</td>\n",
       "      <td>8.798696</td>\n",
       "    </tr>\n",
       "    <tr>\n",
       "      <th>12</th>\n",
       "      <td>92543970571587571</td>\n",
       "      <td>864691135195668266</td>\n",
       "      <td>864691135644629487</td>\n",
       "      <td>5368177.980393</td>\n",
       "      <td>1694416.391852</td>\n",
       "      <td>3673761.588541</td>\n",
       "      <td>3.168157</td>\n",
       "    </tr>\n",
       "    <tr>\n",
       "      <th>13</th>\n",
       "      <td>103526510580980496</td>\n",
       "      <td>864691135463909789</td>\n",
       "      <td>864691135724527508</td>\n",
       "      <td>5620389.73466</td>\n",
       "      <td>1206674.232557</td>\n",
       "      <td>4413715.502103</td>\n",
       "      <td>4.657752</td>\n",
       "    </tr>\n",
       "    <tr>\n",
       "      <th>14</th>\n",
       "      <td>90290727514762113</td>\n",
       "      <td>864691135618421647</td>\n",
       "      <td>864691135012916374</td>\n",
       "      <td>4703958.389044</td>\n",
       "      <td>544755.374661</td>\n",
       "      <td>4159203.014383</td>\n",
       "      <td>8.634992</td>\n",
       "    </tr>\n",
       "    <tr>\n",
       "      <th>15</th>\n",
       "      <td>92976078440074681</td>\n",
       "      <td>864691135738047620</td>\n",
       "      <td>864691136361538530</td>\n",
       "      <td>7224668.727575</td>\n",
       "      <td>2289841.706535</td>\n",
       "      <td>4934827.02104</td>\n",
       "      <td>3.155095</td>\n",
       "    </tr>\n",
       "    <tr>\n",
       "      <th>16</th>\n",
       "      <td>90651917084211802</td>\n",
       "      <td>864691136974813212</td>\n",
       "      <td>864691135937688373</td>\n",
       "      <td>8094440.09279</td>\n",
       "      <td>1137574.071624</td>\n",
       "      <td>6956866.021166</td>\n",
       "      <td>7.115528</td>\n",
       "    </tr>\n",
       "    <tr>\n",
       "      <th>17</th>\n",
       "      <td>89450563124843868</td>\n",
       "      <td>864691135463969854</td>\n",
       "      <td>864691135491198047</td>\n",
       "      <td>6104572.36525</td>\n",
       "      <td>1193334.252529</td>\n",
       "      <td>4911238.112721</td>\n",
       "      <td>5.115559</td>\n",
       "    </tr>\n",
       "    <tr>\n",
       "      <th>18</th>\n",
       "      <td>95854806375205551</td>\n",
       "      <td>864691135953426467</td>\n",
       "      <td>864691135939345409</td>\n",
       "      <td>3478539.579214</td>\n",
       "      <td>540933.837857</td>\n",
       "      <td>2937605.741357</td>\n",
       "      <td>6.430619</td>\n",
       "    </tr>\n",
       "    <tr>\n",
       "      <th>19</th>\n",
       "      <td>92968244151133945</td>\n",
       "      <td>864691135469422674</td>\n",
       "      <td>864691135564752471</td>\n",
       "      <td>5368974.567294</td>\n",
       "      <td>4657276.352899</td>\n",
       "      <td>711698.214394</td>\n",
       "      <td>1.152814</td>\n",
       "    </tr>\n",
       "  </tbody>\n",
       "</table>\n",
       "</div>"
      ],
      "text/plain": [
       "      pt_supervoxel_id        root_id_1078         root_id_117  \\\n",
       "0    90924527114284243  864691135335733481  864691135660642800   \n",
       "1   112175063088115757  864691135952122147  864691135952122147   \n",
       "2   106552435166206532  864691135082864887  864691135609594119   \n",
       "3    88815663879226337  864691136144674612  864691135293126156   \n",
       "4    90571584016011523  864691135488888378  864691135925753358   \n",
       "5    87904100087286054  864691136023889209  864691136023889209   \n",
       "6    93177907207497424  864691136990522517  864691136008689326   \n",
       "7   106053051533554699  864691136137834877  864691135415666362   \n",
       "8    95641569704922650  864691135123617831  864691135502241717   \n",
       "9   105004461172496411  864691136023980601  864691136023980601   \n",
       "10   86706388193052161  864691135214052480  864691135994548394   \n",
       "11  103386529543553383  864691134941297763  864691135583989880   \n",
       "12   92543970571587571  864691135195668266  864691135644629487   \n",
       "13  103526510580980496  864691135463909789  864691135724527508   \n",
       "14   90290727514762113  864691135618421647  864691135012916374   \n",
       "15   92976078440074681  864691135738047620  864691136361538530   \n",
       "16   90651917084211802  864691136974813212  864691135937688373   \n",
       "17   89450563124843868  864691135463969854  864691135491198047   \n",
       "18   95854806375205551  864691135953426467  864691135939345409   \n",
       "19   92968244151133945  864691135469422674  864691135564752471   \n",
       "\n",
       "        length_1078      length_117 length_difference length_ratio_new_old  \n",
       "0   13849712.128857  1185021.762194   12664690.366663            11.687306  \n",
       "1     9754890.39446  9179331.548589     575558.845871             1.062702  \n",
       "2    9723653.055064  8775256.048868     948397.006196             1.108076  \n",
       "3    6849780.032073  6518367.683717     331412.348356             1.050843  \n",
       "4    5614532.720058   542114.263663    5072418.456395            10.356733  \n",
       "5    8191144.417017  8206055.971406      -14911.55439             0.998183  \n",
       "6    8475854.835295  7805098.562045     670756.273251             1.085938  \n",
       "7    8032883.287099  7066126.465602     966756.821497             1.136816  \n",
       "8    7060461.597809    999506.22208    6060955.375729              7.06395  \n",
       "9    6175149.676295  5586886.628677     588263.047618             1.105294  \n",
       "10   6411798.745006   1140333.64045    5271465.104556             5.622739  \n",
       "11    7170090.56994   814903.790547    6355186.779393             8.798696  \n",
       "12   5368177.980393  1694416.391852    3673761.588541             3.168157  \n",
       "13    5620389.73466  1206674.232557    4413715.502103             4.657752  \n",
       "14   4703958.389044   544755.374661    4159203.014383             8.634992  \n",
       "15   7224668.727575  2289841.706535     4934827.02104             3.155095  \n",
       "16    8094440.09279  1137574.071624    6956866.021166             7.115528  \n",
       "17    6104572.36525  1193334.252529    4911238.112721             5.115559  \n",
       "18   3478539.579214   540933.837857    2937605.741357             6.430619  \n",
       "19   5368974.567294  4657276.352899     711698.214394             1.152814  "
      ]
     },
     "execution_count": 7,
     "metadata": {},
     "output_type": "execute_result"
    }
   ],
   "source": [
    "results_largechanges"
   ]
  },
  {
   "cell_type": "code",
   "execution_count": 9,
   "id": "fc21dd0a-c521-44f6-92ff-13edbd0efff5",
   "metadata": {
    "scrolled": true
   },
   "outputs": [
    {
     "name": "stderr",
     "output_type": "stream",
     "text": [
      "  0%|                                                                                      | 0/15 [00:00<?, ?it/s]/usr/local/lib/python3.8/dist-packages/google/auth/_default.py:76: UserWarning: Your application has authenticated using end user credentials from Google Cloud SDK without a quota project. You might receive a \"quota exceeded\" or \"API not enabled\" error. See the following page for troubleshooting: https://cloud.google.com/docs/authentication/adc-troubleshooting/user-creds. \n",
      "  warnings.warn(_CLOUD_SDK_CREDENTIALS_WARNING)\n",
      "WARNING - 2024-08-28 11:44:26,737 - _default - No project ID could be determined. Consider running `gcloud config set project` or setting the GOOGLE_CLOUD_PROJECT environment variable\n",
      "/usr/local/lib/python3.8/dist-packages/google/auth/_default.py:76: UserWarning: Your application has authenticated using end user credentials from Google Cloud SDK without a quota project. You might receive a \"quota exceeded\" or \"API not enabled\" error. See the following page for troubleshooting: https://cloud.google.com/docs/authentication/adc-troubleshooting/user-creds. \n",
      "  warnings.warn(_CLOUD_SDK_CREDENTIALS_WARNING)\n",
      "WARNING - 2024-08-28 11:44:27,203 - _default - No project ID could be determined. Consider running `gcloud config set project` or setting the GOOGLE_CLOUD_PROJECT environment variable\n",
      "/usr/local/lib/python3.8/dist-packages/google/auth/_default.py:76: UserWarning: Your application has authenticated using end user credentials from Google Cloud SDK without a quota project. You might receive a \"quota exceeded\" or \"API not enabled\" error. See the following page for troubleshooting: https://cloud.google.com/docs/authentication/adc-troubleshooting/user-creds. \n",
      "  warnings.warn(_CLOUD_SDK_CREDENTIALS_WARNING)\n",
      "WARNING - 2024-08-28 11:44:27,661 - _default - No project ID could be determined. Consider running `gcloud config set project` or setting the GOOGLE_CLOUD_PROJECT environment variable\n",
      "/usr/local/lib/python3.8/dist-packages/google/auth/_default.py:76: UserWarning: Your application has authenticated using end user credentials from Google Cloud SDK without a quota project. You might receive a \"quota exceeded\" or \"API not enabled\" error. See the following page for troubleshooting: https://cloud.google.com/docs/authentication/adc-troubleshooting/user-creds. \n",
      "  warnings.warn(_CLOUD_SDK_CREDENTIALS_WARNING)\n",
      "WARNING - 2024-08-28 11:44:28,113 - _default - No project ID could be determined. Consider running `gcloud config set project` or setting the GOOGLE_CLOUD_PROJECT environment variable\n",
      "/usr/local/lib/python3.8/dist-packages/google/auth/_default.py:76: UserWarning: Your application has authenticated using end user credentials from Google Cloud SDK without a quota project. You might receive a \"quota exceeded\" or \"API not enabled\" error. See the following page for troubleshooting: https://cloud.google.com/docs/authentication/adc-troubleshooting/user-creds. \n",
      "  warnings.warn(_CLOUD_SDK_CREDENTIALS_WARNING)\n",
      "WARNING - 2024-08-28 11:44:28,567 - _default - No project ID could be determined. Consider running `gcloud config set project` or setting the GOOGLE_CLOUD_PROJECT environment variable\n",
      "/usr/local/lib/python3.8/dist-packages/google/auth/_default.py:76: UserWarning: Your application has authenticated using end user credentials from Google Cloud SDK without a quota project. You might receive a \"quota exceeded\" or \"API not enabled\" error. See the following page for troubleshooting: https://cloud.google.com/docs/authentication/adc-troubleshooting/user-creds. \n",
      "  warnings.warn(_CLOUD_SDK_CREDENTIALS_WARNING)\n",
      "WARNING - 2024-08-28 11:44:29,023 - _default - No project ID could be determined. Consider running `gcloud config set project` or setting the GOOGLE_CLOUD_PROJECT environment variable\n",
      "/usr/local/lib/python3.8/dist-packages/google/auth/_default.py:76: UserWarning: Your application has authenticated using end user credentials from Google Cloud SDK without a quota project. You might receive a \"quota exceeded\" or \"API not enabled\" error. See the following page for troubleshooting: https://cloud.google.com/docs/authentication/adc-troubleshooting/user-creds. \n",
      "  warnings.warn(_CLOUD_SDK_CREDENTIALS_WARNING)\n",
      "WARNING - 2024-08-28 11:44:29,482 - _default - No project ID could be determined. Consider running `gcloud config set project` or setting the GOOGLE_CLOUD_PROJECT environment variable\n",
      "/usr/local/lib/python3.8/dist-packages/google/auth/_default.py:76: UserWarning: Your application has authenticated using end user credentials from Google Cloud SDK without a quota project. You might receive a \"quota exceeded\" or \"API not enabled\" error. See the following page for troubleshooting: https://cloud.google.com/docs/authentication/adc-troubleshooting/user-creds. \n",
      "  warnings.warn(_CLOUD_SDK_CREDENTIALS_WARNING)\n",
      "WARNING - 2024-08-28 11:44:29,943 - _default - No project ID could be determined. Consider running `gcloud config set project` or setting the GOOGLE_CLOUD_PROJECT environment variable\n",
      "/usr/local/lib/python3.8/dist-packages/google/auth/_default.py:76: UserWarning: Your application has authenticated using end user credentials from Google Cloud SDK without a quota project. You might receive a \"quota exceeded\" or \"API not enabled\" error. See the following page for troubleshooting: https://cloud.google.com/docs/authentication/adc-troubleshooting/user-creds. \n",
      "  warnings.warn(_CLOUD_SDK_CREDENTIALS_WARNING)\n",
      "WARNING - 2024-08-28 11:44:30,407 - _default - No project ID could be determined. Consider running `gcloud config set project` or setting the GOOGLE_CLOUD_PROJECT environment variable\n",
      "/usr/local/lib/python3.8/dist-packages/google/auth/_default.py:76: UserWarning: Your application has authenticated using end user credentials from Google Cloud SDK without a quota project. You might receive a \"quota exceeded\" or \"API not enabled\" error. See the following page for troubleshooting: https://cloud.google.com/docs/authentication/adc-troubleshooting/user-creds. \n",
      "  warnings.warn(_CLOUD_SDK_CREDENTIALS_WARNING)\n",
      "WARNING - 2024-08-28 11:44:30,869 - _default - No project ID could be determined. Consider running `gcloud config set project` or setting the GOOGLE_CLOUD_PROJECT environment variable\n",
      "/usr/local/lib/python3.8/dist-packages/google/auth/_default.py:76: UserWarning: Your application has authenticated using end user credentials from Google Cloud SDK without a quota project. You might receive a \"quota exceeded\" or \"API not enabled\" error. See the following page for troubleshooting: https://cloud.google.com/docs/authentication/adc-troubleshooting/user-creds. \n",
      "  warnings.warn(_CLOUD_SDK_CREDENTIALS_WARNING)\n",
      "WARNING - 2024-08-28 11:44:31,332 - _default - No project ID could be determined. Consider running `gcloud config set project` or setting the GOOGLE_CLOUD_PROJECT environment variable\n",
      "/usr/local/lib/python3.8/dist-packages/google/auth/_default.py:76: UserWarning: Your application has authenticated using end user credentials from Google Cloud SDK without a quota project. You might receive a \"quota exceeded\" or \"API not enabled\" error. See the following page for troubleshooting: https://cloud.google.com/docs/authentication/adc-troubleshooting/user-creds. \n",
      "  warnings.warn(_CLOUD_SDK_CREDENTIALS_WARNING)\n",
      "WARNING - 2024-08-28 11:44:31,805 - _default - No project ID could be determined. Consider running `gcloud config set project` or setting the GOOGLE_CLOUD_PROJECT environment variable\n",
      "/usr/local/lib/python3.8/dist-packages/google/auth/_default.py:76: UserWarning: Your application has authenticated using end user credentials from Google Cloud SDK without a quota project. You might receive a \"quota exceeded\" or \"API not enabled\" error. See the following page for troubleshooting: https://cloud.google.com/docs/authentication/adc-troubleshooting/user-creds. \n",
      "  warnings.warn(_CLOUD_SDK_CREDENTIALS_WARNING)\n",
      "WARNING - 2024-08-28 11:44:32,270 - _default - No project ID could be determined. Consider running `gcloud config set project` or setting the GOOGLE_CLOUD_PROJECT environment variable\n",
      "/usr/local/lib/python3.8/dist-packages/google/auth/_default.py:76: UserWarning: Your application has authenticated using end user credentials from Google Cloud SDK without a quota project. You might receive a \"quota exceeded\" or \"API not enabled\" error. See the following page for troubleshooting: https://cloud.google.com/docs/authentication/adc-troubleshooting/user-creds. \n",
      "  warnings.warn(_CLOUD_SDK_CREDENTIALS_WARNING)\n",
      "WARNING - 2024-08-28 11:44:32,736 - _default - No project ID could be determined. Consider running `gcloud config set project` or setting the GOOGLE_CLOUD_PROJECT environment variable\n",
      "/usr/local/lib/python3.8/dist-packages/google/auth/_default.py:76: UserWarning: Your application has authenticated using end user credentials from Google Cloud SDK without a quota project. You might receive a \"quota exceeded\" or \"API not enabled\" error. See the following page for troubleshooting: https://cloud.google.com/docs/authentication/adc-troubleshooting/user-creds. \n",
      "  warnings.warn(_CLOUD_SDK_CREDENTIALS_WARNING)\n",
      "WARNING - 2024-08-28 11:44:35,141 - _default - No project ID could be determined. Consider running `gcloud config set project` or setting the GOOGLE_CLOUD_PROJECT environment variable\n",
      "/usr/local/lib/python3.8/dist-packages/google/auth/_default.py:76: UserWarning: Your application has authenticated using end user credentials from Google Cloud SDK without a quota project. You might receive a \"quota exceeded\" or \"API not enabled\" error. See the following page for troubleshooting: https://cloud.google.com/docs/authentication/adc-troubleshooting/user-creds. \n",
      "  warnings.warn(_CLOUD_SDK_CREDENTIALS_WARNING)\n",
      "WARNING - 2024-08-28 11:44:35,610 - _default - No project ID could be determined. Consider running `gcloud config set project` or setting the GOOGLE_CLOUD_PROJECT environment variable\n",
      "/usr/local/lib/python3.8/dist-packages/google/auth/_default.py:76: UserWarning: Your application has authenticated using end user credentials from Google Cloud SDK without a quota project. You might receive a \"quota exceeded\" or \"API not enabled\" error. See the following page for troubleshooting: https://cloud.google.com/docs/authentication/adc-troubleshooting/user-creds. \n",
      "  warnings.warn(_CLOUD_SDK_CREDENTIALS_WARNING)\n",
      "WARNING - 2024-08-28 11:44:36,109 - _default - No project ID could be determined. Consider running `gcloud config set project` or setting the GOOGLE_CLOUD_PROJECT environment variable\n",
      "/usr/local/lib/python3.8/dist-packages/google/auth/_default.py:76: UserWarning: Your application has authenticated using end user credentials from Google Cloud SDK without a quota project. You might receive a \"quota exceeded\" or \"API not enabled\" error. See the following page for troubleshooting: https://cloud.google.com/docs/authentication/adc-troubleshooting/user-creds. \n",
      "  warnings.warn(_CLOUD_SDK_CREDENTIALS_WARNING)\n",
      "WARNING - 2024-08-28 11:44:36,593 - _default - No project ID could be determined. Consider running `gcloud config set project` or setting the GOOGLE_CLOUD_PROJECT environment variable\n",
      "/usr/local/lib/python3.8/dist-packages/google/auth/_default.py:76: UserWarning: Your application has authenticated using end user credentials from Google Cloud SDK without a quota project. You might receive a \"quota exceeded\" or \"API not enabled\" error. See the following page for troubleshooting: https://cloud.google.com/docs/authentication/adc-troubleshooting/user-creds. \n",
      "  warnings.warn(_CLOUD_SDK_CREDENTIALS_WARNING)\n",
      "WARNING - 2024-08-28 11:44:37,069 - _default - No project ID could be determined. Consider running `gcloud config set project` or setting the GOOGLE_CLOUD_PROJECT environment variable\n"
     ]
    },
    {
     "name": "stdout",
     "output_type": "stream",
     "text": [
      "Warning: deduplication not currently supported for this layer's variable layered draco meshes\n",
      "xvfb-run -n 2599 -s \"-screen 0 800x600x24\" meshlabserver $@  -i /NEURD/Applications/Tutorials/Auto_Proof_Pipeline/Single_Soma_Exc/temp/neuron_21565.off -o /NEURD/Applications/Tutorials/Auto_Proof_Pipeline/Single_Soma_Exc/temp/neuron_21565_decimated.off -s /NEURD/Applications/Tutorials/Auto_Proof_Pipeline/Single_Soma_Exc/temp/decimation_meshlab_06235582.mls\n",
      "xvfb-run -n 3251 -s \"-screen 0 800x600x24\" meshlabserver $@  -i /NEURD/Applications/Tutorials/Auto_Proof_Pipeline/Single_Soma_Exc/temp/neuron_84656.off -o /NEURD/Applications/Tutorials/Auto_Proof_Pipeline/Single_Soma_Exc/temp/neuron_84656_decimated.off -s /NEURD/Applications/Tutorials/Auto_Proof_Pipeline/Single_Soma_Exc/temp/decimation_meshlab_06340822.mls\n"
     ]
    },
    {
     "name": "stderr",
     "output_type": "stream",
     "text": [
      "  7%|█████                                                                      | 1/15 [06:36<1:32:24, 396.03s/it]"
     ]
    },
    {
     "name": "stdout",
     "output_type": "stream",
     "text": [
      "Warning: deduplication not currently supported for this layer's variable layered draco meshes\n",
      "xvfb-run -n 8149 -s \"-screen 0 800x600x24\" meshlabserver $@  -i /NEURD/Applications/Tutorials/Auto_Proof_Pipeline/Single_Soma_Exc/temp/neuron_82987.off -o /NEURD/Applications/Tutorials/Auto_Proof_Pipeline/Single_Soma_Exc/temp/neuron_82987_decimated.off -s /NEURD/Applications/Tutorials/Auto_Proof_Pipeline/Single_Soma_Exc/temp/decimation_meshlab_06478423.mls\n",
      "xvfb-run -n 4129 -s \"-screen 0 800x600x24\" meshlabserver $@  -i /NEURD/Applications/Tutorials/Auto_Proof_Pipeline/Single_Soma_Exc/temp/neuron_6930.off -o /NEURD/Applications/Tutorials/Auto_Proof_Pipeline/Single_Soma_Exc/temp/neuron_6930_decimated.off -s /NEURD/Applications/Tutorials/Auto_Proof_Pipeline/Single_Soma_Exc/temp/decimation_meshlab_0657479.mls\n"
     ]
    },
    {
     "name": "stderr",
     "output_type": "stream",
     "text": [
      " 13%|██████████                                                                 | 2/15 [17:26<1:58:14, 545.72s/it]"
     ]
    },
    {
     "name": "stdout",
     "output_type": "stream",
     "text": [
      "Warning: deduplication not currently supported for this layer's variable layered draco meshes\n",
      "xvfb-run -n 7938 -s \"-screen 0 800x600x24\" meshlabserver $@  -i /NEURD/Applications/Tutorials/Auto_Proof_Pipeline/Single_Soma_Exc/temp/neuron_33295.off -o /NEURD/Applications/Tutorials/Auto_Proof_Pipeline/Single_Soma_Exc/temp/neuron_33295_decimated.off -s /NEURD/Applications/Tutorials/Auto_Proof_Pipeline/Single_Soma_Exc/temp/decimation_meshlab_06426246.mls\n",
      "xvfb-run -n 495 -s \"-screen 0 800x600x24\" meshlabserver $@  -i /NEURD/Applications/Tutorials/Auto_Proof_Pipeline/Single_Soma_Exc/temp/neuron_96735.off -o /NEURD/Applications/Tutorials/Auto_Proof_Pipeline/Single_Soma_Exc/temp/neuron_96735_decimated.off -s /NEURD/Applications/Tutorials/Auto_Proof_Pipeline/Single_Soma_Exc/temp/decimation_meshlab_06860122.mls\n"
     ]
    },
    {
     "name": "stderr",
     "output_type": "stream",
     "text": [
      " 20%|███████████████                                                            | 3/15 [36:23<2:43:08, 815.71s/it]"
     ]
    },
    {
     "name": "stdout",
     "output_type": "stream",
     "text": [
      "Warning: deduplication not currently supported for this layer's variable layered draco meshes\n",
      "xvfb-run -n 5303 -s \"-screen 0 800x600x24\" meshlabserver $@  -i /NEURD/Applications/Tutorials/Auto_Proof_Pipeline/Single_Soma_Exc/temp/neuron_61441.off -o /NEURD/Applications/Tutorials/Auto_Proof_Pipeline/Single_Soma_Exc/temp/neuron_61441_decimated.off -s /NEURD/Applications/Tutorials/Auto_Proof_Pipeline/Single_Soma_Exc/temp/decimation_meshlab_06679480.mls\n",
      "xvfb-run -n 8146 -s \"-screen 0 800x600x24\" meshlabserver $@  -i /NEURD/Applications/Tutorials/Auto_Proof_Pipeline/Single_Soma_Exc/temp/neuron_63887.off -o /NEURD/Applications/Tutorials/Auto_Proof_Pipeline/Single_Soma_Exc/temp/neuron_63887_decimated.off -s /NEURD/Applications/Tutorials/Auto_Proof_Pipeline/Single_Soma_Exc/temp/decimation_meshlab_06875624.mls\n"
     ]
    },
    {
     "name": "stderr",
     "output_type": "stream",
     "text": [
      " 27%|████████████████████                                                       | 4/15 [44:18<2:04:52, 681.13s/it]"
     ]
    },
    {
     "name": "stdout",
     "output_type": "stream",
     "text": [
      "Warning: deduplication not currently supported for this layer's variable layered draco meshes\n",
      "xvfb-run -n 6457 -s \"-screen 0 800x600x24\" meshlabserver $@  -i /NEURD/Applications/Tutorials/Auto_Proof_Pipeline/Single_Soma_Exc/temp/neuron_34687.off -o /NEURD/Applications/Tutorials/Auto_Proof_Pipeline/Single_Soma_Exc/temp/neuron_34687_decimated.off -s /NEURD/Applications/Tutorials/Auto_Proof_Pipeline/Single_Soma_Exc/temp/decimation_meshlab_06722461.mls\n",
      "xvfb-run -n 3515 -s \"-screen 0 800x600x24\" meshlabserver $@  -i /NEURD/Applications/Tutorials/Auto_Proof_Pipeline/Single_Soma_Exc/temp/neuron_59517.off -o /NEURD/Applications/Tutorials/Auto_Proof_Pipeline/Single_Soma_Exc/temp/neuron_59517_decimated.off -s /NEURD/Applications/Tutorials/Auto_Proof_Pipeline/Single_Soma_Exc/temp/decimation_meshlab_06748534.mls\n"
     ]
    },
    {
     "name": "stderr",
     "output_type": "stream",
     "text": [
      " 33%|█████████████████████████                                                  | 5/15 [55:26<1:52:42, 676.28s/it]"
     ]
    },
    {
     "name": "stdout",
     "output_type": "stream",
     "text": [
      "Warning: deduplication not currently supported for this layer's variable layered draco meshes\n",
      "xvfb-run -n 6712 -s \"-screen 0 800x600x24\" meshlabserver $@  -i /NEURD/Applications/Tutorials/Auto_Proof_Pipeline/Single_Soma_Exc/temp/neuron_4786.off -o /NEURD/Applications/Tutorials/Auto_Proof_Pipeline/Single_Soma_Exc/temp/neuron_4786_decimated.off -s /NEURD/Applications/Tutorials/Auto_Proof_Pipeline/Single_Soma_Exc/temp/decimation_meshlab_06388820.mls\n",
      "xvfb-run -n 1312 -s \"-screen 0 800x600x24\" meshlabserver $@  -i /NEURD/Applications/Tutorials/Auto_Proof_Pipeline/Single_Soma_Exc/temp/neuron_35225.off -o /NEURD/Applications/Tutorials/Auto_Proof_Pipeline/Single_Soma_Exc/temp/neuron_35225_decimated.off -s /NEURD/Applications/Tutorials/Auto_Proof_Pipeline/Single_Soma_Exc/temp/decimation_meshlab_06638668.mls\n"
     ]
    },
    {
     "name": "stderr",
     "output_type": "stream",
     "text": [
      " 40%|█████████████████████████████▏                                           | 6/15 [1:03:15<1:30:53, 605.93s/it]"
     ]
    },
    {
     "name": "stdout",
     "output_type": "stream",
     "text": [
      "Warning: deduplication not currently supported for this layer's variable layered draco meshes\n",
      "xvfb-run -n 9450 -s \"-screen 0 800x600x24\" meshlabserver $@  -i /NEURD/Applications/Tutorials/Auto_Proof_Pipeline/Single_Soma_Exc/temp/neuron_97752.off -o /NEURD/Applications/Tutorials/Auto_Proof_Pipeline/Single_Soma_Exc/temp/neuron_97752_decimated.off -s /NEURD/Applications/Tutorials/Auto_Proof_Pipeline/Single_Soma_Exc/temp/decimation_meshlab_06118396.mls\n",
      "xvfb-run -n 5130 -s \"-screen 0 800x600x24\" meshlabserver $@  -i /NEURD/Applications/Tutorials/Auto_Proof_Pipeline/Single_Soma_Exc/temp/neuron_10006.off -o /NEURD/Applications/Tutorials/Auto_Proof_Pipeline/Single_Soma_Exc/temp/neuron_10006_decimated.off -s /NEURD/Applications/Tutorials/Auto_Proof_Pipeline/Single_Soma_Exc/temp/decimation_meshlab_06602794.mls\n"
     ]
    },
    {
     "name": "stderr",
     "output_type": "stream",
     "text": [
      " 47%|██████████████████████████████████                                       | 7/15 [1:12:05<1:17:30, 581.30s/it]"
     ]
    },
    {
     "name": "stdout",
     "output_type": "stream",
     "text": [
      "Warning: deduplication not currently supported for this layer's variable layered draco meshes\n",
      "xvfb-run -n 8919 -s \"-screen 0 800x600x24\" meshlabserver $@  -i /NEURD/Applications/Tutorials/Auto_Proof_Pipeline/Single_Soma_Exc/temp/neuron_18161.off -o /NEURD/Applications/Tutorials/Auto_Proof_Pipeline/Single_Soma_Exc/temp/neuron_18161_decimated.off -s /NEURD/Applications/Tutorials/Auto_Proof_Pipeline/Single_Soma_Exc/temp/decimation_meshlab_06763801.mls\n",
      "xvfb-run -n 1346 -s \"-screen 0 800x600x24\" meshlabserver $@  -i /NEURD/Applications/Tutorials/Auto_Proof_Pipeline/Single_Soma_Exc/temp/neuron_54600.off -o /NEURD/Applications/Tutorials/Auto_Proof_Pipeline/Single_Soma_Exc/temp/neuron_54600_decimated.off -s /NEURD/Applications/Tutorials/Auto_Proof_Pipeline/Single_Soma_Exc/temp/decimation_meshlab_06175706.mls\n"
     ]
    },
    {
     "name": "stderr",
     "output_type": "stream",
     "text": [
      " 53%|██████████████████████████████████████▉                                  | 8/15 [1:22:21<1:09:04, 592.08s/it]"
     ]
    },
    {
     "name": "stdout",
     "output_type": "stream",
     "text": [
      "Warning: deduplication not currently supported for this layer's variable layered draco meshes\n",
      "xvfb-run -n 6789 -s \"-screen 0 800x600x24\" meshlabserver $@  -i /NEURD/Applications/Tutorials/Auto_Proof_Pipeline/Single_Soma_Exc/temp/neuron_76410.off -o /NEURD/Applications/Tutorials/Auto_Proof_Pipeline/Single_Soma_Exc/temp/neuron_76410_decimated.off -s /NEURD/Applications/Tutorials/Auto_Proof_Pipeline/Single_Soma_Exc/temp/decimation_meshlab_06419942.mls\n",
      "xvfb-run -n 5709 -s \"-screen 0 800x600x24\" meshlabserver $@  -i /NEURD/Applications/Tutorials/Auto_Proof_Pipeline/Single_Soma_Exc/temp/neuron_55147.off -o /NEURD/Applications/Tutorials/Auto_Proof_Pipeline/Single_Soma_Exc/temp/neuron_55147_decimated.off -s /NEURD/Applications/Tutorials/Auto_Proof_Pipeline/Single_Soma_Exc/temp/decimation_meshlab_06467306.mls\n"
     ]
    },
    {
     "name": "stderr",
     "output_type": "stream",
     "text": [
      " 60%|█████████████████████████████████████████████                              | 9/15 [1:30:57<56:51, 568.51s/it]"
     ]
    },
    {
     "name": "stdout",
     "output_type": "stream",
     "text": [
      "Warning: deduplication not currently supported for this layer's variable layered draco meshes\n",
      "xvfb-run -n 6578 -s \"-screen 0 800x600x24\" meshlabserver $@  -i /NEURD/Applications/Tutorials/Auto_Proof_Pipeline/Single_Soma_Exc/temp/neuron_22959.off -o /NEURD/Applications/Tutorials/Auto_Proof_Pipeline/Single_Soma_Exc/temp/neuron_22959_decimated.off -s /NEURD/Applications/Tutorials/Auto_Proof_Pipeline/Single_Soma_Exc/temp/decimation_meshlab_06106101.mls\n",
      "xvfb-run -n 6289 -s \"-screen 0 800x600x24\" meshlabserver $@  -i /NEURD/Applications/Tutorials/Auto_Proof_Pipeline/Single_Soma_Exc/temp/neuron_83717.off -o /NEURD/Applications/Tutorials/Auto_Proof_Pipeline/Single_Soma_Exc/temp/neuron_83717_decimated.off -s /NEURD/Applications/Tutorials/Auto_Proof_Pipeline/Single_Soma_Exc/temp/decimation_meshlab_06968562.mls\n"
     ]
    },
    {
     "name": "stderr",
     "output_type": "stream",
     "text": [
      " 67%|█████████████████████████████████████████████████▎                        | 10/15 [1:35:40<40:01, 480.36s/it]"
     ]
    },
    {
     "name": "stdout",
     "output_type": "stream",
     "text": [
      "Warning: deduplication not currently supported for this layer's variable layered draco meshes\n",
      "xvfb-run -n 2610 -s \"-screen 0 800x600x24\" meshlabserver $@  -i /NEURD/Applications/Tutorials/Auto_Proof_Pipeline/Single_Soma_Exc/temp/neuron_71911.off -o /NEURD/Applications/Tutorials/Auto_Proof_Pipeline/Single_Soma_Exc/temp/neuron_71911_decimated.off -s /NEURD/Applications/Tutorials/Auto_Proof_Pipeline/Single_Soma_Exc/temp/decimation_meshlab_06539244.mls\n",
      "xvfb-run -n 6589 -s \"-screen 0 800x600x24\" meshlabserver $@  -i /NEURD/Applications/Tutorials/Auto_Proof_Pipeline/Single_Soma_Exc/temp/neuron_35365.off -o /NEURD/Applications/Tutorials/Auto_Proof_Pipeline/Single_Soma_Exc/temp/neuron_35365_decimated.off -s /NEURD/Applications/Tutorials/Auto_Proof_Pipeline/Single_Soma_Exc/temp/decimation_meshlab_06417851.mls\n"
     ]
    },
    {
     "name": "stderr",
     "output_type": "stream",
     "text": [
      " 73%|██████████████████████████████████████████████████████▎                   | 11/15 [1:50:02<39:47, 596.94s/it]"
     ]
    },
    {
     "name": "stdout",
     "output_type": "stream",
     "text": [
      "Warning: deduplication not currently supported for this layer's variable layered draco meshes\n",
      "xvfb-run -n 7948 -s \"-screen 0 800x600x24\" meshlabserver $@  -i /NEURD/Applications/Tutorials/Auto_Proof_Pipeline/Single_Soma_Exc/temp/neuron_91521.off -o /NEURD/Applications/Tutorials/Auto_Proof_Pipeline/Single_Soma_Exc/temp/neuron_91521_decimated.off -s /NEURD/Applications/Tutorials/Auto_Proof_Pipeline/Single_Soma_Exc/temp/decimation_meshlab_06757399.mls\n",
      "xvfb-run -n 2268 -s \"-screen 0 800x600x24\" meshlabserver $@  -i /NEURD/Applications/Tutorials/Auto_Proof_Pipeline/Single_Soma_Exc/temp/neuron_22397.off -o /NEURD/Applications/Tutorials/Auto_Proof_Pipeline/Single_Soma_Exc/temp/neuron_22397_decimated.off -s /NEURD/Applications/Tutorials/Auto_Proof_Pipeline/Single_Soma_Exc/temp/decimation_meshlab_06840167.mls\n"
     ]
    },
    {
     "name": "stderr",
     "output_type": "stream",
     "text": [
      " 80%|███████████████████████████████████████████████████████████▏              | 12/15 [1:55:33<25:48, 516.15s/it]"
     ]
    },
    {
     "name": "stdout",
     "output_type": "stream",
     "text": [
      "Warning: deduplication not currently supported for this layer's variable layered draco meshes\n",
      "xvfb-run -n 4872 -s \"-screen 0 800x600x24\" meshlabserver $@  -i /NEURD/Applications/Tutorials/Auto_Proof_Pipeline/Single_Soma_Exc/temp/neuron_25995.off -o /NEURD/Applications/Tutorials/Auto_Proof_Pipeline/Single_Soma_Exc/temp/neuron_25995_decimated.off -s /NEURD/Applications/Tutorials/Auto_Proof_Pipeline/Single_Soma_Exc/temp/decimation_meshlab_06847659.mls\n",
      "xvfb-run -n 6237 -s \"-screen 0 800x600x24\" meshlabserver $@  -i /NEURD/Applications/Tutorials/Auto_Proof_Pipeline/Single_Soma_Exc/temp/neuron_16979.off -o /NEURD/Applications/Tutorials/Auto_Proof_Pipeline/Single_Soma_Exc/temp/neuron_16979_decimated.off -s /NEURD/Applications/Tutorials/Auto_Proof_Pipeline/Single_Soma_Exc/temp/decimation_meshlab_06989084.mls\n"
     ]
    },
    {
     "name": "stderr",
     "output_type": "stream",
     "text": [
      " 87%|████████████████████████████████████████████████████████████████▏         | 13/15 [2:02:48<16:22, 491.43s/it]"
     ]
    },
    {
     "name": "stdout",
     "output_type": "stream",
     "text": [
      "Warning: deduplication not currently supported for this layer's variable layered draco meshes\n",
      "xvfb-run -n 5555 -s \"-screen 0 800x600x24\" meshlabserver $@  -i /NEURD/Applications/Tutorials/Auto_Proof_Pipeline/Single_Soma_Exc/temp/neuron_69354.off -o /NEURD/Applications/Tutorials/Auto_Proof_Pipeline/Single_Soma_Exc/temp/neuron_69354_decimated.off -s /NEURD/Applications/Tutorials/Auto_Proof_Pipeline/Single_Soma_Exc/temp/decimation_meshlab_0691038.mls\n",
      "xvfb-run -n 8976 -s \"-screen 0 800x600x24\" meshlabserver $@  -i /NEURD/Applications/Tutorials/Auto_Proof_Pipeline/Single_Soma_Exc/temp/neuron_22161.off -o /NEURD/Applications/Tutorials/Auto_Proof_Pipeline/Single_Soma_Exc/temp/neuron_22161_decimated.off -s /NEURD/Applications/Tutorials/Auto_Proof_Pipeline/Single_Soma_Exc/temp/decimation_meshlab_06765008.mls\n"
     ]
    },
    {
     "name": "stderr",
     "output_type": "stream",
     "text": [
      " 93%|█████████████████████████████████████████████████████████████████████     | 14/15 [2:06:42<06:53, 413.86s/it]"
     ]
    },
    {
     "name": "stdout",
     "output_type": "stream",
     "text": [
      "Warning: deduplication not currently supported for this layer's variable layered draco meshes\n",
      "xvfb-run -n 780 -s \"-screen 0 800x600x24\" meshlabserver $@  -i /NEURD/Applications/Tutorials/Auto_Proof_Pipeline/Single_Soma_Exc/temp/neuron_80042.off -o /NEURD/Applications/Tutorials/Auto_Proof_Pipeline/Single_Soma_Exc/temp/neuron_80042_decimated.off -s /NEURD/Applications/Tutorials/Auto_Proof_Pipeline/Single_Soma_Exc/temp/decimation_meshlab_06243105.mls\n",
      "xvfb-run -n 6550 -s \"-screen 0 800x600x24\" meshlabserver $@  -i /NEURD/Applications/Tutorials/Auto_Proof_Pipeline/Single_Soma_Exc/temp/neuron_43319.off -o /NEURD/Applications/Tutorials/Auto_Proof_Pipeline/Single_Soma_Exc/temp/neuron_43319_decimated.off -s /NEURD/Applications/Tutorials/Auto_Proof_Pipeline/Single_Soma_Exc/temp/decimation_meshlab_06258784.mls\n"
     ]
    },
    {
     "name": "stderr",
     "output_type": "stream",
     "text": [
      "100%|██████████████████████████████████████████████████████████████████████████| 15/15 [2:15:55<00:00, 543.70s/it]\n"
     ]
    }
   ],
   "source": [
    "# Collect meshes from both manifestations for visualisation\n",
    "for i in tqdm(range(n_neurons-5)):\n",
    "    neuron_info = root_ids.iloc[i+5,:]\n",
    "\n",
    "    mesh_new = cv_new.mesh.get(neuron_info.root_id_1078)[neuron_info.root_id_1078]\n",
    "    mesh_new = tu.decimate(\n",
    "        mesh_new,\n",
    "        **decimation_parameters\n",
    "    )\n",
    "    with open(f\"microns_new/{neuron_info.root_id_1078}.obj\", \"wb\") as f:\n",
    "        trimesh.exchange.export.export_mesh(mesh_new, f, file_type='obj')\n",
    "    \n",
    "    mesh_old = cv_old.mesh.get(neuron_info.root_id_117)[neuron_info.root_id_117]\n",
    "    mesh_old = tu.decimate(\n",
    "        mesh_old,\n",
    "        **decimation_parameters\n",
    "    )\n",
    "    with open(f\"microns_old/{neuron_info.root_id_117}.obj\", \"wb\") as f:\n",
    "        trimesh.exchange.export.export_mesh(mesh_old, f, file_type='obj')\n",
    "\n",
    "    shutil.rmtree('temp/')"
   ]
  }
 ],
 "metadata": {
  "kernelspec": {
   "display_name": "Python 3 (ipykernel)",
   "language": "python",
   "name": "python3"
  },
  "language_info": {
   "codemirror_mode": {
    "name": "ipython",
    "version": 3
   },
   "file_extension": ".py",
   "mimetype": "text/x-python",
   "name": "python",
   "nbconvert_exporter": "python",
   "pygments_lexer": "ipython3",
   "version": "3.8.0"
  }
 },
 "nbformat": 4,
 "nbformat_minor": 5
}
